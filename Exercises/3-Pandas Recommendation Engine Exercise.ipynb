{
 "cells": [
  {
   "cell_type": "markdown",
   "metadata": {},
   "source": [
    "## A Simple Recommender System using Pandas \n",
    "In this part of the exercise you are going to work with a real data set, i.e. the **Movie Lens Data** from https://grouplens.org/datasets/movielens/. This is a **collection of movie ratings** which are widely used in research projects about recommender systems. \n",
    "\n",
    "As in any Data Science project, **we start with the data exploration task** to get familiar with the data and look for hidden patterns. Afterwards, we **build a simple movie recommender system** without using any fancy machine learning algorithms. Keep in mind that this will not be a robust recommender sytem, but it is a nice first start to get used to pandas.\n",
    "\n",
    "**Remark**: Some of the expected results are already shown in the output. Therefore, add a new cell above the desired output. Otherwise you would overwrite some of the expected results!\n",
    "\n",
    "So, let's start by loading the needed packages:"
   ]
  },
  {
   "cell_type": "code",
   "execution_count": 1,
   "metadata": {},
   "outputs": [],
   "source": [
    "# import packages\n",
    "import pandas as pd\n",
    "import numpy as np\n",
    "from matplotlib import pyplot as plt\n",
    "%matplotlib inline"
   ]
  },
  {
   "cell_type": "markdown",
   "metadata": {},
   "source": [
    "Next, please load the two csv files **'data/ml-latest-small/ratings.csv'** and **'data/ml-latest-small/movies.csv'** as DataFrames named **ratings** and **movies**.\n",
    "\n",
    "**Hint**: Use pd.read_csv()."
   ]
  },
  {
   "cell_type": "code",
   "execution_count": null,
   "metadata": {
    "collapsed": true,
    "jupyter": {
     "outputs_hidden": true
    }
   },
   "outputs": [],
   "source": [
    "# import the data\n",
    "ratings = <FILL-IN>\n",
    "<FILL-IN> = <FILL-IN>('../data/ml-latest-small/movies.csv')"
   ]
  },
  {
   "cell_type": "markdown",
   "metadata": {},
   "source": [
    "Investigate the DataFrames and answer the following questions:\n",
    "- how much memory is used for the DataFrames?\n",
    "- what kind of columns do we have (names and datatype)?\n",
    "- how many records hold the DataFrames?"
   ]
  },
  {
   "cell_type": "code",
   "execution_count": null,
   "metadata": {},
   "outputs": [],
   "source": []
  },
  {
   "cell_type": "markdown",
   "metadata": {},
   "source": [
    "**Merge** the two DataFrames **ratings** and **movies on the key movieId** and select the **columns rating, userId and title**. Give the resulting DataFrame the name df. Afterwards, print the first 5 rows of the DataFrame."
   ]
  },
  {
   "cell_type": "code",
   "execution_count": null,
   "metadata": {
    "collapsed": true,
    "jupyter": {
     "outputs_hidden": true
    }
   },
   "outputs": [],
   "source": [
    "# merge\n",
    "df = <FILL-IN>\n",
    "<FILL-IN>.head()"
   ]
  },
  {
   "cell_type": "code",
   "execution_count": 3,
   "metadata": {},
   "outputs": [
    {
     "data": {
      "text/html": [
       "<div>\n",
       "<style>\n",
       "    .dataframe thead tr:only-child th {\n",
       "        text-align: right;\n",
       "    }\n",
       "\n",
       "    .dataframe thead th {\n",
       "        text-align: left;\n",
       "    }\n",
       "\n",
       "    .dataframe tbody tr th {\n",
       "        vertical-align: top;\n",
       "    }\n",
       "</style>\n",
       "<table border=\"1\" class=\"dataframe\">\n",
       "  <thead>\n",
       "    <tr style=\"text-align: right;\">\n",
       "      <th></th>\n",
       "      <th>userId</th>\n",
       "      <th>title</th>\n",
       "      <th>rating</th>\n",
       "    </tr>\n",
       "  </thead>\n",
       "  <tbody>\n",
       "    <tr>\n",
       "      <th>0</th>\n",
       "      <td>1</td>\n",
       "      <td>Dangerous Minds (1995)</td>\n",
       "      <td>2.5</td>\n",
       "    </tr>\n",
       "    <tr>\n",
       "      <th>1</th>\n",
       "      <td>7</td>\n",
       "      <td>Dangerous Minds (1995)</td>\n",
       "      <td>3.0</td>\n",
       "    </tr>\n",
       "    <tr>\n",
       "      <th>2</th>\n",
       "      <td>31</td>\n",
       "      <td>Dangerous Minds (1995)</td>\n",
       "      <td>4.0</td>\n",
       "    </tr>\n",
       "    <tr>\n",
       "      <th>3</th>\n",
       "      <td>32</td>\n",
       "      <td>Dangerous Minds (1995)</td>\n",
       "      <td>4.0</td>\n",
       "    </tr>\n",
       "    <tr>\n",
       "      <th>4</th>\n",
       "      <td>36</td>\n",
       "      <td>Dangerous Minds (1995)</td>\n",
       "      <td>3.0</td>\n",
       "    </tr>\n",
       "  </tbody>\n",
       "</table>\n",
       "</div>"
      ],
      "text/plain": [
       "   userId                   title  rating\n",
       "0       1  Dangerous Minds (1995)     2.5\n",
       "1       7  Dangerous Minds (1995)     3.0\n",
       "2      31  Dangerous Minds (1995)     4.0\n",
       "3      32  Dangerous Minds (1995)     4.0\n",
       "4      36  Dangerous Minds (1995)     3.0"
      ]
     },
     "execution_count": 3,
     "metadata": {},
     "output_type": "execute_result"
    }
   ],
   "source": []
  },
  {
   "cell_type": "markdown",
   "metadata": {},
   "source": [
    "**Compute** the mean, median and count of the ratings per movie.\n",
    "\n",
    "**Hint**: Extract the two needed columns *title* and *rating* and use the groupby('column') method. Try to produce the same DataFrame as below. For the following tasks it is important that you get the same result as below, i.e. same structure and column names."
   ]
  },
  {
   "cell_type": "code",
   "execution_count": null,
   "metadata": {
    "collapsed": true,
    "jupyter": {
     "outputs_hidden": true
    }
   },
   "outputs": [],
   "source": [
    "# mean, median and count\n",
    "df_agg = <FILL-IN>.agg(['mean', <FILL-IN>, 'count'])\n",
    "df_agg.head()"
   ]
  },
  {
   "cell_type": "code",
   "execution_count": 5,
   "metadata": {},
   "outputs": [
    {
     "data": {
      "text/html": [
       "<div>\n",
       "<style>\n",
       "    .dataframe thead tr:only-child th {\n",
       "        text-align: right;\n",
       "    }\n",
       "\n",
       "    .dataframe thead th {\n",
       "        text-align: left;\n",
       "    }\n",
       "\n",
       "    .dataframe tbody tr th {\n",
       "        vertical-align: top;\n",
       "    }\n",
       "</style>\n",
       "<table border=\"1\" class=\"dataframe\">\n",
       "  <thead>\n",
       "    <tr>\n",
       "      <th></th>\n",
       "      <th colspan=\"3\" halign=\"left\">rating</th>\n",
       "    </tr>\n",
       "    <tr>\n",
       "      <th></th>\n",
       "      <th>mean</th>\n",
       "      <th>median</th>\n",
       "      <th>count</th>\n",
       "    </tr>\n",
       "    <tr>\n",
       "      <th>title</th>\n",
       "      <th></th>\n",
       "      <th></th>\n",
       "      <th></th>\n",
       "    </tr>\n",
       "  </thead>\n",
       "  <tbody>\n",
       "    <tr>\n",
       "      <th>\"Great Performances\" Cats (1998)</th>\n",
       "      <td>1.750000</td>\n",
       "      <td>1.75</td>\n",
       "      <td>2</td>\n",
       "    </tr>\n",
       "    <tr>\n",
       "      <th>$9.99 (2008)</th>\n",
       "      <td>3.833333</td>\n",
       "      <td>4.50</td>\n",
       "      <td>3</td>\n",
       "    </tr>\n",
       "    <tr>\n",
       "      <th>'Hellboy': The Seeds of Creation (2004)</th>\n",
       "      <td>2.000000</td>\n",
       "      <td>2.00</td>\n",
       "      <td>1</td>\n",
       "    </tr>\n",
       "    <tr>\n",
       "      <th>'Neath the Arizona Skies (1934)</th>\n",
       "      <td>0.500000</td>\n",
       "      <td>0.50</td>\n",
       "      <td>1</td>\n",
       "    </tr>\n",
       "    <tr>\n",
       "      <th>'Round Midnight (1986)</th>\n",
       "      <td>2.250000</td>\n",
       "      <td>2.25</td>\n",
       "      <td>2</td>\n",
       "    </tr>\n",
       "  </tbody>\n",
       "</table>\n",
       "</div>"
      ],
      "text/plain": [
       "                                           rating             \n",
       "                                             mean median count\n",
       "title                                                         \n",
       "\"Great Performances\" Cats (1998)         1.750000   1.75     2\n",
       "$9.99 (2008)                             3.833333   4.50     3\n",
       "'Hellboy': The Seeds of Creation (2004)  2.000000   2.00     1\n",
       "'Neath the Arizona Skies (1934)          0.500000   0.50     1\n",
       "'Round Midnight (1986)                   2.250000   2.25     2"
      ]
     },
     "execution_count": 5,
     "metadata": {},
     "output_type": "execute_result"
    }
   ],
   "source": []
  },
  {
   "cell_type": "markdown",
   "metadata": {},
   "source": [
    "Extract only movies of the dataframe df_agg which have been rated **more than 100 times** and sort the resulting dataset in **descending order with respect to the mean rating**. Name the resulting dataframe df_agg_100 and show the first 20 and the last 20 rows.\n",
    "\n",
    "**Hint**: Use conditional indexing and the sort_values() method. Furthermore, you can use head and tail."
   ]
  },
  {
   "cell_type": "code",
   "execution_count": null,
   "metadata": {
    "collapsed": true,
    "jupyter": {
     "outputs_hidden": true
    }
   },
   "outputs": [],
   "source": [
    "<FILL-IN> = df_agg[df_agg[('rating', <FILL-IN>)] > <FILL-IN>].<FILL-IN>([('rating', 'mean')], ascending=<FILL-IN>)\n",
    "<FILL-IN>"
   ]
  },
  {
   "cell_type": "code",
   "execution_count": 6,
   "metadata": {},
   "outputs": [
    {
     "data": {
      "text/html": [
       "<div>\n",
       "<style>\n",
       "    .dataframe thead tr:only-child th {\n",
       "        text-align: right;\n",
       "    }\n",
       "\n",
       "    .dataframe thead th {\n",
       "        text-align: left;\n",
       "    }\n",
       "\n",
       "    .dataframe tbody tr th {\n",
       "        vertical-align: top;\n",
       "    }\n",
       "</style>\n",
       "<table border=\"1\" class=\"dataframe\">\n",
       "  <thead>\n",
       "    <tr>\n",
       "      <th></th>\n",
       "      <th colspan=\"3\" halign=\"left\">rating</th>\n",
       "    </tr>\n",
       "    <tr>\n",
       "      <th></th>\n",
       "      <th>mean</th>\n",
       "      <th>median</th>\n",
       "      <th>count</th>\n",
       "    </tr>\n",
       "    <tr>\n",
       "      <th>title</th>\n",
       "      <th></th>\n",
       "      <th></th>\n",
       "      <th></th>\n",
       "    </tr>\n",
       "  </thead>\n",
       "  <tbody>\n",
       "    <tr>\n",
       "      <th>Godfather, The (1972)</th>\n",
       "      <td>4.487500</td>\n",
       "      <td>5.00</td>\n",
       "      <td>200</td>\n",
       "    </tr>\n",
       "    <tr>\n",
       "      <th>Shawshank Redemption, The (1994)</th>\n",
       "      <td>4.487138</td>\n",
       "      <td>5.00</td>\n",
       "      <td>311</td>\n",
       "    </tr>\n",
       "    <tr>\n",
       "      <th>Godfather: Part II, The (1974)</th>\n",
       "      <td>4.385185</td>\n",
       "      <td>5.00</td>\n",
       "      <td>135</td>\n",
       "    </tr>\n",
       "    <tr>\n",
       "      <th>Usual Suspects, The (1995)</th>\n",
       "      <td>4.370647</td>\n",
       "      <td>4.50</td>\n",
       "      <td>201</td>\n",
       "    </tr>\n",
       "    <tr>\n",
       "      <th>Schindler's List (1993)</th>\n",
       "      <td>4.303279</td>\n",
       "      <td>4.50</td>\n",
       "      <td>244</td>\n",
       "    </tr>\n",
       "    <tr>\n",
       "      <th>One Flew Over the Cuckoo's Nest (1975)</th>\n",
       "      <td>4.256944</td>\n",
       "      <td>4.50</td>\n",
       "      <td>144</td>\n",
       "    </tr>\n",
       "    <tr>\n",
       "      <th>Fargo (1996)</th>\n",
       "      <td>4.256696</td>\n",
       "      <td>4.50</td>\n",
       "      <td>224</td>\n",
       "    </tr>\n",
       "    <tr>\n",
       "      <th>Pulp Fiction (1994)</th>\n",
       "      <td>4.256173</td>\n",
       "      <td>4.50</td>\n",
       "      <td>324</td>\n",
       "    </tr>\n",
       "    <tr>\n",
       "      <th>American Beauty (1999)</th>\n",
       "      <td>4.236364</td>\n",
       "      <td>4.25</td>\n",
       "      <td>220</td>\n",
       "    </tr>\n",
       "    <tr>\n",
       "      <th>Dark Knight, The (2008)</th>\n",
       "      <td>4.235537</td>\n",
       "      <td>4.50</td>\n",
       "      <td>121</td>\n",
       "    </tr>\n",
       "    <tr>\n",
       "      <th>Casablanca (1942)</th>\n",
       "      <td>4.235043</td>\n",
       "      <td>4.50</td>\n",
       "      <td>117</td>\n",
       "    </tr>\n",
       "    <tr>\n",
       "      <th>Star Wars: Episode V - The Empire Strikes Back (1980)</th>\n",
       "      <td>4.232906</td>\n",
       "      <td>4.50</td>\n",
       "      <td>234</td>\n",
       "    </tr>\n",
       "    <tr>\n",
       "      <th>Memento (2000)</th>\n",
       "      <td>4.227273</td>\n",
       "      <td>4.50</td>\n",
       "      <td>132</td>\n",
       "    </tr>\n",
       "    <tr>\n",
       "      <th>Taxi Driver (1976)</th>\n",
       "      <td>4.224576</td>\n",
       "      <td>4.25</td>\n",
       "      <td>118</td>\n",
       "    </tr>\n",
       "    <tr>\n",
       "      <th>Monty Python and the Holy Grail (1975)</th>\n",
       "      <td>4.224138</td>\n",
       "      <td>4.50</td>\n",
       "      <td>145</td>\n",
       "    </tr>\n",
       "    <tr>\n",
       "      <th>Star Wars: Episode IV - A New Hope (1977)</th>\n",
       "      <td>4.221649</td>\n",
       "      <td>4.50</td>\n",
       "      <td>291</td>\n",
       "    </tr>\n",
       "    <tr>\n",
       "      <th>Dr. Strangelove or: How I Learned to Stop Worrying and Love the Bomb (1964)</th>\n",
       "      <td>4.209524</td>\n",
       "      <td>4.50</td>\n",
       "      <td>105</td>\n",
       "    </tr>\n",
       "    <tr>\n",
       "      <th>Princess Bride, The (1987)</th>\n",
       "      <td>4.208589</td>\n",
       "      <td>4.00</td>\n",
       "      <td>163</td>\n",
       "    </tr>\n",
       "    <tr>\n",
       "      <th>Goodfellas (1990)</th>\n",
       "      <td>4.202290</td>\n",
       "      <td>4.00</td>\n",
       "      <td>131</td>\n",
       "    </tr>\n",
       "    <tr>\n",
       "      <th>Raiders of the Lost Ark (Indiana Jones and the Raiders of the Lost Ark) (1981)</th>\n",
       "      <td>4.193182</td>\n",
       "      <td>4.00</td>\n",
       "      <td>220</td>\n",
       "    </tr>\n",
       "  </tbody>\n",
       "</table>\n",
       "</div>"
      ],
      "text/plain": [
       "                                                      rating             \n",
       "                                                        mean median count\n",
       "title                                                                    \n",
       "Godfather, The (1972)                               4.487500   5.00   200\n",
       "Shawshank Redemption, The (1994)                    4.487138   5.00   311\n",
       "Godfather: Part II, The (1974)                      4.385185   5.00   135\n",
       "Usual Suspects, The (1995)                          4.370647   4.50   201\n",
       "Schindler's List (1993)                             4.303279   4.50   244\n",
       "One Flew Over the Cuckoo's Nest (1975)              4.256944   4.50   144\n",
       "Fargo (1996)                                        4.256696   4.50   224\n",
       "Pulp Fiction (1994)                                 4.256173   4.50   324\n",
       "American Beauty (1999)                              4.236364   4.25   220\n",
       "Dark Knight, The (2008)                             4.235537   4.50   121\n",
       "Casablanca (1942)                                   4.235043   4.50   117\n",
       "Star Wars: Episode V - The Empire Strikes Back ...  4.232906   4.50   234\n",
       "Memento (2000)                                      4.227273   4.50   132\n",
       "Taxi Driver (1976)                                  4.224576   4.25   118\n",
       "Monty Python and the Holy Grail (1975)              4.224138   4.50   145\n",
       "Star Wars: Episode IV - A New Hope (1977)           4.221649   4.50   291\n",
       "Dr. Strangelove or: How I Learned to Stop Worry...  4.209524   4.50   105\n",
       "Princess Bride, The (1987)                          4.208589   4.00   163\n",
       "Goodfellas (1990)                                   4.202290   4.00   131\n",
       "Raiders of the Lost Ark (Indiana Jones and the ...  4.193182   4.00   220"
      ]
     },
     "execution_count": 6,
     "metadata": {},
     "output_type": "execute_result"
    }
   ],
   "source": []
  },
  {
   "cell_type": "code",
   "execution_count": 126,
   "metadata": {},
   "outputs": [
    {
     "data": {
      "text/html": [
       "<div>\n",
       "<style>\n",
       "    .dataframe thead tr:only-child th {\n",
       "        text-align: right;\n",
       "    }\n",
       "\n",
       "    .dataframe thead th {\n",
       "        text-align: left;\n",
       "    }\n",
       "\n",
       "    .dataframe tbody tr th {\n",
       "        vertical-align: top;\n",
       "    }\n",
       "</style>\n",
       "<table border=\"1\" class=\"dataframe\">\n",
       "  <thead>\n",
       "    <tr>\n",
       "      <th></th>\n",
       "      <th colspan=\"3\" halign=\"left\">rating</th>\n",
       "    </tr>\n",
       "    <tr>\n",
       "      <th></th>\n",
       "      <th>mean</th>\n",
       "      <th>median</th>\n",
       "      <th>count</th>\n",
       "    </tr>\n",
       "    <tr>\n",
       "      <th>title</th>\n",
       "      <th></th>\n",
       "      <th></th>\n",
       "      <th></th>\n",
       "    </tr>\n",
       "  </thead>\n",
       "  <tbody>\n",
       "    <tr>\n",
       "      <th>Stargate (1994)</th>\n",
       "      <td>3.368966</td>\n",
       "      <td>3.0</td>\n",
       "      <td>145</td>\n",
       "    </tr>\n",
       "    <tr>\n",
       "      <th>Pretty Woman (1990)</th>\n",
       "      <td>3.360544</td>\n",
       "      <td>3.0</td>\n",
       "      <td>147</td>\n",
       "    </tr>\n",
       "    <tr>\n",
       "      <th>Star Trek: Generations (1994)</th>\n",
       "      <td>3.350877</td>\n",
       "      <td>3.0</td>\n",
       "      <td>114</td>\n",
       "    </tr>\n",
       "    <tr>\n",
       "      <th>Natural Born Killers (1994)</th>\n",
       "      <td>3.336449</td>\n",
       "      <td>3.0</td>\n",
       "      <td>107</td>\n",
       "    </tr>\n",
       "    <tr>\n",
       "      <th>Titanic (1997)</th>\n",
       "      <td>3.332317</td>\n",
       "      <td>3.5</td>\n",
       "      <td>164</td>\n",
       "    </tr>\n",
       "    <tr>\n",
       "      <th>Ghost (1990)</th>\n",
       "      <td>3.325397</td>\n",
       "      <td>3.0</td>\n",
       "      <td>126</td>\n",
       "    </tr>\n",
       "    <tr>\n",
       "      <th>Outbreak (1995)</th>\n",
       "      <td>3.309091</td>\n",
       "      <td>3.0</td>\n",
       "      <td>110</td>\n",
       "    </tr>\n",
       "    <tr>\n",
       "      <th>American Pie (1999)</th>\n",
       "      <td>3.297297</td>\n",
       "      <td>3.5</td>\n",
       "      <td>111</td>\n",
       "    </tr>\n",
       "    <tr>\n",
       "      <th>Austin Powers: The Spy Who Shagged Me (1999)</th>\n",
       "      <td>3.272321</td>\n",
       "      <td>3.5</td>\n",
       "      <td>112</td>\n",
       "    </tr>\n",
       "    <tr>\n",
       "      <th>Twister (1996)</th>\n",
       "      <td>3.250000</td>\n",
       "      <td>3.0</td>\n",
       "      <td>150</td>\n",
       "    </tr>\n",
       "    <tr>\n",
       "      <th>Star Wars: Episode I - The Phantom Menace (1999)</th>\n",
       "      <td>3.199275</td>\n",
       "      <td>3.0</td>\n",
       "      <td>138</td>\n",
       "    </tr>\n",
       "    <tr>\n",
       "      <th>Home Alone (1990)</th>\n",
       "      <td>3.112403</td>\n",
       "      <td>3.0</td>\n",
       "      <td>129</td>\n",
       "    </tr>\n",
       "    <tr>\n",
       "      <th>Dumb &amp; Dumber (Dumb and Dumber) (1994)</th>\n",
       "      <td>3.110759</td>\n",
       "      <td>3.0</td>\n",
       "      <td>158</td>\n",
       "    </tr>\n",
       "    <tr>\n",
       "      <th>Net, The (1995)</th>\n",
       "      <td>3.102941</td>\n",
       "      <td>3.0</td>\n",
       "      <td>102</td>\n",
       "    </tr>\n",
       "    <tr>\n",
       "      <th>Cliffhanger (1993)</th>\n",
       "      <td>3.084906</td>\n",
       "      <td>3.0</td>\n",
       "      <td>106</td>\n",
       "    </tr>\n",
       "    <tr>\n",
       "      <th>Mask, The (1994)</th>\n",
       "      <td>3.070064</td>\n",
       "      <td>3.0</td>\n",
       "      <td>157</td>\n",
       "    </tr>\n",
       "    <tr>\n",
       "      <th>Armageddon (1998)</th>\n",
       "      <td>3.044248</td>\n",
       "      <td>3.0</td>\n",
       "      <td>113</td>\n",
       "    </tr>\n",
       "    <tr>\n",
       "      <th>Ace Ventura: Pet Detective (1994)</th>\n",
       "      <td>2.871429</td>\n",
       "      <td>3.0</td>\n",
       "      <td>175</td>\n",
       "    </tr>\n",
       "    <tr>\n",
       "      <th>Batman Forever (1995)</th>\n",
       "      <td>2.782946</td>\n",
       "      <td>3.0</td>\n",
       "      <td>129</td>\n",
       "    </tr>\n",
       "    <tr>\n",
       "      <th>Waterworld (1995)</th>\n",
       "      <td>2.752212</td>\n",
       "      <td>3.0</td>\n",
       "      <td>113</td>\n",
       "    </tr>\n",
       "  </tbody>\n",
       "</table>\n",
       "</div>"
      ],
      "text/plain": [
       "                                                    rating             \n",
       "                                                      mean median count\n",
       "title                                                                  \n",
       "Stargate (1994)                                   3.368966    3.0   145\n",
       "Pretty Woman (1990)                               3.360544    3.0   147\n",
       "Star Trek: Generations (1994)                     3.350877    3.0   114\n",
       "Natural Born Killers (1994)                       3.336449    3.0   107\n",
       "Titanic (1997)                                    3.332317    3.5   164\n",
       "Ghost (1990)                                      3.325397    3.0   126\n",
       "Outbreak (1995)                                   3.309091    3.0   110\n",
       "American Pie (1999)                               3.297297    3.5   111\n",
       "Austin Powers: The Spy Who Shagged Me (1999)      3.272321    3.5   112\n",
       "Twister (1996)                                    3.250000    3.0   150\n",
       "Star Wars: Episode I - The Phantom Menace (1999)  3.199275    3.0   138\n",
       "Home Alone (1990)                                 3.112403    3.0   129\n",
       "Dumb & Dumber (Dumb and Dumber) (1994)            3.110759    3.0   158\n",
       "Net, The (1995)                                   3.102941    3.0   102\n",
       "Cliffhanger (1993)                                3.084906    3.0   106\n",
       "Mask, The (1994)                                  3.070064    3.0   157\n",
       "Armageddon (1998)                                 3.044248    3.0   113\n",
       "Ace Ventura: Pet Detective (1994)                 2.871429    3.0   175\n",
       "Batman Forever (1995)                             2.782946    3.0   129\n",
       "Waterworld (1995)                                 2.752212    3.0   113"
      ]
     },
     "execution_count": 126,
     "metadata": {},
     "output_type": "execute_result"
    }
   ],
   "source": []
  },
  {
   "cell_type": "markdown",
   "metadata": {},
   "source": [
    " We have not talked much about plotting yet. Making plots is one of the key ingredients to explore data sets. There will be another exercise which will cover this topic. However, we want to visualize the mean rating vs. the number of votings. Therefore, **please execute the commands below** and set the arguments **kind to 'scatter'** and **alpha to 0.3** to produce a scatter plot with a certain transparency level."
   ]
  },
  {
   "cell_type": "code",
   "execution_count": null,
   "metadata": {
    "collapsed": true,
    "jupyter": {
     "outputs_hidden": true
    }
   },
   "outputs": [],
   "source": [
    "# create figure and axes object\n",
    "fig, ax = plt.subplots(figsize=(12,8))\n",
    "# use Pandas built-in Plotting Function\n",
    "df_agg['rating'].plot(kind=<FILL-IN>, x='mean', y='count', alpha=<FILL-IN>, ax=ax)"
   ]
  },
  {
   "cell_type": "code",
   "execution_count": null,
   "metadata": {},
   "outputs": [],
   "source": []
  },
  {
   "cell_type": "markdown",
   "metadata": {},
   "source": [
    "Can you interpret the plot? Does it make sense? Do you see any kind of **correlation or pattern**?"
   ]
  },
  {
   "cell_type": "markdown",
   "metadata": {},
   "source": [
    "Next, please answer the following question: Which movie got the **worst mean rating** out of the df_agg_100 DataFrame?\n",
    "\n",
    "**Hint**: Use idxmin()."
   ]
  },
  {
   "cell_type": "code",
   "execution_count": null,
   "metadata": {
    "collapsed": true,
    "jupyter": {
     "outputs_hidden": true
    }
   },
   "outputs": [],
   "source": [
    "# worst movie\n",
    "df_agg_100.<FILL-IN>"
   ]
  },
  {
   "cell_type": "code",
   "execution_count": 8,
   "metadata": {},
   "outputs": [
    {
     "data": {
      "text/plain": [
       "rating  mean        Waterworld (1995)\n",
       "        median       Firm, The (1993)\n",
       "        count     Shining, The (1980)\n",
       "dtype: object"
      ]
     },
     "execution_count": 8,
     "metadata": {},
     "output_type": "execute_result"
    }
   ],
   "source": []
  },
  {
   "cell_type": "markdown",
   "metadata": {},
   "source": [
    "Next, we want to create a so called **feature matix**, where the **columns** are the **movie titles**, the **row indices** are the **userIds** and the **values** are the corresponding **ratings**. Therefore, you can use the **pivot_table** method on the dataframe df. Try to figure it out by your own. Name the resulting DataFrame **feature_mat**.\n",
    "\n",
    "**Hint**: Use the Shortcut *Shift+Tab* to get the docstring of the function. Afterwards, show the first 10 entries of the matrix."
   ]
  },
  {
   "cell_type": "code",
   "execution_count": null,
   "metadata": {
    "collapsed": true,
    "jupyter": {
     "outputs_hidden": true
    }
   },
   "outputs": [],
   "source": [
    "<FILL-IN> = df.<FILL-IN>\n",
    "<FILL-IN>"
   ]
  },
  {
   "cell_type": "markdown",
   "metadata": {},
   "source": [
    "Wow, there are so many NaNs. Could this be correct? Can you explain why we get so many NaNs?\n",
    "\n",
    "Such a matrix is called a **sparse matrix**. Actually, there are better formats to store elements of such a matrix more efficiently. Those who are interested may have a look at the **Compressed Sparse Column (CSC) format**.\n",
    "\n",
    "Now, please compute the **percentage of null values** of the feature matrix.\n",
    "\n",
    "**Hint**: Use the methods .isnull() and .sum() and the class attribute size which gives you the number of elements of the matrix."
   ]
  },
  {
   "cell_type": "code",
   "execution_count": null,
   "metadata": {
    "collapsed": true,
    "jupyter": {
     "outputs_hidden": true
    }
   },
   "outputs": [],
   "source": [
    "# percentage of null values\n",
    "nulls = feature_mat.<FILL-IN>\n",
    "nulls / <FILL-IN>.<FILL-IN> * 100"
   ]
  },
  {
   "cell_type": "code",
   "execution_count": 12,
   "metadata": {},
   "outputs": [
    {
     "data": {
      "text/plain": [
       "98.355739546434492"
      ]
     },
     "execution_count": 12,
     "metadata": {},
     "output_type": "execute_result"
    }
   ],
   "source": []
  },
  {
   "cell_type": "markdown",
   "metadata": {},
   "source": [
    "## Recommender System\n",
    "There are many different ways to build a recommender system. One popular approach is to use **collaborative filtering**, which is just a fancy name for recommending stuff based on the combination what you did (e.g. bought) and what everybody else did (e.g. bought).\n",
    "\n",
    "We want to discuss two approaches:\n",
    "\n",
    "1. Find similar users based on correlations between their ratings. If e.g. user A and B are highly correlated, recommend a highly rated movie by user A to user B (if he has not seen that movie yet). This approach is called **user based collaborative filtering**.\n",
    "\n",
    "2. Find similar items based on correlations between their rating patterns. Afterwards, recommend similar movies which the user has not seen yet.\n",
    "\n",
    "Both approaches are very similar, but we choose  a slightly modified version of method 2. What are the **drawbacks of method 1**?"
   ]
  },
  {
   "cell_type": "markdown",
   "metadata": {},
   "source": [
    "Compute the **correlation matrix** of the dataframe **feature_mat** with the **method corr()** and name the resulting DataFrame **movie_corr**.\n",
    "This may take a while. You can **measure the time** with the magic function **%%time.**"
   ]
  },
  {
   "cell_type": "code",
   "execution_count": null,
   "metadata": {
    "collapsed": true,
    "jupyter": {
     "outputs_hidden": true
    }
   },
   "outputs": [],
   "source": [
    "%%<FILL-IN>\n",
    "<FILL-IN> = <FILL-IN>.<FILL-IN>"
   ]
  },
  {
   "cell_type": "markdown",
   "metadata": {},
   "source": [
    "Use this correlation matrix to **find which movies are highly correlated with the movie Toy Story**.\n",
    "\n",
    "**Hint**: Look at the DataFrame with the .head() method. After you have discovered the structure of the dataframe try to **extract the column 'Toy Story (1995)'**. The result will be a **Pandas Series** containing the correlation coefficients of Toy Story with all the other movies. Sort the series in descending order and print the first 10 records."
   ]
  },
  {
   "cell_type": "code",
   "execution_count": null,
   "metadata": {
    "collapsed": true,
    "jupyter": {
     "outputs_hidden": true
    }
   },
   "outputs": [],
   "source": [
    "movie_corr[<FILL-IN>].sort_values(<FILL-IN>).head(<FILL-IN>)"
   ]
  },
  {
   "cell_type": "markdown",
   "metadata": {},
   "source": [
    "Do you know any of these movies? What happened? Did we do **something wrong**? Can you **explain the result**?\n",
    "\n",
    "**Compute the correlation matrix again**, but this time for movies wich lead to **at least 100 *observation pairs***, i.e. the movie Toy Story and another movie has been rated at least by the same 100 users. In the following table you can see an example for two *observation pairs* of Toy Story and MovieA, and one *observation pair* for movie Toy Story and MovieB.\n",
    "\n",
    "| userId|ToyStory|MovieA|MovieB\n",
    "| ------|--------|------|------|\n",
    "| 1      | 3.0 | 4.0 | 4.0\n",
    "| 2      | NaN    |   5.0 | 4.0\n",
    "| 3 | 4.0      |    NaN | NaN\n",
    "| 4 | 5.0      |    4.0 | NaN\n",
    "\n",
    "\n",
    "Afterwards, check again which movies are highly correlated wth Toy Story.\n",
    "\n",
    "**Hint**: Use the argument **min_periods** of the corr() method to achieve the desired result."
   ]
  },
  {
   "cell_type": "code",
   "execution_count": null,
   "metadata": {
    "collapsed": true,
    "jupyter": {
     "outputs_hidden": true
    }
   },
   "outputs": [],
   "source": [
    "movie_corr_100 = <FILL-IN>\n",
    "movie_corr_100<FILL-IN>.head(10)"
   ]
  },
  {
   "cell_type": "code",
   "execution_count": null,
   "metadata": {},
   "outputs": [],
   "source": []
  },
  {
   "cell_type": "markdown",
   "metadata": {},
   "source": [
    "Next, we create a dictionary which contains **your own movie preferences**. Please add your own ratings (integers 1 to 5)."
   ]
  },
  {
   "cell_type": "code",
   "execution_count": 124,
   "metadata": {
    "collapsed": true,
    "jupyter": {
     "outputs_hidden": true
    }
   },
   "outputs": [],
   "source": [
    "# please add your ratings as values\n",
    "myRatings = {'Dark Knight, The (2008)': <FILL-IN>, 'Mask, The (1994)': <FILL-IN>,\n",
    "             'Titanic (1997)': <FILL-IN>, 'Star Wars: Episode IV - A New Hope (1977)': <FILL-IN>,\n",
    "            'Star Wars: Episode I - The Phantom Menace (1999)': <FILL-IN>, 'Pulp Fiction (1994)': <FILL-IN>}"
   ]
  },
  {
   "cell_type": "markdown",
   "metadata": {},
   "source": [
    "The function below **weights the similiraty score** by your ratings and **returns a sorted pandas Series** containing your recommendations in descending order. Please execute the function definition."
   ]
  },
  {
   "cell_type": "code",
   "execution_count": 20,
   "metadata": {
    "collapsed": true,
    "jupyter": {
     "outputs_hidden": true
    }
   },
   "outputs": [],
   "source": [
    "def recommend(myRatings, movies_corr_100):\n",
    "    '''Find the movies which are highly correlated with your rated movies and weight them with your rating.'''\n",
    "\n",
    "    recommendations = pd.Series()\n",
    "    \n",
    "    for key in myRatings:\n",
    "        candidates = movie_corr_100[key].dropna()\n",
    "        candidates = candidates.apply(lambda x: x * myRatings[key])\n",
    "        recommendations = recommendations.append(candidates)\n",
    "\n",
    "    recommendations.drop(list(myRatings.keys()), inplace=True)\n",
    "    \n",
    "    # aggregation, because different movies (e.g. Toy Story 1 and 2) can lead to the same candidate (e.g. Shrek) \n",
    "    return recommendations.groupby(by=recommendations.index).agg('mean').sort_values(ascending=False)"
   ]
  },
  {
   "cell_type": "markdown",
   "metadata": {},
   "source": [
    "Use the function **recommend** on your own dictionary **myRatings** and name the result myRecommendations."
   ]
  },
  {
   "cell_type": "code",
   "execution_count": null,
   "metadata": {
    "collapsed": true,
    "jupyter": {
     "outputs_hidden": true
    }
   },
   "outputs": [],
   "source": [
    "myRecommendations = <FILL-IN>"
   ]
  },
  {
   "cell_type": "markdown",
   "metadata": {},
   "source": [
    "Finally, we **join the series** with the **df_agg_100 dataframe** to add some summary statistics. Since we can only join two dataframes, we have to **convert the series to a DataFrame** by using the method to_frame(name='column_name') on our pandas series myRecommendations."
   ]
  },
  {
   "cell_type": "code",
   "execution_count": null,
   "metadata": {
    "collapsed": true,
    "jupyter": {
     "outputs_hidden": true
    }
   },
   "outputs": [],
   "source": [
    "<FILL-IN>.to_frame(name='score').join(df_agg_100['rating']).dropna().head(10)"
   ]
  },
  {
   "cell_type": "markdown",
   "metadata": {},
   "source": [
    "### End of the Exercise\n",
    "Great job! I hope you enjoyed the exercise."
   ]
  },
  {
   "cell_type": "markdown",
   "metadata": {},
   "source": [
    "## Bonus:\n",
    "Start again with the movies and ratings DataFrames. Try to solve the following problems:\n",
    "\n",
    "1. How many different movie genres holds the DataFrame movies?\n",
    "2. Which movie genre has the highest average rating considering only movies with more than 100 ratings?\n",
    "\n",
    "**Hint**: These two tasks can be a bit tricky. Here are some useful steps that I have used for my solution:\n",
    "\n",
    "1. Transform the 'genres' column into a list using the apply and split method.\n",
    "2. Explode (denormalize) the list, i.e. each element of the list yields a new row in the dataframe. There are several ways to do that. One way is to use a nested for loop and iterate over a Pandas Series which contains the genres list. You could append each element of the genres_list to an empty list. Afterwards use the set(list) function to get only unique elements. As an alternative you could also use the method stack() on a Pandas Series. Unfortunately, there is no built-in explode function, e.g. like in Hive.\n",
    "\n",
    "**Update**: Since Pandas 0.25 an explode method exists.\n",
    "\n",
    "For question 2 you also need to do sth. like:\n",
    "\n",
    "3. Perform sth. similar like in step 2 (see above), but keep track of the index to *rejoin* your results with the original DataFrame.\n",
    "4. Join the result with the ratings df.\n",
    "5. Compute the average rating and the count grouped by the exploded column genres."
   ]
  },
  {
   "cell_type": "code",
   "execution_count": 43,
   "metadata": {},
   "outputs": [
    {
     "data": {
      "text/html": [
       "<div>\n",
       "<style>\n",
       "    .dataframe thead tr:only-child th {\n",
       "        text-align: right;\n",
       "    }\n",
       "\n",
       "    .dataframe thead th {\n",
       "        text-align: left;\n",
       "    }\n",
       "\n",
       "    .dataframe tbody tr th {\n",
       "        vertical-align: top;\n",
       "    }\n",
       "</style>\n",
       "<table border=\"1\" class=\"dataframe\">\n",
       "  <thead>\n",
       "    <tr style=\"text-align: right;\">\n",
       "      <th></th>\n",
       "      <th>movieId</th>\n",
       "      <th>title</th>\n",
       "      <th>genres</th>\n",
       "      <th>genres_list</th>\n",
       "    </tr>\n",
       "  </thead>\n",
       "  <tbody>\n",
       "    <tr>\n",
       "      <th>0</th>\n",
       "      <td>1</td>\n",
       "      <td>Toy Story (1995)</td>\n",
       "      <td>Adventure|Animation|Children|Comedy|Fantasy</td>\n",
       "      <td>[Adventure, Animation, Children, Comedy, Fantasy]</td>\n",
       "    </tr>\n",
       "    <tr>\n",
       "      <th>1</th>\n",
       "      <td>2</td>\n",
       "      <td>Jumanji (1995)</td>\n",
       "      <td>Adventure|Children|Fantasy</td>\n",
       "      <td>[Adventure, Children, Fantasy]</td>\n",
       "    </tr>\n",
       "    <tr>\n",
       "      <th>2</th>\n",
       "      <td>3</td>\n",
       "      <td>Grumpier Old Men (1995)</td>\n",
       "      <td>Comedy|Romance</td>\n",
       "      <td>[Comedy, Romance]</td>\n",
       "    </tr>\n",
       "    <tr>\n",
       "      <th>3</th>\n",
       "      <td>4</td>\n",
       "      <td>Waiting to Exhale (1995)</td>\n",
       "      <td>Comedy|Drama|Romance</td>\n",
       "      <td>[Comedy, Drama, Romance]</td>\n",
       "    </tr>\n",
       "    <tr>\n",
       "      <th>4</th>\n",
       "      <td>5</td>\n",
       "      <td>Father of the Bride Part II (1995)</td>\n",
       "      <td>Comedy</td>\n",
       "      <td>[Comedy]</td>\n",
       "    </tr>\n",
       "  </tbody>\n",
       "</table>\n",
       "</div>"
      ],
      "text/plain": [
       "   movieId                               title  \\\n",
       "0        1                    Toy Story (1995)   \n",
       "1        2                      Jumanji (1995)   \n",
       "2        3             Grumpier Old Men (1995)   \n",
       "3        4            Waiting to Exhale (1995)   \n",
       "4        5  Father of the Bride Part II (1995)   \n",
       "\n",
       "                                        genres  \\\n",
       "0  Adventure|Animation|Children|Comedy|Fantasy   \n",
       "1                   Adventure|Children|Fantasy   \n",
       "2                               Comedy|Romance   \n",
       "3                         Comedy|Drama|Romance   \n",
       "4                                       Comedy   \n",
       "\n",
       "                                         genres_list  \n",
       "0  [Adventure, Animation, Children, Comedy, Fantasy]  \n",
       "1                     [Adventure, Children, Fantasy]  \n",
       "2                                  [Comedy, Romance]  \n",
       "3                           [Comedy, Drama, Romance]  \n",
       "4                                           [Comedy]  "
      ]
     },
     "execution_count": 43,
     "metadata": {},
     "output_type": "execute_result"
    }
   ],
   "source": []
  },
  {
   "cell_type": "code",
   "execution_count": 25,
   "metadata": {},
   "outputs": [
    {
     "name": "stdout",
     "output_type": "stream",
     "text": [
      "{'Film-Noir', 'Children', 'Drama', 'Comedy', 'Mystery', '(no genres listed)', 'Animation', 'Musical', 'Crime', 'Adventure', 'Fantasy', 'Romance', 'Horror', 'Documentary', 'Thriller', 'War', 'Western', 'IMAX', 'Sci-Fi', 'Action'}\n"
     ]
    },
    {
     "data": {
      "text/plain": [
       "20"
      ]
     },
     "execution_count": 25,
     "metadata": {},
     "output_type": "execute_result"
    }
   ],
   "source": []
  },
  {
   "cell_type": "code",
   "execution_count": 26,
   "metadata": {},
   "outputs": [
    {
     "name": "stdout",
     "output_type": "stream",
     "text": [
      "   old_index     genres\n",
      "0          0  Adventure\n",
      "1          0  Animation\n",
      "2          0   Children\n",
      "3          0     Comedy\n",
      "4          0    Fantasy\n",
      "CPU times: user 12.4 ms, sys: 7 µs, total: 12.5 ms\n",
      "Wall time: 11.9 ms\n"
     ]
    }
   ],
   "source": []
  },
  {
   "cell_type": "code",
   "execution_count": 37,
   "metadata": {},
   "outputs": [
    {
     "data": {
      "text/html": [
       "<div>\n",
       "<style>\n",
       "    .dataframe thead tr:only-child th {\n",
       "        text-align: right;\n",
       "    }\n",
       "\n",
       "    .dataframe thead th {\n",
       "        text-align: left;\n",
       "    }\n",
       "\n",
       "    .dataframe tbody tr th {\n",
       "        vertical-align: top;\n",
       "    }\n",
       "</style>\n",
       "<table border=\"1\" class=\"dataframe\">\n",
       "  <thead>\n",
       "    <tr style=\"text-align: right;\">\n",
       "      <th></th>\n",
       "      <th>old_index</th>\n",
       "      <th>genres</th>\n",
       "    </tr>\n",
       "  </thead>\n",
       "  <tbody>\n",
       "    <tr>\n",
       "      <th>0</th>\n",
       "      <td>0</td>\n",
       "      <td>Adventure</td>\n",
       "    </tr>\n",
       "    <tr>\n",
       "      <th>1</th>\n",
       "      <td>0</td>\n",
       "      <td>Animation</td>\n",
       "    </tr>\n",
       "    <tr>\n",
       "      <th>2</th>\n",
       "      <td>0</td>\n",
       "      <td>Children</td>\n",
       "    </tr>\n",
       "    <tr>\n",
       "      <th>3</th>\n",
       "      <td>0</td>\n",
       "      <td>Comedy</td>\n",
       "    </tr>\n",
       "    <tr>\n",
       "      <th>4</th>\n",
       "      <td>0</td>\n",
       "      <td>Fantasy</td>\n",
       "    </tr>\n",
       "  </tbody>\n",
       "</table>\n",
       "</div>"
      ],
      "text/plain": [
       "   old_index     genres\n",
       "0          0  Adventure\n",
       "1          0  Animation\n",
       "2          0   Children\n",
       "3          0     Comedy\n",
       "4          0    Fantasy"
      ]
     },
     "execution_count": 37,
     "metadata": {},
     "output_type": "execute_result"
    }
   ],
   "source": []
  },
  {
   "cell_type": "code",
   "execution_count": 45,
   "metadata": {},
   "outputs": [
    {
     "data": {
      "text/html": [
       "<div>\n",
       "<style>\n",
       "    .dataframe thead tr:only-child th {\n",
       "        text-align: right;\n",
       "    }\n",
       "\n",
       "    .dataframe thead th {\n",
       "        text-align: left;\n",
       "    }\n",
       "\n",
       "    .dataframe tbody tr th {\n",
       "        vertical-align: top;\n",
       "    }\n",
       "</style>\n",
       "<table border=\"1\" class=\"dataframe\">\n",
       "  <thead>\n",
       "    <tr>\n",
       "      <th></th>\n",
       "      <th colspan=\"3\" halign=\"left\">rating</th>\n",
       "    </tr>\n",
       "    <tr>\n",
       "      <th></th>\n",
       "      <th>mean</th>\n",
       "      <th>median</th>\n",
       "      <th>count</th>\n",
       "    </tr>\n",
       "    <tr>\n",
       "      <th>genres</th>\n",
       "      <th></th>\n",
       "      <th></th>\n",
       "      <th></th>\n",
       "    </tr>\n",
       "  </thead>\n",
       "  <tbody>\n",
       "    <tr>\n",
       "      <th>(no genres listed)</th>\n",
       "      <td>3.777778</td>\n",
       "      <td>4.0</td>\n",
       "      <td>18</td>\n",
       "    </tr>\n",
       "    <tr>\n",
       "      <th>Action</th>\n",
       "      <td>3.445613</td>\n",
       "      <td>3.5</td>\n",
       "      <td>27056</td>\n",
       "    </tr>\n",
       "    <tr>\n",
       "      <th>Adventure</th>\n",
       "      <td>3.520393</td>\n",
       "      <td>4.0</td>\n",
       "      <td>22017</td>\n",
       "    </tr>\n",
       "    <tr>\n",
       "      <th>Animation</th>\n",
       "      <td>3.636062</td>\n",
       "      <td>4.0</td>\n",
       "      <td>6170</td>\n",
       "    </tr>\n",
       "    <tr>\n",
       "      <th>Children</th>\n",
       "      <td>3.466187</td>\n",
       "      <td>3.5</td>\n",
       "      <td>8680</td>\n",
       "    </tr>\n",
       "  </tbody>\n",
       "</table>\n",
       "</div>"
      ],
      "text/plain": [
       "                      rating              \n",
       "                        mean median  count\n",
       "genres                                    \n",
       "(no genres listed)  3.777778    4.0     18\n",
       "Action              3.445613    3.5  27056\n",
       "Adventure           3.520393    4.0  22017\n",
       "Animation           3.636062    4.0   6170\n",
       "Children            3.466187    3.5   8680"
      ]
     },
     "execution_count": 45,
     "metadata": {},
     "output_type": "execute_result"
    }
   ],
   "source": []
  },
  {
   "cell_type": "code",
   "execution_count": 46,
   "metadata": {},
   "outputs": [
    {
     "data": {
      "text/html": [
       "<div>\n",
       "<style>\n",
       "    .dataframe thead tr:only-child th {\n",
       "        text-align: right;\n",
       "    }\n",
       "\n",
       "    .dataframe thead th {\n",
       "        text-align: left;\n",
       "    }\n",
       "\n",
       "    .dataframe tbody tr th {\n",
       "        vertical-align: top;\n",
       "    }\n",
       "</style>\n",
       "<table border=\"1\" class=\"dataframe\">\n",
       "  <thead>\n",
       "    <tr>\n",
       "      <th></th>\n",
       "      <th colspan=\"3\" halign=\"left\">rating</th>\n",
       "    </tr>\n",
       "    <tr>\n",
       "      <th></th>\n",
       "      <th>mean</th>\n",
       "      <th>median</th>\n",
       "      <th>count</th>\n",
       "    </tr>\n",
       "    <tr>\n",
       "      <th>genres</th>\n",
       "      <th></th>\n",
       "      <th></th>\n",
       "      <th></th>\n",
       "    </tr>\n",
       "  </thead>\n",
       "  <tbody>\n",
       "    <tr>\n",
       "      <th>Film-Noir</th>\n",
       "      <td>3.955702</td>\n",
       "      <td>4.0</td>\n",
       "      <td>1140</td>\n",
       "    </tr>\n",
       "    <tr>\n",
       "      <th>War</th>\n",
       "      <td>3.817214</td>\n",
       "      <td>4.0</td>\n",
       "      <td>5025</td>\n",
       "    </tr>\n",
       "    <tr>\n",
       "      <th>Documentary</th>\n",
       "      <td>3.813299</td>\n",
       "      <td>4.0</td>\n",
       "      <td>1564</td>\n",
       "    </tr>\n",
       "    <tr>\n",
       "      <th>Drama</th>\n",
       "      <td>3.681780</td>\n",
       "      <td>4.0</td>\n",
       "      <td>44752</td>\n",
       "    </tr>\n",
       "    <tr>\n",
       "      <th>Crime</th>\n",
       "      <td>3.679639</td>\n",
       "      <td>4.0</td>\n",
       "      <td>16266</td>\n",
       "    </tr>\n",
       "    <tr>\n",
       "      <th>Mystery</th>\n",
       "      <td>3.679541</td>\n",
       "      <td>4.0</td>\n",
       "      <td>7625</td>\n",
       "    </tr>\n",
       "    <tr>\n",
       "      <th>Animation</th>\n",
       "      <td>3.636062</td>\n",
       "      <td>4.0</td>\n",
       "      <td>6170</td>\n",
       "    </tr>\n",
       "    <tr>\n",
       "      <th>Musical</th>\n",
       "      <td>3.598793</td>\n",
       "      <td>4.0</td>\n",
       "      <td>4722</td>\n",
       "    </tr>\n",
       "    <tr>\n",
       "      <th>IMAX</th>\n",
       "      <td>3.571134</td>\n",
       "      <td>4.0</td>\n",
       "      <td>3156</td>\n",
       "    </tr>\n",
       "    <tr>\n",
       "      <th>Western</th>\n",
       "      <td>3.566423</td>\n",
       "      <td>4.0</td>\n",
       "      <td>1912</td>\n",
       "    </tr>\n",
       "    <tr>\n",
       "      <th>Romance</th>\n",
       "      <td>3.556165</td>\n",
       "      <td>4.0</td>\n",
       "      <td>19336</td>\n",
       "    </tr>\n",
       "    <tr>\n",
       "      <th>Adventure</th>\n",
       "      <td>3.520393</td>\n",
       "      <td>4.0</td>\n",
       "      <td>22017</td>\n",
       "    </tr>\n",
       "    <tr>\n",
       "      <th>Thriller</th>\n",
       "      <td>3.518502</td>\n",
       "      <td>3.5</td>\n",
       "      <td>25240</td>\n",
       "    </tr>\n",
       "    <tr>\n",
       "      <th>Fantasy</th>\n",
       "      <td>3.518063</td>\n",
       "      <td>4.0</td>\n",
       "      <td>10657</td>\n",
       "    </tr>\n",
       "    <tr>\n",
       "      <th>Children</th>\n",
       "      <td>3.466187</td>\n",
       "      <td>3.5</td>\n",
       "      <td>8680</td>\n",
       "    </tr>\n",
       "    <tr>\n",
       "      <th>Sci-Fi</th>\n",
       "      <td>3.460430</td>\n",
       "      <td>3.5</td>\n",
       "      <td>15365</td>\n",
       "    </tr>\n",
       "    <tr>\n",
       "      <th>Comedy</th>\n",
       "      <td>3.446037</td>\n",
       "      <td>3.5</td>\n",
       "      <td>38026</td>\n",
       "    </tr>\n",
       "    <tr>\n",
       "      <th>Action</th>\n",
       "      <td>3.445613</td>\n",
       "      <td>3.5</td>\n",
       "      <td>27056</td>\n",
       "    </tr>\n",
       "    <tr>\n",
       "      <th>Horror</th>\n",
       "      <td>3.315243</td>\n",
       "      <td>3.5</td>\n",
       "      <td>6790</td>\n",
       "    </tr>\n",
       "  </tbody>\n",
       "</table>\n",
       "</div>"
      ],
      "text/plain": [
       "               rating              \n",
       "                 mean median  count\n",
       "genres                             \n",
       "Film-Noir    3.955702    4.0   1140\n",
       "War          3.817214    4.0   5025\n",
       "Documentary  3.813299    4.0   1564\n",
       "Drama        3.681780    4.0  44752\n",
       "Crime        3.679639    4.0  16266\n",
       "Mystery      3.679541    4.0   7625\n",
       "Animation    3.636062    4.0   6170\n",
       "Musical      3.598793    4.0   4722\n",
       "IMAX         3.571134    4.0   3156\n",
       "Western      3.566423    4.0   1912\n",
       "Romance      3.556165    4.0  19336\n",
       "Adventure    3.520393    4.0  22017\n",
       "Thriller     3.518502    3.5  25240\n",
       "Fantasy      3.518063    4.0  10657\n",
       "Children     3.466187    3.5   8680\n",
       "Sci-Fi       3.460430    3.5  15365\n",
       "Comedy       3.446037    3.5  38026\n",
       "Action       3.445613    3.5  27056\n",
       "Horror       3.315243    3.5   6790"
      ]
     },
     "execution_count": 46,
     "metadata": {},
     "output_type": "execute_result"
    }
   ],
   "source": []
  }
 ],
 "metadata": {
  "kernelspec": {
   "display_name": "Python 3",
   "language": "python",
   "name": "python3"
  },
  "language_info": {
   "codemirror_mode": {
    "name": "ipython",
    "version": 3
   },
   "file_extension": ".py",
   "mimetype": "text/x-python",
   "name": "python",
   "nbconvert_exporter": "python",
   "pygments_lexer": "ipython3",
   "version": "3.7.3"
  }
 },
 "nbformat": 4,
 "nbformat_minor": 4
}
