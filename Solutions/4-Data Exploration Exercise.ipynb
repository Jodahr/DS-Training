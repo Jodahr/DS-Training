{
 "cells": [
  {
   "cell_type": "markdown",
   "metadata": {},
   "source": [
    "# Plotting with Seaborn - Exercise\n",
    "\n",
    "This exercise deals with the seaborn package which we will use to create plots for the *Data Exploration Tasks*.\n",
    "Seaborn is a nice library to produce plots very quickly. However, customization of the generated plots requires knowledge about the underlying matplotlib library, which is beyond the scope of this course.\n",
    "\n",
    "For this exercise we will use two different datasets: the **house price** data set and the **titanic** data set which we will use for **regression** and **classification** tasks, respectively, in the following exercises.\n",
    "\n",
    "As always, we start by importing the necessary libraries:"
   ]
  },
  {
   "cell_type": "code",
   "execution_count": null,
   "metadata": {
    "collapsed": true
   },
   "outputs": [],
   "source": [
    "# Load standard packages\n",
    "import pandas as pd\n",
    "import seaborn as sns\n",
    "import matplotlib\n",
    "import numpy as np\n",
    "\n",
    "# To show plots directly in jupyter\n",
    "%matplotlib inline\n",
    "\n",
    "# Set default figure and font size for all plots\n",
    "matplotlib.rcParams['figure.figsize'] = (12.0, 9.0)\n",
    "matplotlib.rcParams.update({'font.size': 12})"
   ]
  },
  {
   "cell_type": "markdown",
   "metadata": {},
   "source": [
    "## 1. House Price Dataset\n",
    "In this part of the exercise we analyze the famous **Ames Housing data from Dean De Cock**. It contains 79 features to predict house prices. It can be thought of as a complex version of the famous boston dataset, which is widely used for regression tasks but which only includes numerical features. For further details you may have a look at http://ww2.amstat.org/publications/jse/v19n3/decock.pdf and https://ww2.amstat.org/publications/jse/v19n3/decock/DataDocumentation.txt.\n",
    "\n",
    "Please load the dataset from the path **'data/houses.csv'** as a dataframe called **houses**. \n",
    "Before we start creating plots, please **answer the following questions**:\n",
    "\n",
    "- how many rows and columns does the dataset hold?\n",
    "- how many numerical and non-numerical (categorical) variables?\n",
    "- which feature includes the most null values?"
   ]
  },
  {
   "cell_type": "code",
   "execution_count": null,
   "metadata": {
    "collapsed": true
   },
   "outputs": [],
   "source": []
  },
  {
   "cell_type": "markdown",
   "metadata": {},
   "source": [
    "### 1.1 Histograms and Distributions\n",
    "Please plot a histogram of the target **'SalePrice'** by using the method **sns.distplot(df[column])**.\n",
    "Furthermore, change the option **kde** to False and set the number of **bins** to 30.\n",
    "\n",
    "**Remark**: Use Shift+Tab inside the parantheses to get the docstring of the function."
   ]
  },
  {
   "cell_type": "code",
   "execution_count": null,
   "metadata": {},
   "outputs": [],
   "source": []
  },
  {
   "cell_type": "markdown",
   "metadata": {},
   "source": [
    "Please describe the plot and answer the following questions:\n",
    "- where is (roughly) the location of the global maximum of the distribution?\n",
    "- is the data normally distributed? If not, do you have an idea how to transform the data that it follows a normal distribution?\n",
    "- can you reason why the distribution looks like this?"
   ]
  },
  {
   "cell_type": "markdown",
   "metadata": {},
   "source": [
    "Next, plot the distribution of the feature **'GrLivArea'** which describes the *above grade (ground) living area in square feet*. Play around with the options **kde** and **bins**. Describe the distribution."
   ]
  },
  {
   "cell_type": "code",
   "execution_count": null,
   "metadata": {},
   "outputs": [],
   "source": []
  },
  {
   "cell_type": "markdown",
   "metadata": {},
   "source": [
    "Maybe there is a correlation between the target **'SalePrice'** and the feature **'GrLivArea'**. Let us create a scatter plot where we plot the feature **'GrLivArea'** on the **x-axis** and **'SalePrice'** on the **y-axis**.\n",
    "In seaborn we can use the method **regplot()** which is actually a regression plot and allows us to fit the data already."
   ]
  },
  {
   "cell_type": "code",
   "execution_count": null,
   "metadata": {},
   "outputs": [],
   "source": []
  },
  {
   "cell_type": "markdown",
   "metadata": {},
   "source": [
    "Please, **describe the plot**.\n",
    "\n",
    "Furthermore, we see a linear regression model fit with uncertainty bands. The translucent bands describe a bootstrap confidence interval generated for the estimate. We will talk about bootstrap roughly tomorrow."
   ]
  },
  {
   "cell_type": "markdown",
   "metadata": {},
   "source": [
    "In order to get the single distributions and the joint distribution combined in one plot we can use the **jointplot()** method from seaborn.\n",
    "Please, use the method for the two attributes **'1stFlrSF'** (First Floor square feet) and **'SalePrice'**. First, produce the plot with the default function arguments. Second, change the argument **kind** once to **reg**, **hex** and **kde**.\n",
    "\n",
    "Since most of the data points are located in the lower left corner, please try to plot only data points where **x < 3000** and **y < 500000**."
   ]
  },
  {
   "cell_type": "code",
   "execution_count": null,
   "metadata": {},
   "outputs": [],
   "source": [
    "# default"
   ]
  },
  {
   "cell_type": "code",
   "execution_count": null,
   "metadata": {},
   "outputs": [],
   "source": [
    "# reg"
   ]
  },
  {
   "cell_type": "code",
   "execution_count": null,
   "metadata": {},
   "outputs": [],
   "source": [
    "# hex"
   ]
  },
  {
   "cell_type": "code",
   "execution_count": null,
   "metadata": {},
   "outputs": [],
   "source": [
    "# kde"
   ]
  },
  {
   "cell_type": "markdown",
   "metadata": {},
   "source": [
    "Of course, we could have set the x and the y limits directly on the plot (using the matplotlib API) instead of using conditional indexing.\n",
    "\n",
    "Would it have made any difference, e.g. for the regression plot? **Try to explain it**."
   ]
  },
  {
   "cell_type": "markdown",
   "metadata": {},
   "source": [
    "### 1.2 Heatmap\n",
    "We have already seen that we have at least two good features to explain the target. What about the remaining ones? In order to make a quick check it is useful to compute the correlation matrix. Afterwards, the matrix can be represented as a heatmap.\n",
    "\n",
    "First, **compute the correlation matrix** of the houses dataframe. Call the resulting dataframe/matrix **houses_corr**."
   ]
  },
  {
   "cell_type": "code",
   "execution_count": null,
   "metadata": {},
   "outputs": [],
   "source": []
  },
  {
   "cell_type": "markdown",
   "metadata": {},
   "source": [
    "Next, use the function **sns.heatmap()** of the seaborn package and pass the correlation matrix as the only argument."
   ]
  },
  {
   "cell_type": "code",
   "execution_count": null,
   "metadata": {},
   "outputs": [],
   "source": []
  },
  {
   "cell_type": "markdown",
   "metadata": {},
   "source": [
    "This does not look very nice and we have **redundant datapoints** (upper and lower triangles represent the same information). This can be solved by using a **mask matrix**.\n",
    "Please execute the following statements, where we first compute a matrix which has the same shape as the corr matrix but contains only zeros. Afterwards, we fill the upper triangle of the mask matrix with the boolean value True. This can be done by using the numpy method np.triu_indices_from(mask). Finally, we can use the mask matrix and make further adjustments to get a nice heatmap of the correlation matrix."
   ]
  },
  {
   "cell_type": "code",
   "execution_count": null,
   "metadata": {},
   "outputs": [],
   "source": [
    "mask = np.zeros_like(houses_corr)\n",
    "mask"
   ]
  },
  {
   "cell_type": "code",
   "execution_count": null,
   "metadata": {},
   "outputs": [],
   "source": [
    "mask[np.triu_indices_from(mask)] = True\n",
    "mask"
   ]
  },
  {
   "cell_type": "code",
   "execution_count": null,
   "metadata": {},
   "outputs": [],
   "source": [
    "ax = sns.heatmap(houses_corr, mask=mask, cmap='coolwarm', linewidths=0.5, vmax=.8)"
   ]
  },
  {
   "cell_type": "markdown",
   "metadata": {},
   "source": [
    "This looks much nicer. Please, **answer the following questions**:\n",
    "\n",
    "- which features are highly correlated and anticorrelated?\n",
    "- which features are highly correlated and anticorrelated with the target?\n",
    "- if there is no correlaton between the feature and the target, does it mean that there is no dependence?"
   ]
  },
  {
   "cell_type": "markdown",
   "metadata": {},
   "source": [
    "Of course, in real life data exploration does not end here. But due to the lack of time we have to move on and investigate another dataset."
   ]
  },
  {
   "cell_type": "markdown",
   "metadata": {},
   "source": [
    "## 2. Titanic Dataset\n",
    "\n",
    "This is one of the most famous datasets for machine learning beginners. This dataset contains **passenger data from the titanic**. In one of the following exercises we try to build a classifier which allows us to predict if someone survived or died on the titanic. But first, let us explore the data.\n",
    "\n",
    "Import the dataset **'data/titanic_new.csv'** and call the resulting dataframe **titanic**. Get familiar with the dataset by using the **info**, **describe** and **head** method."
   ]
  },
  {
   "cell_type": "code",
   "execution_count": null,
   "metadata": {
    "collapsed": true
   },
   "outputs": [],
   "source": [
    "# Load data"
   ]
  },
  {
   "cell_type": "code",
   "execution_count": null,
   "metadata": {},
   "outputs": [],
   "source": [
    "# info"
   ]
  },
  {
   "cell_type": "code",
   "execution_count": null,
   "metadata": {},
   "outputs": [],
   "source": [
    "# describe"
   ]
  },
  {
   "cell_type": "code",
   "execution_count": null,
   "metadata": {},
   "outputs": [],
   "source": [
    "# head"
   ]
  },
  {
   "cell_type": "markdown",
   "metadata": {},
   "source": [
    "## 2.1 Countplots"
   ]
  },
  {
   "cell_type": "markdown",
   "metadata": {},
   "source": [
    "Use the seaborn function **sns.countplot()** to visualize the number of survived and died passengers.\n",
    "Set **data=titanic** and **x='Survived'**."
   ]
  },
  {
   "cell_type": "code",
   "execution_count": null,
   "metadata": {},
   "outputs": [],
   "source": []
  },
  {
   "cell_type": "markdown",
   "metadata": {},
   "source": [
    "Ok, a lot of people died as we know it from history and movies. Let's see if there was a **difference in sex** regarding the number of died passengers.\n",
    "Therefore, an easy option is the **hue** argument which we can set in several seaborn plotting methods. Please use **hue='Survived'** and **x='Sex'** in the **countplot** method."
   ]
  },
  {
   "cell_type": "code",
   "execution_count": null,
   "metadata": {
    "scrolled": false
   },
   "outputs": [],
   "source": []
  },
  {
   "cell_type": "markdown",
   "metadata": {},
   "source": [
    "Next, set **x** to **'Pclass'** and keep **hue='Survived'**."
   ]
  },
  {
   "cell_type": "code",
   "execution_count": null,
   "metadata": {},
   "outputs": [],
   "source": []
  },
  {
   "cell_type": "markdown",
   "metadata": {},
   "source": [
    "This is as expected: a larger percentage of the first class passengers survived compared to the second and third class ones.\n",
    "\n",
    "**Bonus**:\n",
    "\n",
    "Create three different countplots, one for each class, and look at the different survival counts with respect to Sex."
   ]
  },
  {
   "cell_type": "markdown",
   "metadata": {},
   "source": [
    "### 2.2 Boxplots"
   ]
  },
  {
   "cell_type": "markdown",
   "metadata": {},
   "source": [
    "Next, let's have a look at some distributions, but this time we use boxplots. Use the method **sns.boxplot()** and set **y** to the **'Age'** column and **x** to the **'Survived'** column. Afterwards, **describe what you see**."
   ]
  },
  {
   "cell_type": "code",
   "execution_count": null,
   "metadata": {},
   "outputs": [],
   "source": []
  },
  {
   "cell_type": "markdown",
   "metadata": {},
   "source": [
    "Next, set **x** to **'Pclass'**."
   ]
  },
  {
   "cell_type": "code",
   "execution_count": null,
   "metadata": {},
   "outputs": [],
   "source": []
  },
  {
   "cell_type": "markdown",
   "metadata": {},
   "source": [
    "The median of the age for the first class passengers is much higher (~40) than for the second (~30) and third (~25) class. \n",
    "\n",
    "Next, set **hue** once to **'Sex'** and once to **'Survived'**."
   ]
  },
  {
   "cell_type": "code",
   "execution_count": null,
   "metadata": {},
   "outputs": [],
   "source": []
  },
  {
   "cell_type": "code",
   "execution_count": null,
   "metadata": {},
   "outputs": [],
   "source": []
  },
  {
   "cell_type": "markdown",
   "metadata": {},
   "source": [
    "Please describe the distributions.\n",
    "\n",
    "### This is the end of the exercise.\n",
    "\n",
    "**Bonus:**\n",
    "\n",
    "If you want, feel free to explore the dataset a bit more. You can try different visualization types with seaborn which are well documented here: https://seaborn.pydata.org/examples/index.html"
   ]
  },
  {
   "cell_type": "code",
   "execution_count": null,
   "metadata": {},
   "outputs": [],
   "source": []
  }
 ],
 "metadata": {
  "kernelspec": {
   "display_name": "Python 3",
   "language": "python",
   "name": "python3"
  },
  "language_info": {
   "codemirror_mode": {
    "name": "ipython",
    "version": 3
   },
   "file_extension": ".py",
   "mimetype": "text/x-python",
   "name": "python",
   "nbconvert_exporter": "python",
   "pygments_lexer": "ipython3",
   "version": "3.6.4"
  }
 },
 "nbformat": 4,
 "nbformat_minor": 2
}
