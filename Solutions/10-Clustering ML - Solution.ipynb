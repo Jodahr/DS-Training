{
 "cells": [
  {
   "cell_type": "markdown",
   "metadata": {},
   "source": [
    "# Clustering with Spark - Customer Segmentation\n",
    "In the previous exercise we have tried to get familiar to spark sql and the bills dataset. Now, we want to cluster the clients with respect to their shopping behaviour by using the KMeans algorithm of the Spark ML library.\n",
    "\n",
    "As before we need to import the needed modules and **create a SparkSession**."
   ]
  },
  {
   "cell_type": "code",
   "execution_count": 16,
   "metadata": {},
   "outputs": [],
   "source": [
    "# Import SparkSession\n",
    "from pyspark.sql import SparkSession"
   ]
  },
  {
   "cell_type": "code",
   "execution_count": 17,
   "metadata": {},
   "outputs": [],
   "source": [
    "# Create spark object\n",
    "spark = SparkSession.builder.getOrCreate()"
   ]
  },
  {
   "cell_type": "markdown",
   "metadata": {},
   "source": [
    "Read the dataframe **bills_exploded_parquet**, which we have created in the previous exercise. Call the dataframe **bills_exploded**. Afterwards, **cache** the dataframe by using the cache method and trigger the caching by applying the count method on the dataframe."
   ]
  },
  {
   "cell_type": "code",
   "execution_count": 18,
   "metadata": {},
   "outputs": [
    {
     "name": "stdout",
     "output_type": "stream",
     "text": [
      "18966517\n",
      "+---------+--------------------+-----+-----------+--------------------+-----+\n",
      "| category|                name|price| shoppingId|          customerId|total|\n",
      "+---------+--------------------+-----+-----------+--------------------+-----+\n",
      "|BACKWAREN|Ciabatta Brötchen...| 3.79|51539607552|7c1e2cc7-8e60-4fe...|58.56|\n",
      "|BACKWAREN|XXL Hamburger Brö...| 1.19|51539607552|7c1e2cc7-8e60-4fe...|58.56|\n",
      "|BACKWAREN|Tortilla Wraps We...| 1.55|51539607552|7c1e2cc7-8e60-4fe...|58.56|\n",
      "|BACKWAREN|Weizenvollkornsan...| 1.45|51539607552|7c1e2cc7-8e60-4fe...|58.56|\n",
      "|BACKWAREN|  Roggenvollkornbrot| 0.79|51539607552|7c1e2cc7-8e60-4fe...|58.56|\n",
      "+---------+--------------------+-----+-----------+--------------------+-----+\n",
      "only showing top 5 rows\n",
      "\n"
     ]
    }
   ],
   "source": [
    "# Create DataFrame bills\n",
    "bills_exploded = spark.read.parquet('bills_exploded.parquet')\n",
    "bills_exploded.cache()\n",
    "print(bills_exploded.count())\n",
    "bills_exploded.show(5)"
   ]
  },
  {
   "cell_type": "code",
   "execution_count": 19,
   "metadata": {},
   "outputs": [
    {
     "data": {
      "text/plain": [
       "True"
      ]
     },
     "execution_count": 19,
     "metadata": {},
     "output_type": "execute_result"
    }
   ],
   "source": [
    "# check if df is cached\n",
    "bills_exploded.is_cached"
   ]
  },
  {
   "cell_type": "markdown",
   "metadata": {},
   "source": [
    "## Feature Engineering"
   ]
  },
  {
   "cell_type": "markdown",
   "metadata": {},
   "source": [
    "Now, we want to count all products per customerId and category and all prices per customerId and category. Therefore, you can either use the groupBy('column1', 'column2') method followed by the method agg({'columnA': 'functionA', 'columnB': 'functionB'}) or you can register the dataframe bills_exploded as temporary by issuing the command DataFrame.registerTempTable(\"tableName\") and solve the task with spark.sql(\"SQL-Code\"). Finally, rename the columns sum(price) and count(category) to pricePerCategory and itemsPerCategory, respectively, by using the method DataFrame.withColumnRenamed(\"oldName\", \"newName\"). Please name your final dataframe bills_aggredated."
   ]
  },
  {
   "cell_type": "code",
   "execution_count": 20,
   "metadata": {},
   "outputs": [
    {
     "name": "stdout",
     "output_type": "stream",
     "text": [
      "+--------------------+--------------------+------------------+----------------+\n",
      "|          customerId|            category|  pricePerCategory|itemsPerCategory|\n",
      "+--------------------+--------------------+------------------+----------------+\n",
      "|523be234-255a-403...|            MOLKE_EI|116.34999999999998|             140|\n",
      "|713a283e-f319-4c6...|               FISCH|58.150000000000006|              23|\n",
      "|ae9e8a8f-227a-43b...|           BACKWAREN|            348.62|             224|\n",
      "|20c36b69-74a3-44e...|            MOLKE_EI|            327.61|             393|\n",
      "|0aa94d4b-2a1d-42e...|              NUDELN|             313.8|             272|\n",
      "|b5f690d8-2929-47c...|              NUDELN| 97.15000000000002|              81|\n",
      "|2003d80e-d84b-4df...|               FETTE|174.00000000000003|             105|\n",
      "|1e24da6a-df1e-449...|               FETTE|163.61999999999998|              84|\n",
      "|e7571c85-580c-4e0...|       FLEISCH_WURST|1203.1799999999998|             358|\n",
      "|e3883334-8a9b-455...|          KAFFEE_TEE|             78.47|              33|\n",
      "|258cab54-6417-4ca...|           GETRAENKE|245.78000000000006|             213|\n",
      "|61df6832-7e74-421...|               FETTE|             93.94|              41|\n",
      "|29949d34-d9ae-42e...|GEWUERZE_BACKZUTATEN|             36.36|              24|\n",
      "|c732bf9e-8220-415...|     DROGERIEARTIKEL|            147.12|              87|\n",
      "|be3ab1ce-2992-470...|               KAESE|287.78000000000003|             198|\n",
      "|3b217ca6-97f5-47a...|       FLEISCH_WURST| 542.8500000000001|             153|\n",
      "|a7992fdb-d5e4-421...|               FISCH|             67.07|              25|\n",
      "|5942c9c6-06a2-42c...|     DROGERIEARTIKEL|136.02999999999997|             105|\n",
      "|636411f2-1493-453...|     DROGERIEARTIKEL|            143.86|              94|\n",
      "|b56f1b10-7987-4d2...|        OBST_GEMUESE|            336.75|             267|\n",
      "+--------------------+--------------------+------------------+----------------+\n",
      "only showing top 20 rows\n",
      "\n"
     ]
    }
   ],
   "source": [
    "### Solution 1 ###\n",
    "\n",
    "bills_aggregated = bills_exploded.groupBy(\"customerId\", \"category\")\\\n",
    "    .agg({\"category\": \"count\", \"price\": \"sum\"})\\\n",
    "    .withColumnRenamed(\"sum(price)\", \"pricePerCategory\")\\\n",
    "    .withColumnRenamed(\"count(category)\", \"itemsPerCategory\")\n",
    "\n",
    "\n",
    "### Solution 2 ###\n",
    "\n",
    "## Registrieren der temporären Tabelle\n",
    "#billsProducts.registerTempTable(<FILL IN>)\n",
    "#billsAggregated = sqlContext.sql(<FILL IN>)\n",
    "\n",
    "# Cachen des Dataframes\n",
    "bills_aggregated.cache()\n",
    "\n",
    "# Printen der ersten 20 Einträge\n",
    "bills_aggregated.show()"
   ]
  },
  {
   "cell_type": "markdown",
   "metadata": {},
   "source": [
    "Next, we want to extract a list of all available categories in the dataframe. Please, select the category column and extract the unique elements. Afterwards, access the underlying rdd attribute of the dataframe, use a flatMap to flatten the rdd elements and apply the collect method to get a list."
   ]
  },
  {
   "cell_type": "code",
   "execution_count": 21,
   "metadata": {},
   "outputs": [
    {
     "data": {
      "text/plain": [
       "['NUDELN',\n",
       " 'BACKWAREN',\n",
       " 'GETRAENKE',\n",
       " 'KAFFEE_TEE',\n",
       " 'KAESE',\n",
       " 'FLEISCH_WURST',\n",
       " 'MOLKE_EI',\n",
       " 'BROTAUFSTRICH_CEREALIEN',\n",
       " 'GEWUERZE_BACKZUTATEN',\n",
       " 'OBST_GEMUESE',\n",
       " 'FERTIGPRODUKT',\n",
       " 'FISCH',\n",
       " 'FETTE',\n",
       " 'DROGERIEARTIKEL']"
      ]
     },
     "execution_count": 21,
     "metadata": {},
     "output_type": "execute_result"
    }
   ],
   "source": [
    "# get list of categories to speed up pivot\n",
    "categoryList = bills_aggregated.select('category').distinct().rdd.flatMap(lambda x: x).collect()\n",
    "\n",
    "categoryList"
   ]
  },
  {
   "cell_type": "markdown",
   "metadata": {},
   "source": [
    "The next step is a bit more complicated. We want to transform each category to a column. As the column values we want to use the number of purchased items per customer. Therefore, we can use the **pivot** method. A pivot is an aggregation for which different entries of a grouped column will be transposed into separate columns. This method is very useful for data analysis. If you want to know more abour pivot methods you can find further details here [Pivot-DataBricks](https://databricks.com/blog/2016/02/09/reshaping-data-with-pivot-in-apache-spark.html).\n",
    "\n",
    "**Remark**: *pivot* can only be applied after a *groupBy*. Afterwards, you have to perform an aggregation, e.g. with *agg*. In our case the sum only contains one element, since for each product category there is only one entry per customerId in the dataframe. We could have combined the pivot and the previous aggregation. Since some customers do not buy products from every category we get null values, which we fill with 0. Finally, we cache the dataframe.\n",
    "By the way, the previously created list helps us to speed up the execution of the pivot command. "
   ]
  },
  {
   "cell_type": "code",
   "execution_count": 22,
   "metadata": {},
   "outputs": [
    {
     "name": "stdout",
     "output_type": "stream",
     "text": [
      "+--------------------+---------+--------+\n",
      "|          customerId|BACKWAREN|MOLKE_EI|\n",
      "+--------------------+---------+--------+\n",
      "|1a33c8d2-3a40-455...|      107|     140|\n",
      "|8d96913c-7850-459...|      115|     151|\n",
      "|0520e94f-f1d4-475...|       97|     165|\n",
      "|3ecbc3f9-b9b3-4b2...|      401|     379|\n",
      "|c60362df-146b-424...|      160|     128|\n",
      "|4b3b63bc-c93b-4e4...|      200|     151|\n",
      "|73d7da2f-5723-4ac...|      388|     402|\n",
      "|a0d0061a-754b-40a...|      370|     362|\n",
      "|d81f3b6f-e695-465...|      175|     141|\n",
      "|91491da9-d2b3-4b9...|      231|     192|\n",
      "+--------------------+---------+--------+\n",
      "only showing top 10 rows\n",
      "\n"
     ]
    }
   ],
   "source": [
    "# Benutzen der Methode Pivot um aus Zeilen Spalten zu machen und eine Aggregation auszuführen\n",
    "bills_agg_trans = bills_aggregated.groupBy(\"customerId\")\\\n",
    "    .pivot(\"category\").sum(\"itemsPerCategory\")\\\n",
    "    .na.fill(0).cache()\n",
    "\n",
    "# Printen der ersten zehn Einträge\n",
    "bills_agg_trans.select(\"customerId\", \"BACKWAREN\", \"MOLKE_EI\").show(10)"
   ]
  },
  {
   "cell_type": "code",
   "execution_count": 23,
   "metadata": {},
   "outputs": [
    {
     "name": "stdout",
     "output_type": "stream",
     "text": [
      "+--------------------+---------+--------+\n",
      "|          customerId|BACKWAREN|MOLKE_EI|\n",
      "+--------------------+---------+--------+\n",
      "|8d96913c-7850-459...|      115|     151|\n",
      "|1a33c8d2-3a40-455...|      107|     140|\n",
      "|0520e94f-f1d4-475...|       97|     165|\n",
      "|3ecbc3f9-b9b3-4b2...|      401|     379|\n",
      "|c60362df-146b-424...|      160|     128|\n",
      "|4b3b63bc-c93b-4e4...|      200|     151|\n",
      "|73d7da2f-5723-4ac...|      388|     402|\n",
      "|a0d0061a-754b-40a...|      370|     362|\n",
      "|d81f3b6f-e695-465...|      175|     141|\n",
      "|91491da9-d2b3-4b9...|      231|     192|\n",
      "+--------------------+---------+--------+\n",
      "only showing top 10 rows\n",
      "\n"
     ]
    }
   ],
   "source": [
    "### Elegante Alternative ###\n",
    "# Lösung, welches den vorherigen Schritt zur Erstellung von billsAggregated direkt beinhaltet.\n",
    "bills_agg_trans_alt = bills_exploded.groupBy(\"customerId\")\\\n",
    "    .pivot(\"category\").agg({\"category\": \"count\"})\\\n",
    "    .na.fill(0).cache()\n",
    "    \n",
    "bills_agg_trans_alt.select(\"customerId\", \"BACKWAREN\", \"MOLKE_EI\").show(10)"
   ]
  },
  {
   "cell_type": "markdown",
   "metadata": {},
   "source": [
    "Please print the Schema of the bills_agg_trans dataframe."
   ]
  },
  {
   "cell_type": "code",
   "execution_count": 24,
   "metadata": {},
   "outputs": [
    {
     "name": "stdout",
     "output_type": "stream",
     "text": [
      "root\n",
      " |-- customerId: string (nullable = true)\n",
      " |-- BACKWAREN: long (nullable = true)\n",
      " |-- BROTAUFSTRICH_CEREALIEN: long (nullable = true)\n",
      " |-- DROGERIEARTIKEL: long (nullable = true)\n",
      " |-- FERTIGPRODUKT: long (nullable = true)\n",
      " |-- FETTE: long (nullable = true)\n",
      " |-- FISCH: long (nullable = true)\n",
      " |-- FLEISCH_WURST: long (nullable = true)\n",
      " |-- GETRAENKE: long (nullable = true)\n",
      " |-- GEWUERZE_BACKZUTATEN: long (nullable = true)\n",
      " |-- KAESE: long (nullable = true)\n",
      " |-- KAFFEE_TEE: long (nullable = true)\n",
      " |-- MOLKE_EI: long (nullable = true)\n",
      " |-- NUDELN: long (nullable = true)\n",
      " |-- OBST_GEMUESE: long (nullable = true)\n",
      "\n"
     ]
    }
   ],
   "source": [
    "bills_agg_trans.printSchema()"
   ]
  },
  {
   "cell_type": "markdown",
   "metadata": {},
   "source": [
    "Please compute the total price and total number of shoppings per customer. Therefore, you can use the bills_exploded dataframe and the methods groupBy and agg. Please rename the columns total_shoppings and total_price. Afterwards, cache the dataframe and trigger the caching via a count method. The final dataframe should be called shoppings_df.\n",
    "\n",
    "**Hint**: For the aggregation you can either use agg({...}) followed by withColumnRenamed, or you can use agg(F.sum(column).alias('newName'), F.count()....) to directly rename the column inside the aggregate method."
   ]
  },
  {
   "cell_type": "code",
   "execution_count": 25,
   "metadata": {},
   "outputs": [
    {
     "name": "stdout",
     "output_type": "stream",
     "text": [
      "+--------------------+---------------+------------------+\n",
      "|          customerId|total_shoppings|       total_price|\n",
      "+--------------------+---------------+------------------+\n",
      "|d45fd262-c235-4b7...|           3273|180638.58628300036|\n",
      "|5b81b895-f1cb-436...|           3171| 177349.2561530013|\n",
      "|0520e94f-f1d4-475...|           1478| 37450.09042400003|\n",
      "|9916f4f8-b2d9-4aa...|           1251| 21989.24975099998|\n",
      "|1f2272df-8b64-496...|           3273| 182828.3250620001|\n",
      "|add40eb1-5431-450...|           1209|     20942.4004777|\n",
      "|791ba93d-0160-49d...|           1304| 33811.91039799998|\n",
      "|3ecbc3f9-b9b3-4b2...|           3135| 170084.2796720003|\n",
      "|81fea2df-6b11-4c2...|           1574|40867.410328999955|\n",
      "|f6e7aef9-b117-441...|           1375| 35492.23068899997|\n",
      "|de629931-ae95-4b8...|           1550|38318.510732499984|\n",
      "|a58bb6d7-38bd-439...|           3298| 178074.6367160001|\n",
      "|364b91ac-7bf6-481...|           3601|195696.29798499926|\n",
      "|49cd60a5-c657-4dc...|           1405| 24639.84996550001|\n",
      "|d33f3466-da3e-4da...|           3548|200111.42875999995|\n",
      "|a8efd8a9-2d73-44d...|           1276|32663.440221500063|\n",
      "|4b3b63bc-c93b-4e4...|           1609| 42783.63050400005|\n",
      "|948436f9-f247-4e4...|           1574|26998.989919000058|\n",
      "|8d96913c-7850-459...|           1379|31974.490186000032|\n",
      "|a121489c-171c-425...|           1374|     23859.0098355|\n",
      "+--------------------+---------------+------------------+\n",
      "only showing top 20 rows\n",
      "\n"
     ]
    }
   ],
   "source": [
    "from pyspark.sql import functions as F\n",
    "\n",
    "# compute total price and total number of shoppings per customer\n",
    "shoppings_df = bills_exploded.groupBy(\"customerId\").agg(F.count(\"customerId\").alias('total_shoppings'),\n",
    "                                             F.sum('total').alias('total_price')).cache()\n",
    "shoppings_df.count()\n",
    "shoppings_df.show()"
   ]
  },
  {
   "cell_type": "markdown",
   "metadata": {},
   "source": [
    "Join the shoppings_df dataframe with the bills_agg_trans dataframe by using the join method like df1.join(df2, on='column'). Please joing the two dataframes over the column customerId."
   ]
  },
  {
   "cell_type": "code",
   "execution_count": 26,
   "metadata": {},
   "outputs": [
    {
     "name": "stdout",
     "output_type": "stream",
     "text": [
      "+--------------------+---------------+------------------+---------+-----------------------+---------------+-------------+-----+-----+-------------+---------+--------------------+-----+----------+--------+------+------------+\n",
      "|          customerId|total_shoppings|       total_price|BACKWAREN|BROTAUFSTRICH_CEREALIEN|DROGERIEARTIKEL|FERTIGPRODUKT|FETTE|FISCH|FLEISCH_WURST|GETRAENKE|GEWUERZE_BACKZUTATEN|KAESE|KAFFEE_TEE|MOLKE_EI|NUDELN|OBST_GEMUESE|\n",
      "+--------------------+---------------+------------------+---------+-----------------------+---------------+-------------+-----+-----+-------------+---------+--------------------+-----+----------+--------+------+------------+\n",
      "|d45fd262-c235-4b7...|           3273|180638.58628300036|      402|                    204|            101|          220|   38|  113|          410|      402|                  30|  209|       145|     395|   308|         296|\n",
      "|5b81b895-f1cb-436...|           3171| 177349.2561530013|      381|                    200|             97|          246|   46|   97|          395|      401|                  27|  204|       105|     375|   302|         295|\n",
      "|0520e94f-f1d4-475...|           1478| 37450.09042400003|       97|                     34|            110|          218|   34|   34|          156|      201|                  34|  124|        84|     165|    96|          91|\n",
      "|9916f4f8-b2d9-4aa...|           1251| 21989.24975099998|       95|                     34|            107|            0|   29|    0|            0|      202|                  84|    0|        21|       0|   205|         474|\n",
      "|1f2272df-8b64-496...|           3273| 182828.3250620001|      402|                    206|             99|          259|   26|  104|          410|      375|                  33|  220|       138|     388|   309|         304|\n",
      "+--------------------+---------------+------------------+---------+-----------------------+---------------+-------------+-----+-----+-------------+---------+--------------------+-----+----------+--------+------+------------+\n",
      "only showing top 5 rows\n",
      "\n"
     ]
    }
   ],
   "source": [
    "df = shoppings_df.join(bills_agg_trans, on='customerId').cache()\n",
    "df.count()\n",
    "df.show(5)"
   ]
  },
  {
   "cell_type": "code",
   "execution_count": 27,
   "metadata": {},
   "outputs": [
    {
     "name": "stdout",
     "output_type": "stream",
     "text": [
      "root\n",
      " |-- customerId: string (nullable = true)\n",
      " |-- total_shoppings: long (nullable = false)\n",
      " |-- total_price: double (nullable = true)\n",
      " |-- BACKWAREN: long (nullable = true)\n",
      " |-- BROTAUFSTRICH_CEREALIEN: long (nullable = true)\n",
      " |-- DROGERIEARTIKEL: long (nullable = true)\n",
      " |-- FERTIGPRODUKT: long (nullable = true)\n",
      " |-- FETTE: long (nullable = true)\n",
      " |-- FISCH: long (nullable = true)\n",
      " |-- FLEISCH_WURST: long (nullable = true)\n",
      " |-- GETRAENKE: long (nullable = true)\n",
      " |-- GEWUERZE_BACKZUTATEN: long (nullable = true)\n",
      " |-- KAESE: long (nullable = true)\n",
      " |-- KAFFEE_TEE: long (nullable = true)\n",
      " |-- MOLKE_EI: long (nullable = true)\n",
      " |-- NUDELN: long (nullable = true)\n",
      " |-- OBST_GEMUESE: long (nullable = true)\n",
      "\n"
     ]
    }
   ],
   "source": [
    "df.printSchema()"
   ]
  },
  {
   "cell_type": "markdown",
   "metadata": {},
   "source": [
    "### Feature Extraction and Preparation"
   ]
  },
  {
   "cell_type": "markdown",
   "metadata": {},
   "source": [
    "Now we have modified our dataset so that we can start with feature extraction and preparation. For the clustering algorithm we want to use all product categories and the total price as features.\n",
    "\n",
    "Before we proceeed we import the following modules."
   ]
  },
  {
   "cell_type": "code",
   "execution_count": 28,
   "metadata": {},
   "outputs": [],
   "source": [
    "# Spark ML\n",
    "from pyspark.ml.feature import VectorAssembler, Normalizer, MinMaxScaler\n",
    "from pyspark.ml.clustering import KMeans\n",
    "from pyspark.ml import Pipeline\n",
    "from pyspark.ml.feature import SQLTransformer\n",
    "\n",
    "# Spark MLlib\n",
    "from pyspark.mllib.linalg import Vectors, VectorUDT\n",
    "\n",
    "# Matplotlib, Pandas and Numpy\n",
    "import matplotlib.pyplot as plt\n",
    "plt.style.use('ggplot')\n",
    "plt.style.use('seaborn-pastel')\n",
    "import numpy as np\n",
    "import pandas as pd"
   ]
  },
  {
   "cell_type": "markdown",
   "metadata": {},
   "source": [
    "### Vector Assembler\n",
    "\n",
    "To combine product category columns to a feature vector we can use the VectorAssembler Class. Please create an object of that class called categoryAssembler. Please set the constructor agument inputCols to the list of all categories, i.e. categoryList, and the outputCol to \"productCategoryFeatures\"."
   ]
  },
  {
   "cell_type": "code",
   "execution_count": 29,
   "metadata": {},
   "outputs": [],
   "source": [
    "# combine product category columns\n",
    "categoryAssembler = VectorAssembler(inputCols=categoryList,\n",
    "                                  outputCol=\"productCategoryFeatures\")"
   ]
  },
  {
   "cell_type": "markdown",
   "metadata": {},
   "source": [
    "If you want, you can try out the transform method of the vectorAssembler object. As the input of the method please use the dataframe df. Later on we will combine all feature extraction and preparation steps to a so called machine learning pipeline."
   ]
  },
  {
   "cell_type": "code",
   "execution_count": 30,
   "metadata": {},
   "outputs": [
    {
     "name": "stdout",
     "output_type": "stream",
     "text": [
      "+-----------------------+\n",
      "|productCategoryFeatures|\n",
      "+-----------------------+\n",
      "|   [308.0,402.0,402....|\n",
      "|   [302.0,381.0,401....|\n",
      "|   [96.0,97.0,201.0,...|\n",
      "|   [205.0,95.0,202.0...|\n",
      "|   [309.0,402.0,375....|\n",
      "|   [191.0,95.0,179.0...|\n",
      "|   [92.0,89.0,172.0,...|\n",
      "|   [295.0,401.0,378....|\n",
      "|   [100.0,200.0,200....|\n",
      "|   [103.0,102.0,193....|\n",
      "|   [101.0,134.0,222....|\n",
      "|   [294.0,411.0,411....|\n",
      "|   [323.0,435.0,443....|\n",
      "|   [214.0,112.0,221....|\n",
      "|   [331.0,423.0,434....|\n",
      "|   [92.0,96.0,183.0,...|\n",
      "|   [102.0,200.0,204....|\n",
      "|   [231.0,125.0,264....|\n",
      "|   [97.0,115.0,210.0...|\n",
      "|   [217.0,111.0,214....|\n",
      "+-----------------------+\n",
      "only showing top 20 rows\n",
      "\n"
     ]
    }
   ],
   "source": [
    "categoryAssembler.transform(df).select('productCategoryFeatures').show()"
   ]
  },
  {
   "cell_type": "code",
   "execution_count": 31,
   "metadata": {},
   "outputs": [],
   "source": [
    "### "
   ]
  },
  {
   "cell_type": "markdown",
   "metadata": {},
   "source": [
    "### Normalizing the Feature Vector\n",
    "The generated feature vector contains the total amount of products per category which the customer has bought during all his shoppings. Since KMeans uses distances we would cluster clients which shop more often than others together. However, this is not what we want. We want to normalize the feature vector so that we get the proportion of items per category that a client has bought during all his shoppings. This can be achieved by using a normalizer which applies the L1 norm to our vector.\n",
    "\n",
    "Example:\n",
    "\n",
    "Imagine a client has bought 10 Milchprodukte, 5 Fleischprodukte and 15 Obstprodukte. The normalizer would give use the following vector:\n",
    "\n",
    "$\\vec{v} = [10,5,15] \\rightarrow |\\vec{v}|_{L_1} = 10 + 5 + 15 = 30 $  \n",
    "\n",
    "$\\vec{v}_{norm} = \\vec{v}/30 = [0.33,0.167,0.5]$\n",
    "\n",
    "To use the normalizer please create an object of the class Normalier and set the arguments inputCol to productCategoryFeatures, outputCol to normCategoryFeatures and p to 1.0. Call the object normalizer."
   ]
  },
  {
   "cell_type": "code",
   "execution_count": 32,
   "metadata": {},
   "outputs": [],
   "source": [
    "# normalizer using L_1 Norm (normalize by sum)\n",
    "normalizer = Normalizer(inputCol=\"productCategoryFeatures\", outputCol=\"normCategoryFeatures\",\n",
    "                        p=1.0)"
   ]
  },
  {
   "cell_type": "markdown",
   "metadata": {},
   "source": [
    "### Custom SQL Transformer and MinMax Scaler"
   ]
  },
  {
   "cell_type": "markdown",
   "metadata": {},
   "source": [
    "Next, we want to construct another features: the average price per shopping of a client. Therefore, we use the SQLTransformer class. Please just execute the statement in the following cell."
   ]
  },
  {
   "cell_type": "code",
   "execution_count": 33,
   "metadata": {},
   "outputs": [],
   "source": [
    "# custom sql transformer\n",
    "sqlTrans = SQLTransformer(\n",
    "    statement=\"SELECT *, total_price / total_shoppings as norm_price FROM __THIS__\")"
   ]
  },
  {
   "cell_type": "markdown",
   "metadata": {},
   "source": [
    "To create another feature vector we construct again a VectorAssembler object."
   ]
  },
  {
   "cell_type": "code",
   "execution_count": 34,
   "metadata": {},
   "outputs": [],
   "source": [
    "# transform price feature to vector\n",
    "priceAssembler = VectorAssembler(inputCols=['norm_price'],\n",
    "                                  outputCol=\"normPriceFeature\")"
   ]
  },
  {
   "cell_type": "markdown",
   "metadata": {},
   "source": [
    "Since this feature is on a different scale than the previously created features we have to scale/standardize it. Please create an object called scaler of the MinMaxScaler object. As the parameters use inputCol=\"normPriceFeature\" and outputcol=\"scaledPrice\". \n",
    "\n",
    "This scaler does the following:\n",
    "\n",
    "Assume the column has the following values: [5,10,3,4]. Then the max is 10 and the min is 3. All elements will be transformed by using the formula:\n",
    "\n",
    "$$ z_i = \\frac{x_i - min}{max - min}$$\n",
    "\n",
    "and hence the range of the feature is between 0 and 1.\n",
    "\n",
    "**Remark**: Scaling along a column is called Standarizing and along a row or a feature vector is called normalizing. Often people do not strictly use this differentiation."
   ]
  },
  {
   "cell_type": "code",
   "execution_count": 35,
   "metadata": {},
   "outputs": [],
   "source": [
    "# minMax scaler to scale column to get similar distances (range[0,1])\n",
    "scaler = MinMaxScaler(inputCol=\"normPriceFeature\", outputCol=\"scaledPrice\")"
   ]
  },
  {
   "cell_type": "markdown",
   "metadata": {},
   "source": [
    "Finally, we combine all features with another vector assembler."
   ]
  },
  {
   "cell_type": "code",
   "execution_count": 36,
   "metadata": {},
   "outputs": [],
   "source": [
    "# combine all feature columns\n",
    "assembler = VectorAssembler(inputCols=['normCategoryFeatures', 'scaledPrice'],\n",
    "                                  outputCol=\"features\")"
   ]
  },
  {
   "cell_type": "markdown",
   "metadata": {},
   "source": [
    "### KMeans Model\n",
    "As the nect step we need to instanciate the KMeans model. Hence, create an object of the KMeans class called kmeans. As the k (the number of clusters) use the number 4, as the featuresCol use \"features\" and as the predictionCol use \"cluster\"."
   ]
  },
  {
   "cell_type": "code",
   "execution_count": 37,
   "metadata": {},
   "outputs": [],
   "source": [
    "# clustering model\n",
    "kmeans = KMeans(k=4, featuresCol=\"features\", predictionCol=\"cluster\")"
   ]
  },
  {
   "cell_type": "markdown",
   "metadata": {},
   "source": [
    "### Pipeline"
   ]
  },
  {
   "cell_type": "code",
   "execution_count": 38,
   "metadata": {},
   "outputs": [],
   "source": [
    "# build pipeline\n",
    "pipeline = Pipeline(stages=[categoryAssembler, sqlTrans, priceAssembler,\n",
    "                            normalizer, scaler, assembler, kmeans])"
   ]
  },
  {
   "cell_type": "code",
   "execution_count": 39,
   "metadata": {},
   "outputs": [],
   "source": [
    "# fit model\n",
    "model = pipeline.fit(df)"
   ]
  },
  {
   "cell_type": "code",
   "execution_count": 40,
   "metadata": {},
   "outputs": [
    {
     "name": "stdout",
     "output_type": "stream",
     "text": [
      "+--------------------+--------------------+-------+\n",
      "|          customerId|            features|cluster|\n",
      "+--------------------+--------------------+-------+\n",
      "|d45fd262-c235-4b7...|[0.09410326917201...|      1|\n",
      "|5b81b895-f1cb-436...|[0.09523809523809...|      1|\n",
      "|0520e94f-f1d4-475...|[0.06495263870094...|      2|\n",
      "|9916f4f8-b2d9-4aa...|[0.16386890487609...|      0|\n",
      "|1f2272df-8b64-496...|[0.09440879926672...|      1|\n",
      "|add40eb1-5431-450...|[0.15798180314309...|      0|\n",
      "|791ba93d-0160-49d...|[0.07055214723926...|      2|\n",
      "|3ecbc3f9-b9b3-4b2...|[0.09409888357256...|      1|\n",
      "|81fea2df-6b11-4c2...|[0.06353240152477...|      3|\n",
      "|f6e7aef9-b117-441...|[0.07490909090909...|      2|\n",
      "|de629931-ae95-4b8...|[0.06516129032258...|      2|\n",
      "|a58bb6d7-38bd-439...|[0.08914493632504...|      1|\n",
      "|364b91ac-7bf6-481...|[0.08969730630380...|      1|\n",
      "|49cd60a5-c657-4dc...|[0.15231316725978...|      0|\n",
      "|d33f3466-da3e-4da...|[0.09329199549041...|      1|\n",
      "|a8efd8a9-2d73-44d...|[0.07210031347962...|      2|\n",
      "|4b3b63bc-c93b-4e4...|[0.06339341205717...|      3|\n",
      "|948436f9-f247-4e4...|[0.14675984752223...|      0|\n",
      "|8d96913c-7850-459...|[0.07034082668600...|      2|\n",
      "|a121489c-171c-425...|[0.15793304221251...|      0|\n",
      "+--------------------+--------------------+-------+\n",
      "only showing top 20 rows\n",
      "\n"
     ]
    }
   ],
   "source": [
    "# make predictions\n",
    "predictions = model.transform(df)\n",
    "predictions.cache().count()\n",
    "predictions.select('customerId', 'features', 'cluster').show()"
   ]
  },
  {
   "cell_type": "markdown",
   "metadata": {},
   "source": [
    "### Explore the Clusters"
   ]
  },
  {
   "cell_type": "code",
   "execution_count": 41,
   "metadata": {},
   "outputs": [],
   "source": [
    "# get cluster centers\n",
    "# extract kmeans model\n",
    "kmeansModel = model.stages[-1]\n",
    "\n",
    "# Extrahiere Array mit den Zentrums-Feature-Vektoren als Elemente\n",
    "centers = kmeansModel.clusterCenters()"
   ]
  },
  {
   "cell_type": "code",
   "execution_count": 42,
   "metadata": {},
   "outputs": [
    {
     "data": {
      "image/png": "[encoded data removed]",
      "text/plain": [
       "<matplotlib.figure.Figure at 0x7f28065ae0f0>"
      ]
     },
     "metadata": {},
     "output_type": "display_data"
    }
   ],
   "source": [
    "# TICKS ARE WRONG\n",
    "# barplot with cluster centers\n",
    "%matplotlib inline\n",
    "plt.rcParams[\"figure.figsize\"] = (25, 8)\n",
    "centers\n",
    "ind = np.arange(14)  # the x locations for the groups\n",
    "width = 0.2   \n",
    "fig, ax = plt.subplots()\n",
    "rects1 = ax.bar(ind, (centers[0][0:14]), width, color='r')\n",
    "rects2 = ax.bar(ind + width, (centers[1][0:14]), width, color='y')\n",
    "rects3 = ax.bar(ind + 2*width, (centers[2][0:14]), width, color='b')\n",
    "rects4 = ax.bar(ind + 3*width, (centers[3][0:14]), width, color='g')\n",
    "\n",
    "ax.set_ylabel('Anteil')\n",
    "ax.set_title('Warenanteil pro Cluster')\n",
    "ax.set_xticks(ind + width)\n",
    "#ax.set_xticklabels((\"Obst_Gemuese\",\"Fisch\",\"Kaffee & Tee\",\"Fleisch & Wurst\",\"Drogerie\",\"Gewuerze\",\"Molke & Ei\", \\\n",
    "#                 \"Brotaufstrich\",\"Backwaren\",\"Nudeln\",\"Getraenke\",\"Kaese\",\"Fette\",\"Fertigprodukte\"))\n",
    "\n",
    "#ax.set_xticklabels(categoryList, rotation=\"vertical\")\n",
    "ax.set_xticklabels(categoryList, rotation=45)\n",
    "#ax.set_xticks()\n",
    "\n",
    "ax.legend((rects1[0], rects2[0], rects3[0], rects4[0]), ('Cluster 0', 'Cluster 1','Cluster 2','Cluster 3'))\n",
    "\n",
    "\n",
    "plt.show()"
   ]
  },
  {
   "cell_type": "markdown",
   "metadata": {},
   "source": [
    "# "
   ]
  },
  {
   "cell_type": "code",
   "execution_count": 43,
   "metadata": {},
   "outputs": [
    {
     "name": "stdout",
     "output_type": "stream",
     "text": [
      "+-------+-------------------+-------------------+\n",
      "|cluster|number_of_customers|revenue_per_cluster|\n",
      "+-------+-------------------+-------------------+\n",
      "|      1|               2574| 0.6514279272101497|\n",
      "|      3|               2450|0.14623036676689274|\n",
      "|      2|               2476|0.12302183326485797|\n",
      "|      0|               2500|0.07931987275809968|\n",
      "+-------+-------------------+-------------------+\n",
      "\n"
     ]
    }
   ],
   "source": [
    "# total revenue\n",
    "total_revenue = predictions.agg(F.sum('total_price')).rdd.flatMap(lambda x: x).collect()[0]\n",
    "\n",
    "# revenue per cluster\n",
    "predictions.groupBy('cluster').agg(F.count('*').alias('number_of_customers'),\n",
    "                                   (F.sum('total_price')/total_revenue).alias('revenue_per_cluster')).show()"
   ]
  },
  {
   "cell_type": "markdown",
   "metadata": {},
   "source": [
    "### Adding user Information"
   ]
  },
  {
   "cell_type": "code",
   "execution_count": 44,
   "metadata": {},
   "outputs": [],
   "source": [
    "user_df = spark.read.json('kassenbons/user.json')"
   ]
  },
  {
   "cell_type": "code",
   "execution_count": 45,
   "metadata": {},
   "outputs": [],
   "source": [
    "df = predictions.join(user_df.withColumnRenamed('Id', 'customerId'), on='customerId')"
   ]
  },
  {
   "cell_type": "code",
   "execution_count": 46,
   "metadata": {},
   "outputs": [],
   "source": [
    "df_pandas = df.select('customerId', 'age','cluster').toPandas()"
   ]
  },
  {
   "cell_type": "code",
   "execution_count": 47,
   "metadata": {},
   "outputs": [
    {
     "name": "stdout",
     "output_type": "stream",
     "text": [
      "<class 'pandas.core.frame.DataFrame'>\n",
      "RangeIndex: 10000 entries, 0 to 9999\n",
      "Data columns (total 3 columns):\n",
      "customerId    10000 non-null object\n",
      "age           10000 non-null int64\n",
      "cluster       10000 non-null int32\n",
      "dtypes: int32(1), int64(1), object(1)\n",
      "memory usage: 195.4+ KB\n"
     ]
    }
   ],
   "source": [
    "df_pandas.info()"
   ]
  },
  {
   "cell_type": "code",
   "execution_count": 48,
   "metadata": {},
   "outputs": [],
   "source": [
    "import seaborn as sns"
   ]
  },
  {
   "cell_type": "code",
   "execution_count": 49,
   "metadata": {},
   "outputs": [
    {
     "data": {
      "text/plain": [
       "<matplotlib.axes._subplots.AxesSubplot at 0x7f27fbd3eda0>"
      ]
     },
     "execution_count": 49,
     "metadata": {},
     "output_type": "execute_result"
    },
    {
     "data": {
      "image/png": "[encoded data removed]",
      "text/plain": [
       "<matplotlib.figure.Figure at 0x7f27fc1fa2e8>"
      ]
     },
     "metadata": {},
     "output_type": "display_data"
    }
   ],
   "source": [
    "sns.boxplot(data=df_pandas, x='cluster', y='age')"
   ]
  },
  {
   "cell_type": "markdown",
   "metadata": {},
   "source": [
    "### Silhouette Score and Cluster Evaluation (only spark 2.3)"
   ]
  },
  {
   "cell_type": "code",
   "execution_count": 50,
   "metadata": {},
   "outputs": [],
   "source": [
    "from pyspark.ml.evaluation import ClusteringEvaluator"
   ]
  },
  {
   "cell_type": "code",
   "execution_count": 51,
   "metadata": {},
   "outputs": [
    {
     "name": "stdout",
     "output_type": "stream",
     "text": [
      "Silhouette with squared euclidean distance = 0.9870167403518258\n"
     ]
    }
   ],
   "source": [
    "# Evaluate clustering by computing Silhouette score\n",
    "evaluator = ClusteringEvaluator(predictionCol='cluster')\n",
    "\n",
    "silhouette = evaluator.evaluate(df)\n",
    "print(\"Silhouette with squared euclidean distance = \" + str(silhouette))"
   ]
  },
  {
   "cell_type": "code",
   "execution_count": null,
   "metadata": {},
   "outputs": [],
   "source": [
    "for element in range(2,6):\n",
    "    # clustering model\n",
    "    kmeans = KMeans(k=element, featuresCol=\"features\", predictionCol=\"cluster\")\n",
    "    # build pipeline\n",
    "    pipeline = Pipeline(stages=[categoryAssembler, sqlTrans, priceAssembler,\n",
    "                            normalizer, scaler, assembler, kmeans])\n",
    "    # fit model\n",
    "    model = pipeline.fit(df)\n",
    "    # make predictions\n",
    "    predictions = model.transform(df)\n",
    "    \n",
    "    evaluator = ClusteringEvaluator(predictionCol='cluster')\n",
    "\n",
    "    silhouette = evaluator.evaluate(predictions)\n",
    "    print(\"Silhouette with squared euclidean distance = \" + str(silhouette))"
   ]
  },
  {
   "cell_type": "code",
   "execution_count": null,
   "metadata": {},
   "outputs": [],
   "source": []
  }
 ],
 "metadata": {
  "kernelspec": {
   "display_name": "PySpark 2.3",
   "language": "python",
   "name": "pyspark"
  },
  "language_info": {
   "codemirror_mode": {
    "name": "ipython",
    "version": 3
   },
   "file_extension": ".py",
   "mimetype": "text/x-python",
   "name": "python",
   "nbconvert_exporter": "python",
   "pygments_lexer": "ipython3",
   "version": "3.6.4"
  }
 },
 "nbformat": 4,
 "nbformat_minor": 2
}
