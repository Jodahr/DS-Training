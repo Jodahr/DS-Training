{
 "cells": [
  {
   "cell_type": "markdown",
   "metadata": {},
   "source": [
    "# Clustering with Spark - Data Exploration\n",
    "In this exercise we deal with Apache Spark SQL which is the data wrangling tool of Spark and a bit similar to Pandas. As datasets we will use bills from a fictional supermarket.\n",
    "\n",
    "To use Spark we need to **create a SparkSession**, which is the entry point to Spark SQL. Hence, **import** the class **SparkSession** from the module **pyspark.sql**. Afterwards, we create an object of that class called **spark** by using the builder of the SparkSession."
   ]
  },
  {
   "cell_type": "code",
   "execution_count": 1,
   "metadata": {},
   "outputs": [],
   "source": [
    "# Import SparkSession\n",
    "from pyspark.sql import SparkSession"
   ]
  },
  {
   "cell_type": "code",
   "execution_count": 2,
   "metadata": {},
   "outputs": [],
   "source": [
    "# Create spark object\n",
    "spark = SparkSession.builder.getOrCreate()"
   ]
  },
  {
   "cell_type": "markdown",
   "metadata": {},
   "source": [
    "We can create a DataFrame by using the **DataFrameReader read** of the **spark** object. Check out the DataFrameReader to see what kind of data we can load.  \n",
    "\n",
    "**Hint**: You can inspect all attributes and methods of an object by using the built-in **dir(moduleName/Object)** function.\n",
    "\n",
    "Our dataset has been saved in a semistructured json format. You can load the data by using the method **spark.read.json(pathToFile)**. Please load the data **bills-1000000.json** from the bills folder and call the dataframe bills."
   ]
  },
  {
   "cell_type": "code",
   "execution_count": 3,
   "metadata": {},
   "outputs": [
    {
     "data": {
      "text/plain": [
       "['csv',\n",
       " 'format',\n",
       " 'jdbc',\n",
       " 'json',\n",
       " 'load',\n",
       " 'option',\n",
       " 'options',\n",
       " 'orc',\n",
       " 'parquet',\n",
       " 'schema',\n",
       " 'table',\n",
       " 'text']"
      ]
     },
     "execution_count": 3,
     "metadata": {},
     "output_type": "execute_result"
    }
   ],
   "source": [
    "# check the dataframe reader\n",
    "[att for att in dir(spark.read) if '_' not in att]"
   ]
  },
  {
   "cell_type": "code",
   "execution_count": 4,
   "metadata": {},
   "outputs": [],
   "source": [
    "# Create DataFrame bills\n",
    "bills = spark.read.json('kassenbons/bills-1000000.json')"
   ]
  },
  {
   "cell_type": "markdown",
   "metadata": {},
   "source": [
    "In Pandas we have encountered the dataframe methods head, info and describe. The eqivalents of spark sql are **show**, **printSchema** and **describe**. Please, use the methods on the dataframe. Afterwards, answer the following questions:\n",
    "\n",
    "1. How many columns does the dataframe hold?\n",
    "2. What are the datatypes of the columns?"
   ]
  },
  {
   "cell_type": "code",
   "execution_count": 5,
   "metadata": {},
   "outputs": [
    {
     "name": "stdout",
     "output_type": "stream",
     "text": [
      "+---------------+--------------------+--------------------+---------+\n",
      "|_corrupt_record|          customerId|            products|    total|\n",
      "+---------------+--------------------+--------------------+---------+\n",
      "|              [|                null|                null|     null|\n",
      "|           null|372ae9ac-8665-467...|[[BACKWAREN, Knäc...|    35.09|\n",
      "|           null|7bb78701-3ea4-475...|[[BACKWAREN, Butt...|17.979998|\n",
      "|           null|6f724fdf-e143-46c...|[[BACKWAREN, Weiz...|71.450005|\n",
      "|           null|4cc4642e-c7f5-4d8...|[[FISCH, Edle Mat...|    19.59|\n",
      "+---------------+--------------------+--------------------+---------+\n",
      "only showing top 5 rows\n",
      "\n"
     ]
    }
   ],
   "source": [
    "bills.show(5)"
   ]
  },
  {
   "cell_type": "code",
   "execution_count": 6,
   "metadata": {},
   "outputs": [
    {
     "name": "stdout",
     "output_type": "stream",
     "text": [
      "root\n",
      " |-- _corrupt_record: string (nullable = true)\n",
      " |-- customerId: string (nullable = true)\n",
      " |-- products: array (nullable = true)\n",
      " |    |-- element: struct (containsNull = true)\n",
      " |    |    |-- category: string (nullable = true)\n",
      " |    |    |-- name: string (nullable = true)\n",
      " |    |    |-- price: double (nullable = true)\n",
      " |    |    |-- unit: string (nullable = true)\n",
      " |-- total: double (nullable = true)\n",
      "\n"
     ]
    }
   ],
   "source": [
    "bills.printSchema()"
   ]
  },
  {
   "cell_type": "code",
   "execution_count": 7,
   "metadata": {},
   "outputs": [
    {
     "name": "stdout",
     "output_type": "stream",
     "text": [
      "+-------+---------------+--------------------+------------------+\n",
      "|summary|_corrupt_record|          customerId|             total|\n",
      "+-------+---------------+--------------------+------------------+\n",
      "|  count|              2|             1000000|           1000000|\n",
      "|   mean|           null|                null|30.620862290786302|\n",
      "| stddev|           null|                null|16.272093244287515|\n",
      "|    min|              [|00011a5f-1378-4f6...|              2.87|\n",
      "|    max|              ]|fffe64fa-b064-429...|         121.41999|\n",
      "+-------+---------------+--------------------+------------------+\n",
      "\n"
     ]
    }
   ],
   "source": [
    "bills.describe().show()"
   ]
  },
  {
   "cell_type": "markdown",
   "metadata": {},
   "source": [
    "In contrast to Pandas, **Spark DataFrames are immutable objects**. You can perform transformations on a dataframe which will result into new dataframe and do not modify the original one. E.g. adding a new column yields a new dataframe.\n",
    "\n",
    "You can select different columns by using the method select on a dataframe. Please, **select** the columns **customerId**, **products** and **total** of the bills DataFrame and call the resulting dataframe again **bills**. As the argument of the method you can either use a list our just comma separated column names. To check if the selection worked use the method **show**.\n",
    "\n",
    "**Remark**: Every method which results into a new dataframe is called a transformation. Transformations in Spark are *lazy* and therefore are not really evaluated after the execution of a such a statement. All the transformations are only added to the directed acyclic execution graph. The computation is triggered when you apply an action, like show or count. Do you remember why this behaviour is useful? And what are the drawbacks?   "
   ]
  },
  {
   "cell_type": "code",
   "execution_count": 8,
   "metadata": {},
   "outputs": [
    {
     "name": "stdout",
     "output_type": "stream",
     "text": [
      "+--------------------+--------------------+---------+\n",
      "|          customerId|            products|    total|\n",
      "+--------------------+--------------------+---------+\n",
      "|                null|                null|     null|\n",
      "|372ae9ac-8665-467...|[[BACKWAREN, Knäc...|    35.09|\n",
      "|7bb78701-3ea4-475...|[[BACKWAREN, Butt...|17.979998|\n",
      "|6f724fdf-e143-46c...|[[BACKWAREN, Weiz...|71.450005|\n",
      "|4cc4642e-c7f5-4d8...|[[FISCH, Edle Mat...|    19.59|\n",
      "|89e04680-d9de-452...|[[BACKWAREN, Scho...|     23.9|\n",
      "|b8fc395d-ebf1-47b...|[[BACKWAREN, Keba...|    16.33|\n",
      "|6db24614-cc12-4c2...|[[BACKWAREN, Knäc...|    42.65|\n",
      "|c886ab20-4e05-4f1...|[[BACKWAREN, Ciab...|    37.07|\n",
      "|1b1b45ce-e897-47e...|[[BACKWAREN, Kräu...|22.640001|\n",
      "|c9123475-726f-4fd...|[[BACKWAREN, Tort...|    26.34|\n",
      "|0adadaa5-dd3e-40c...|[[BACKWAREN, Hot-...|22.300003|\n",
      "|589d54d9-07aa-4df...|[[BACKWAREN, Welt...|    16.05|\n",
      "|6b8a5e09-1218-48a...|[[BACKWAREN, Apfe...|    48.31|\n",
      "|ee665abd-009b-471...|[[BACKWAREN, Knäc...|    14.99|\n",
      "|c792e341-f40f-40a...|[[BACKWAREN, XXL ...|20.980001|\n",
      "|dde8eebb-a488-40c...|[[BACKWAREN, Mehr...|    14.67|\n",
      "|a529408b-a010-43c...|[[BACKWAREN, Fris...|31.739998|\n",
      "|bf14d50f-42c5-4fb...|[[BACKWAREN, Peti...|     19.5|\n",
      "|0cacbd01-81b8-445...|[[BACKWAREN, Butt...|    24.73|\n",
      "+--------------------+--------------------+---------+\n",
      "only showing top 20 rows\n",
      "\n"
     ]
    }
   ],
   "source": [
    "# select customerId, products and total\n",
    "bills = bills.select(['customerId', 'products', 'total'])\n",
    "bills.show()"
   ]
  },
  {
   "cell_type": "markdown",
   "metadata": {},
   "source": [
    "Maybe  you have noticed that the first row contains only null values. Hence, we can drop that column by using the method **dropna()** on the dataframe. Call the resulting dataframe again **bills**. Always check the resulting dataframe by using the **show** method.\n",
    "\n",
    "**Remark**: Similar to Pandas we could have used **chaining**, i.e. using several methods in one single statement."
   ]
  },
  {
   "cell_type": "code",
   "execution_count": 9,
   "metadata": {},
   "outputs": [
    {
     "name": "stdout",
     "output_type": "stream",
     "text": [
      "+--------------------+--------------------+---------+\n",
      "|          customerId|            products|    total|\n",
      "+--------------------+--------------------+---------+\n",
      "|372ae9ac-8665-467...|[[BACKWAREN, Knäc...|    35.09|\n",
      "|7bb78701-3ea4-475...|[[BACKWAREN, Butt...|17.979998|\n",
      "|6f724fdf-e143-46c...|[[BACKWAREN, Weiz...|71.450005|\n",
      "|4cc4642e-c7f5-4d8...|[[FISCH, Edle Mat...|    19.59|\n",
      "|89e04680-d9de-452...|[[BACKWAREN, Scho...|     23.9|\n",
      "|b8fc395d-ebf1-47b...|[[BACKWAREN, Keba...|    16.33|\n",
      "|6db24614-cc12-4c2...|[[BACKWAREN, Knäc...|    42.65|\n",
      "|c886ab20-4e05-4f1...|[[BACKWAREN, Ciab...|    37.07|\n",
      "|1b1b45ce-e897-47e...|[[BACKWAREN, Kräu...|22.640001|\n",
      "|c9123475-726f-4fd...|[[BACKWAREN, Tort...|    26.34|\n",
      "|0adadaa5-dd3e-40c...|[[BACKWAREN, Hot-...|22.300003|\n",
      "|589d54d9-07aa-4df...|[[BACKWAREN, Welt...|    16.05|\n",
      "|6b8a5e09-1218-48a...|[[BACKWAREN, Apfe...|    48.31|\n",
      "|ee665abd-009b-471...|[[BACKWAREN, Knäc...|    14.99|\n",
      "|c792e341-f40f-40a...|[[BACKWAREN, XXL ...|20.980001|\n",
      "|dde8eebb-a488-40c...|[[BACKWAREN, Mehr...|    14.67|\n",
      "|a529408b-a010-43c...|[[BACKWAREN, Fris...|31.739998|\n",
      "|bf14d50f-42c5-4fb...|[[BACKWAREN, Peti...|     19.5|\n",
      "|0cacbd01-81b8-445...|[[BACKWAREN, Butt...|    24.73|\n",
      "|708fb339-334e-498...|[[BACKWAREN, Pump...|18.999998|\n",
      "+--------------------+--------------------+---------+\n",
      "only showing top 20 rows\n",
      "\n"
     ]
    }
   ],
   "source": [
    "# Drop null values\n",
    "bills = bills.dropna()\n",
    "bills.show()"
   ]
  },
  {
   "cell_type": "markdown",
   "metadata": {},
   "source": [
    "Maybe you have noticed that the products column contains a nested array. To see the whole array you can select the **products** column by using the **select** method. Afterwards, apply the **show** method and set the arguments **n to 5** and **truncate to False**. One nested array contains all the groceries that one client has bought during a single shopping."
   ]
  },
  {
   "cell_type": "code",
   "execution_count": 10,
   "metadata": {},
   "outputs": [
    {
     "name": "stdout",
     "output_type": "stream",
     "text": [
      "+------------------------------------------------------------------------------------------------------------------------------------------------------------------------------------------------------------------------------------------------------------------------------------------------------------------------------------------------------------------------------------------------------------------------------------------------------------------------------------------------------------------------------------------------------------------------------------------------------------------------------------------------------------------------------------------------------------------------------------------------------------------------------------------------------------------------------------------------------------------------------------------------------------------------------------------------------------------------------------------------------------------------------------------------------------------------------------------------------------------------------------------------------------------------------------------------------------------------------------------------------------------------------------------------------------------------------------------------------------------------------------------------------------------------------------------------------------------------------------------------------------------------------------------------------------------------------------------------------------------------------------------------------------------------------------------+\n",
      "|products                                                                                                                                                                                                                                                                                                                                                                                                                                                                                                                                                                                                                                                                                                                                                                                                                                                                                                                                                                                                                                                                                                                                                                                                                                                                                                                                                                                                                                                                                                                                                                                                                                                                                  |\n",
      "+------------------------------------------------------------------------------------------------------------------------------------------------------------------------------------------------------------------------------------------------------------------------------------------------------------------------------------------------------------------------------------------------------------------------------------------------------------------------------------------------------------------------------------------------------------------------------------------------------------------------------------------------------------------------------------------------------------------------------------------------------------------------------------------------------------------------------------------------------------------------------------------------------------------------------------------------------------------------------------------------------------------------------------------------------------------------------------------------------------------------------------------------------------------------------------------------------------------------------------------------------------------------------------------------------------------------------------------------------------------------------------------------------------------------------------------------------------------------------------------------------------------------------------------------------------------------------------------------------------------------------------------------------------------------------------------+\n",
      "|[[BACKWAREN, Knäckebrot Dinkel-Käse, 2.55, 200 ], [BACKWAREN, Apfel Streuselkuchen, 2.59, 500 ], [BROTAUFSTRICH_CEREALIEN, Fruchtaufstrich Sauerkirsch, sortiert, 1.89, 250 ], [DROGERIEARTIKEL, Kosmetiktücher, 0.89, 90 St], [DROGERIEARTIKEL, Deospray for Men Icebreaker, 1.49, 200 ml], [FERTIGPRODUKT, Schlemmer Spätzle, 2.49, 400 g], [FERTIGPRODUKT, Maultaschen, 1.99, 250 g], [FETTE, Natives Olivenöl Extra, 3.79, 500 ml], [FETTE, Natives Olivenöl Extra, 3.79, 500 ml], [FLEISCH_WURST, Käse-Salami, 1.2, 980 g], [GETRAENKE, Mineralwasser, still, 6 x 1,5 l, 2.34, 9 l], [GETRAENKE, Apfelschorle, 0.55, 1.5 l], [KAESE, Frischkäse Kräuter, 0.75, 300 g  \t], [KAESE, Gouda Scheiben 50 %, 1.89, 150 g ], [KAESE, Dänischer Weichkäse, 1.79, 150 g ], [KAFFEE_TEE, Kaffeepads aromatisch , 1.49, 112 g], [MOLKE_EI, Hafer Soja Drink + Calzium, 1.39, 1 l ], [MOLKE_EI, Joghurt 3,5%, Zitrone, 0.44, 250 g ], [NUDELN,  Spiralen, 1.19, 500 ], [OBST_GEMUESE, Gewürzgurken, 0.59, 720 ml]]                                                                                                                                                                                                                                                                                                                                                                                                                                                                                                                                                                                                                                                                               |\n",
      "|[[BACKWAREN, Butterstreuselkuchen, 2.29, 400 ], [DROGERIEARTIKEL, Gesichtswasser mit Alkoho, 0.99, 200 ml], [DROGERIEARTIKEL, Wattestäbchen Nachfüllpack, 0.26, 160 St], [FERTIGPRODUKT, Frikadellenbällchen, 1.89, 500 g], [FERTIGPRODUKT, Kartoffel Gemüseauflauf, 1.45, 400 g], [FERTIGPRODUKT, Fleisch-Tortelloni, 2.69, 500 g], [FLEISCH_WURST,  Rostbratwurst, 2.99, 200 g], [GETRAENKE, Mineralwasser, still, 0.19, 1.5 l], [KAFFEE_TEE, Kaffeepads mild , 1.79, 112 g], [MOLKE_EI, Kondensmilch, Flasche, 8 %, 0.65, 170 g], [NUDELN,  Spaghetti, 0.89, 500 ], [NUDELN,  Tortellini bunt, 1.15, 250 ], [OBST_GEMUESE, 6 Kräuter, 0.75, 50 g]]                                                                                                                                                                                                                                                                                                                                                                                                                                                                                                                                                                                                                                                                                                                                                                                                                                                                                                                                                                                                                                     |\n",
      "|[[BACKWAREN, Weizenvollkornsandwich, 1.45, 375 ], [BACKWAREN, Baguette, zum Aufbacken, 1.15, 360 ], [BROTAUFSTRICH_CEREALIEN, Konfitüre Waldfrucht, 1.35, 340 ], [BROTAUFSTRICH_CEREALIEN, Schoko Chips, 1.99, 750 ], [DROGERIEARTIKEL, Color Glanz Spülun, 0.99, 300 ml], [FERTIGPRODUKT, Tagliatelle, 1.65, 400 g], [FISCH, Räucherlachs, 3.89, 100 g ], [FLEISCH_WURST, Minutensteaks, 11.95, 500 g], [FLEISCH_WURST, Putengeschnetzeltes, 8.37, 300 g], [FLEISCH_WURST, Salami, 1.29, 80 g], [FLEISCH_WURST, Wiener Würstchen, 2.29, 200 g], [GETRAENKE, Milder Apfelsaft, 0.79, 1 l], [GETRAENKE, Mineralwasser still, 6x0,5 l, 0.65, 3 l], [GETRAENKE, Apfelschorle, 6x1,5 l, 3.54, 9 l], [GETRAENKE, Holunder-Limonade, 0.85, 0.5 l], [GEWUERZE_BACKZUTATEN, Mandeln, gehobelt, 0.55, 100 g], [KAESE, Deutscher Gouda, 48% Fett, 1.99, 400 g  \t], [KAESE, Gouda jung, 48% Fett, Stück, 4.98, 1000 g ], [KAESE, Gouda mittelalt, Stück, 3.29, 375 g ], [KAESE, Maasdamer, 45% Fett, Scheiben, 1.29, 300 g  \t], [KAFFEE_TEE, Kakao Drink, 1.99, 800 g], [KAFFEE_TEE, Kaffeepads Espresso , 1.49, 111.2 g], [KAFFEE_TEE, Grüntee Sencha Fairtrade , 1.59, 20 Btl ], [MOLKE_EI, Fettarme Milch, 1,8 % Fett, länger frisch, 0.95, 1 l ], [MOLKE_EI, Speisequarkzubereitung, Magerstufe, 0.79, 250 g ], [MOLKE_EI,  Maxi Crisp, 1.99, 600 ml  \t], [MOLKE_EI, Vollmilch Joghurt 3,5 % Fett, 4 x 150 g, 0.65, 600 g ], [NUDELN,  Drelli mit 10% Buchweizen, 1.79, 300 g], [NUDELN,  Spaghetti, 0.49, 500 ], [NUDELN,  Gold Hirse, 1.39, 500 g], [NUDELN,  Cannelloni Vier Käse, 1.25, 400 g], [OBST_GEMUESE, Stangenspargel, grün, 1.79, 370 ml], [OBST_GEMUESE, Sauerkraut, 0.99, 425 ml]]|\n",
      "|[[FISCH, Edle Matjesfilets, nordische Art, 1.29, 300 g ], [FLEISCH_WURST, Metzgerschinken, 1.85, 150 g], [FLEISCH_WURST, Bratwurst, grob , 4.29, 300 g], [FLEISCH_WURST, Paprika-Lyoner, 0.99, 100 g], [GETRAENKE, Milder Apfelsaft, 0.79, 1 l], [GETRAENKE, Mineralwasser still, 0.12, 0.5 l], [GEWUERZE_BACKZUTATEN, Haselnüsse, ganz, 2.99, 200 g], [KAESE, Holländischer Ziegenkäse, Scheiben, 1.95, 120 g ], [MOLKE_EI, Eissorbet Erdbeere, 2.69, 500 ml ], [MOLKE_EI, Creme Leicht, 0.79, 200 g ], [NUDELN,  Tortiglioni, 0.89, 500 ], [OBST_GEMUESE, Große Bohnen, 0.95, 370 ml]]                                                                                                                                                                                                                                                                                                                                                                                                                                                                                                                                                                                                                                                                                                                                                                                                                                                                                                                                                                                                                                                                                                  |\n",
      "|[[BACKWAREN, Schokokirsch Kuchen, 4x 125  , 2.59, 500 ], [BACKWAREN, Baguette Brötchen, zum Aufbacken, 0.35, 300 ], [BACKWAREN, Weltmeisterbrötchen, zum Aufbacken, 1.79, 340 ], [BROTAUFSTRICH_CEREALIEN, Brombeer Gelee, 1.35, 340 ], [FETTE, Rapsöl, 0.99, 1 l], [FISCH, Heringsfilets in Senfsauce, 0.99, 200 g ], [FISCH, Alaska Seelachsfilet, 2.85, 400 g ], [FLEISCH_WURST, Geflügelsalami, 1.2, 980 g], [GETRAENKE, Cola Mix ohne Zucker, 6x1,5 l, 2.34, 9 l], [GETRAENKE, Bitter Lemon, 0.59, 1.5 l], [KAESE, Gouda Scheiben 50 %, 1.89, 150 g ], [KAESE, Käseaufschnitt, 1.35, 250 g  \t], [MOLKE_EI, Fettarme Milch, 1,8 % Fett, länger frisch, 0.95, 1 l ], [NUDELN,  Drelli mit 10% Buchweizen, 1.79, 300 g], [OBST_GEMUESE, Rosenkohl, 1.39, 750 g], [OBST_GEMUESE, Apfel Rotkohl, 1.49, 450 g]]                                                                                                                                                                                                                                                                                                                                                                                                                                                                                                                                                                                                                                                                                                                                                                                                                                                                            |\n",
      "+------------------------------------------------------------------------------------------------------------------------------------------------------------------------------------------------------------------------------------------------------------------------------------------------------------------------------------------------------------------------------------------------------------------------------------------------------------------------------------------------------------------------------------------------------------------------------------------------------------------------------------------------------------------------------------------------------------------------------------------------------------------------------------------------------------------------------------------------------------------------------------------------------------------------------------------------------------------------------------------------------------------------------------------------------------------------------------------------------------------------------------------------------------------------------------------------------------------------------------------------------------------------------------------------------------------------------------------------------------------------------------------------------------------------------------------------------------------------------------------------------------------------------------------------------------------------------------------------------------------------------------------------------------------------------------------+\n",
      "only showing top 5 rows\n",
      "\n"
     ]
    }
   ],
   "source": [
    "# Show complete products array\n",
    "bills.select('products').show(n=5,truncate=False)"
   ]
  },
  {
   "cell_type": "markdown",
   "metadata": {},
   "source": [
    "Next, we want to **add a new index column** called **shoppingId** which is made of a monotonically increasing integer number. Therefore, we use the function **monotonically_increasing_id** of the **funtion module of pyspark.sql**. Hence, **import** the **functions** module of pyspark.sql **as F**.\n",
    "\n",
    "To add a column we can use the method **withColumn** on the Spark DataFrame. As the two arguments use **'shoppingId'** and **F.monotonicallyIndreasingId()**. Call the resulting dataframe **bills**. Finally, use the show method on the DataFrame to see if everything has worked properly."
   ]
  },
  {
   "cell_type": "code",
   "execution_count": 11,
   "metadata": {},
   "outputs": [],
   "source": [
    "# Import functions as F\n",
    "from pyspark.sql import functions as F"
   ]
  },
  {
   "cell_type": "code",
   "execution_count": 12,
   "metadata": {},
   "outputs": [
    {
     "name": "stdout",
     "output_type": "stream",
     "text": [
      "+--------------------+--------------------+---------+----------+\n",
      "|          customerId|            products|    total|shoppingId|\n",
      "+--------------------+--------------------+---------+----------+\n",
      "|372ae9ac-8665-467...|[[BACKWAREN, Knäc...|    35.09|         0|\n",
      "|7bb78701-3ea4-475...|[[BACKWAREN, Butt...|17.979998|         1|\n",
      "|6f724fdf-e143-46c...|[[BACKWAREN, Weiz...|71.450005|         2|\n",
      "|4cc4642e-c7f5-4d8...|[[FISCH, Edle Mat...|    19.59|         3|\n",
      "|89e04680-d9de-452...|[[BACKWAREN, Scho...|     23.9|         4|\n",
      "|b8fc395d-ebf1-47b...|[[BACKWAREN, Keba...|    16.33|         5|\n",
      "|6db24614-cc12-4c2...|[[BACKWAREN, Knäc...|    42.65|         6|\n",
      "|c886ab20-4e05-4f1...|[[BACKWAREN, Ciab...|    37.07|         7|\n",
      "|1b1b45ce-e897-47e...|[[BACKWAREN, Kräu...|22.640001|         8|\n",
      "|c9123475-726f-4fd...|[[BACKWAREN, Tort...|    26.34|         9|\n",
      "|0adadaa5-dd3e-40c...|[[BACKWAREN, Hot-...|22.300003|        10|\n",
      "|589d54d9-07aa-4df...|[[BACKWAREN, Welt...|    16.05|        11|\n",
      "|6b8a5e09-1218-48a...|[[BACKWAREN, Apfe...|    48.31|        12|\n",
      "|ee665abd-009b-471...|[[BACKWAREN, Knäc...|    14.99|        13|\n",
      "|c792e341-f40f-40a...|[[BACKWAREN, XXL ...|20.980001|        14|\n",
      "|dde8eebb-a488-40c...|[[BACKWAREN, Mehr...|    14.67|        15|\n",
      "|a529408b-a010-43c...|[[BACKWAREN, Fris...|31.739998|        16|\n",
      "|bf14d50f-42c5-4fb...|[[BACKWAREN, Peti...|     19.5|        17|\n",
      "|0cacbd01-81b8-445...|[[BACKWAREN, Butt...|    24.73|        18|\n",
      "|708fb339-334e-498...|[[BACKWAREN, Pump...|18.999998|        19|\n",
      "+--------------------+--------------------+---------+----------+\n",
      "only showing top 20 rows\n",
      "\n"
     ]
    }
   ],
   "source": [
    "# Add a new column shoppingId\n",
    "bills = bills.withColumn('shoppingId', F.monotonically_increasing_id())\n",
    "bills.show()"
   ]
  },
  {
   "cell_type": "markdown",
   "metadata": {},
   "source": [
    "As in Pandas you can use a lot of different methods on a Spark DataFrame. For more functions check out the documentation:\n",
    "<a href=\"http://spark.apache.org/docs/2.1.0/api/python/pyspark.sql.html#pyspark.sql.DataFrame\">http://spark.apache.org/docs/2.1.0/api/python/pyspark.sql.html#pyspark.sql.DataFrame</a>. Usually you use these functions together with the method withColumn to add the result of the function to a dataframe.\n",
    "\n",
    "In Spark you can also easily write your own functions, called UDFs. Let me demonstrate to you how you can construct a simple UDF:"
   ]
  },
  {
   "cell_type": "code",
   "execution_count": 14,
   "metadata": {},
   "outputs": [
    {
     "name": "stdout",
     "output_type": "stream",
     "text": [
      "+--------------------+--------------------+---------+----------+--------------------+\n",
      "|          customerId|            products|    total|shoppingId|          custom_udf|\n",
      "+--------------------+--------------------+---------+----------+--------------------+\n",
      "|372ae9ac-8665-467...|[[BACKWAREN, Knäc...|    35.09|         0|[372ae9ac, 8665, ...|\n",
      "|7bb78701-3ea4-475...|[[BACKWAREN, Butt...|17.979998|         1|[7bb78701, 3ea4, ...|\n",
      "|6f724fdf-e143-46c...|[[BACKWAREN, Weiz...|71.450005|         2|[6f724fdf, e143, ...|\n",
      "|4cc4642e-c7f5-4d8...|[[FISCH, Edle Mat...|    19.59|         3|[4cc4642e, c7f5, ...|\n",
      "|89e04680-d9de-452...|[[BACKWAREN, Scho...|     23.9|         4|[89e04680, d9de, ...|\n",
      "|b8fc395d-ebf1-47b...|[[BACKWAREN, Keba...|    16.33|         5|[b8fc395d, ebf1, ...|\n",
      "|6db24614-cc12-4c2...|[[BACKWAREN, Knäc...|    42.65|         6|[6db24614, cc12, ...|\n",
      "|c886ab20-4e05-4f1...|[[BACKWAREN, Ciab...|    37.07|         7|[c886ab20, 4e05, ...|\n",
      "|1b1b45ce-e897-47e...|[[BACKWAREN, Kräu...|22.640001|         8|[1b1b45ce, e897, ...|\n",
      "|c9123475-726f-4fd...|[[BACKWAREN, Tort...|    26.34|         9|[c9123475, 726f, ...|\n",
      "|0adadaa5-dd3e-40c...|[[BACKWAREN, Hot-...|22.300003|        10|[0adadaa5, dd3e, ...|\n",
      "|589d54d9-07aa-4df...|[[BACKWAREN, Welt...|    16.05|        11|[589d54d9, 07aa, ...|\n",
      "|6b8a5e09-1218-48a...|[[BACKWAREN, Apfe...|    48.31|        12|[6b8a5e09, 1218, ...|\n",
      "|ee665abd-009b-471...|[[BACKWAREN, Knäc...|    14.99|        13|[ee665abd, 009b, ...|\n",
      "|c792e341-f40f-40a...|[[BACKWAREN, XXL ...|20.980001|        14|[c792e341, f40f, ...|\n",
      "|dde8eebb-a488-40c...|[[BACKWAREN, Mehr...|    14.67|        15|[dde8eebb, a488, ...|\n",
      "|a529408b-a010-43c...|[[BACKWAREN, Fris...|31.739998|        16|[a529408b, a010, ...|\n",
      "|bf14d50f-42c5-4fb...|[[BACKWAREN, Peti...|     19.5|        17|[bf14d50f, 42c5, ...|\n",
      "|0cacbd01-81b8-445...|[[BACKWAREN, Butt...|    24.73|        18|[0cacbd01, 81b8, ...|\n",
      "|708fb339-334e-498...|[[BACKWAREN, Pump...|18.999998|        19|[708fb339, 334e, ...|\n",
      "+--------------------+--------------------+---------+----------+--------------------+\n",
      "only showing top 20 rows\n",
      "\n"
     ]
    }
   ],
   "source": [
    "# Read and execute the UDF Demo\n",
    "\n",
    "from pyspark.sql.types import ArrayType, StringType\n",
    "from pyspark.sql.functions import udf\n",
    "\n",
    "# Create UDF\n",
    "@udf(returnType=ArrayType(StringType()))\n",
    "def split_string(my_string):\n",
    "    return my_string.split('-')\n",
    "\n",
    "# Above we have used a python decorator. It is similar like:\n",
    "# Register as a udf\n",
    "# split_string = F.udf(f=split_string,returnType=ArrayType(StringType()))\n",
    "\n",
    "# Not a really useful udf, but maybe you got the point how easy it is :)\n",
    "bills.withColumn('custom_udf', split_string('customerId')).show()"
   ]
  },
  {
   "cell_type": "markdown",
   "metadata": {},
   "source": [
    "Please, use the **filter** and **count** methods to find out how many **shopping bags** were more expensive than 70 euros.\n",
    "\n",
    "**Hint**: The method filter expects a condition and returns a dataframe. You can directly apply the count method via chaining. Use the *Shift + Tab* method to find out how you have to specify the condition."
   ]
  },
  {
   "cell_type": "code",
   "execution_count": 16,
   "metadata": {},
   "outputs": [
    {
     "data": {
      "text/plain": [
       "20659"
      ]
     },
     "execution_count": 16,
     "metadata": {},
     "output_type": "execute_result"
    }
   ],
   "source": [
    "# Filter and count\n",
    "bills.filter(bills.total > 70).count()"
   ]
  },
  {
   "cell_type": "markdown",
   "metadata": {},
   "source": [
    "Next, we want to **create a histogram** of the column **total**. To create plots one usually transforms spark dataframes to **pandas dataframes** and uses the **matplotlib** or **seaborn** package. However, it is important to know that for a pandas dataframe the **whole data must fit into the memory of a single machine**. Therefore, it is common to aggregate the data with spark in order to transform less data to a pandas dataframe.\n",
    "\n",
    "For this reason, we create bins of the column total by ourself. This can be achieved by using the **Bucketizer** class of the pyspark ML library. But first, please find out the **minimum** and **maximum** of the column **total**. Afterwards, use **numpy** to create an array of **evenly spaced numbers** over the min to max interval. The list should contain 10 elements.\n",
    "\n",
    "**Hint**: Use the function linspace of numpy."
   ]
  },
  {
   "cell_type": "code",
   "execution_count": 17,
   "metadata": {},
   "outputs": [
    {
     "name": "stdout",
     "output_type": "stream",
     "text": [
      "+-------+------------------+\n",
      "|summary|             total|\n",
      "+-------+------------------+\n",
      "|  count|           1000000|\n",
      "|   mean|30.620862290786302|\n",
      "| stddev|16.272093244287515|\n",
      "|    min|              2.87|\n",
      "|    max|         121.41999|\n",
      "+-------+------------------+\n",
      "\n"
     ]
    }
   ],
   "source": [
    "# summary statistics to get min and max of total\n",
    "bills.select('total').describe().show()"
   ]
  },
  {
   "cell_type": "code",
   "execution_count": 18,
   "metadata": {},
   "outputs": [
    {
     "data": {
      "text/plain": [
       "array([  2.        ,  15.33333333,  28.66666667,  42.        ,\n",
       "        55.33333333,  68.66666667,  82.        ,  95.33333333,\n",
       "       108.66666667, 122.        ])"
      ]
     },
     "execution_count": 18,
     "metadata": {},
     "output_type": "execute_result"
    }
   ],
   "source": [
    "# Create bin array\n",
    "import numpy as np\n",
    "bins = np.linspace(2,122,10)\n",
    "bins"
   ]
  },
  {
   "cell_type": "markdown",
   "metadata": {},
   "source": [
    "Now, we import the Bucketizer class from the module pyspark.ml.feature."
   ]
  },
  {
   "cell_type": "code",
   "execution_count": 19,
   "metadata": {},
   "outputs": [],
   "source": [
    "# Import Bucketizer\n",
    "from pyspark.ml.feature import Bucketizer"
   ]
  },
  {
   "cell_type": "markdown",
   "metadata": {},
   "source": [
    "Please, create on object **bucketizer** of that class **Bucketizer** and use as splits the previously created bins array, as inputCol the column we want to bucketize and as the outputCol the string \"total_buckets\"."
   ]
  },
  {
   "cell_type": "code",
   "execution_count": 20,
   "metadata": {},
   "outputs": [],
   "source": [
    "# Create bucketizer\n",
    "bucketizer = Bucketizer(splits=bins, inputCol=\"total\", outputCol=\"total_buckets\")"
   ]
  },
  {
   "cell_type": "markdown",
   "metadata": {},
   "source": [
    "This kind of object is very similar to sklearn preprocessing objects (e.g. the Standardizer). It has the method **transform** which expects a dataframe as the argument and returns a transformed dataframe. Please, use that method on the **bills** dataframe. Call the resulting dataframe **total_buck** and **show** the result."
   ]
  },
  {
   "cell_type": "code",
   "execution_count": 21,
   "metadata": {},
   "outputs": [
    {
     "name": "stdout",
     "output_type": "stream",
     "text": [
      "+--------------------+--------------------+---------+----------+-------------+\n",
      "|          customerId|            products|    total|shoppingId|total_buckets|\n",
      "+--------------------+--------------------+---------+----------+-------------+\n",
      "|372ae9ac-8665-467...|[[BACKWAREN, Knäc...|    35.09|         0|          2.0|\n",
      "|7bb78701-3ea4-475...|[[BACKWAREN, Butt...|17.979998|         1|          1.0|\n",
      "|6f724fdf-e143-46c...|[[BACKWAREN, Weiz...|71.450005|         2|          5.0|\n",
      "|4cc4642e-c7f5-4d8...|[[FISCH, Edle Mat...|    19.59|         3|          1.0|\n",
      "|89e04680-d9de-452...|[[BACKWAREN, Scho...|     23.9|         4|          1.0|\n",
      "|b8fc395d-ebf1-47b...|[[BACKWAREN, Keba...|    16.33|         5|          1.0|\n",
      "|6db24614-cc12-4c2...|[[BACKWAREN, Knäc...|    42.65|         6|          3.0|\n",
      "|c886ab20-4e05-4f1...|[[BACKWAREN, Ciab...|    37.07|         7|          2.0|\n",
      "|1b1b45ce-e897-47e...|[[BACKWAREN, Kräu...|22.640001|         8|          1.0|\n",
      "|c9123475-726f-4fd...|[[BACKWAREN, Tort...|    26.34|         9|          1.0|\n",
      "|0adadaa5-dd3e-40c...|[[BACKWAREN, Hot-...|22.300003|        10|          1.0|\n",
      "|589d54d9-07aa-4df...|[[BACKWAREN, Welt...|    16.05|        11|          1.0|\n",
      "|6b8a5e09-1218-48a...|[[BACKWAREN, Apfe...|    48.31|        12|          3.0|\n",
      "|ee665abd-009b-471...|[[BACKWAREN, Knäc...|    14.99|        13|          0.0|\n",
      "|c792e341-f40f-40a...|[[BACKWAREN, XXL ...|20.980001|        14|          1.0|\n",
      "|dde8eebb-a488-40c...|[[BACKWAREN, Mehr...|    14.67|        15|          0.0|\n",
      "|a529408b-a010-43c...|[[BACKWAREN, Fris...|31.739998|        16|          2.0|\n",
      "|bf14d50f-42c5-4fb...|[[BACKWAREN, Peti...|     19.5|        17|          1.0|\n",
      "|0cacbd01-81b8-445...|[[BACKWAREN, Butt...|    24.73|        18|          1.0|\n",
      "|708fb339-334e-498...|[[BACKWAREN, Pump...|18.999998|        19|          1.0|\n",
      "+--------------------+--------------------+---------+----------+-------------+\n",
      "only showing top 20 rows\n",
      "\n"
     ]
    }
   ],
   "source": [
    "# Use the transform method of the bucketizer\n",
    "total_buck = bucketizer.transform(bills)\n",
    "total_buck.show()"
   ]
  },
  {
   "cell_type": "markdown",
   "metadata": {},
   "source": [
    "Now, we want to **count** the occurences of **shoppings** with respect to the **total_buckets**. Therefore, we can use the **groupBy** method on the total_buck dataframe. Afterwards, we can apply an aggregation which in this case here is **count**. Call the resulting dataframe **total_buck_counts**. As always, show the dataframe."
   ]
  },
  {
   "cell_type": "code",
   "execution_count": 22,
   "metadata": {},
   "outputs": [
    {
     "name": "stdout",
     "output_type": "stream",
     "text": [
      "+-------------+------+\n",
      "|total_buckets| count|\n",
      "+-------------+------+\n",
      "|          8.0|     6|\n",
      "|          0.0|120481|\n",
      "|          7.0|   162|\n",
      "|          1.0|487484|\n",
      "|          4.0| 87990|\n",
      "|          3.0|124777|\n",
      "|          2.0|154190|\n",
      "|          6.0|  2657|\n",
      "|          5.0| 22253|\n",
      "+-------------+------+\n",
      "\n"
     ]
    }
   ],
   "source": [
    "# Perform groupBy aggregation\n",
    "total_buck_counts = total_buck.groupBy('total_buckets').count()\n",
    "total_buck_counts.show()"
   ]
  },
  {
   "cell_type": "markdown",
   "metadata": {},
   "source": [
    "This dataframe is now much smaller than the bills dataframe. Hence, we can easily transform it to a pandas. Therefore, please use the method **toPandas()** on the total_buck_counts dataframe. Call the resulting dataframe **total_buck_counts_pandas**. How much memory does the pandas dataframe occupy?"
   ]
  },
  {
   "cell_type": "code",
   "execution_count": 23,
   "metadata": {},
   "outputs": [],
   "source": [
    "# Create pandas dataframe\n",
    "total_buck_counts_pandas = total_buck_counts.toPandas()"
   ]
  },
  {
   "cell_type": "code",
   "execution_count": 24,
   "metadata": {},
   "outputs": [
    {
     "data": {
      "text/html": [
       "<div>\n",
       "<style scoped>\n",
       "    .dataframe tbody tr th:only-of-type {\n",
       "        vertical-align: middle;\n",
       "    }\n",
       "\n",
       "    .dataframe tbody tr th {\n",
       "        vertical-align: top;\n",
       "    }\n",
       "\n",
       "    .dataframe thead th {\n",
       "        text-align: right;\n",
       "    }\n",
       "</style>\n",
       "<table border=\"1\" class=\"dataframe\">\n",
       "  <thead>\n",
       "    <tr style=\"text-align: right;\">\n",
       "      <th></th>\n",
       "      <th>total_buckets</th>\n",
       "      <th>count</th>\n",
       "    </tr>\n",
       "  </thead>\n",
       "  <tbody>\n",
       "    <tr>\n",
       "      <th>0</th>\n",
       "      <td>8.0</td>\n",
       "      <td>6</td>\n",
       "    </tr>\n",
       "    <tr>\n",
       "      <th>1</th>\n",
       "      <td>0.0</td>\n",
       "      <td>120481</td>\n",
       "    </tr>\n",
       "    <tr>\n",
       "      <th>2</th>\n",
       "      <td>7.0</td>\n",
       "      <td>162</td>\n",
       "    </tr>\n",
       "    <tr>\n",
       "      <th>3</th>\n",
       "      <td>1.0</td>\n",
       "      <td>487484</td>\n",
       "    </tr>\n",
       "    <tr>\n",
       "      <th>4</th>\n",
       "      <td>4.0</td>\n",
       "      <td>87990</td>\n",
       "    </tr>\n",
       "  </tbody>\n",
       "</table>\n",
       "</div>"
      ],
      "text/plain": [
       "   total_buckets   count\n",
       "0            8.0       6\n",
       "1            0.0  120481\n",
       "2            7.0     162\n",
       "3            1.0  487484\n",
       "4            4.0   87990"
      ]
     },
     "execution_count": 24,
     "metadata": {},
     "output_type": "execute_result"
    }
   ],
   "source": [
    "# show head of pandas df\n",
    "total_buck_counts_pandas.head()"
   ]
  },
  {
   "cell_type": "code",
   "execution_count": 25,
   "metadata": {},
   "outputs": [
    {
     "name": "stdout",
     "output_type": "stream",
     "text": [
      "<class 'pandas.core.frame.DataFrame'>\n",
      "RangeIndex: 9 entries, 0 to 8\n",
      "Data columns (total 2 columns):\n",
      "total_buckets    9 non-null float64\n",
      "count            9 non-null int64\n",
      "dtypes: float64(1), int64(1)\n",
      "memory usage: 224.0 bytes\n"
     ]
    }
   ],
   "source": [
    "total_buck_counts_pandas.info()"
   ]
  },
  {
   "cell_type": "markdown",
   "metadata": {},
   "source": [
    "Import **seaborn** as sns, issue the command **%matplotlib inline** and use the seaborn method **barplot** to plot the histogram. **Describe the histogram**."
   ]
  },
  {
   "cell_type": "code",
   "execution_count": 26,
   "metadata": {},
   "outputs": [],
   "source": [
    "# Import seaborn\n",
    "import seaborn as sns\n",
    "%matplotlib inline"
   ]
  },
  {
   "cell_type": "code",
   "execution_count": 27,
   "metadata": {},
   "outputs": [
    {
     "data": {
      "text/plain": [
       "<matplotlib.axes._subplots.AxesSubplot at 0x7fb520be9ef0>"
      ]
     },
     "execution_count": 27,
     "metadata": {},
     "output_type": "execute_result"
    },
    {
     "data": {
      "image/png": "[encoded data removed]",
      "text/plain": [
       "<matplotlib.figure.Figure at 0x7fb52131d1d0>"
      ]
     },
     "metadata": {},
     "output_type": "display_data"
    }
   ],
   "source": [
    "# Create barplot\n",
    "sns.barplot(x='total_buckets', y='count', data=total_buck_counts_pandas)"
   ]
  },
  {
   "cell_type": "markdown",
   "metadata": {},
   "source": [
    "There are also other ways to plot histograms in Spark. However, they all have in common that you need all the data on a single machine."
   ]
  },
  {
   "cell_type": "markdown",
   "metadata": {},
   "source": [
    "**Remark**: Do never collect the whole dataframe to the driver, i.e. to a single JVM on a single machine. Always aggregate the data first. In Big Data the data is usually just too big to fit into the memory of one machine."
   ]
  },
  {
   "cell_type": "markdown",
   "metadata": {},
   "source": [
    "Next, we want to **explode** the **products** array of the bills dataframe. This means that each element of the array will lead to a new row in the dataframe. Therefore, pyspark provides a function called explode which is part of the functions module which we have already imported.\n",
    "\n",
    "Please use the method **withColumn** on the dataframe bills. As the argument use **'products'** and the explode function of the functions module which we have imported as F. To the explode function please pass the **products column**.\n",
    "Call the resulting dataframe **bills_exploded** and use the show method to see if the transformation has worked as expected."
   ]
  },
  {
   "cell_type": "code",
   "execution_count": 28,
   "metadata": {},
   "outputs": [
    {
     "name": "stdout",
     "output_type": "stream",
     "text": [
      "+--------------------+--------------------+-----+----------+\n",
      "|          customerId|            products|total|shoppingId|\n",
      "+--------------------+--------------------+-----+----------+\n",
      "|372ae9ac-8665-467...|[BACKWAREN, Knäck...|35.09|         0|\n",
      "|372ae9ac-8665-467...|[BACKWAREN, Apfel...|35.09|         0|\n",
      "|372ae9ac-8665-467...|[BROTAUFSTRICH_CE...|35.09|         0|\n",
      "|372ae9ac-8665-467...|[DROGERIEARTIKEL,...|35.09|         0|\n",
      "|372ae9ac-8665-467...|[DROGERIEARTIKEL,...|35.09|         0|\n",
      "|372ae9ac-8665-467...|[FERTIGPRODUKT, S...|35.09|         0|\n",
      "|372ae9ac-8665-467...|[FERTIGPRODUKT, M...|35.09|         0|\n",
      "|372ae9ac-8665-467...|[FETTE, Natives O...|35.09|         0|\n",
      "|372ae9ac-8665-467...|[FETTE, Natives O...|35.09|         0|\n",
      "|372ae9ac-8665-467...|[FLEISCH_WURST, K...|35.09|         0|\n",
      "|372ae9ac-8665-467...|[GETRAENKE, Miner...|35.09|         0|\n",
      "|372ae9ac-8665-467...|[GETRAENKE, Apfel...|35.09|         0|\n",
      "|372ae9ac-8665-467...|[KAESE, Frischkäs...|35.09|         0|\n",
      "|372ae9ac-8665-467...|[KAESE, Gouda Sch...|35.09|         0|\n",
      "|372ae9ac-8665-467...|[KAESE, Dänischer...|35.09|         0|\n",
      "|372ae9ac-8665-467...|[KAFFEE_TEE, Kaff...|35.09|         0|\n",
      "|372ae9ac-8665-467...|[MOLKE_EI, Hafer ...|35.09|         0|\n",
      "|372ae9ac-8665-467...|[MOLKE_EI, Joghur...|35.09|         0|\n",
      "|372ae9ac-8665-467...|[NUDELN,  Spirale...|35.09|         0|\n",
      "|372ae9ac-8665-467...|[OBST_GEMUESE, Ge...|35.09|         0|\n",
      "+--------------------+--------------------+-----+----------+\n",
      "only showing top 20 rows\n",
      "\n"
     ]
    }
   ],
   "source": [
    "# Explode the column products of the bills dataframe\n",
    "# bills_exploded = bills.withColumn('products', F.explode(bills['products']))\n",
    "bills_exploded = bills.withColumn('products', F.explode('products'))\n",
    "bills_exploded.show()\n",
    "#.select(\"products.*\",\"shoppingId\",\"customerId\").show()"
   ]
  },
  {
   "cell_type": "markdown",
   "metadata": {},
   "source": [
    "Checkout out the schema of the dataframe by using the printSchema method."
   ]
  },
  {
   "cell_type": "code",
   "execution_count": 29,
   "metadata": {},
   "outputs": [
    {
     "name": "stdout",
     "output_type": "stream",
     "text": [
      "root\n",
      " |-- customerId: string (nullable = true)\n",
      " |-- products: struct (nullable = true)\n",
      " |    |-- category: string (nullable = true)\n",
      " |    |-- name: string (nullable = true)\n",
      " |    |-- price: double (nullable = true)\n",
      " |    |-- unit: string (nullable = true)\n",
      " |-- total: double (nullable = true)\n",
      " |-- shoppingId: long (nullable = false)\n",
      "\n"
     ]
    }
   ],
   "source": [
    "# print Schema\n",
    "bills_exploded.printSchema()"
   ]
  },
  {
   "cell_type": "markdown",
   "metadata": {},
   "source": [
    "To select elements of an *struct* (named array) datatype you can use dot notation, e.g. products.name. Please try to select only the price column of the dataframe bills_exploded."
   ]
  },
  {
   "cell_type": "code",
   "execution_count": 30,
   "metadata": {},
   "outputs": [
    {
     "name": "stdout",
     "output_type": "stream",
     "text": [
      "+-----+\n",
      "|price|\n",
      "+-----+\n",
      "| 2.55|\n",
      "| 2.59|\n",
      "| 1.89|\n",
      "| 0.89|\n",
      "| 1.49|\n",
      "| 2.49|\n",
      "| 1.99|\n",
      "| 3.79|\n",
      "| 3.79|\n",
      "|  1.2|\n",
      "| 2.34|\n",
      "| 0.55|\n",
      "| 0.75|\n",
      "| 1.89|\n",
      "| 1.79|\n",
      "| 1.49|\n",
      "| 1.39|\n",
      "| 0.44|\n",
      "| 1.19|\n",
      "| 0.59|\n",
      "+-----+\n",
      "only showing top 20 rows\n",
      "\n"
     ]
    }
   ],
   "source": [
    "# Select element of a struct datatype\n",
    "bills_exploded.select('products.price').show()"
   ]
  },
  {
   "cell_type": "markdown",
   "metadata": {},
   "source": [
    "We want to extract all the elements inside the products column. This can be done by using the **asterik symbol \\***. Please, select **shoppingId**, **customerId**, **total** and all attributes of **products**. Afterwards, **drop** the column **unit** by using the method **drop()**. Call the resulting dataframe **bills_exploded**."
   ]
  },
  {
   "cell_type": "code",
   "execution_count": 31,
   "metadata": {},
   "outputs": [
    {
     "name": "stdout",
     "output_type": "stream",
     "text": [
      "+--------------------+--------------------+-----+----------+--------------------+-----+\n",
      "|            category|                name|price|shoppingId|          customerId|total|\n",
      "+--------------------+--------------------+-----+----------+--------------------+-----+\n",
      "|           BACKWAREN|Knäckebrot Dinkel...| 2.55|         0|372ae9ac-8665-467...|35.09|\n",
      "|           BACKWAREN|Apfel Streuselkuchen| 2.59|         0|372ae9ac-8665-467...|35.09|\n",
      "|BROTAUFSTRICH_CER...|Fruchtaufstrich S...| 1.89|         0|372ae9ac-8665-467...|35.09|\n",
      "|     DROGERIEARTIKEL|      Kosmetiktücher| 0.89|         0|372ae9ac-8665-467...|35.09|\n",
      "|     DROGERIEARTIKEL|Deospray for Men ...| 1.49|         0|372ae9ac-8665-467...|35.09|\n",
      "|       FERTIGPRODUKT|   Schlemmer Spätzle| 2.49|         0|372ae9ac-8665-467...|35.09|\n",
      "|       FERTIGPRODUKT|         Maultaschen| 1.99|         0|372ae9ac-8665-467...|35.09|\n",
      "|               FETTE|Natives Olivenöl ...| 3.79|         0|372ae9ac-8665-467...|35.09|\n",
      "|               FETTE|Natives Olivenöl ...| 3.79|         0|372ae9ac-8665-467...|35.09|\n",
      "|       FLEISCH_WURST|         Käse-Salami|  1.2|         0|372ae9ac-8665-467...|35.09|\n",
      "|           GETRAENKE|Mineralwasser, st...| 2.34|         0|372ae9ac-8665-467...|35.09|\n",
      "|           GETRAENKE|        Apfelschorle| 0.55|         0|372ae9ac-8665-467...|35.09|\n",
      "|               KAESE|  Frischkäse Kräuter| 0.75|         0|372ae9ac-8665-467...|35.09|\n",
      "|               KAESE| Gouda Scheiben 50 %| 1.89|         0|372ae9ac-8665-467...|35.09|\n",
      "|               KAESE| Dänischer Weichkäse| 1.79|         0|372ae9ac-8665-467...|35.09|\n",
      "|          KAFFEE_TEE|Kaffeepads aromat...| 1.49|         0|372ae9ac-8665-467...|35.09|\n",
      "|            MOLKE_EI|Hafer Soja Drink ...| 1.39|         0|372ae9ac-8665-467...|35.09|\n",
      "|            MOLKE_EI|Joghurt 3,5%, Zit...| 0.44|         0|372ae9ac-8665-467...|35.09|\n",
      "|              NUDELN|            Spiralen| 1.19|         0|372ae9ac-8665-467...|35.09|\n",
      "|        OBST_GEMUESE|        Gewürzgurken| 0.59|         0|372ae9ac-8665-467...|35.09|\n",
      "+--------------------+--------------------+-----+----------+--------------------+-----+\n",
      "only showing top 20 rows\n",
      "\n"
     ]
    }
   ],
   "source": [
    "# Extract elements of the struct column products\n",
    "bills_exploded = bills_exploded.select(\"products.*\",\"shoppingId\",\"customerId\", 'total').drop('unit')\n",
    "bills_exploded.show()"
   ]
  },
  {
   "cell_type": "markdown",
   "metadata": {},
   "source": [
    "In contrast to Pandas we can use **standard SQL statements** on our dataframe. Therefore, we need to **register** our dataframe as a **temporary table**. Use the method registerTempTable on the bills_exploded dataframe and use the string 'bills_exploded' as the name of the registered table."
   ]
  },
  {
   "cell_type": "code",
   "execution_count": 32,
   "metadata": {},
   "outputs": [],
   "source": [
    "# register table\n",
    "bills_exploded.registerTempTable('bills_exploded')"
   ]
  },
  {
   "cell_type": "markdown",
   "metadata": {},
   "source": [
    "Now you can use sql statements by using the sql method of the spark object. An example is shown here:"
   ]
  },
  {
   "cell_type": "code",
   "execution_count": 33,
   "metadata": {},
   "outputs": [
    {
     "name": "stdout",
     "output_type": "stream",
     "text": [
      "+--------------------+--------------------+-----+----------+--------------------+-----+\n",
      "|            category|                name|price|shoppingId|          customerId|total|\n",
      "+--------------------+--------------------+-----+----------+--------------------+-----+\n",
      "|           BACKWAREN|Knäckebrot Dinkel...| 2.55|         0|372ae9ac-8665-467...|35.09|\n",
      "|           BACKWAREN|Apfel Streuselkuchen| 2.59|         0|372ae9ac-8665-467...|35.09|\n",
      "|BROTAUFSTRICH_CER...|Fruchtaufstrich S...| 1.89|         0|372ae9ac-8665-467...|35.09|\n",
      "|     DROGERIEARTIKEL|      Kosmetiktücher| 0.89|         0|372ae9ac-8665-467...|35.09|\n",
      "|     DROGERIEARTIKEL|Deospray for Men ...| 1.49|         0|372ae9ac-8665-467...|35.09|\n",
      "|       FERTIGPRODUKT|   Schlemmer Spätzle| 2.49|         0|372ae9ac-8665-467...|35.09|\n",
      "|       FERTIGPRODUKT|         Maultaschen| 1.99|         0|372ae9ac-8665-467...|35.09|\n",
      "|               FETTE|Natives Olivenöl ...| 3.79|         0|372ae9ac-8665-467...|35.09|\n",
      "|               FETTE|Natives Olivenöl ...| 3.79|         0|372ae9ac-8665-467...|35.09|\n",
      "|       FLEISCH_WURST|         Käse-Salami|  1.2|         0|372ae9ac-8665-467...|35.09|\n",
      "|           GETRAENKE|Mineralwasser, st...| 2.34|         0|372ae9ac-8665-467...|35.09|\n",
      "|           GETRAENKE|        Apfelschorle| 0.55|         0|372ae9ac-8665-467...|35.09|\n",
      "|               KAESE|  Frischkäse Kräuter| 0.75|         0|372ae9ac-8665-467...|35.09|\n",
      "|               KAESE| Gouda Scheiben 50 %| 1.89|         0|372ae9ac-8665-467...|35.09|\n",
      "|               KAESE| Dänischer Weichkäse| 1.79|         0|372ae9ac-8665-467...|35.09|\n",
      "|          KAFFEE_TEE|Kaffeepads aromat...| 1.49|         0|372ae9ac-8665-467...|35.09|\n",
      "|            MOLKE_EI|Hafer Soja Drink ...| 1.39|         0|372ae9ac-8665-467...|35.09|\n",
      "|            MOLKE_EI|Joghurt 3,5%, Zit...| 0.44|         0|372ae9ac-8665-467...|35.09|\n",
      "|              NUDELN|            Spiralen| 1.19|         0|372ae9ac-8665-467...|35.09|\n",
      "|        OBST_GEMUESE|        Gewürzgurken| 0.59|         0|372ae9ac-8665-467...|35.09|\n",
      "+--------------------+--------------------+-----+----------+--------------------+-----+\n",
      "only showing top 20 rows\n",
      "\n"
     ]
    }
   ],
   "source": [
    "spark.sql(\"select * from bills_exploded\").show()"
   ]
  },
  {
   "cell_type": "markdown",
   "metadata": {},
   "source": [
    "Use the registered table or the domain spefic spark sql syntax to answer the following questions:\n",
    "\n",
    "**1. How many products have been sold?**  \n",
    "**2. How many different products have been sold?**  \n",
    "**3. Products of which category have been sold the most**  \n",
    "**4. Which product has lead to the most total revenue?**  \n",
    "**5. Which product is the cheapest and which is the most expensive one?**\n",
    "\n",
    "Measure the execution time of the first and second statement. It is not that lightning fast, right? The reason is that the dataframe has not been cached. Please cache the dataframe by using the **cache()**. Call the result **bills_exploded_cached**. Afterwards, register again a temp table and answer all the questions. Do you notice a difference in speed for the second questions? Why do we not gain any speed boost for the first question?"
   ]
  },
  {
   "cell_type": "code",
   "execution_count": 34,
   "metadata": {},
   "outputs": [
    {
     "name": "stdout",
     "output_type": "stream",
     "text": [
      "CPU times: user 1.11 ms, sys: 355 µs, total: 1.46 ms\n",
      "Wall time: 6.12 s\n"
     ]
    },
    {
     "data": {
      "text/plain": [
       "18966517"
      ]
     },
     "execution_count": 34,
     "metadata": {},
     "output_type": "execute_result"
    }
   ],
   "source": [
    "%%time\n",
    "# 1.\n",
    "bills_exploded.count()"
   ]
  },
  {
   "cell_type": "code",
   "execution_count": 35,
   "metadata": {},
   "outputs": [
    {
     "name": "stdout",
     "output_type": "stream",
     "text": [
      "CPU times: user 2.41 ms, sys: 30 µs, total: 2.44 ms\n",
      "Wall time: 6.95 s\n"
     ]
    },
    {
     "data": {
      "text/plain": [
       "995"
      ]
     },
     "execution_count": 35,
     "metadata": {},
     "output_type": "execute_result"
    }
   ],
   "source": [
    "%%time\n",
    "# 2.\n",
    "bills_exploded.select('name').distinct().count()"
   ]
  },
  {
   "cell_type": "code",
   "execution_count": 36,
   "metadata": {},
   "outputs": [],
   "source": [
    "# Cache dataframe\n",
    "bills_exploded_cached = bills_exploded.cache()"
   ]
  },
  {
   "cell_type": "code",
   "execution_count": 37,
   "metadata": {},
   "outputs": [
    {
     "name": "stdout",
     "output_type": "stream",
     "text": [
      "CPU times: user 1.69 ms, sys: 544 µs, total: 2.24 ms\n",
      "Wall time: 15 s\n"
     ]
    },
    {
     "data": {
      "text/plain": [
       "18966517"
      ]
     },
     "execution_count": 37,
     "metadata": {},
     "output_type": "execute_result"
    }
   ],
   "source": [
    "%%time\n",
    "# 1.\n",
    "bills_exploded_cached.count()"
   ]
  },
  {
   "cell_type": "code",
   "execution_count": 38,
   "metadata": {},
   "outputs": [
    {
     "name": "stdout",
     "output_type": "stream",
     "text": [
      "CPU times: user 1.78 ms, sys: 574 µs, total: 2.35 ms\n",
      "Wall time: 1.78 s\n"
     ]
    },
    {
     "data": {
      "text/plain": [
       "995"
      ]
     },
     "execution_count": 38,
     "metadata": {},
     "output_type": "execute_result"
    }
   ],
   "source": [
    "%%time\n",
    "# 2.\n",
    "bills_exploded_cached.select('name').distinct().count()"
   ]
  },
  {
   "cell_type": "code",
   "execution_count": 39,
   "metadata": {},
   "outputs": [
    {
     "name": "stdout",
     "output_type": "stream",
     "text": [
      "+--------------------+-------+\n",
      "|            category|  count|\n",
      "+--------------------+-------+\n",
      "|        OBST_GEMUESE|2704403|\n",
      "|           GETRAENKE|2517666|\n",
      "|           BACKWAREN|2051616|\n",
      "|              NUDELN|1767177|\n",
      "|            MOLKE_EI|1745736|\n",
      "|       FLEISCH_WURST|1665581|\n",
      "|               KAESE|1324865|\n",
      "|       FERTIGPRODUKT|1097541|\n",
      "|     DROGERIEARTIKEL| 876906|\n",
      "|               FISCH| 826238|\n",
      "|BROTAUFSTRICH_CER...| 754423|\n",
      "|          KAFFEE_TEE| 716296|\n",
      "|               FETTE| 486624|\n",
      "|GEWUERZE_BACKZUTATEN| 431445|\n",
      "+--------------------+-------+\n",
      "\n"
     ]
    }
   ],
   "source": [
    "# 3.\n",
    "bills_exploded_cached.select('category', 'name').groupBy('category').count().sort(F.desc(\"count\")).show()"
   ]
  },
  {
   "cell_type": "code",
   "execution_count": 40,
   "metadata": {},
   "outputs": [
    {
     "name": "stdout",
     "output_type": "stream",
     "text": [
      "+--------------------+------------------+\n",
      "|                name|         total_rev|\n",
      "+--------------------+------------------+\n",
      "|Natives Olivenöl ...|   307191.06000001|\n",
      "|           Spaghetti| 277580.8900000017|\n",
      "|            Hähnchen|250483.09999999814|\n",
      "|Natives Olivenöl BIO|222464.17999999854|\n",
      "|           Entrecote|217166.28000000355|\n",
      "|         Hackfleisch|217085.58000000083|\n",
      "|             Tilapia|187294.65999999302|\n",
      "|       Minutensteaks|181030.55000000363|\n",
      "|           Schnitzel|180409.15000000363|\n",
      "|           Himbeeren|174498.09000000462|\n",
      "|            Gulasch |172585.85000000324|\n",
      "|Rindergulasch aus...|166845.15000000305|\n",
      "|Ciabatta Brötchen...| 163199.0200000193|\n",
      "|   Orangendirektsaft|159094.24000000695|\n",
      "|Garnelen, Black T...|151177.10999999323|\n",
      "|Black Tiger Garnelen|149361.65999999334|\n",
      "|Kaffee Peru Yanesha |148161.68999999735|\n",
      "|Alaska Seelachsfi...| 148076.8799999934|\n",
      "|        Räucherlachs|  146330.129999997|\n",
      "|       Schweinefilet| 144780.2300000017|\n",
      "+--------------------+------------------+\n",
      "only showing top 20 rows\n",
      "\n"
     ]
    }
   ],
   "source": [
    "# 4. \n",
    "bills_exploded_cached.groupBy('name').agg(F.sum('price').alias('total_rev')).sort(F.desc(\"total_rev\")).show()"
   ]
  },
  {
   "cell_type": "code",
   "execution_count": 41,
   "metadata": {},
   "outputs": [
    {
     "name": "stdout",
     "output_type": "stream",
     "text": [
      "+----------+----------+\n",
      "|min(price)|max(price)|\n",
      "+----------+----------+\n",
      "|      0.11|     16.66|\n",
      "+----------+----------+\n",
      "\n"
     ]
    }
   ],
   "source": [
    "# 5. \n",
    "bills_exploded_cached.groupBy().agg(F.min('price'), F.max('price')).show()"
   ]
  },
  {
   "cell_type": "code",
   "execution_count": 42,
   "metadata": {},
   "outputs": [
    {
     "name": "stdout",
     "output_type": "stream",
     "text": [
      "+-----------------------------+-----+\n",
      "|name                         |price|\n",
      "+-----------------------------+-----+\n",
      "|Mineralwasser mit Kohlensäure|0.11 |\n",
      "|Hähnchen                     |16.66|\n",
      "+-----------------------------+-----+\n",
      "\n"
     ]
    }
   ],
   "source": [
    "#5.\n",
    "bills_exploded_cached.select('name', 'price').distinct().filter('price <= 0.11 or price >=16.66').show(truncate=False)"
   ]
  },
  {
   "cell_type": "markdown",
   "metadata": {},
   "source": [
    "For the next exercise we need the exploded dataframe. Hence, save the dataframe by using the method write.parquet method. As the argument use 'bills_exploded.parquet'."
   ]
  },
  {
   "cell_type": "code",
   "execution_count": 43,
   "metadata": {},
   "outputs": [],
   "source": [
    "# save df\n",
    "bills_exploded_cached.write.mode('overwrite').parquet('bills_exploded.parquet')"
   ]
  },
  {
   "cell_type": "code",
   "execution_count": 44,
   "metadata": {},
   "outputs": [
    {
     "name": "stdout",
     "output_type": "stream",
     "text": [
      "+--------------------+--------------------+-----+-----------+--------------------+-----+\n",
      "|            category|                name|price| shoppingId|          customerId|total|\n",
      "+--------------------+--------------------+-----+-----------+--------------------+-----+\n",
      "|           BACKWAREN|Ciabatta Brötchen...| 3.79|51539607552|7c1e2cc7-8e60-4fe...|58.56|\n",
      "|           BACKWAREN|XXL Hamburger Brö...| 1.19|51539607552|7c1e2cc7-8e60-4fe...|58.56|\n",
      "|           BACKWAREN|Tortilla Wraps We...| 1.55|51539607552|7c1e2cc7-8e60-4fe...|58.56|\n",
      "|           BACKWAREN|Weizenvollkornsan...| 1.45|51539607552|7c1e2cc7-8e60-4fe...|58.56|\n",
      "|           BACKWAREN|  Roggenvollkornbrot| 0.79|51539607552|7c1e2cc7-8e60-4fe...|58.56|\n",
      "|           BACKWAREN|          Käsekuchen| 2.19|51539607552|7c1e2cc7-8e60-4fe...|58.56|\n",
      "|BROTAUFSTRICH_CER...|        Schoko Müsli| 2.15|51539607552|7c1e2cc7-8e60-4fe...|58.56|\n",
      "|     DROGERIEARTIKEL|    Butterbrotpapier| 1.15|51539607552|7c1e2cc7-8e60-4fe...|58.56|\n",
      "|       FERTIGPRODUKT|         Maultaschen| 1.99|51539607552|7c1e2cc7-8e60-4fe...|58.56|\n",
      "|       FERTIGPRODUKT| Königsberger Klopse| 1.75|51539607552|7c1e2cc7-8e60-4fe...|58.56|\n",
      "|       FERTIGPRODUKT|   Tortelloni 4 Käse| 1.49|51539607552|7c1e2cc7-8e60-4fe...|58.56|\n",
      "|               FISCH|       Goldbackfilet| 1.89|51539607552|7c1e2cc7-8e60-4fe...|58.56|\n",
      "|       FLEISCH_WURST|Kalbfleischleberw...| 1.39|51539607552|7c1e2cc7-8e60-4fe...|58.56|\n",
      "|       FLEISCH_WURST|       Schinkenspeck| 1.39|51539607552|7c1e2cc7-8e60-4fe...|58.56|\n",
      "|       FLEISCH_WURST|            Hähnchen|16.66|51539607552|7c1e2cc7-8e60-4fe...|58.56|\n",
      "|       FLEISCH_WURST|    Leberwurst, fein| 0.75|51539607552|7c1e2cc7-8e60-4fe...|58.56|\n",
      "|           GETRAENKE|         Tomatensaft| 0.99|51539607552|7c1e2cc7-8e60-4fe...|58.56|\n",
      "|           GETRAENKE|Apfelfruchtsaftge...| 0.75|51539607552|7c1e2cc7-8e60-4fe...|58.56|\n",
      "|           GETRAENKE|Kirsch-Banane-Nektar| 1.29|51539607552|7c1e2cc7-8e60-4fe...|58.56|\n",
      "|           GETRAENKE|   Sauerkirschnektar| 1.79|51539607552|7c1e2cc7-8e60-4fe...|58.56|\n",
      "+--------------------+--------------------+-----+-----------+--------------------+-----+\n",
      "only showing top 20 rows\n",
      "\n"
     ]
    }
   ],
   "source": [
    "# read the df\n",
    "spark.read.parquet('bills_exploded.parquet').show()"
   ]
  },
  {
   "cell_type": "markdown",
   "metadata": {},
   "source": [
    "**This is the end of this exercise.**\n",
    "\n",
    "Of course there are many more functions, like joins, etc. We will encounter some of them in the next exercise."
   ]
  },
  {
   "cell_type": "code",
   "execution_count": null,
   "metadata": {},
   "outputs": [],
   "source": []
  }
 ],
 "metadata": {
  "kernelspec": {
   "display_name": "Python 3",
   "language": "python",
   "name": "python3"
  },
  "language_info": {
   "codemirror_mode": {
    "name": "ipython",
    "version": 3
   },
   "file_extension": ".py",
   "mimetype": "text/x-python",
   "name": "python",
   "nbconvert_exporter": "python",
   "pygments_lexer": "ipython3",
   "version": "3.6.4"
  }
 },
 "nbformat": 4,
 "nbformat_minor": 2
}
