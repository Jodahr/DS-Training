{
 "cells": [
  {
   "cell_type": "markdown",
   "metadata": {},
   "source": [
    "# Regression models for House Pricing\n",
    "In the last exercise we have prepared our dataset so that we can feed it to a machine learning model for regression. Building such a regression model will be the task of this exercise.\n",
    "\n",
    "First, we **import** the standard libraries **numpy** as np and **pandas** as pd. Afterwards, we **read the pickled data** from the previous exercise. Therefore, use the Pandas method **read_pickle()** with the filenames 'house_train.pkl' and 'house_test.pkl' as the argument. Call the resulting dataframes **train** and **test**."
   ]
  },
  {
   "cell_type": "code",
   "execution_count": 1,
   "metadata": {
    "ExecuteTime": {
     "end_time": "2018-05-02T19:01:56.298807Z",
     "start_time": "2018-05-02T19:01:55.868413Z"
    }
   },
   "outputs": [],
   "source": [
    "# Import libraries\n",
    "import pandas as pd\n",
    "import numpy as np"
   ]
  },
  {
   "cell_type": "code",
   "execution_count": 9,
   "metadata": {
    "ExecuteTime": {
     "end_time": "2018-05-02T19:01:57.301659Z",
     "start_time": "2018-05-02T19:01:57.260834Z"
    }
   },
   "outputs": [],
   "source": [
    "# Load dataframes\n",
    "train = pd.read_pickle('../data/houses_train.pkl')\n",
    "test = pd.read_pickle('../data/houses_test.pkl')\n",
    "\n",
    "train_csv = pd.read_csv('../data/houses_train.csv', index_col=0)\n",
    "test_csv = pd.read_csv('../data/houses_test.csv', index_col=0)"
   ]
  },
  {
   "cell_type": "code",
   "execution_count": 10,
   "metadata": {},
   "outputs": [
    {
     "data": {
      "text/html": [
       "<div>\n",
       "<style scoped>\n",
       "    .dataframe tbody tr th:only-of-type {\n",
       "        vertical-align: middle;\n",
       "    }\n",
       "\n",
       "    .dataframe tbody tr th {\n",
       "        vertical-align: top;\n",
       "    }\n",
       "\n",
       "    .dataframe thead th {\n",
       "        text-align: right;\n",
       "    }\n",
       "</style>\n",
       "<table border=\"1\" class=\"dataframe\">\n",
       "  <thead>\n",
       "    <tr style=\"text-align: right;\">\n",
       "      <th></th>\n",
       "      <th>MSSubClass</th>\n",
       "      <th>LotArea</th>\n",
       "      <th>OverallQual</th>\n",
       "      <th>OverallCond</th>\n",
       "      <th>YearBuilt</th>\n",
       "      <th>YearRemodAdd</th>\n",
       "      <th>MasVnrArea</th>\n",
       "      <th>BsmtFinSF1</th>\n",
       "      <th>BsmtFinSF2</th>\n",
       "      <th>BsmtUnfSF</th>\n",
       "      <th>...</th>\n",
       "      <th>SaleType=ConLI</th>\n",
       "      <th>SaleType=ConLw</th>\n",
       "      <th>SaleType=New</th>\n",
       "      <th>SaleType=Oth</th>\n",
       "      <th>SaleType=WD</th>\n",
       "      <th>SaleCondition=AdjLand</th>\n",
       "      <th>SaleCondition=Alloca</th>\n",
       "      <th>SaleCondition=Family</th>\n",
       "      <th>SaleCondition=Normal</th>\n",
       "      <th>SaleCondition=Partial</th>\n",
       "    </tr>\n",
       "  </thead>\n",
       "  <tbody>\n",
       "    <tr>\n",
       "      <th>254</th>\n",
       "      <td>20.0</td>\n",
       "      <td>8400.0</td>\n",
       "      <td>5.0</td>\n",
       "      <td>6.0</td>\n",
       "      <td>1957.0</td>\n",
       "      <td>1957.0</td>\n",
       "      <td>0.0</td>\n",
       "      <td>922.0</td>\n",
       "      <td>0.0</td>\n",
       "      <td>392.0</td>\n",
       "      <td>...</td>\n",
       "      <td>0.0</td>\n",
       "      <td>0.0</td>\n",
       "      <td>0.0</td>\n",
       "      <td>0.0</td>\n",
       "      <td>1.0</td>\n",
       "      <td>0.0</td>\n",
       "      <td>0.0</td>\n",
       "      <td>0.0</td>\n",
       "      <td>1.0</td>\n",
       "      <td>0.0</td>\n",
       "    </tr>\n",
       "    <tr>\n",
       "      <th>1066</th>\n",
       "      <td>60.0</td>\n",
       "      <td>7837.0</td>\n",
       "      <td>6.0</td>\n",
       "      <td>7.0</td>\n",
       "      <td>1993.0</td>\n",
       "      <td>1994.0</td>\n",
       "      <td>0.0</td>\n",
       "      <td>0.0</td>\n",
       "      <td>0.0</td>\n",
       "      <td>799.0</td>\n",
       "      <td>...</td>\n",
       "      <td>0.0</td>\n",
       "      <td>0.0</td>\n",
       "      <td>0.0</td>\n",
       "      <td>0.0</td>\n",
       "      <td>1.0</td>\n",
       "      <td>0.0</td>\n",
       "      <td>0.0</td>\n",
       "      <td>0.0</td>\n",
       "      <td>1.0</td>\n",
       "      <td>0.0</td>\n",
       "    </tr>\n",
       "    <tr>\n",
       "      <th>638</th>\n",
       "      <td>30.0</td>\n",
       "      <td>8777.0</td>\n",
       "      <td>5.0</td>\n",
       "      <td>7.0</td>\n",
       "      <td>1910.0</td>\n",
       "      <td>1950.0</td>\n",
       "      <td>0.0</td>\n",
       "      <td>0.0</td>\n",
       "      <td>0.0</td>\n",
       "      <td>796.0</td>\n",
       "      <td>...</td>\n",
       "      <td>0.0</td>\n",
       "      <td>0.0</td>\n",
       "      <td>0.0</td>\n",
       "      <td>0.0</td>\n",
       "      <td>1.0</td>\n",
       "      <td>0.0</td>\n",
       "      <td>0.0</td>\n",
       "      <td>0.0</td>\n",
       "      <td>1.0</td>\n",
       "      <td>0.0</td>\n",
       "    </tr>\n",
       "    <tr>\n",
       "      <th>799</th>\n",
       "      <td>50.0</td>\n",
       "      <td>7200.0</td>\n",
       "      <td>5.0</td>\n",
       "      <td>7.0</td>\n",
       "      <td>1937.0</td>\n",
       "      <td>1950.0</td>\n",
       "      <td>252.0</td>\n",
       "      <td>569.0</td>\n",
       "      <td>0.0</td>\n",
       "      <td>162.0</td>\n",
       "      <td>...</td>\n",
       "      <td>0.0</td>\n",
       "      <td>0.0</td>\n",
       "      <td>0.0</td>\n",
       "      <td>0.0</td>\n",
       "      <td>1.0</td>\n",
       "      <td>0.0</td>\n",
       "      <td>0.0</td>\n",
       "      <td>0.0</td>\n",
       "      <td>1.0</td>\n",
       "      <td>0.0</td>\n",
       "    </tr>\n",
       "    <tr>\n",
       "      <th>380</th>\n",
       "      <td>50.0</td>\n",
       "      <td>5000.0</td>\n",
       "      <td>5.0</td>\n",
       "      <td>6.0</td>\n",
       "      <td>1924.0</td>\n",
       "      <td>1950.0</td>\n",
       "      <td>0.0</td>\n",
       "      <td>218.0</td>\n",
       "      <td>0.0</td>\n",
       "      <td>808.0</td>\n",
       "      <td>...</td>\n",
       "      <td>0.0</td>\n",
       "      <td>0.0</td>\n",
       "      <td>0.0</td>\n",
       "      <td>0.0</td>\n",
       "      <td>1.0</td>\n",
       "      <td>0.0</td>\n",
       "      <td>0.0</td>\n",
       "      <td>0.0</td>\n",
       "      <td>1.0</td>\n",
       "      <td>0.0</td>\n",
       "    </tr>\n",
       "  </tbody>\n",
       "</table>\n",
       "<p>5 rows × 243 columns</p>\n",
       "</div>"
      ],
      "text/plain": [
       "      MSSubClass  LotArea  OverallQual  OverallCond  YearBuilt  YearRemodAdd  \\\n",
       "254         20.0   8400.0          5.0          6.0     1957.0        1957.0   \n",
       "1066        60.0   7837.0          6.0          7.0     1993.0        1994.0   \n",
       "638         30.0   8777.0          5.0          7.0     1910.0        1950.0   \n",
       "799         50.0   7200.0          5.0          7.0     1937.0        1950.0   \n",
       "380         50.0   5000.0          5.0          6.0     1924.0        1950.0   \n",
       "\n",
       "      MasVnrArea  BsmtFinSF1  BsmtFinSF2  BsmtUnfSF  ...  SaleType=ConLI  \\\n",
       "254          0.0       922.0         0.0      392.0  ...             0.0   \n",
       "1066         0.0         0.0         0.0      799.0  ...             0.0   \n",
       "638          0.0         0.0         0.0      796.0  ...             0.0   \n",
       "799        252.0       569.0         0.0      162.0  ...             0.0   \n",
       "380          0.0       218.0         0.0      808.0  ...             0.0   \n",
       "\n",
       "      SaleType=ConLw  SaleType=New  SaleType=Oth  SaleType=WD  \\\n",
       "254              0.0           0.0           0.0          1.0   \n",
       "1066             0.0           0.0           0.0          1.0   \n",
       "638              0.0           0.0           0.0          1.0   \n",
       "799              0.0           0.0           0.0          1.0   \n",
       "380              0.0           0.0           0.0          1.0   \n",
       "\n",
       "      SaleCondition=AdjLand  SaleCondition=Alloca  SaleCondition=Family  \\\n",
       "254                     0.0                   0.0                   0.0   \n",
       "1066                    0.0                   0.0                   0.0   \n",
       "638                     0.0                   0.0                   0.0   \n",
       "799                     0.0                   0.0                   0.0   \n",
       "380                     0.0                   0.0                   0.0   \n",
       "\n",
       "      SaleCondition=Normal  SaleCondition=Partial  \n",
       "254                    1.0                    0.0  \n",
       "1066                   1.0                    0.0  \n",
       "638                    1.0                    0.0  \n",
       "799                    1.0                    0.0  \n",
       "380                    1.0                    0.0  \n",
       "\n",
       "[5 rows x 243 columns]"
      ]
     },
     "execution_count": 10,
     "metadata": {},
     "output_type": "execute_result"
    }
   ],
   "source": [
    "train_csv.head()"
   ]
  },
  {
   "cell_type": "markdown",
   "metadata": {},
   "source": [
    "Before we train a model let us **separate** the **features** and the **target**. Hence, **create** variables called **X_train** and **X_test** which include all the features from the training and test data, respectively, and variables called **y_train**, and **y_test** which contain only the target ('SalePrice')."
   ]
  },
  {
   "cell_type": "code",
   "execution_count": 7,
   "metadata": {},
   "outputs": [],
   "source": [
    "# Separate features and target\n",
    "#X_train = train.drop(['SalePrice'], axis=1)\n",
    "#X_test = test.drop(['SalePrice'], axis=1)\n",
    "#y_train = train['SalePrice']\n",
    "#y_test = test['SalePrice']"
   ]
  },
  {
   "cell_type": "code",
   "execution_count": 11,
   "metadata": {
    "ExecuteTime": {
     "end_time": "2018-05-02T19:02:00.910587Z",
     "start_time": "2018-05-02T19:02:00.888670Z"
    }
   },
   "outputs": [],
   "source": [
    "# Separate features and target\n",
    "X_train, X_test = train.drop(['SalePrice'], axis=1), test.drop(['SalePrice'], axis=1)\n",
    "y_train, y_test = train['SalePrice'], test['SalePrice']"
   ]
  },
  {
   "cell_type": "markdown",
   "metadata": {},
   "source": [
    "## Regression Tree\n",
    "Finally, we can train our first model: a regression tree. For this reason we import the following class:"
   ]
  },
  {
   "cell_type": "code",
   "execution_count": 12,
   "metadata": {
    "ExecuteTime": {
     "end_time": "2018-05-02T19:02:04.317730Z",
     "start_time": "2018-05-02T19:02:03.921247Z"
    }
   },
   "outputs": [],
   "source": [
    "# Just execute\n",
    "from sklearn.tree import DecisionTreeRegressor"
   ]
  },
  {
   "cell_type": "markdown",
   "metadata": {},
   "source": [
    "Please **create an object of that class called tree_reg**. As the argument of the constructor use **random_state=42**. For all the other parameters we use the default values. If you are interested in the possible arguments and default settings you can use 'Shift+Tab' or you may have a look at http://scikit-learn.org/stable/modules/generated/sklearn.tree.DecisionTreeRegressor.html."
   ]
  },
  {
   "cell_type": "code",
   "execution_count": 13,
   "metadata": {
    "ExecuteTime": {
     "end_time": "2018-05-02T19:02:05.653245Z",
     "start_time": "2018-05-02T19:02:05.649066Z"
    }
   },
   "outputs": [],
   "source": [
    "# Create object of class DecisionTreeRegressor\n",
    "tree_reg = DecisionTreeRegressor(random_state=42)"
   ]
  },
  {
   "cell_type": "markdown",
   "metadata": {},
   "source": [
    "Next, use the **fit(x,y)** method of the tree_reg object to train the model. As the argument use the training dataset **(X_train, y_train)**. The return value of that method is again the decision tree object, but this time with fitted model parameters."
   ]
  },
  {
   "cell_type": "code",
   "execution_count": 14,
   "metadata": {
    "ExecuteTime": {
     "end_time": "2018-05-02T19:02:07.615375Z",
     "start_time": "2018-05-02T19:02:07.572593Z"
    }
   },
   "outputs": [
    {
     "data": {
      "text/plain": [
       "DecisionTreeRegressor(ccp_alpha=0.0, criterion='mse', max_depth=None,\n",
       "                      max_features=None, max_leaf_nodes=None,\n",
       "                      min_impurity_decrease=0.0, min_impurity_split=None,\n",
       "                      min_samples_leaf=1, min_samples_split=2,\n",
       "                      min_weight_fraction_leaf=0.0, presort='deprecated',\n",
       "                      random_state=42, splitter='best')"
      ]
     },
     "execution_count": 14,
     "metadata": {},
     "output_type": "execute_result"
    }
   ],
   "source": [
    "# Train the model\n",
    "tree_reg.fit(X_train, y_train)"
   ]
  },
  {
   "cell_type": "markdown",
   "metadata": {},
   "source": [
    "Instead of a transform method like for the preprocessing objects (e.g. Imputer), machine learning models have **predict(X) methods**. For further details please have a look at the documentation.\n",
    "\n",
    "Next, we want to use that predict method to compute predictions for house prices on our test dataset. Hence, please use the **predict** method of the tree_reg object on the test data **X_test** and save the result to a variable called **y_pred**."
   ]
  },
  {
   "cell_type": "code",
   "execution_count": 15,
   "metadata": {
    "ExecuteTime": {
     "end_time": "2018-05-02T19:02:09.271649Z",
     "start_time": "2018-05-02T19:02:09.264687Z"
    }
   },
   "outputs": [
    {
     "data": {
      "text/plain": [
       "array([148000., 410000., 109900., 210000., 377500.,  88000., 205000.,\n",
       "       130000.,  97000., 118964., 189950., 106500., 108500., 220000.,\n",
       "       179000., 135000., 185000., 135000., 113000., 179600., 104900.,\n",
       "       235128., 183200., 116000., 194000., 176432., 164990., 109900.,\n",
       "       168000., 196000., 128000., 242000., 169000., 100000., 256300.,\n",
       "       148000.,  91500., 170000., 290000., 116000., 105500., 263000.,\n",
       "       118000., 372500., 126500., 139000., 112500., 125000., 501837.,\n",
       "       128500., 105000., 184000., 124000., 424870., 140000., 214000.,\n",
       "       176000., 142500., 139950., 124000.,  72500., 168500., 354000.,\n",
       "       239000., 249700., 235000., 116050., 325624., 123600., 168500.,\n",
       "       118964., 125000., 121600., 110000., 555000., 179200., 290000.,\n",
       "       271900., 141000., 119900.,  89500.,  98300., 132250.,  82500.,\n",
       "       182900., 125000., 270000., 260000., 143000., 200141., 124900.,\n",
       "       197500., 127500., 294000.,  87000., 181000., 129900., 146000.,\n",
       "       221500., 200000., 157500., 193000., 383970., 116900., 223500.,\n",
       "       175000., 140000., 280000., 142500., 200000.,  88000., 123600.,\n",
       "       109000., 132000., 250000., 128500., 119000., 109900., 206900.,\n",
       "       257000., 184000., 143000., 178000., 210000., 217000., 123000.,\n",
       "       263000., 116000., 136500., 152000., 195000., 424870., 223500.,\n",
       "       128000.,  60000., 326000., 328900., 129900., 279500., 625000.,\n",
       "       325624., 120000., 189000., 217000., 180500., 106500., 222500.,\n",
       "       190000., 120500.,  61000., 130000., 180000., 210000., 125000.,\n",
       "        85000., 142600.,  85000., 132000., 127500., 135000., 202900.,\n",
       "       180500., 392500., 148000., 117000., 115000., 144000., 340000.,\n",
       "       325000., 215000., 315000.,  80000., 122500., 177000., 430000.,\n",
       "       149900., 132500., 185000., 105000., 177000., 143000., 109500.,\n",
       "       146000., 161000., 237000., 140000., 275000., 154000., 202665.,\n",
       "        97000., 125000.,  84500., 116050., 148000., 180000., 128500.,\n",
       "       220000., 107000., 227000., 119750., 302000., 234000., 138500.,\n",
       "       538000., 194000., 126000., 237000., 126500., 169000., 100000.,\n",
       "       238000., 137500.,  88000., 168500.,  82500., 372402., 172500.,\n",
       "       136500.,  85000., 113000., 149900., 202500., 175000., 110000.,\n",
       "       227000., 163000., 108500., 130000., 130500., 105000.,  97000.,\n",
       "       187500., 113000., 170000., 212000., 139000., 191000., 143000.,\n",
       "       200000., 125000., 134800., 263000., 237000., 342643., 195000.,\n",
       "       108000., 153000., 156000., 132500., 116050., 162900., 164990.,\n",
       "       128500., 110000., 139000., 140000., 110000., 110000., 130000.,\n",
       "       237000., 147000., 165000., 112500., 215000., 248328., 200000.,\n",
       "       165000., 140000., 126500., 184000., 315000., 202500., 239799.,\n",
       "       125000.,  90000., 153500., 130000., 378500., 218000., 190000.,\n",
       "       236000.,  86000., 186500., 108000., 394617., 174000., 235000.,\n",
       "       120000., 220000., 184000., 161500., 120000.])"
      ]
     },
     "execution_count": 15,
     "metadata": {},
     "output_type": "execute_result"
    }
   ],
   "source": [
    "# Compute predictions for the test data\n",
    "y_pred = tree_reg.predict(X_test)\n",
    "y_pred"
   ]
  },
  {
   "cell_type": "markdown",
   "metadata": {},
   "source": [
    "The return value is again a numpy array. We want to **compare** these values **to the true house prices** of the test dataset. For this reason, **construct** a dataframe called **results** which contains two columns: the true y values and the predictions. Call the two columns **'y_true'** and **'y_pred'**, respectively. Afterwards, print the first 10 values of the dataframe."
   ]
  },
  {
   "cell_type": "code",
   "execution_count": 16,
   "metadata": {
    "ExecuteTime": {
     "end_time": "2018-05-02T19:02:11.668833Z",
     "start_time": "2018-05-02T19:02:11.660333Z"
    }
   },
   "outputs": [
    {
     "data": {
      "text/html": [
       "<div>\n",
       "<style scoped>\n",
       "    .dataframe tbody tr th:only-of-type {\n",
       "        vertical-align: middle;\n",
       "    }\n",
       "\n",
       "    .dataframe tbody tr th {\n",
       "        vertical-align: top;\n",
       "    }\n",
       "\n",
       "    .dataframe thead th {\n",
       "        text-align: right;\n",
       "    }\n",
       "</style>\n",
       "<table border=\"1\" class=\"dataframe\">\n",
       "  <thead>\n",
       "    <tr style=\"text-align: right;\">\n",
       "      <th></th>\n",
       "      <th>y_true</th>\n",
       "      <th>y_pred</th>\n",
       "    </tr>\n",
       "  </thead>\n",
       "  <tbody>\n",
       "    <tr>\n",
       "      <th>892</th>\n",
       "      <td>154500.0</td>\n",
       "      <td>148000.0</td>\n",
       "    </tr>\n",
       "    <tr>\n",
       "      <th>1105</th>\n",
       "      <td>325000.0</td>\n",
       "      <td>410000.0</td>\n",
       "    </tr>\n",
       "    <tr>\n",
       "      <th>413</th>\n",
       "      <td>115000.0</td>\n",
       "      <td>109900.0</td>\n",
       "    </tr>\n",
       "    <tr>\n",
       "      <th>522</th>\n",
       "      <td>159000.0</td>\n",
       "      <td>210000.0</td>\n",
       "    </tr>\n",
       "    <tr>\n",
       "      <th>1036</th>\n",
       "      <td>315500.0</td>\n",
       "      <td>377500.0</td>\n",
       "    </tr>\n",
       "    <tr>\n",
       "      <th>614</th>\n",
       "      <td>75500.0</td>\n",
       "      <td>88000.0</td>\n",
       "    </tr>\n",
       "    <tr>\n",
       "      <th>218</th>\n",
       "      <td>311500.0</td>\n",
       "      <td>205000.0</td>\n",
       "    </tr>\n",
       "    <tr>\n",
       "      <th>1160</th>\n",
       "      <td>146000.0</td>\n",
       "      <td>130000.0</td>\n",
       "    </tr>\n",
       "    <tr>\n",
       "      <th>649</th>\n",
       "      <td>84500.0</td>\n",
       "      <td>97000.0</td>\n",
       "    </tr>\n",
       "    <tr>\n",
       "      <th>887</th>\n",
       "      <td>135500.0</td>\n",
       "      <td>118964.0</td>\n",
       "    </tr>\n",
       "  </tbody>\n",
       "</table>\n",
       "</div>"
      ],
      "text/plain": [
       "        y_true    y_pred\n",
       "892   154500.0  148000.0\n",
       "1105  325000.0  410000.0\n",
       "413   115000.0  109900.0\n",
       "522   159000.0  210000.0\n",
       "1036  315500.0  377500.0\n",
       "614    75500.0   88000.0\n",
       "218   311500.0  205000.0\n",
       "1160  146000.0  130000.0\n",
       "649    84500.0   97000.0\n",
       "887   135500.0  118964.0"
      ]
     },
     "execution_count": 16,
     "metadata": {},
     "output_type": "execute_result"
    }
   ],
   "source": [
    "# Create result dataframe\n",
    "results = pd.DataFrame({'y_true': y_test, 'y_pred': y_pred})\n",
    "results.head(10)"
   ]
  },
  {
   "cell_type": "markdown",
   "metadata": {},
   "source": [
    "### Evaluation of our Results"
   ]
  },
  {
   "cell_type": "markdown",
   "metadata": {},
   "source": [
    "At a first glance our results do not look that bad. Of course, we want to quantify the performance of the regression model by using a **performance metric**. One common metric, which has also been used by the construction of the regression tree, is the **mean squared error** (mse) which is the squared sum of the residuals. Please, perform the following steps to compute the mse: first, **add a new column called 'residuals'** which contains the residuals (**differences between y_pred and y_true**) to the results dataframe. Afterwards, take the **mean of the squared residuals** by using the mean function of numpy."
   ]
  },
  {
   "cell_type": "code",
   "execution_count": 17,
   "metadata": {
    "ExecuteTime": {
     "end_time": "2018-05-02T19:02:14.025645Z",
     "start_time": "2018-05-02T19:02:13.933611Z"
    }
   },
   "outputs": [
    {
     "data": {
      "text/plain": [
       "2162372855.6061645"
      ]
     },
     "execution_count": 17,
     "metadata": {},
     "output_type": "execute_result"
    }
   ],
   "source": [
    "# Compute residuals and mse\n",
    "results['residuals'] = (results['y_pred'] - results['y_true'])\n",
    "np.mean(results['residuals']**2)"
   ]
  },
  {
   "cell_type": "markdown",
   "metadata": {},
   "source": [
    "Of course, we do not have to compute that metric manually ever time. **Sklearn provides a lot of different metrics** for regression and classification. Please, **import** the function **mean_squared_error** from the module **sklearn.metrics**. Afterwards, use that function to **crosscheck your result**. Furthermore, take the square root of the result. This gives the **root mean squared error** (rmse). It represents the sample standard deviation of the differences between predicted values and observed values."
   ]
  },
  {
   "cell_type": "code",
   "execution_count": 18,
   "metadata": {
    "ExecuteTime": {
     "end_time": "2018-05-02T19:02:15.571502Z",
     "start_time": "2018-05-02T19:02:15.569320Z"
    }
   },
   "outputs": [],
   "source": [
    "# Import mse function\n",
    "from sklearn.metrics import mean_squared_error"
   ]
  },
  {
   "cell_type": "code",
   "execution_count": 19,
   "metadata": {
    "ExecuteTime": {
     "end_time": "2018-05-02T19:02:16.013896Z",
     "start_time": "2018-05-02T19:02:16.000793Z"
    }
   },
   "outputs": [
    {
     "name": "stdout",
     "output_type": "stream",
     "text": [
      "2162372855.6061645\n"
     ]
    },
    {
     "data": {
      "text/plain": [
       "46501.32100925913"
      ]
     },
     "execution_count": 19,
     "metadata": {},
     "output_type": "execute_result"
    }
   ],
   "source": [
    "# Compute mse\n",
    "print(mean_squared_error(y_test, y_pred))\n",
    "np.sqrt(mean_squared_error(y_test, y_pred))"
   ]
  },
  {
   "cell_type": "markdown",
   "metadata": {},
   "source": [
    "Hopefully, you got the same result.\n",
    "\n",
    "Next, let us **plot the predictions** against the true house price values. Therefore, you can use the **seaborn** function **lmplot**. As the arguments use **data=results** and **height=8** and set **x** and **y** to **'y_pred'** and **'y_true'**, respectively. However, do not forget to **import the module first** and to issue the command %matplotlib inline afterwards."
   ]
  },
  {
   "cell_type": "code",
   "execution_count": 20,
   "metadata": {
    "ExecuteTime": {
     "end_time": "2018-05-02T19:04:00.985401Z",
     "start_time": "2018-05-02T19:04:00.724786Z"
    }
   },
   "outputs": [],
   "source": [
    "# Import seaborn\n",
    "import seaborn as sns\n",
    "%matplotlib inline"
   ]
  },
  {
   "cell_type": "code",
   "execution_count": 22,
   "metadata": {},
   "outputs": [
    {
     "data": {
      "text/plain": [
       "<seaborn.axisgrid.FacetGrid at 0x7f4de102c6d8>"
      ]
     },
     "execution_count": 22,
     "metadata": {},
     "output_type": "execute_result"
    },
    {
     "data": {
      "image/png": "[encoded data removed]",
      "text/plain": [
       "<Figure size 576x576 with 1 Axes>"
      ]
     },
     "metadata": {
      "needs_background": "light"
     },
     "output_type": "display_data"
    }
   ],
   "source": [
    "# Create lmplot\n",
    "sns.lmplot(data=results, x='y_pred', y='y_true', height=8)"
   ]
  },
  {
   "cell_type": "markdown",
   "metadata": {},
   "source": [
    "The results do not look that bad. Of course, we can see **a few outliers** which are always hard to predict. For a perfect model all the points would lie on the angle bisector.\n",
    "\n",
    "Next, we look at the **distribution of the residuals**. Ideally, the residuals should be **normally distributed** around zero. If you will see a complete different shape you would have used a model which does not descibe the data very well and which is conceptually wrong. Can you think of an example?\n",
    "\n",
    "Please, use the function **distplot** of seaborn to look at the distribution of the residuals."
   ]
  },
  {
   "cell_type": "code",
   "execution_count": 23,
   "metadata": {
    "ExecuteTime": {
     "end_time": "2018-05-02T19:14:52.437294Z",
     "start_time": "2018-05-02T19:14:52.254490Z"
    }
   },
   "outputs": [
    {
     "data": {
      "text/plain": [
       "<matplotlib.axes._subplots.AxesSubplot at 0x7f4ddf772278>"
      ]
     },
     "execution_count": 23,
     "metadata": {},
     "output_type": "execute_result"
    },
    {
     "data": {
      "image/png": "[encoded data removed]",
      "text/plain": [
       "<Figure size 842.4x595.44 with 1 Axes>"
      ]
     },
     "metadata": {
      "needs_background": "light"
     },
     "output_type": "display_data"
    }
   ],
   "source": [
    "# Plot distribution of the residuals\n",
    "from matplotlib import pyplot as plt\n",
    "fig, ax = plt.subplots()\n",
    "fig.set_size_inches(11.7, 8.27)\n",
    "#fig.fig_size=(16,20)\n",
    "sns.distplot(results['residuals'], ax=ax, kde=True, bins=30)"
   ]
  },
  {
   "cell_type": "markdown",
   "metadata": {},
   "source": [
    "This looks a bit like a normal distribution. However, we have large residuals for some outliers. Furthermore, the distribution is slighly right skewed. Do you have any idea why this could be the case?"
   ]
  },
  {
   "cell_type": "code",
   "execution_count": 24,
   "metadata": {},
   "outputs": [
    {
     "data": {
      "text/plain": [
       "0.5210960360601105"
      ]
     },
     "execution_count": 24,
     "metadata": {},
     "output_type": "execute_result"
    }
   ],
   "source": [
    "# solution\n",
    "# right skewed\n",
    "(results['y_true'] - results['y_pred']).skew()"
   ]
  },
  {
   "cell_type": "markdown",
   "metadata": {},
   "source": [
    "During the theory part we have seen another performance measure for regression, the **r2 score**, which can be seen as the proportion of **explained variance** of the target with our model.\n",
    "\n",
    "**Bonus:**\n",
    "\n",
    "First, compute this score by hand. Therefore, compute the **sum of all squared residuals** and **divide it by the total sum of squares (proportional to the variance of y_true)**. Afterwards, **subtract the result from the value one**. Crosscheck your result with the **r2_score** function from the modul **sklearn.metrics**. The formula is given by\n",
    "\n",
    "$$ r^2 = 1 - \\frac{\\sum_i residuals_i^2}{\\sum_i(y_{true,i}- \\bar{y}_{true})^2}, $$\n",
    "\n",
    "where $\\bar{y}_{true}$ represents the mean value of the observations."
   ]
  },
  {
   "cell_type": "code",
   "execution_count": 25,
   "metadata": {
    "ExecuteTime": {
     "end_time": "2018-05-02T19:24:05.336414Z",
     "start_time": "2018-05-02T19:24:05.319211Z"
    }
   },
   "outputs": [
    {
     "data": {
      "text/plain": [
       "0.7180859330884763"
      ]
     },
     "execution_count": 25,
     "metadata": {},
     "output_type": "execute_result"
    }
   ],
   "source": [
    "# Compute r2 score by hand\n",
    "\n",
    "# variance\n",
    "numerator = (results['residuals']**2).sum()\n",
    "numerator\n",
    "\n",
    "denominator = ((results['y_true'] - results['y_true'].mean())**2).sum()\n",
    "denominator\n",
    "#denominator = (y_test.size)*np.var(y_test, axis=0)\n",
    "#denominator = (y_test.size -1)*results['y_true'].var()\n",
    "\n",
    "1 - numerator/denominator"
   ]
  },
  {
   "cell_type": "code",
   "execution_count": 26,
   "metadata": {},
   "outputs": [],
   "source": [
    "import sklearn.metrics"
   ]
  },
  {
   "cell_type": "code",
   "execution_count": 27,
   "metadata": {},
   "outputs": [],
   "source": [
    "#sklearn.metrics.r2_score()"
   ]
  },
  {
   "cell_type": "code",
   "execution_count": 28,
   "metadata": {
    "ExecuteTime": {
     "end_time": "2018-05-02T19:23:45.826136Z",
     "start_time": "2018-05-02T19:23:45.818677Z"
    }
   },
   "outputs": [
    {
     "data": {
      "text/plain": [
       "0.7180859330884763"
      ]
     },
     "execution_count": 28,
     "metadata": {},
     "output_type": "execute_result"
    }
   ],
   "source": [
    "# Compute r2_score with sklearn function\n",
    "from sklearn.metrics import r2_score\n",
    "r2_score(y_test, y_pred)"
   ]
  },
  {
   "cell_type": "markdown",
   "metadata": {},
   "source": [
    "Actually, the mean squared error is not the best metric for our target variable although our model uses this measure during training. **Can you think of any problem with the mean squared error regarding the shape of our target**?"
   ]
  },
  {
   "cell_type": "code",
   "execution_count": 29,
   "metadata": {
    "ExecuteTime": {
     "end_time": "2018-05-02T19:33:40.737593Z",
     "start_time": "2018-05-02T19:33:40.731580Z"
    }
   },
   "outputs": [],
   "source": [
    "# solution\n",
    "# If we make an error of 10% in the large house price region\n",
    "# it contributes much more to the squared error than the same error (in percentage)\n",
    "# in the low price region."
   ]
  },
  {
   "cell_type": "markdown",
   "metadata": {},
   "source": [
    "Maybe you came up with the actual problem. If not, we will explain that later during the discussion of the exercise. A possible solution to overcome this problem is taking the log of the house prices and using it as the new target.\n",
    "\n",
    "Please, **create a new target variable** **y_test_log** and **y_train_log**. Afterwards, **retrain the model** and compute again the **lmplot** and the **r2_score** with the log data. \n",
    "\n",
    "**Hint**: Use np.log() and np.exp() for the transformations."
   ]
  },
  {
   "cell_type": "code",
   "execution_count": 30,
   "metadata": {
    "ExecuteTime": {
     "end_time": "2018-05-02T19:37:09.976401Z",
     "start_time": "2018-05-02T19:37:09.972408Z"
    }
   },
   "outputs": [],
   "source": [
    "# Compute the log of the target variable\n",
    "y_test_log = np.log(y_test)\n",
    "y_train_log = np.log(y_train)"
   ]
  },
  {
   "cell_type": "markdown",
   "metadata": {},
   "source": [
    "Train another model called **tree_reg_log** using the logarithmic target.\n",
    "\n",
    "**Remark**: Instanciate a new DecisonTreeRegressor. Set the random_state again to 42."
   ]
  },
  {
   "cell_type": "code",
   "execution_count": 31,
   "metadata": {
    "ExecuteTime": {
     "end_time": "2018-05-02T19:42:57.411845Z",
     "start_time": "2018-05-02T19:42:57.375734Z"
    }
   },
   "outputs": [
    {
     "data": {
      "text/plain": [
       "DecisionTreeRegressor(ccp_alpha=0.0, criterion='mse', max_depth=None,\n",
       "                      max_features=None, max_leaf_nodes=None,\n",
       "                      min_impurity_decrease=0.0, min_impurity_split=None,\n",
       "                      min_samples_leaf=1, min_samples_split=2,\n",
       "                      min_weight_fraction_leaf=0.0, presort='deprecated',\n",
       "                      random_state=42, splitter='best')"
      ]
     },
     "execution_count": 31,
     "metadata": {},
     "output_type": "execute_result"
    }
   ],
   "source": [
    "# Train a new model\n",
    "tree_reg_log = DecisionTreeRegressor(random_state=42)\n",
    "tree_reg_log.fit(X_train, y_train_log)"
   ]
  },
  {
   "cell_type": "markdown",
   "metadata": {},
   "source": [
    "Compute the logarithmic predictions using the test dataset."
   ]
  },
  {
   "cell_type": "code",
   "execution_count": 32,
   "metadata": {
    "ExecuteTime": {
     "end_time": "2018-05-02T19:43:24.141429Z",
     "start_time": "2018-05-02T19:43:24.133843Z"
    }
   },
   "outputs": [],
   "source": [
    "# Compute log predictions on test data\n",
    "y_pred_log = tree_reg_log.predict(X_test)"
   ]
  },
  {
   "cell_type": "markdown",
   "metadata": {},
   "source": [
    "Add **two more columns** to the result dataframe containing the **logarithmic predictions** and **true logarithmic house price values**. Call the columns 'y_true_log' and 'y_pred_log'."
   ]
  },
  {
   "cell_type": "code",
   "execution_count": 33,
   "metadata": {
    "ExecuteTime": {
     "end_time": "2018-05-02T19:46:06.882775Z",
     "start_time": "2018-05-02T19:46:06.878301Z"
    }
   },
   "outputs": [],
   "source": [
    "# Add result columns\n",
    "results['y_true_log'] = y_test_log\n",
    "results['y_pred_log'] = y_pred_log"
   ]
  },
  {
   "cell_type": "markdown",
   "metadata": {},
   "source": [
    "Compute the r2_score for the log predictions and on the original data.\n",
    "\n",
    "**Hint**: Use the inverse transformation."
   ]
  },
  {
   "cell_type": "code",
   "execution_count": 34,
   "metadata": {
    "ExecuteTime": {
     "end_time": "2018-05-02T19:48:33.953352Z",
     "start_time": "2018-05-02T19:48:33.947668Z"
    }
   },
   "outputs": [
    {
     "data": {
      "text/plain": [
       "0.7917915359861474"
      ]
     },
     "execution_count": 34,
     "metadata": {},
     "output_type": "execute_result"
    }
   ],
   "source": [
    "# log r2\n",
    "r2_score(y_test_log, y_pred_log)"
   ]
  },
  {
   "cell_type": "markdown",
   "metadata": {},
   "source": [
    "**Bonus**:\n",
    "\n",
    "Compute the r2_score, the mse and rmse on the backtransformation of the log predictions and log observations.\n",
    "\n",
    "**Hint**: Use the inverse transformation."
   ]
  },
  {
   "cell_type": "code",
   "execution_count": 35,
   "metadata": {},
   "outputs": [
    {
     "data": {
      "text/plain": [
       "0.8364887652567667"
      ]
     },
     "execution_count": 35,
     "metadata": {},
     "output_type": "execute_result"
    }
   ],
   "source": [
    "# original scale\n",
    "r2_score(np.exp(y_test_log), np.exp(y_pred_log))"
   ]
  },
  {
   "cell_type": "code",
   "execution_count": 36,
   "metadata": {},
   "outputs": [
    {
     "name": "stdout",
     "output_type": "stream",
     "text": [
      "1254184509.0205479\n"
     ]
    },
    {
     "data": {
      "text/plain": [
       "35414.46751005227"
      ]
     },
     "execution_count": 36,
     "metadata": {},
     "output_type": "execute_result"
    }
   ],
   "source": [
    "# mse\n",
    "print(mean_squared_error(np.exp(y_pred_log), np.exp(y_test_log)))\n",
    "np.sqrt(mean_squared_error(np.exp(y_pred_log), np.exp(y_test_log)))"
   ]
  },
  {
   "cell_type": "markdown",
   "metadata": {},
   "source": [
    "Use lmplot to plot the log predictions against the true values."
   ]
  },
  {
   "cell_type": "code",
   "execution_count": 38,
   "metadata": {
    "ExecuteTime": {
     "end_time": "2018-05-02T19:52:30.063175Z",
     "start_time": "2018-05-02T19:52:29.763539Z"
    }
   },
   "outputs": [
    {
     "data": {
      "text/plain": [
       "<seaborn.axisgrid.FacetGrid at 0x7f4ddf689da0>"
      ]
     },
     "execution_count": 38,
     "metadata": {},
     "output_type": "execute_result"
    },
    {
     "data": {
      "image/png": "[encoded data removed]",
      "text/plain": [
       "<Figure size 576x576 with 1 Axes>"
      ]
     },
     "metadata": {
      "needs_background": "light"
     },
     "output_type": "display_data"
    }
   ],
   "source": [
    "sns.lmplot(data=results, x='y_pred_log', y='y_true_log', height=8)"
   ]
  },
  {
   "cell_type": "markdown",
   "metadata": {},
   "source": [
    "**Bonus**: \n",
    "\n",
    "Plot the distribution of the logarithmic residuals and of the back transformed residuals.\n",
    "\n",
    "Furthermore, do the following: \n",
    "\n",
    "Think of a regression model with a single feature X and a target label y. If you train a regression tree, how many dimensions does the hyperrectangle have? To solve this task, please draw a scatter plot with a linear relationship between X and y. Furthermore, draw (in a qualitative way) four hyperrectangles into the graph and the regression predictions of the regression tree. In addition, draw a regression line of a linear model."
   ]
  },
  {
   "cell_type": "code",
   "execution_count": 39,
   "metadata": {
    "ExecuteTime": {
     "end_time": "2018-05-02T19:54:40.874014Z",
     "start_time": "2018-05-02T19:54:40.740495Z"
    }
   },
   "outputs": [
    {
     "data": {
      "text/plain": [
       "<matplotlib.axes._subplots.AxesSubplot at 0x7f4ddf61bbe0>"
      ]
     },
     "execution_count": 39,
     "metadata": {},
     "output_type": "execute_result"
    },
    {
     "data": {
      "image/png": "[encoded data removed]",
      "text/plain": [
       "<Figure size 432x288 with 1 Axes>"
      ]
     },
     "metadata": {
      "needs_background": "light"
     },
     "output_type": "display_data"
    }
   ],
   "source": [
    "# Log residuals\n",
    "sns.distplot(results['y_pred_log'] - results['y_true_log'])"
   ]
  },
  {
   "cell_type": "code",
   "execution_count": 40,
   "metadata": {},
   "outputs": [
    {
     "data": {
      "text/plain": [
       "-0.1892336541408263"
      ]
     },
     "execution_count": 40,
     "metadata": {},
     "output_type": "execute_result"
    }
   ],
   "source": [
    "# Left skewed\n",
    "(results['y_pred_log'] - results['y_true_log']).skew()\n",
    "(np.exp(results['y_pred_log']) - np.exp(results['y_true_log'])).skew()"
   ]
  },
  {
   "cell_type": "code",
   "execution_count": 41,
   "metadata": {
    "ExecuteTime": {
     "end_time": "2018-05-02T19:55:24.091310Z",
     "start_time": "2018-05-02T19:55:23.944065Z"
    }
   },
   "outputs": [
    {
     "data": {
      "text/plain": [
       "<matplotlib.axes._subplots.AxesSubplot at 0x7f4ddf552828>"
      ]
     },
     "execution_count": 41,
     "metadata": {},
     "output_type": "execute_result"
    },
    {
     "data": {
      "image/png": "[encoded data removed]",
      "text/plain": [
       "<Figure size 432x288 with 1 Axes>"
      ]
     },
     "metadata": {
      "needs_background": "light"
     },
     "output_type": "display_data"
    }
   ],
   "source": [
    "# Backtransformed residuals\n",
    "sns.distplot(np.exp(results['y_true_log']) - np.exp(results['y_pred_log']))"
   ]
  },
  {
   "cell_type": "markdown",
   "metadata": {},
   "source": [
    "### Visualization of the regression tree"
   ]
  },
  {
   "cell_type": "markdown",
   "metadata": {},
   "source": [
    "In this part we want to visualize a regression tree. Since the previously trained trees have been built completely and not been pruned, the resulting plot would be way too large. Hence, we train another tree by setting the hyperparameter **max_depth** to **4**. Please create such a tree. Call the object **reg_tree_fixedDepth** and set the **random_state to 42**."
   ]
  },
  {
   "cell_type": "code",
   "execution_count": 42,
   "metadata": {
    "ExecuteTime": {
     "end_time": "2018-05-02T20:19:07.082655Z",
     "start_time": "2018-05-02T20:19:07.080565Z"
    }
   },
   "outputs": [],
   "source": [
    "# Instanciate a tree with fixed max depth\n",
    "reg_tree_fixedDepth = DecisionTreeRegressor(max_depth=4, random_state=42)"
   ]
  },
  {
   "cell_type": "markdown",
   "metadata": {},
   "source": [
    "Train the new tree on the log data."
   ]
  },
  {
   "cell_type": "code",
   "execution_count": 43,
   "metadata": {
    "ExecuteTime": {
     "end_time": "2018-05-02T20:19:07.797546Z",
     "start_time": "2018-05-02T20:19:07.782202Z"
    }
   },
   "outputs": [
    {
     "data": {
      "text/plain": [
       "DecisionTreeRegressor(ccp_alpha=0.0, criterion='mse', max_depth=4,\n",
       "                      max_features=None, max_leaf_nodes=None,\n",
       "                      min_impurity_decrease=0.0, min_impurity_split=None,\n",
       "                      min_samples_leaf=1, min_samples_split=2,\n",
       "                      min_weight_fraction_leaf=0.0, presort='deprecated',\n",
       "                      random_state=42, splitter='best')"
      ]
     },
     "execution_count": 43,
     "metadata": {},
     "output_type": "execute_result"
    }
   ],
   "source": [
    "# Train tree\n",
    "reg_tree_fixedDepth.fit(X_train, y_train_log)"
   ]
  },
  {
   "cell_type": "markdown",
   "metadata": {},
   "source": [
    "To visualize the tree we have to **import** the module **export_graphiz** **from** the module **sklearn.tree**. Please do so."
   ]
  },
  {
   "cell_type": "code",
   "execution_count": 44,
   "metadata": {
    "ExecuteTime": {
     "end_time": "2018-05-02T20:19:08.408500Z",
     "start_time": "2018-05-02T20:19:08.406373Z"
    }
   },
   "outputs": [],
   "source": [
    "# Import export_graphiz\n",
    "from sklearn.tree import export_graphviz"
   ]
  },
  {
   "cell_type": "markdown",
   "metadata": {},
   "source": [
    "To export the tree, just execute the command below. Make sure that your tree object has exactly the same variable name."
   ]
  },
  {
   "cell_type": "code",
   "execution_count": 47,
   "metadata": {
    "ExecuteTime": {
     "end_time": "2018-05-02T20:19:08.912433Z",
     "start_time": "2018-05-02T20:19:08.905675Z"
    }
   },
   "outputs": [],
   "source": [
    "# Just execute\n",
    "export_graphviz(reg_tree_fixedDepth, out_file=\"tree_4_reg.dot\",\n",
    "                feature_names=X_train.columns.tolist(),\n",
    "                filled=True, rounded=True)"
   ]
  },
  {
   "cell_type": "markdown",
   "metadata": {},
   "source": [
    "Next, we have to render the tree.dot file. Therefore, we have to install another package. Open a terminal and execute the command **sudo apt install graphviz**. If the package has been installed, you can execute the command in the cell below. Afterwards, you should find an image of the tree in your jupyter home folder.\n",
    "\n",
    "**Remark:** If you cannot install the package, you can copy the content of the tree.dot file to a web application http://webgraphviz.com/.\n",
    "\n",
    "Can you describe the decision tree?\n",
    "\n",
    "**Bonus**: Please try to recompute some of the *samples* and *values* for the first two levels. Remember, that the tree shows values of the training dataset and not the test dataset."
   ]
  },
  {
   "cell_type": "code",
   "execution_count": 48,
   "metadata": {},
   "outputs": [],
   "source": [
    "%%bash\n",
    "dot -Tpng tree_4_reg.dot -o tree_4_reg.png"
   ]
  },
  {
   "cell_type": "code",
   "execution_count": 49,
   "metadata": {},
   "outputs": [
    {
     "name": "stdout",
     "output_type": "stream",
     "text": [
      "0.1524443883027606\n",
      "1168\n",
      "12.0306518833246\n"
     ]
    }
   ],
   "source": [
    "# First level\n",
    "y_train_log_mean = y_train_log.mean()\n",
    "y_train_log_mean\n",
    "print(((y_train_log - y_train_log_mean)**2).sum() * 1 / y_train_log.size)\n",
    "print(y_train_log.size)\n",
    "print(y_train_log_mean)"
   ]
  },
  {
   "cell_type": "code",
   "execution_count": 50,
   "metadata": {},
   "outputs": [
    {
     "name": "stdout",
     "output_type": "stream",
     "text": [
      "0.08018976127922274\n",
      "726\n",
      "11.82627265070141\n"
     ]
    }
   ],
   "source": [
    "# Left data\n",
    "full_data = X_train.join(y_train_log)\n",
    "value = full_data[full_data.OverallQual <= 6.5]['SalePrice'].mean()\n",
    "print(((full_data[full_data.OverallQual <= 6.5]['SalePrice'] - value)**2).sum() \n",
    "      * 1 / full_data[full_data.OverallQual <= 6.5]['SalePrice'].size)\n",
    "print(full_data[full_data.OverallQual <= 6.5]['SalePrice'].size)\n",
    "print(value)"
   ]
  },
  {
   "cell_type": "code",
   "execution_count": 51,
   "metadata": {},
   "outputs": [
    {
     "name": "stdout",
     "output_type": "stream",
     "text": [
      "0.08982061967425937\n",
      "442\n",
      "12.366351708854987\n"
     ]
    }
   ],
   "source": [
    "# Right data\n",
    "full_data = X_train.join(y_train_log)\n",
    "value = full_data[full_data.OverallQual > 6.5]['SalePrice'].mean()\n",
    "print(((full_data[full_data.OverallQual > 6.5]['SalePrice'] - value)**2).sum() \n",
    "      * 1 / full_data[full_data.OverallQual > 6.5]['SalePrice'].size)\n",
    "print(full_data[full_data.OverallQual > 6.5]['SalePrice'].size)\n",
    "print(value)"
   ]
  },
  {
   "cell_type": "markdown",
   "metadata": {
    "ExecuteTime": {
     "end_time": "2018-05-02T20:33:40.171126Z",
     "start_time": "2018-05-02T20:33:40.169248Z"
    }
   },
   "source": [
    "## Random Forest"
   ]
  },
  {
   "cell_type": "markdown",
   "metadata": {},
   "source": [
    "During the theory part we have already learned that a single tree overfits the data pretty often. Hence, an ensemble of uncorrelated trees like the random forest could be a better choice.\n",
    "\n",
    "Please **import** the **RandomForestRegressor** from the module **sklearn.ensemble** and create an object **rf_reg**. Afterwards, train the model on the log data and compute the r2 score on the log data.\n",
    "\n",
    "**Remark**: Set the random_state again to 42."
   ]
  },
  {
   "cell_type": "code",
   "execution_count": 52,
   "metadata": {
    "ExecuteTime": {
     "end_time": "2018-05-02T20:42:14.863725Z",
     "start_time": "2018-05-02T20:42:14.860799Z"
    }
   },
   "outputs": [],
   "source": [
    "# Import Random Forest\n",
    "from sklearn.ensemble import RandomForestRegressor"
   ]
  },
  {
   "cell_type": "code",
   "execution_count": 53,
   "metadata": {
    "ExecuteTime": {
     "end_time": "2018-05-02T20:42:24.410469Z",
     "start_time": "2018-05-02T20:42:24.404946Z"
    }
   },
   "outputs": [],
   "source": [
    "# Create object rf_reg\n",
    "rf_reg = RandomForestRegressor(random_state=42)"
   ]
  },
  {
   "cell_type": "code",
   "execution_count": 54,
   "metadata": {
    "ExecuteTime": {
     "end_time": "2018-05-02T20:42:54.045705Z",
     "start_time": "2018-05-02T20:42:53.845112Z"
    }
   },
   "outputs": [
    {
     "data": {
      "text/plain": [
       "RandomForestRegressor(bootstrap=True, ccp_alpha=0.0, criterion='mse',\n",
       "                      max_depth=None, max_features='auto', max_leaf_nodes=None,\n",
       "                      max_samples=None, min_impurity_decrease=0.0,\n",
       "                      min_impurity_split=None, min_samples_leaf=1,\n",
       "                      min_samples_split=2, min_weight_fraction_leaf=0.0,\n",
       "                      n_estimators=100, n_jobs=None, oob_score=False,\n",
       "                      random_state=42, verbose=0, warm_start=False)"
      ]
     },
     "execution_count": 54,
     "metadata": {},
     "output_type": "execute_result"
    }
   ],
   "source": [
    "# Train model on log data\n",
    "rf_reg.fit(X_train, y_train_log)"
   ]
  },
  {
   "cell_type": "code",
   "execution_count": 55,
   "metadata": {
    "ExecuteTime": {
     "end_time": "2018-05-02T20:44:46.122718Z",
     "start_time": "2018-05-02T20:44:46.114604Z"
    }
   },
   "outputs": [
    {
     "data": {
      "text/plain": [
       "0.8845658146516293"
      ]
     },
     "execution_count": 55,
     "metadata": {},
     "output_type": "execute_result"
    }
   ],
   "source": [
    "# Compute r2 score on log data\n",
    "y_pred_log = rf_reg.predict(X_test)\n",
    "r2_score(np.exp(y_test_log), np.exp(y_pred_log))"
   ]
  },
  {
   "cell_type": "code",
   "execution_count": 56,
   "metadata": {},
   "outputs": [
    {
     "data": {
      "text/plain": [
       "0.8830423908404399"
      ]
     },
     "execution_count": 56,
     "metadata": {},
     "output_type": "execute_result"
    }
   ],
   "source": [
    "# Compute r2 score on log data\n",
    "y_pred_log = rf_reg.predict(X_test)\n",
    "r2_score(y_test_log, y_pred_log)"
   ]
  },
  {
   "cell_type": "markdown",
   "metadata": {},
   "source": [
    "Hm, this is not much better. Maybe we should add more trees? Please, create **another RandomForest** and increase the **number of trees** to **n_estimators=1000** and set the **random_state** again to **42**. After the **model training** please compute again the **r2 score**."
   ]
  },
  {
   "cell_type": "code",
   "execution_count": 57,
   "metadata": {
    "ExecuteTime": {
     "end_time": "2018-05-02T20:52:21.689696Z",
     "start_time": "2018-05-02T20:52:03.181456Z"
    }
   },
   "outputs": [
    {
     "data": {
      "text/plain": [
       "0.8830423908404399"
      ]
     },
     "execution_count": 57,
     "metadata": {},
     "output_type": "execute_result"
    }
   ],
   "source": [
    "# Create random forest with more trees and retrain and reevaluate the model\n",
    "rf_reg = RandomForestRegressor(n_estimators=100, random_state=42, n_jobs=2)\n",
    "rf_reg.fit(X_train, y_train_log)\n",
    "y_pred_log = rf_reg.predict(X_test)\n",
    "r2_score(y_test_log, y_pred_log)"
   ]
  },
  {
   "cell_type": "markdown",
   "metadata": {},
   "source": [
    "Hm, not much better, but at least a bit. Adding more trees never hurts, except the computation performance. However, at some point more trees do not improve the model at all.\n",
    "\n",
    "### Feature Importance\n",
    "\n",
    "Now, let us go on to compute the **feature importance**. The most important feature is the one which has reduced the mean squared error the most considering all the splits. The random forest (and also the decision tree) has an **attribute** called **_feature_importances**.\n",
    "\n",
    "Please use that attribute and give the extracted result a new name called **feature_importances**. Afterwards, print the result."
   ]
  },
  {
   "cell_type": "code",
   "execution_count": 58,
   "metadata": {
    "ExecuteTime": {
     "end_time": "2018-05-02T20:56:41.547099Z",
     "start_time": "2018-05-02T20:56:41.490459Z"
    }
   },
   "outputs": [
    {
     "data": {
      "text/plain": [
       "array([2.04374921e-03, 1.62667888e-02, 5.48046046e-01, 1.01799888e-02,\n",
       "       1.48715107e-02, 9.48593484e-03, 2.25838701e-03, 2.30359332e-02,\n",
       "       3.48466884e-04, 6.30687674e-03, 4.42571543e-02, 1.96072025e-02,\n",
       "       7.39340524e-03, 1.10542320e-04, 1.14967333e-01, 9.30674595e-04,\n",
       "       3.36172216e-04, 1.14350521e-03, 9.29126558e-04, 1.77402769e-03,\n",
       "       1.49643457e-03, 2.49470772e-03, 5.33079262e-03, 4.19222557e-03,\n",
       "       4.17904477e-02, 2.39296996e-02, 4.11390258e-03, 7.46494337e-03,\n",
       "       1.86465645e-03, 6.64055197e-05, 8.77810902e-04, 2.08673979e-04,\n",
       "       1.52794855e-04, 3.98018289e-03, 1.69764085e-03, 5.77458155e-05,\n",
       "       9.68082310e-05, 1.02638155e-03, 2.44700205e-03, 6.91839861e-06,\n",
       "       7.02653450e-05, 2.58934935e-04, 1.49428750e-03, 2.03715847e-04,\n",
       "       1.22269764e-04, 5.78909330e-04, 1.68715041e-07, 1.03378025e-04,\n",
       "       1.18855571e-04, 3.85629269e-05, 5.40935671e-04, 4.77475197e-04,\n",
       "       3.66645986e-05, 0.00000000e+00, 1.71360462e-05, 1.11502883e-04,\n",
       "       1.25597039e-04, 3.18354541e-04, 6.66877753e-04, 1.03446698e-03,\n",
       "       3.73481592e-05, 1.39402243e-04, 8.54043507e-06, 1.28454961e-04,\n",
       "       3.35687388e-04, 9.34622582e-06, 1.23660912e-04, 2.18962429e-04,\n",
       "       2.57501222e-04, 6.05401756e-04, 1.44665598e-04, 1.45227237e-04,\n",
       "       5.69538610e-05, 1.85755872e-04, 7.06767214e-05, 6.74560742e-05,\n",
       "       4.85721029e-06, 2.77361189e-04, 6.27141139e-04, 2.85743853e-05,\n",
       "       3.56226484e-05, 9.14447005e-05, 1.95808616e-05, 6.04377095e-07,\n",
       "       9.46647424e-07, 1.18542562e-05, 4.93473240e-05, 3.36912202e-10,\n",
       "       4.44916593e-05, 0.00000000e+00, 2.07757297e-07, 0.00000000e+00,\n",
       "       7.66574330e-05, 7.08552512e-05, 6.47134434e-05, 8.53798443e-05,\n",
       "       2.93748176e-06, 1.91358506e-04, 1.43481881e-05, 9.33714292e-05,\n",
       "       1.26000602e-04, 5.89616082e-06, 3.17191492e-04, 5.14016574e-04,\n",
       "       8.34936077e-05, 3.22451049e-04, 6.28493331e-07, 0.00000000e+00,\n",
       "       2.10708447e-04, 0.00000000e+00, 2.94905338e-08, 6.21550717e-07,\n",
       "       4.78941404e-05, 7.60149349e-08, 1.71428738e-06, 6.36930500e-06,\n",
       "       4.57107963e-04, 2.16575919e-04, 0.00000000e+00, 4.76897346e-05,\n",
       "       2.20523201e-04, 1.86195691e-08, 3.93971681e-04, 1.37994852e-04,\n",
       "       3.36412085e-06, 9.03894718e-05, 4.75668844e-04, 1.93521230e-04,\n",
       "       2.19284232e-05, 4.02942922e-06, 2.00931759e-04, 1.46282943e-05,\n",
       "       6.13863853e-08, 1.80301078e-04, 1.21961371e-04, 4.86491449e-05,\n",
       "       1.82586220e-04, 3.94460756e-06, 2.12403756e-04, 8.76144470e-06,\n",
       "       9.13222034e-05, 7.63890668e-04, 2.96215766e-04, 8.77539258e-05,\n",
       "       2.23976246e-04, 2.81605370e-04, 2.12433894e-04, 2.01708863e-05,\n",
       "       7.56584444e-05, 6.01156161e-04, 6.95805072e-04, 3.62902616e-04,\n",
       "       4.18283448e-04, 1.40774065e-05, 6.00005991e-04, 4.39011805e-04,\n",
       "       4.66741681e-04, 5.40191009e-05, 4.50119659e-06, 1.26174231e-05,\n",
       "       2.28300120e-04, 3.33366013e-03, 4.07931750e-04, 3.01362943e-05,\n",
       "       2.57803327e-05, 7.20888296e-06, 7.33891079e-04, 5.86902519e-05,\n",
       "       1.20870219e-03, 1.19992156e-04, 8.66987961e-04, 3.87495190e-05,\n",
       "       2.60986122e-04, 7.27594054e-04, 1.89876662e-04, 3.21097258e-04,\n",
       "       2.48878377e-04, 3.43945128e-05, 4.23296460e-04, 6.88743448e-06,\n",
       "       7.18378224e-05, 2.90537368e-05, 1.65958568e-04, 3.96140731e-05,\n",
       "       1.85476351e-04, 3.56628631e-05, 3.97955245e-04, 1.21183001e-04,\n",
       "       8.41548546e-06, 1.26212295e-03, 4.39556325e-04, 3.91073742e-06,\n",
       "       6.89941784e-04, 1.72332766e-02, 1.07684034e-04, 1.28194356e-06,\n",
       "       0.00000000e+00, 4.76976596e-04, 2.06467524e-06, 1.82192665e-04,\n",
       "       1.19254905e-03, 8.44266087e-04, 3.64581817e-04, 8.47460479e-05,\n",
       "       2.58302096e-04, 2.96086950e-04, 3.67406094e-05, 9.22306733e-04,\n",
       "       2.59595735e-03, 4.37667224e-05, 1.48506342e-04, 1.80093409e-04,\n",
       "       4.92427314e-03, 4.14463685e-04, 5.07528106e-04, 2.26157956e-03,\n",
       "       1.51227176e-04, 2.40092548e-04, 1.53569361e-05, 2.69626357e-06,\n",
       "       6.62226616e-04, 1.28163211e-04, 5.89129412e-05, 5.33141029e-05,\n",
       "       1.67882726e-05, 7.29276348e-04, 2.43924518e-04, 1.34157428e-04,\n",
       "       4.49183992e-04, 1.22877737e-06, 7.65226592e-08, 7.84715751e-05,\n",
       "       5.48771506e-06, 6.46077548e-06, 1.82017181e-04, 1.70632630e-06,\n",
       "       2.87139393e-04, 1.79255957e-05, 4.66531015e-05, 6.55958803e-04,\n",
       "       1.00983816e-03, 1.88450654e-04])"
      ]
     },
     "execution_count": 58,
     "metadata": {},
     "output_type": "execute_result"
    }
   ],
   "source": [
    "# Extract feature importance\n",
    "feature_importances = rf_reg.feature_importances_\n",
    "feature_importances"
   ]
  },
  {
   "cell_type": "markdown",
   "metadata": {},
   "source": [
    "The result is an array which contains the proportion of the reduced mean squared error for each feature. Hence, summing over all values yields one. But which element corresponds to which feature? Fortunately, the order is the same as the column order in the feature dataframe X_train. Therefore, **extract the feature names** by accessing the **attribute columns** and transform it to a list by using the method **tolist()**. Call that list **features**."
   ]
  },
  {
   "cell_type": "code",
   "execution_count": 59,
   "metadata": {
    "ExecuteTime": {
     "end_time": "2018-05-02T21:01:12.598812Z",
     "start_time": "2018-05-02T21:01:12.595852Z"
    }
   },
   "outputs": [],
   "source": [
    "# Create feature list\n",
    "features = X_train.columns.tolist()"
   ]
  },
  {
   "cell_type": "markdown",
   "metadata": {},
   "source": [
    "Next, we want to combine the feature names and the feature importances. There are several methods to do that.\n",
    "\n",
    "One solution is creating a dataframe with those two columns:\n",
    "\n",
    "Create a **dataframe** called **importance_df** using the *dictionary method* (pd.DataFrame(dict)). As keys of the dict use **'feature'** and **'importance'**, as the data use the arrays/lists **features** and **feature_importances**, respectively. Finally, **sort the dataframe** by the importance value in descending order and print the result."
   ]
  },
  {
   "cell_type": "code",
   "execution_count": 60,
   "metadata": {
    "ExecuteTime": {
     "end_time": "2018-05-02T21:07:26.566911Z",
     "start_time": "2018-05-02T21:07:26.548489Z"
    },
    "scrolled": true
   },
   "outputs": [
    {
     "data": {
      "text/html": [
       "<div>\n",
       "<style scoped>\n",
       "    .dataframe tbody tr th:only-of-type {\n",
       "        vertical-align: middle;\n",
       "    }\n",
       "\n",
       "    .dataframe tbody tr th {\n",
       "        vertical-align: top;\n",
       "    }\n",
       "\n",
       "    .dataframe thead th {\n",
       "        text-align: right;\n",
       "    }\n",
       "</style>\n",
       "<table border=\"1\" class=\"dataframe\">\n",
       "  <thead>\n",
       "    <tr style=\"text-align: right;\">\n",
       "      <th></th>\n",
       "      <th>features</th>\n",
       "      <th>importance</th>\n",
       "    </tr>\n",
       "  </thead>\n",
       "  <tbody>\n",
       "    <tr>\n",
       "      <th>2</th>\n",
       "      <td>OverallQual</td>\n",
       "      <td>0.548046</td>\n",
       "    </tr>\n",
       "    <tr>\n",
       "      <th>14</th>\n",
       "      <td>GrLivArea</td>\n",
       "      <td>0.114967</td>\n",
       "    </tr>\n",
       "    <tr>\n",
       "      <th>10</th>\n",
       "      <td>TotalBsmtSF</td>\n",
       "      <td>0.044257</td>\n",
       "    </tr>\n",
       "    <tr>\n",
       "      <th>24</th>\n",
       "      <td>GarageCars</td>\n",
       "      <td>0.041790</td>\n",
       "    </tr>\n",
       "    <tr>\n",
       "      <th>25</th>\n",
       "      <td>GarageArea</td>\n",
       "      <td>0.023930</td>\n",
       "    </tr>\n",
       "    <tr>\n",
       "      <th>...</th>\n",
       "      <td>...</td>\n",
       "      <td>...</td>\n",
       "    </tr>\n",
       "    <tr>\n",
       "      <th>118</th>\n",
       "      <td>Exterior1st=CBlock</td>\n",
       "      <td>0.000000</td>\n",
       "    </tr>\n",
       "    <tr>\n",
       "      <th>107</th>\n",
       "      <td>RoofStyle=Shed</td>\n",
       "      <td>0.000000</td>\n",
       "    </tr>\n",
       "    <tr>\n",
       "      <th>53</th>\n",
       "      <td>Neighborhood=Blueste</td>\n",
       "      <td>0.000000</td>\n",
       "    </tr>\n",
       "    <tr>\n",
       "      <th>89</th>\n",
       "      <td>Condition2=RRAe</td>\n",
       "      <td>0.000000</td>\n",
       "    </tr>\n",
       "    <tr>\n",
       "      <th>91</th>\n",
       "      <td>Condition2=RRNn</td>\n",
       "      <td>0.000000</td>\n",
       "    </tr>\n",
       "  </tbody>\n",
       "</table>\n",
       "<p>242 rows × 2 columns</p>\n",
       "</div>"
      ],
      "text/plain": [
       "                 features  importance\n",
       "2             OverallQual    0.548046\n",
       "14              GrLivArea    0.114967\n",
       "10            TotalBsmtSF    0.044257\n",
       "24             GarageCars    0.041790\n",
       "25             GarageArea    0.023930\n",
       "..                    ...         ...\n",
       "118    Exterior1st=CBlock    0.000000\n",
       "107        RoofStyle=Shed    0.000000\n",
       "53   Neighborhood=Blueste    0.000000\n",
       "89        Condition2=RRAe    0.000000\n",
       "91        Condition2=RRNn    0.000000\n",
       "\n",
       "[242 rows x 2 columns]"
      ]
     },
     "execution_count": 60,
     "metadata": {},
     "output_type": "execute_result"
    }
   ],
   "source": [
    "# Create dataframe and sort it\n",
    "importance_df = pd.DataFrame({'features': features,\n",
    "                              'importance': feature_importances})\n",
    "importance_df.sort_values(by='importance', ascending=False)\n",
    "#list(zip(features, feature_importances))"
   ]
  },
  {
   "cell_type": "markdown",
   "metadata": {},
   "source": [
    "Here, we only see the impact of single categories of the categorical variables.\n",
    "\n",
    "**Bonus**: Can you sum all the values belonging to one categorical variable?\n",
    "\n",
    "**Hint**:\n",
    "\n",
    "1. Use apply method and the split function on the column importance_df[features]\n",
    "2. Use groupby, sum, and sort"
   ]
  },
  {
   "cell_type": "code",
   "execution_count": 61,
   "metadata": {
    "ExecuteTime": {
     "end_time": "2018-05-02T21:13:19.420816Z",
     "start_time": "2018-05-02T21:13:19.417714Z"
    }
   },
   "outputs": [],
   "source": [
    "# Create new column\n",
    "importance_df['features_split'] = importance_df['features']\\\n",
    "    .apply(lambda x: x.split('=')[0])"
   ]
  },
  {
   "cell_type": "code",
   "execution_count": 62,
   "metadata": {
    "ExecuteTime": {
     "end_time": "2018-05-02T21:18:07.508816Z",
     "start_time": "2018-05-02T21:18:07.498505Z"
    }
   },
   "outputs": [
    {
     "data": {
      "text/html": [
       "<div>\n",
       "<style scoped>\n",
       "    .dataframe tbody tr th:only-of-type {\n",
       "        vertical-align: middle;\n",
       "    }\n",
       "\n",
       "    .dataframe tbody tr th {\n",
       "        vertical-align: top;\n",
       "    }\n",
       "\n",
       "    .dataframe thead th {\n",
       "        text-align: right;\n",
       "    }\n",
       "</style>\n",
       "<table border=\"1\" class=\"dataframe\">\n",
       "  <thead>\n",
       "    <tr style=\"text-align: right;\">\n",
       "      <th></th>\n",
       "      <th>importance</th>\n",
       "    </tr>\n",
       "    <tr>\n",
       "      <th>features_split</th>\n",
       "      <th></th>\n",
       "    </tr>\n",
       "  </thead>\n",
       "  <tbody>\n",
       "    <tr>\n",
       "      <th>OverallQual</th>\n",
       "      <td>0.548046</td>\n",
       "    </tr>\n",
       "    <tr>\n",
       "      <th>GrLivArea</th>\n",
       "      <td>0.114967</td>\n",
       "    </tr>\n",
       "    <tr>\n",
       "      <th>TotalBsmtSF</th>\n",
       "      <td>0.044257</td>\n",
       "    </tr>\n",
       "    <tr>\n",
       "      <th>GarageCars</th>\n",
       "      <td>0.041790</td>\n",
       "    </tr>\n",
       "    <tr>\n",
       "      <th>GarageArea</th>\n",
       "      <td>0.023930</td>\n",
       "    </tr>\n",
       "    <tr>\n",
       "      <th>BsmtFinSF1</th>\n",
       "      <td>0.023036</td>\n",
       "    </tr>\n",
       "    <tr>\n",
       "      <th>1stFlrSF</th>\n",
       "      <td>0.019607</td>\n",
       "    </tr>\n",
       "    <tr>\n",
       "      <th>CentralAir</th>\n",
       "      <td>0.017233</td>\n",
       "    </tr>\n",
       "    <tr>\n",
       "      <th>LotArea</th>\n",
       "      <td>0.016267</td>\n",
       "    </tr>\n",
       "    <tr>\n",
       "      <th>YearBuilt</th>\n",
       "      <td>0.014872</td>\n",
       "    </tr>\n",
       "    <tr>\n",
       "      <th>OverallCond</th>\n",
       "      <td>0.010180</td>\n",
       "    </tr>\n",
       "    <tr>\n",
       "      <th>YearRemodAdd</th>\n",
       "      <td>0.009486</td>\n",
       "    </tr>\n",
       "    <tr>\n",
       "      <th>GarageType</th>\n",
       "      <td>0.008307</td>\n",
       "    </tr>\n",
       "    <tr>\n",
       "      <th>OpenPorchSF</th>\n",
       "      <td>0.007465</td>\n",
       "    </tr>\n",
       "    <tr>\n",
       "      <th>2ndFlrSF</th>\n",
       "      <td>0.007393</td>\n",
       "    </tr>\n",
       "  </tbody>\n",
       "</table>\n",
       "</div>"
      ],
      "text/plain": [
       "                importance\n",
       "features_split            \n",
       "OverallQual       0.548046\n",
       "GrLivArea         0.114967\n",
       "TotalBsmtSF       0.044257\n",
       "GarageCars        0.041790\n",
       "GarageArea        0.023930\n",
       "BsmtFinSF1        0.023036\n",
       "1stFlrSF          0.019607\n",
       "CentralAir        0.017233\n",
       "LotArea           0.016267\n",
       "YearBuilt         0.014872\n",
       "OverallCond       0.010180\n",
       "YearRemodAdd      0.009486\n",
       "GarageType        0.008307\n",
       "OpenPorchSF       0.007465\n",
       "2ndFlrSF          0.007393"
      ]
     },
     "execution_count": 62,
     "metadata": {},
     "output_type": "execute_result"
    }
   ],
   "source": [
    "# Compute sum\n",
    "importance_df.groupby('features_split').sum()\\\n",
    "    .sort_values('importance', ascending=False).head(15)"
   ]
  },
  {
   "cell_type": "markdown",
   "metadata": {},
   "source": [
    "### Bonus: Linear Regression\n",
    "Compute a linear Regression model. Therefore, load the model LinearRegression from the module sklearn.linear_model.\n",
    "Finally, compute the r2_score."
   ]
  },
  {
   "cell_type": "code",
   "execution_count": 63,
   "metadata": {
    "ExecuteTime": {
     "end_time": "2018-05-02T21:23:19.952856Z",
     "start_time": "2018-05-02T21:23:19.947888Z"
    }
   },
   "outputs": [],
   "source": [
    "# Import model and create instance\n",
    "from sklearn.linear_model import LinearRegression\n",
    "lr = LinearRegression()"
   ]
  },
  {
   "cell_type": "code",
   "execution_count": 64,
   "metadata": {
    "ExecuteTime": {
     "end_time": "2018-05-02T21:24:25.364490Z",
     "start_time": "2018-05-02T21:24:25.309202Z"
    }
   },
   "outputs": [
    {
     "data": {
      "text/plain": [
       "LinearRegression(copy_X=True, fit_intercept=True, n_jobs=None, normalize=False)"
      ]
     },
     "execution_count": 64,
     "metadata": {},
     "output_type": "execute_result"
    }
   ],
   "source": [
    "# Train model\n",
    "lr.fit(X_train, y_train_log)"
   ]
  },
  {
   "cell_type": "code",
   "execution_count": 65,
   "metadata": {
    "ExecuteTime": {
     "end_time": "2018-05-02T21:24:25.588669Z",
     "start_time": "2018-05-02T21:24:25.578718Z"
    }
   },
   "outputs": [],
   "source": [
    "# Compute predictions\n",
    "lr_pred = lr.predict(X_test)"
   ]
  },
  {
   "cell_type": "code",
   "execution_count": 66,
   "metadata": {
    "ExecuteTime": {
     "end_time": "2018-05-02T21:24:39.107137Z",
     "start_time": "2018-05-02T21:24:39.098944Z"
    }
   },
   "outputs": [
    {
     "data": {
      "text/plain": [
       "0.7665083862613947"
      ]
     },
     "execution_count": 66,
     "metadata": {},
     "output_type": "execute_result"
    }
   ],
   "source": [
    "# Compute r2_score\n",
    "r2_score(y_test_log, lr_pred)"
   ]
  },
  {
   "cell_type": "code",
   "execution_count": 67,
   "metadata": {
    "ExecuteTime": {
     "end_time": "2018-05-02T21:25:30.271889Z",
     "start_time": "2018-05-02T21:25:30.268805Z"
    }
   },
   "outputs": [],
   "source": [
    "# Add prediction to result df\n",
    "results['y_pred_log_linear'] = lr_pred"
   ]
  },
  {
   "cell_type": "code",
   "execution_count": 68,
   "metadata": {
    "ExecuteTime": {
     "end_time": "2018-05-02T21:27:13.739476Z",
     "start_time": "2018-05-02T21:27:13.505933Z"
    }
   },
   "outputs": [
    {
     "data": {
      "text/plain": [
       "<seaborn.axisgrid.FacetGrid at 0x7f4ddc107160>"
      ]
     },
     "execution_count": 68,
     "metadata": {},
     "output_type": "execute_result"
    },
    {
     "data": {
      "image/png": "[encoded data removed]",
      "text/plain": [
       "<Figure size 360x360 with 1 Axes>"
      ]
     },
     "metadata": {
      "needs_background": "light"
     },
     "output_type": "display_data"
    }
   ],
   "source": [
    "# Plot prediction\n",
    "sns.lmplot(data=results, x='y_true_log', y='y_pred_log_linear')"
   ]
  },
  {
   "cell_type": "code",
   "execution_count": 69,
   "metadata": {
    "ExecuteTime": {
     "end_time": "2018-05-02T21:27:25.180760Z",
     "start_time": "2018-05-02T21:27:25.055726Z"
    }
   },
   "outputs": [
    {
     "data": {
      "text/plain": [
       "<matplotlib.axes._subplots.AxesSubplot at 0x7f4ddc0e3c50>"
      ]
     },
     "execution_count": 69,
     "metadata": {},
     "output_type": "execute_result"
    },
    {
     "data": {
      "image/png": "[encoded data removed]",
      "text/plain": [
       "<Figure size 432x288 with 1 Axes>"
      ]
     },
     "metadata": {
      "needs_background": "light"
     },
     "output_type": "display_data"
    }
   ],
   "source": [
    "# Plot residuals\n",
    "sns.distplot(results['y_true_log'] - results['y_pred_log_linear'])"
   ]
  },
  {
   "cell_type": "code",
   "execution_count": 70,
   "metadata": {},
   "outputs": [
    {
     "data": {
      "text/plain": [
       "8.57208464306366"
      ]
     },
     "execution_count": 70,
     "metadata": {},
     "output_type": "execute_result"
    }
   ],
   "source": [
    "# skewness\n",
    "(results['y_true_log'] - results['y_pred_log_linear']).skew()"
   ]
  },
  {
   "cell_type": "markdown",
   "metadata": {},
   "source": [
    "**This is the end of the exercise.**"
   ]
  },
  {
   "cell_type": "markdown",
   "metadata": {},
   "source": [
    "### Bonus II: Linear Regression with Lasso regularization\n",
    "Compute a linear Regression model which includes a regularization term. You can think of such a term as a penalty term which disfavors many features and therefore sets some coefficients to zero if the features are not very useful.\n",
    "\n",
    "Hence, do similar steps as in Bonus I. The model is called Lasso and can be found in the module sklearn.linear_model."
   ]
  },
  {
   "cell_type": "code",
   "execution_count": 71,
   "metadata": {},
   "outputs": [],
   "source": [
    "# Import model and create instance\n",
    "from sklearn.linear_model import Lasso\n",
    "lasso = Lasso(random_state=42)"
   ]
  },
  {
   "cell_type": "code",
   "execution_count": 72,
   "metadata": {},
   "outputs": [
    {
     "data": {
      "text/plain": [
       "Lasso(alpha=1.0, copy_X=True, fit_intercept=True, max_iter=1000,\n",
       "      normalize=False, positive=False, precompute=False, random_state=42,\n",
       "      selection='cyclic', tol=0.0001, warm_start=False)"
      ]
     },
     "execution_count": 72,
     "metadata": {},
     "output_type": "execute_result"
    }
   ],
   "source": [
    "# Train model\n",
    "lasso.fit(X_train, y_train_log)"
   ]
  },
  {
   "cell_type": "code",
   "execution_count": 73,
   "metadata": {},
   "outputs": [],
   "source": [
    "# Compute predictions\n",
    "lasso_pred = lasso.predict(X_test)"
   ]
  },
  {
   "cell_type": "code",
   "execution_count": 74,
   "metadata": {},
   "outputs": [
    {
     "data": {
      "text/plain": [
       "0.8017965796542399"
      ]
     },
     "execution_count": 74,
     "metadata": {},
     "output_type": "execute_result"
    }
   ],
   "source": [
    "# Compute r2_score\n",
    "r2_score(y_test_log, lasso_pred)"
   ]
  },
  {
   "cell_type": "code",
   "execution_count": 75,
   "metadata": {},
   "outputs": [],
   "source": [
    "# Add prediction to result df\n",
    "results['y_pred_log_lasso'] = lasso_pred"
   ]
  },
  {
   "cell_type": "code",
   "execution_count": 76,
   "metadata": {},
   "outputs": [
    {
     "data": {
      "text/plain": [
       "<seaborn.axisgrid.FacetGrid at 0x7f4ddc03ec18>"
      ]
     },
     "execution_count": 76,
     "metadata": {},
     "output_type": "execute_result"
    },
    {
     "data": {
      "image/png": "[encoded data removed]",
      "text/plain": [
       "<Figure size 360x360 with 1 Axes>"
      ]
     },
     "metadata": {
      "needs_background": "light"
     },
     "output_type": "display_data"
    }
   ],
   "source": [
    "# Plot prediction\n",
    "sns.lmplot(data=results, x='y_true_log', y='y_pred_log_lasso')"
   ]
  },
  {
   "cell_type": "code",
   "execution_count": 77,
   "metadata": {},
   "outputs": [
    {
     "data": {
      "text/plain": [
       "<matplotlib.axes._subplots.AxesSubplot at 0x7f4dbffabf98>"
      ]
     },
     "execution_count": 77,
     "metadata": {},
     "output_type": "execute_result"
    },
    {
     "data": {
      "image/png": "[encoded data removed]",
      "text/plain": [
       "<Figure size 432x288 with 1 Axes>"
      ]
     },
     "metadata": {
      "needs_background": "light"
     },
     "output_type": "display_data"
    }
   ],
   "source": [
    "# Plot residuals\n",
    "sns.distplot(results['y_true_log'] - results['y_pred_log_lasso'])"
   ]
  }
 ],
 "metadata": {
  "kernelspec": {
   "display_name": "Python 3",
   "language": "python",
   "name": "python3"
  },
  "language_info": {
   "codemirror_mode": {
    "name": "ipython",
    "version": 3
   },
   "file_extension": ".py",
   "mimetype": "text/x-python",
   "name": "python",
   "nbconvert_exporter": "python",
   "pygments_lexer": "ipython3",
   "version": "3.7.3"
  }
 },
 "nbformat": 4,
 "nbformat_minor": 4
}
