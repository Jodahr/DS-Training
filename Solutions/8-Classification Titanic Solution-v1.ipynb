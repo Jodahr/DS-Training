{
 "cells": [
  {
   "cell_type": "markdown",
   "metadata": {},
   "source": [
    "# Classification Models for Titanic Dataset\n",
    "In this exercise we are going to build a classification model which allows us to predict if a passenger on the titanic has survived.\n",
    "\n",
    "As always, **import** the two standard libraries **pandas** as pd and **numpy** as np. Afterwards, **load** the training and test datasets of the titanic data which we have prepared and saved as pickle files during the last exercise. Call the dataframes **train** and **test**. As always, use the info method on both dataframes.\n",
    "\n",
    "**Hint:** Use the pandas method read_pickle() to read the two files 'titanic_train.pkl' and 'houses_test.pkl'."
   ]
  },
  {
   "cell_type": "code",
   "execution_count": 1,
   "metadata": {},
   "outputs": [],
   "source": [
    "# Import pandas and numpy\n",
    "import pandas as pd\n",
    "import numpy as np"
   ]
  },
  {
   "cell_type": "code",
   "execution_count": 5,
   "metadata": {},
   "outputs": [],
   "source": [
    "# Read pickle files\n",
    "train = pd.read_pickle('titanic_train.pkl')\n",
    "test = pd.read_pickle('titanic_test.pkl')"
   ]
  },
  {
   "cell_type": "code",
   "execution_count": 6,
   "metadata": {},
   "outputs": [
    {
     "name": "stdout",
     "output_type": "stream",
     "text": [
      "<class 'pandas.core.frame.DataFrame'>\n",
      "Int64Index: 712 entries, 331 to 102\n",
      "Data columns (total 19 columns):\n",
      "Survived              712 non-null int64\n",
      "Pclass                712 non-null int64\n",
      "Age                   712 non-null float64\n",
      "Fare                  712 non-null float64\n",
      "Familiy_Size          712 non-null int64\n",
      "Sex=male              712 non-null uint8\n",
      "Embarked=Q            712 non-null uint8\n",
      "Embarked=S            712 non-null uint8\n",
      "Title=rareTitle       712 non-null uint8\n",
      "marital_status=no     712 non-null uint8\n",
      "marital_status=yes    712 non-null uint8\n",
      "Deck=B                712 non-null uint8\n",
      "Deck=C                712 non-null uint8\n",
      "Deck=D                712 non-null uint8\n",
      "Deck=E                712 non-null uint8\n",
      "Deck=F                712 non-null uint8\n",
      "Deck=G                712 non-null uint8\n",
      "Deck=T                712 non-null uint8\n",
      "Deck=unknown          712 non-null uint8\n",
      "dtypes: float64(2), int64(3), uint8(14)\n",
      "memory usage: 43.1 KB\n"
     ]
    }
   ],
   "source": [
    "# Info\n",
    "train.info()\n",
    "#test.info()"
   ]
  },
  {
   "cell_type": "markdown",
   "metadata": {},
   "source": [
    "Next, we need to **separate** the **features** and the classification **target**. Hence, **create** the variables **X_train**, **y_train**, **X_test** and **y_test** from the two dataframes train and test, where for instance X_train contains all the features and y_train contains only the target 'Survived' of the dataframe train (analogue for the test data). "
   ]
  },
  {
   "cell_type": "code",
   "execution_count": 7,
   "metadata": {},
   "outputs": [],
   "source": [
    "# Separate features and target\n",
    "X_train, X_test = train.drop(['Survived'], axis=1), test.drop(['Survived'], axis=1)\n",
    "y_train, y_test = train['Survived'], test['Survived']"
   ]
  },
  {
   "cell_type": "markdown",
   "metadata": {},
   "source": [
    "## Decision Tree for Classification\n",
    "\n",
    "The first model we want to train is a single decision tree for classification. Therefore, import the class DecisionTreeClassifier from the module sklearn.tree. Afterwards, create an object of that class called tree_clf. Pass the argument random_state=42 to the constructor."
   ]
  },
  {
   "cell_type": "code",
   "execution_count": 9,
   "metadata": {},
   "outputs": [],
   "source": [
    "# Import Decision Tree\n",
    "from sklearn.tree import DecisionTreeClassifier"
   ]
  },
  {
   "cell_type": "code",
   "execution_count": 10,
   "metadata": {},
   "outputs": [],
   "source": [
    "# Create instance\n",
    "tree_clf = DecisionTreeClassifier(random_state=42)"
   ]
  },
  {
   "cell_type": "markdown",
   "metadata": {},
   "source": [
    "Now we can fit the model by using the fit(X,y) method of the object."
   ]
  },
  {
   "cell_type": "code",
   "execution_count": 11,
   "metadata": {},
   "outputs": [
    {
     "data": {
      "text/plain": [
       "DecisionTreeClassifier(class_weight=None, criterion='gini', max_depth=None,\n",
       "            max_features=None, max_leaf_nodes=None,\n",
       "            min_impurity_decrease=0.0, min_impurity_split=None,\n",
       "            min_samples_leaf=1, min_samples_split=2,\n",
       "            min_weight_fraction_leaf=0.0, presort=False, random_state=42,\n",
       "            splitter='best')"
      ]
     },
     "execution_count": 11,
     "metadata": {},
     "output_type": "execute_result"
    }
   ],
   "source": [
    "# fit the model\n",
    "tree_clf.fit(X_train, y_train)"
   ]
  },
  {
   "cell_type": "markdown",
   "metadata": {},
   "source": [
    "### Accuracy\n",
    "Now we want to compute the accuracy of our prediction, which is given by the number of correct predictions, divided by all predictions. Therefore, create a results dataframe called results, which has one column containing y_test and another column containing our predictions on the test data. To create the predictions you can use the predict(X) method of the model on the dataframe X_test. please call the resulting numpy array y_pred. Afterwards, you can create a dataframe by using the dictionary approach. Call the column holding the true values y_true."
   ]
  },
  {
   "cell_type": "code",
   "execution_count": 16,
   "metadata": {},
   "outputs": [],
   "source": [
    "# Create predictions\n",
    "y_pred = tree_clf.predict(X_test)"
   ]
  },
  {
   "cell_type": "code",
   "execution_count": 17,
   "metadata": {},
   "outputs": [
    {
     "data": {
      "text/html": [
       "<div>\n",
       "<style scoped>\n",
       "    .dataframe tbody tr th:only-of-type {\n",
       "        vertical-align: middle;\n",
       "    }\n",
       "\n",
       "    .dataframe tbody tr th {\n",
       "        vertical-align: top;\n",
       "    }\n",
       "\n",
       "    .dataframe thead th {\n",
       "        text-align: right;\n",
       "    }\n",
       "</style>\n",
       "<table border=\"1\" class=\"dataframe\">\n",
       "  <thead>\n",
       "    <tr style=\"text-align: right;\">\n",
       "      <th></th>\n",
       "      <th>y_pred</th>\n",
       "      <th>y_true</th>\n",
       "    </tr>\n",
       "  </thead>\n",
       "  <tbody>\n",
       "    <tr>\n",
       "      <th>709</th>\n",
       "      <td>1</td>\n",
       "      <td>1</td>\n",
       "    </tr>\n",
       "    <tr>\n",
       "      <th>439</th>\n",
       "      <td>1</td>\n",
       "      <td>0</td>\n",
       "    </tr>\n",
       "    <tr>\n",
       "      <th>840</th>\n",
       "      <td>0</td>\n",
       "      <td>0</td>\n",
       "    </tr>\n",
       "    <tr>\n",
       "      <th>720</th>\n",
       "      <td>1</td>\n",
       "      <td>1</td>\n",
       "    </tr>\n",
       "    <tr>\n",
       "      <th>39</th>\n",
       "      <td>1</td>\n",
       "      <td>1</td>\n",
       "    </tr>\n",
       "  </tbody>\n",
       "</table>\n",
       "</div>"
      ],
      "text/plain": [
       "     y_pred  y_true\n",
       "709       1       1\n",
       "439       1       0\n",
       "840       0       0\n",
       "720       1       1\n",
       "39        1       1"
      ]
     },
     "execution_count": 17,
     "metadata": {},
     "output_type": "execute_result"
    }
   ],
   "source": [
    "# Create result dataframe\n",
    "results = pd.DataFrame({'y_true': y_test, 'y_pred': y_pred})\n",
    "results.head()"
   ]
  },
  {
   "cell_type": "markdown",
   "metadata": {},
   "source": [
    "Next, compute the accuarcy using the results dataframe."
   ]
  },
  {
   "cell_type": "code",
   "execution_count": 26,
   "metadata": {},
   "outputs": [
    {
     "data": {
      "text/plain": [
       "0.7821229050279329"
      ]
     },
     "execution_count": 26,
     "metadata": {},
     "output_type": "execute_result"
    }
   ],
   "source": [
    "# Compute accuracy by hand\n",
    "acc = len(results[results.y_pred == results.y_true]) / len(results)\n",
    "acc"
   ]
  },
  {
   "cell_type": "markdown",
   "metadata": {},
   "source": [
    "Actually, we do not have to compute the accuracy manually, but it is a good practice to compute a performance measure once *by hand*. Please, crosscheck your result by using the accuracy_score function from the modul sklearn.metrics."
   ]
  },
  {
   "cell_type": "code",
   "execution_count": 27,
   "metadata": {},
   "outputs": [],
   "source": [
    "# Import accuracy_score\n",
    "from sklearn.metrics import accuracy_score"
   ]
  },
  {
   "cell_type": "code",
   "execution_count": 28,
   "metadata": {},
   "outputs": [
    {
     "data": {
      "text/plain": [
       "0.7821229050279329"
      ]
     },
     "execution_count": 28,
     "metadata": {},
     "output_type": "execute_result"
    }
   ],
   "source": [
    "# Compute accuracy\n",
    "accuracy_score(y_test, y_pred)"
   ]
  },
  {
   "cell_type": "markdown",
   "metadata": {},
   "source": [
    "There is also another option to compute the accuracy. Most of the sklearn models have a method called score(). In the case of classification this score is the accuracy by default. In regression models it is the r2_score. Please use that method to compute the accuracy."
   ]
  },
  {
   "cell_type": "code",
   "execution_count": 29,
   "metadata": {},
   "outputs": [
    {
     "data": {
      "text/plain": [
       "0.7821229050279329"
      ]
     },
     "execution_count": 29,
     "metadata": {},
     "output_type": "execute_result"
    }
   ],
   "source": [
    "# built-in score\n",
    "tree_clf.score(X_test, y_test)"
   ]
  },
  {
   "cell_type": "markdown",
   "metadata": {},
   "source": [
    "When the target label is not really balanced, the accuracy is not a good performance measure. Can you explain why?"
   ]
  },
  {
   "cell_type": "markdown",
   "metadata": {},
   "source": [
    "### Confusion matrix\n",
    "\n",
    "Next, we look at another way to evaluate the performance of our classification model: the confusion matrix. It is a specific table layout which holds the number of True Positives (TP), True Negatives (TN), False Positives (FP) and False Negatives (FN).\n",
    "\n",
    "Please, compute these numbers with the dataframe results. Afterwards, we create the confusion matrix."
   ]
  },
  {
   "cell_type": "code",
   "execution_count": 43,
   "metadata": {},
   "outputs": [
    {
     "data": {
      "text/html": [
       "<div>\n",
       "<style scoped>\n",
       "    .dataframe tbody tr th:only-of-type {\n",
       "        vertical-align: middle;\n",
       "    }\n",
       "\n",
       "    .dataframe tbody tr th {\n",
       "        vertical-align: top;\n",
       "    }\n",
       "\n",
       "    .dataframe thead th {\n",
       "        text-align: right;\n",
       "    }\n",
       "</style>\n",
       "<table border=\"1\" class=\"dataframe\">\n",
       "  <thead>\n",
       "    <tr style=\"text-align: right;\">\n",
       "      <th>predicted</th>\n",
       "      <th>0</th>\n",
       "      <th>1</th>\n",
       "    </tr>\n",
       "    <tr>\n",
       "      <th>true</th>\n",
       "      <th></th>\n",
       "      <th></th>\n",
       "    </tr>\n",
       "  </thead>\n",
       "  <tbody>\n",
       "    <tr>\n",
       "      <th>0</th>\n",
       "      <td>83</td>\n",
       "      <td>22</td>\n",
       "    </tr>\n",
       "    <tr>\n",
       "      <th>1</th>\n",
       "      <td>17</td>\n",
       "      <td>57</td>\n",
       "    </tr>\n",
       "  </tbody>\n",
       "</table>\n",
       "</div>"
      ],
      "text/plain": [
       "predicted   0   1\n",
       "true             \n",
       "0          83  22\n",
       "1          17  57"
      ]
     },
     "execution_count": 43,
     "metadata": {},
     "output_type": "execute_result"
    }
   ],
   "source": [
    "# Compute TP, TN, FP and FN\n",
    "TP = len(results[(results.y_pred == 1) & (results.y_true == 1)])\n",
    "TN = len(results[(results.y_pred == 0) & (results.y_true == 0)])\n",
    "FP = len(results[(results.y_pred == 1) & (results.y_true == 0)])\n",
    "FN = len(results[(results.y_pred == 0) & (results.y_true == 1)])\n",
    "\n",
    "# Create confusion matrix\n",
    "C = pd.DataFrame(np.array([[TN, FP], [FN, TP]]))\n",
    "C.index.name = 'true'\n",
    "C.columns.name = 'predicted'\n",
    "C"
   ]
  },
  {
   "cell_type": "markdown",
   "metadata": {},
   "source": [
    "Again, there is a function which compute that matrix automatically, given y_test and y_pred. Please, load the function function confustion_matrix from the module sklearn.metrics and crosscheck your results."
   ]
  },
  {
   "cell_type": "code",
   "execution_count": 40,
   "metadata": {},
   "outputs": [],
   "source": [
    "# Import conf function\n",
    "from sklearn.metrics import confusion_matrix"
   ]
  },
  {
   "cell_type": "code",
   "execution_count": 42,
   "metadata": {},
   "outputs": [
    {
     "data": {
      "text/plain": [
       "array([[83, 22],\n",
       "       [17, 57]])"
      ]
     },
     "execution_count": 42,
     "metadata": {},
     "output_type": "execute_result"
    }
   ],
   "source": [
    "# Compute confusion matrix\n",
    "C = confusion_matrix(y_test, y_pred)\n",
    "C"
   ]
  },
  {
   "cell_type": "markdown",
   "metadata": {},
   "source": [
    "### Precision and Recall\n",
    "Next, we want to compute the Precision\n",
    "$$\\mathrm{Precision} = \\frac{TP}{TP + FP}$$\n",
    "and the Recall\n",
    "$$\\mathrm{Recall} = \\frac{TP}{TP + FN}.$$ \n",
    "\n",
    "The Precison describes how precise a positive prediction of the model is. For Instance, if the precision is 0.9 it means that a positive prediction by the model belongs really to the positive class.  \n",
    "Recall (also known as hit rate) describes the porportion of the positive class which has been detected by the model. For Instance, a Recall of 0.6 means that 60 % of the all positives have been detected by the model as such. "
   ]
  },
  {
   "cell_type": "code",
   "execution_count": 45,
   "metadata": {},
   "outputs": [
    {
     "data": {
      "text/plain": [
       "0.7215189873417721"
      ]
     },
     "execution_count": 45,
     "metadata": {},
     "output_type": "execute_result"
    }
   ],
   "source": [
    "# Compute Precision\n",
    "precision = TP / (TP + FP)\n",
    "precision"
   ]
  },
  {
   "cell_type": "code",
   "execution_count": 47,
   "metadata": {},
   "outputs": [
    {
     "data": {
      "text/plain": [
       "0.7702702702702703"
      ]
     },
     "execution_count": 47,
     "metadata": {},
     "output_type": "execute_result"
    }
   ],
   "source": [
    "# Compute Recall\n",
    "recall = TP / (TP + FN)\n",
    "recall"
   ]
  },
  {
   "cell_type": "markdown",
   "metadata": {},
   "source": [
    "Of course, there are again prebuilt function to compute these measures. Please verify your result by using the functions precision_score and recall_score from the module sklearn.metics."
   ]
  },
  {
   "cell_type": "code",
   "execution_count": 52,
   "metadata": {},
   "outputs": [],
   "source": [
    "# Import functions\n",
    "from sklearn.metrics import precision_score, recall_score"
   ]
  },
  {
   "cell_type": "code",
   "execution_count": 53,
   "metadata": {},
   "outputs": [
    {
     "data": {
      "text/plain": [
       "0.7215189873417721"
      ]
     },
     "execution_count": 53,
     "metadata": {},
     "output_type": "execute_result"
    }
   ],
   "source": [
    "# precision\n",
    "precision_score(y_test, y_pred)"
   ]
  },
  {
   "cell_type": "code",
   "execution_count": 54,
   "metadata": {},
   "outputs": [
    {
     "data": {
      "text/plain": [
       "0.7702702702702703"
      ]
     },
     "execution_count": 54,
     "metadata": {},
     "output_type": "execute_result"
    }
   ],
   "source": [
    "# recall\n",
    "recall_score(y_test, y_pred)"
   ]
  },
  {
   "cell_type": "markdown",
   "metadata": {},
   "source": [
    "### Classification Report\n",
    "\n",
    "Every performance measure that we have computed so far is contained in the classification report. It can be computed by using the method classification_report from the module sklearn.metrics. Please, use that function and have a look at the report."
   ]
  },
  {
   "cell_type": "code",
   "execution_count": 55,
   "metadata": {},
   "outputs": [],
   "source": [
    "# Import function\n",
    "from sklearn.metrics import classification_report"
   ]
  },
  {
   "cell_type": "code",
   "execution_count": 60,
   "metadata": {},
   "outputs": [
    {
     "name": "stdout",
     "output_type": "stream",
     "text": [
      "             precision    recall  f1-score   support\n",
      "\n",
      "          0       0.83      0.79      0.81       105\n",
      "          1       0.72      0.77      0.75        74\n",
      "\n",
      "avg / total       0.79      0.78      0.78       179\n",
      "\n"
     ]
    }
   ],
   "source": [
    "# Compute report\n",
    "report = classification_report(y_test, y_pred)\n",
    "\n",
    "print(report)"
   ]
  },
  {
   "cell_type": "markdown",
   "metadata": {},
   "source": [
    "### Visualization of the classification tree\n",
    "Next, we want to visualize two classification trees similarly to the regression tree in the regression exercise. However, this time we visualize the fully grown tree as well as a pruned tree.\n",
    "\n",
    "Please create a tree object with max_depth=4 and random_state=42 and train it. Afterwards compute the classification report."
   ]
  },
  {
   "cell_type": "code",
   "execution_count": 65,
   "metadata": {},
   "outputs": [],
   "source": [
    "# create tree with fixed depth\n",
    "tree_4_clf = DecisionTreeClassifier(max_depth=4, random_state=42)"
   ]
  },
  {
   "cell_type": "code",
   "execution_count": 66,
   "metadata": {},
   "outputs": [
    {
     "data": {
      "text/plain": [
       "DecisionTreeClassifier(class_weight=None, criterion='gini', max_depth=4,\n",
       "            max_features=None, max_leaf_nodes=None,\n",
       "            min_impurity_decrease=0.0, min_impurity_split=None,\n",
       "            min_samples_leaf=1, min_samples_split=2,\n",
       "            min_weight_fraction_leaf=0.0, presort=False, random_state=42,\n",
       "            splitter='best')"
      ]
     },
     "execution_count": 66,
     "metadata": {},
     "output_type": "execute_result"
    }
   ],
   "source": [
    "# train tree\n",
    "tree_4_clf.fit(X_train, y_train)"
   ]
  },
  {
   "cell_type": "code",
   "execution_count": 71,
   "metadata": {},
   "outputs": [
    {
     "name": "stdout",
     "output_type": "stream",
     "text": [
      "             precision    recall  f1-score   support\n",
      "\n",
      "          0       0.73      0.95      0.83       105\n",
      "          1       0.88      0.50      0.64        74\n",
      "\n",
      "avg / total       0.79      0.77      0.75       179\n",
      "\n"
     ]
    }
   ],
   "source": [
    "# classification report\n",
    "y_pred = tree_4_clf.predict(X_test)\n",
    "print(classification_report(y_test, y_pred))"
   ]
  },
  {
   "cell_type": "markdown",
   "metadata": {},
   "source": [
    "To visualize both trees we need to import the function export_graphviz from the module sklearn.tree."
   ]
  },
  {
   "cell_type": "code",
   "execution_count": 73,
   "metadata": {},
   "outputs": [],
   "source": [
    "# Import\n",
    "from sklearn.tree import export_graphviz"
   ]
  },
  {
   "cell_type": "code",
   "execution_count": 74,
   "metadata": {},
   "outputs": [],
   "source": [
    "# Just execute\n",
    "export_graphviz(tree_clf, out_file=\"tree_clf.dot\",\n",
    "                feature_names=X_train.columns.tolist(),\n",
    "                filled=True, rounded=True)\n",
    "\n",
    "# Just execute\n",
    "export_graphviz(tree_4_clf, out_file=\"tree_4_clf.dot\",\n",
    "                feature_names=X_train.columns.tolist(),\n",
    "                filled=True, rounded=True)"
   ]
  },
  {
   "cell_type": "markdown",
   "metadata": {},
   "source": [
    "This time we install a package to render the trees locally. Open a terminal and execute the command sudo apt install graphviz. If the package has been installed, you can execute the command in the cell below. Afterwards, ypu should find the two trees in your execerise folder."
   ]
  },
  {
   "cell_type": "code",
   "execution_count": 80,
   "metadata": {},
   "outputs": [],
   "source": [
    "%%bash\n",
    "dot -Tpng tree_clf.dot -o tree_clf.png\n",
    "dot -Tpng tree_4_clf.dot -o tree_4_clf.png"
   ]
  },
  {
   "cell_type": "markdown",
   "metadata": {},
   "source": [
    "Can you explain the increase in precision and decrease in recall, compared to the fully grown tree?\n",
    "\n",
    "**Bonus**: Try to recompute the first two levels of the small tree. The Gini Coefficient is defined as \n",
    "\n",
    "$$ G = \\sum_k \\hat{p}_{mk} (1 - \\hat{p}_{mk})$$\n",
    "\n",
    "where \n",
    "\n",
    "$$\\hat{p}_{mk} = \\frac{1}{N_m} \\sum_{x_i \\in R_m} I(y_i = k)$$\n",
    "\n",
    "is the proportion of training obvervations in the m-th region that are from the k-th class. For a binary classifier this leads to \n",
    "\n",
    "$$G = \\hat{p}_{m} (1-\\hat{p}_m) + \\hat{q}_m (1-\\hat{q}_m) = 2 \\hat{p}_m (1-\\hat{p}_m)$$ and \n",
    "\n",
    "$$\\hat{p}_{m} = \\frac{1}{N_m} \\sum_{x_i \\in R_m} I(y_i = 1).$$\n",
    "\n",
    "Additionally compute the values of $p_m$ for the leafs by using the values given in the tree figure."
   ]
  },
  {
   "cell_type": "code",
   "execution_count": 92,
   "metadata": {},
   "outputs": [
    {
     "name": "stdout",
     "output_type": "stream",
     "text": [
      "0    444\n",
      "1    268\n",
      "Name: Survived, dtype: int64\n",
      "0.37640449438202245\n",
      "0.469448301982073\n"
     ]
    }
   ],
   "source": [
    "# level 0\n",
    "samples = len(y_train)\n",
    "print(y_train.value_counts())\n",
    "p_level0 = len(y_train[y_train == 1]) / samples\n",
    "print(p_level0)\n",
    "gini = 2 * p_level0 * (1-p_level0)\n",
    "print(gini)"
   ]
  },
  {
   "cell_type": "code",
   "execution_count": 96,
   "metadata": {},
   "outputs": [
    {
     "name": "stdout",
     "output_type": "stream",
     "text": [
      "0.7387755102040816\n",
      "0.38597251145356104\n",
      "1    181\n",
      "0     64\n",
      "Name: Survived, dtype: int64\n"
     ]
    }
   ],
   "source": [
    "# level 1 left\n",
    "df = X_train.join(y_train)\n",
    "df_level1_left = df[df['Sex=male'] == 0]\n",
    "y_level1_left = df_level1_left['Survived']\n",
    "samples = len(y_level1_left)\n",
    "p_level1 = len(y_level1_left[y_level1_left == 1]) / samples\n",
    "print(p_level1)\n",
    "gini = 2 * p_level1 * (1-p_level1)\n",
    "print(gini)\n",
    "print(y_level1_left.value_counts())"
   ]
  },
  {
   "cell_type": "code",
   "execution_count": 99,
   "metadata": {},
   "outputs": [
    {
     "name": "stdout",
     "output_type": "stream",
     "text": [
      "0.18629550321199143\n",
      "0.30317897738996463\n",
      "1    181\n",
      "0     64\n",
      "Name: Survived, dtype: int64\n"
     ]
    }
   ],
   "source": [
    "# level 1 right\n",
    "df = X_train.join(y_train)\n",
    "df_level1_right = df[df['Sex=male'] == 1]\n",
    "y_level1_right = df_level1_right['Survived']\n",
    "samples = len(y_level1_right)\n",
    "p_level1 = len(y_level1_right[y_level1_right == 1]) / samples\n",
    "print(p_level1)\n",
    "gini = 2 * p_level1 * (1-p_level1)\n",
    "print(gini)\n",
    "print(y_level1_left.value_counts())"
   ]
  },
  {
   "cell_type": "code",
   "execution_count": 105,
   "metadata": {},
   "outputs": [
    {
     "name": "stdout",
     "output_type": "stream",
     "text": [
      "p0 = 0.9615384615384616,\n",
      "p1 = 0.48695652173913045,\n",
      "p2 = 0.6818181818181818,\n",
      "p3 = 0.16179775280898875\n"
     ]
    }
   ],
   "source": [
    "# Computation of the probabilities\n",
    "p0 = 125/130\n",
    "p1 = 56/115\n",
    "p2 = 15/22\n",
    "p3 = 72/445\n",
    "print('p0 = {},\\np1 = {},\\np2 = {},\\np3 = {}'.format(p0,p1,p2,p3))"
   ]
  },
  {
   "cell_type": "markdown",
   "metadata": {},
   "source": [
    "### Probability/Certainty and Precision-Recall Tradeoff\n",
    "\n",
    "The values for p that we have computed in the bonus exercise can be considered as the probability/certainty of a sample in that region/hypercube belonging to class 1. However, this only makes sense for pruned trees. Why?\n",
    "\n",
    "We can get these probabilities by using the method predict_proba(X) of the decision tree. Please, compute these probabilities on the test set. Afterwards, create a dataframe called results_proba which consists of a column with the true values y_test and the predicted probabilites for class 1."
   ]
  },
  {
   "cell_type": "code",
   "execution_count": 114,
   "metadata": {},
   "outputs": [
    {
     "name": "stdout",
     "output_type": "stream",
     "text": [
      "(179, 2)\n"
     ]
    },
    {
     "data": {
      "text/plain": [
       "array([[0.83820225, 0.16179775],\n",
       "       [0.83820225, 0.16179775],\n",
       "       [0.83820225, 0.16179775],\n",
       "       [0.03846154, 0.96153846],\n",
       "       [0.51304348, 0.48695652]])"
      ]
     },
     "execution_count": 114,
     "metadata": {},
     "output_type": "execute_result"
    }
   ],
   "source": [
    "# Compute probabilities\n",
    "y_proba = tree_4_clf.predict_proba(X_test)\n",
    "print(y_proba.shape)\n",
    "y_proba[:5]"
   ]
  },
  {
   "cell_type": "code",
   "execution_count": 113,
   "metadata": {},
   "outputs": [
    {
     "data": {
      "text/plain": [
       "array([0.16179775, 0.16179775, 0.16179775, 0.96153846, 0.48695652])"
      ]
     },
     "execution_count": 113,
     "metadata": {},
     "output_type": "execute_result"
    }
   ],
   "source": [
    "# extract proba for class 1\n",
    "y_proba_class1 = y_proba[:,1]\n",
    "y_proba_class1[:5]"
   ]
  },
  {
   "cell_type": "code",
   "execution_count": 115,
   "metadata": {},
   "outputs": [
    {
     "data": {
      "text/html": [
       "<div>\n",
       "<style scoped>\n",
       "    .dataframe tbody tr th:only-of-type {\n",
       "        vertical-align: middle;\n",
       "    }\n",
       "\n",
       "    .dataframe tbody tr th {\n",
       "        vertical-align: top;\n",
       "    }\n",
       "\n",
       "    .dataframe thead th {\n",
       "        text-align: right;\n",
       "    }\n",
       "</style>\n",
       "<table border=\"1\" class=\"dataframe\">\n",
       "  <thead>\n",
       "    <tr style=\"text-align: right;\">\n",
       "      <th></th>\n",
       "      <th>y_proba</th>\n",
       "      <th>y_true</th>\n",
       "    </tr>\n",
       "  </thead>\n",
       "  <tbody>\n",
       "    <tr>\n",
       "      <th>709</th>\n",
       "      <td>0.161798</td>\n",
       "      <td>1</td>\n",
       "    </tr>\n",
       "    <tr>\n",
       "      <th>439</th>\n",
       "      <td>0.161798</td>\n",
       "      <td>0</td>\n",
       "    </tr>\n",
       "    <tr>\n",
       "      <th>840</th>\n",
       "      <td>0.161798</td>\n",
       "      <td>0</td>\n",
       "    </tr>\n",
       "    <tr>\n",
       "      <th>720</th>\n",
       "      <td>0.961538</td>\n",
       "      <td>1</td>\n",
       "    </tr>\n",
       "    <tr>\n",
       "      <th>39</th>\n",
       "      <td>0.486957</td>\n",
       "      <td>1</td>\n",
       "    </tr>\n",
       "  </tbody>\n",
       "</table>\n",
       "</div>"
      ],
      "text/plain": [
       "      y_proba  y_true\n",
       "709  0.161798       1\n",
       "439  0.161798       0\n",
       "840  0.161798       0\n",
       "720  0.961538       1\n",
       "39   0.486957       1"
      ]
     },
     "execution_count": 115,
     "metadata": {},
     "output_type": "execute_result"
    }
   ],
   "source": [
    "# create dataframe\n",
    "results_proba = pd.DataFrame({'y_true': y_test, 'y_proba': y_proba_class1})\n",
    "results_proba.head()"
   ]
  },
  {
   "cell_type": "markdown",
   "metadata": {},
   "source": [
    "Now let us introduce the threshold. Per default a classifier which can compute probabilities classifies a sample to class 1 if the probability is larger than 0.5. This value is called the threshold. Of course, we can also use different thresholds. Let us compute the classification report for four different thresholds:\n",
    "\n",
    "a) 0.20  \n",
    "b) 0.50  \n",
    "c) 0.70   \n",
    "\n",
    "Hint: Add four new columns called y_pred_A, y_pred_B, etc. which are filled with the value 1 if the probability is larger than the threshold. You can use the numpy method np.where().\n",
    "\n",
    "What do you notice?"
   ]
  },
  {
   "cell_type": "code",
   "execution_count": 124,
   "metadata": {},
   "outputs": [
    {
     "data": {
      "text/html": [
       "<div>\n",
       "<style scoped>\n",
       "    .dataframe tbody tr th:only-of-type {\n",
       "        vertical-align: middle;\n",
       "    }\n",
       "\n",
       "    .dataframe tbody tr th {\n",
       "        vertical-align: top;\n",
       "    }\n",
       "\n",
       "    .dataframe thead th {\n",
       "        text-align: right;\n",
       "    }\n",
       "</style>\n",
       "<table border=\"1\" class=\"dataframe\">\n",
       "  <thead>\n",
       "    <tr style=\"text-align: right;\">\n",
       "      <th></th>\n",
       "      <th>y_proba</th>\n",
       "      <th>y_true</th>\n",
       "      <th>y_pred_A</th>\n",
       "      <th>y_pred_B</th>\n",
       "      <th>y_pred_C</th>\n",
       "      <th>y_pred_D</th>\n",
       "    </tr>\n",
       "  </thead>\n",
       "  <tbody>\n",
       "    <tr>\n",
       "      <th>709</th>\n",
       "      <td>0.161798</td>\n",
       "      <td>1</td>\n",
       "      <td>0</td>\n",
       "      <td>0</td>\n",
       "      <td>0</td>\n",
       "      <td>0</td>\n",
       "    </tr>\n",
       "    <tr>\n",
       "      <th>439</th>\n",
       "      <td>0.161798</td>\n",
       "      <td>0</td>\n",
       "      <td>0</td>\n",
       "      <td>0</td>\n",
       "      <td>0</td>\n",
       "      <td>0</td>\n",
       "    </tr>\n",
       "    <tr>\n",
       "      <th>840</th>\n",
       "      <td>0.161798</td>\n",
       "      <td>0</td>\n",
       "      <td>0</td>\n",
       "      <td>0</td>\n",
       "      <td>0</td>\n",
       "      <td>0</td>\n",
       "    </tr>\n",
       "    <tr>\n",
       "      <th>720</th>\n",
       "      <td>0.961538</td>\n",
       "      <td>1</td>\n",
       "      <td>1</td>\n",
       "      <td>1</td>\n",
       "      <td>1</td>\n",
       "      <td>0</td>\n",
       "    </tr>\n",
       "    <tr>\n",
       "      <th>39</th>\n",
       "      <td>0.486957</td>\n",
       "      <td>1</td>\n",
       "      <td>1</td>\n",
       "      <td>0</td>\n",
       "      <td>0</td>\n",
       "      <td>0</td>\n",
       "    </tr>\n",
       "  </tbody>\n",
       "</table>\n",
       "</div>"
      ],
      "text/plain": [
       "      y_proba  y_true  y_pred_A  y_pred_B  y_pred_C  y_pred_D\n",
       "709  0.161798       1         0         0         0         0\n",
       "439  0.161798       0         0         0         0         0\n",
       "840  0.161798       0         0         0         0         0\n",
       "720  0.961538       1         1         1         1         0\n",
       "39   0.486957       1         1         0         0         0"
      ]
     },
     "execution_count": 124,
     "metadata": {},
     "output_type": "execute_result"
    }
   ],
   "source": [
    "results_proba['y_pred_A'] = np.where(results_proba.y_proba > 0.2, 1, 0)\n",
    "results_proba['y_pred_B'] = np.where(results_proba.y_proba > 0.5, 1, 0)\n",
    "results_proba['y_pred_C'] = np.where(results_proba.y_proba > 0.7, 1, 0)\n",
    "results_proba.head()"
   ]
  },
  {
   "cell_type": "code",
   "execution_count": 136,
   "metadata": {},
   "outputs": [
    {
     "name": "stdout",
     "output_type": "stream",
     "text": [
      "             precision    recall  f1-score   support\n",
      "\n",
      "          0       0.73      0.95      0.83       105\n",
      "          1       0.88      0.50      0.64        74\n",
      "\n",
      "avg / total       0.79      0.77      0.75       179\n",
      "\n"
     ]
    }
   ],
   "source": [
    "report_A = classification_report(y_test, results_proba['y_pred_A'])\n",
    "report_B = classification_report(y_test, results_proba['y_pred_B'])\n",
    "report_C = classification_report(y_test, results_proba['y_pred_C'])\n",
    "print(report_B)"
   ]
  },
  {
   "cell_type": "markdown",
   "metadata": {},
   "source": [
    "Maybe you have noticed that the precision increases while increasing the threshold. However, for recall we observe the opposite effect. This is called the Precision-Recall Tradeoff."
   ]
  },
  {
   "cell_type": "markdown",
   "metadata": {},
   "source": [
    "## Random Forest Classifier\n",
    "\n",
    "In this part of the exercise we want to train a random forest classifier. Therefore, please import the class RandomForestClassifier from the module sklearn.ensemble, create an object of that class called rf_clf and train the model with the training data X_train, y_train. Afterwards, compute the classification report. Please, pass the argument random_state=42 and n_estimators=100 to the constructor."
   ]
  },
  {
   "cell_type": "code",
   "execution_count": 129,
   "metadata": {},
   "outputs": [],
   "source": [
    "# Import rf\n",
    "from sklearn.ensemble import RandomForestClassifier"
   ]
  },
  {
   "cell_type": "code",
   "execution_count": 145,
   "metadata": {},
   "outputs": [],
   "source": [
    "# create object\n",
    "rf_clf = RandomForestClassifier(random_state=42, n_estimators=100)"
   ]
  },
  {
   "cell_type": "code",
   "execution_count": 146,
   "metadata": {},
   "outputs": [
    {
     "data": {
      "text/plain": [
       "RandomForestClassifier(bootstrap=True, class_weight=None, criterion='gini',\n",
       "            max_depth=None, max_features='auto', max_leaf_nodes=None,\n",
       "            min_impurity_decrease=0.0, min_impurity_split=None,\n",
       "            min_samples_leaf=1, min_samples_split=2,\n",
       "            min_weight_fraction_leaf=0.0, n_estimators=100, n_jobs=1,\n",
       "            oob_score=False, random_state=42, verbose=0, warm_start=False)"
      ]
     },
     "execution_count": 146,
     "metadata": {},
     "output_type": "execute_result"
    }
   ],
   "source": [
    "# Train rf\n",
    "rf_clf.fit(X_train, y_train)"
   ]
  },
  {
   "cell_type": "code",
   "execution_count": 147,
   "metadata": {},
   "outputs": [],
   "source": [
    "# y_pred\n",
    "y_pred = rf_clf.predict(X_test) "
   ]
  },
  {
   "cell_type": "code",
   "execution_count": 148,
   "metadata": {},
   "outputs": [
    {
     "name": "stdout",
     "output_type": "stream",
     "text": [
      "             precision    recall  f1-score   support\n",
      "\n",
      "          0       0.83      0.85      0.84       105\n",
      "          1       0.78      0.76      0.77        74\n",
      "\n",
      "avg / total       0.81      0.81      0.81       179\n",
      "\n"
     ]
    }
   ],
   "source": [
    "# report\n",
    "print(classification_report(y_test, y_pred))"
   ]
  },
  {
   "cell_type": "markdown",
   "metadata": {},
   "source": [
    "We can also use the random forest to get probabilities with the predict_proba method. However, this time it is computed in a different way compared to a single decision tree. Here, it is the proportion of trees which voted for class 1.\n",
    "\n",
    "Please, create a dataframe called results_rf which contains y_true and the probabilities for class 1."
   ]
  },
  {
   "cell_type": "code",
   "execution_count": 149,
   "metadata": {},
   "outputs": [],
   "source": [
    "# probas\n",
    "y_proba = rf_clf.predict_proba(X_test)"
   ]
  },
  {
   "cell_type": "code",
   "execution_count": 151,
   "metadata": {},
   "outputs": [
    {
     "data": {
      "text/html": [
       "<div>\n",
       "<style scoped>\n",
       "    .dataframe tbody tr th:only-of-type {\n",
       "        vertical-align: middle;\n",
       "    }\n",
       "\n",
       "    .dataframe tbody tr th {\n",
       "        vertical-align: top;\n",
       "    }\n",
       "\n",
       "    .dataframe thead th {\n",
       "        text-align: right;\n",
       "    }\n",
       "</style>\n",
       "<table border=\"1\" class=\"dataframe\">\n",
       "  <thead>\n",
       "    <tr style=\"text-align: right;\">\n",
       "      <th></th>\n",
       "      <th>y_proba</th>\n",
       "      <th>y_true</th>\n",
       "    </tr>\n",
       "  </thead>\n",
       "  <tbody>\n",
       "    <tr>\n",
       "      <th>709</th>\n",
       "      <td>0.44</td>\n",
       "      <td>1</td>\n",
       "    </tr>\n",
       "    <tr>\n",
       "      <th>439</th>\n",
       "      <td>0.02</td>\n",
       "      <td>0</td>\n",
       "    </tr>\n",
       "    <tr>\n",
       "      <th>840</th>\n",
       "      <td>0.10</td>\n",
       "      <td>0</td>\n",
       "    </tr>\n",
       "    <tr>\n",
       "      <th>720</th>\n",
       "      <td>0.96</td>\n",
       "      <td>1</td>\n",
       "    </tr>\n",
       "    <tr>\n",
       "      <th>39</th>\n",
       "      <td>0.35</td>\n",
       "      <td>1</td>\n",
       "    </tr>\n",
       "  </tbody>\n",
       "</table>\n",
       "</div>"
      ],
      "text/plain": [
       "     y_proba  y_true\n",
       "709     0.44       1\n",
       "439     0.02       0\n",
       "840     0.10       0\n",
       "720     0.96       1\n",
       "39      0.35       1"
      ]
     },
     "execution_count": 151,
     "metadata": {},
     "output_type": "execute_result"
    }
   ],
   "source": [
    "results_rf = pd.DataFrame({'y_true': y_test, 'y_proba':y_proba[:,1]})\n",
    "results_rf.head()"
   ]
  },
  {
   "cell_type": "markdown",
   "metadata": {},
   "source": [
    "Next, let us create a boxplot which shows the probability distribution y_proba for the true values of class 1 and class 2.\n",
    "First, import seasborn as sns. Afterwards, use the boxplot method where x='y_true' and y='y_proba'."
   ]
  },
  {
   "cell_type": "code",
   "execution_count": 152,
   "metadata": {},
   "outputs": [],
   "source": [
    "# import\n",
    "import seaborn as sns"
   ]
  },
  {
   "cell_type": "code",
   "execution_count": 156,
   "metadata": {},
   "outputs": [
    {
     "data": {
      "text/plain": [
       "<matplotlib.axes._subplots.AxesSubplot at 0x7f0b9c1a5cf8>"
      ]
     },
     "execution_count": 156,
     "metadata": {},
     "output_type": "execute_result"
    },
    {
     "data": {
      "image/png": "[encoded data removed]",
      "text/plain": [
       "<matplotlib.figure.Figure at 0x7f0b9c49fef0>"
      ]
     },
     "metadata": {},
     "output_type": "display_data"
    }
   ],
   "source": [
    "# boxplot\n",
    "#sns.boxplot(data=results_rf, x='y_true', y='y_proba')\n",
    "sns.violinplot(data=results_rf, x='y_true', y='y_proba')"
   ]
  },
  {
   "cell_type": "markdown",
   "metadata": {},
   "source": [
    "For a good classifier both distributions have only a small overlap with each other and the medians should be far away from each other."
   ]
  },
  {
   "cell_type": "markdown",
   "metadata": {},
   "source": [
    "### Precision/Recall curves\n",
    "Next, we want to investigate the precision-recall tradeoff of out model.\n",
    "Sklearn provides a method which computes precisions and recalls for various threshold values."
   ]
  },
  {
   "cell_type": "code",
   "execution_count": 157,
   "metadata": {},
   "outputs": [],
   "source": [
    "from sklearn.metrics import precision_recall_curve"
   ]
  },
  {
   "cell_type": "code",
   "execution_count": 158,
   "metadata": {},
   "outputs": [],
   "source": [
    "precision, recall, threshold = precision_recall_curve(y_test, y_proba[:,1])"
   ]
  },
  {
   "cell_type": "markdown",
   "metadata": {},
   "source": [
    "Create a dataframe holding these results."
   ]
  },
  {
   "cell_type": "code",
   "execution_count": 164,
   "metadata": {},
   "outputs": [
    {
     "data": {
      "text/plain": [
       "78"
      ]
     },
     "execution_count": 164,
     "metadata": {},
     "output_type": "execute_result"
    }
   ],
   "source": [
    "len(precision)\n",
    "len(recall)\n",
    "len(threshold)"
   ]
  },
  {
   "cell_type": "code",
   "execution_count": 176,
   "metadata": {},
   "outputs": [],
   "source": [
    "# Just ecevute\n",
    "\n",
    "from matplotlib import pyplot as plt\n",
    "def plot_precision_recall_vs_threshold(precisions, recalls, thresholds,\n",
    "                                      color=\"g\", labels=('Precision', 'Recall')):\n",
    "    '''Functions takes precisions, recalls and thresholds as arguments and generates a plot with two curves.\n",
    "        Optionally you can define the color and the labels.'''\n",
    "    plt.plot(thresholds, precisions[:-1], color + \"--\", label = labels[0])\n",
    "    plt.plot(thresholds, recalls[:-1], color + \"-\", label = labels[1])\n",
    "    plt.xlabel(\"Threshold\")\n",
    "    plt.legend(loc=\"upper left\")\n",
    "    #plt.ylim([0,1])\n",
    "\n",
    "def plot_precision_vs_recall(precisions, recalls, color=\"g\", label='model'):\n",
    "    plt.plot(recalls, precisions, color + \"--\", label = label)\n",
    "    plt.xlabel(\"recall\")\n",
    "    plt.ylabel(\"precision\")\n",
    "    plt.legend(loc=\"upper right\")\n",
    "    #plt.ylim([-0.01,1.1])"
   ]
  },
  {
   "cell_type": "code",
   "execution_count": 174,
   "metadata": {},
   "outputs": [
    {
     "data": {
      "image/png": "[encoded data removed]",
      "text/plain": [
       "<matplotlib.figure.Figure at 0x7f0b9bf394a8>"
      ]
     },
     "metadata": {},
     "output_type": "display_data"
    }
   ],
   "source": [
    "plot_precision_vs_recall(precision, recall)"
   ]
  },
  {
   "cell_type": "code",
   "execution_count": 175,
   "metadata": {},
   "outputs": [
    {
     "data": {
      "image/png": "[encoded data removed]",
      "text/plain": [
       "<matplotlib.figure.Figure at 0x7f0b9c523a20>"
      ]
     },
     "metadata": {},
     "output_type": "display_data"
    }
   ],
   "source": [
    "plot_precision_recall_vs_threshold(precision, recall, threshold)"
   ]
  },
  {
   "cell_type": "markdown",
   "metadata": {},
   "source": [
    "The intersection point of the precision and recall curve is called the breakeven point.\n",
    "\n",
    "What threshold do we need if we want to have a precision of 0.9? What will be the recall value? (read it of the diagram)."
   ]
  },
  {
   "cell_type": "markdown",
   "metadata": {},
   "source": [
    "### Feature Importance\n",
    "In this part we want to compute the feature importance of the random forest. This will be very similar to the feature importance part of the regression exercise. Please perform the following steps:\n",
    "\n",
    "1. Create a list of features called features by using the columns attribute of X_train and the tolist() method\n",
    "2. Create a list of the feature importance values by accessing the attribute **feature__importances__** of the random forest \n",
    "3. Create a dataframe importance_df containing these two columns\n",
    "4. Soft the dataframe by the feature importance column in descending order"
   ]
  },
  {
   "cell_type": "code",
   "execution_count": 177,
   "metadata": {},
   "outputs": [],
   "source": [
    "featues = X_train.columns.tolist()\n",
    "importances = rf_clf.feature_importances_"
   ]
  },
  {
   "cell_type": "code",
   "execution_count": 183,
   "metadata": {},
   "outputs": [
    {
     "data": {
      "text/html": [
       "<div>\n",
       "<style scoped>\n",
       "    .dataframe tbody tr th:only-of-type {\n",
       "        vertical-align: middle;\n",
       "    }\n",
       "\n",
       "    .dataframe tbody tr th {\n",
       "        vertical-align: top;\n",
       "    }\n",
       "\n",
       "    .dataframe thead th {\n",
       "        text-align: right;\n",
       "    }\n",
       "</style>\n",
       "<table border=\"1\" class=\"dataframe\">\n",
       "  <thead>\n",
       "    <tr style=\"text-align: right;\">\n",
       "      <th></th>\n",
       "      <th>features</th>\n",
       "      <th>importances</th>\n",
       "    </tr>\n",
       "  </thead>\n",
       "  <tbody>\n",
       "    <tr>\n",
       "      <th>1</th>\n",
       "      <td>Age</td>\n",
       "      <td>0.228174</td>\n",
       "    </tr>\n",
       "    <tr>\n",
       "      <th>2</th>\n",
       "      <td>Fare</td>\n",
       "      <td>0.218795</td>\n",
       "    </tr>\n",
       "    <tr>\n",
       "      <th>4</th>\n",
       "      <td>Sex=male</td>\n",
       "      <td>0.179468</td>\n",
       "    </tr>\n",
       "    <tr>\n",
       "      <th>3</th>\n",
       "      <td>Familiy_Size</td>\n",
       "      <td>0.075691</td>\n",
       "    </tr>\n",
       "    <tr>\n",
       "      <th>0</th>\n",
       "      <td>Pclass</td>\n",
       "      <td>0.070605</td>\n",
       "    </tr>\n",
       "    <tr>\n",
       "      <th>9</th>\n",
       "      <td>marital_status=yes</td>\n",
       "      <td>0.062598</td>\n",
       "    </tr>\n",
       "    <tr>\n",
       "      <th>8</th>\n",
       "      <td>marital_status=no</td>\n",
       "      <td>0.044256</td>\n",
       "    </tr>\n",
       "    <tr>\n",
       "      <th>17</th>\n",
       "      <td>Deck=unknown</td>\n",
       "      <td>0.033431</td>\n",
       "    </tr>\n",
       "    <tr>\n",
       "      <th>6</th>\n",
       "      <td>Embarked=S</td>\n",
       "      <td>0.021225</td>\n",
       "    </tr>\n",
       "    <tr>\n",
       "      <th>7</th>\n",
       "      <td>Title=rareTitle</td>\n",
       "      <td>0.017027</td>\n",
       "    </tr>\n",
       "    <tr>\n",
       "      <th>13</th>\n",
       "      <td>Deck=E</td>\n",
       "      <td>0.011807</td>\n",
       "    </tr>\n",
       "    <tr>\n",
       "      <th>5</th>\n",
       "      <td>Embarked=Q</td>\n",
       "      <td>0.009402</td>\n",
       "    </tr>\n",
       "    <tr>\n",
       "      <th>11</th>\n",
       "      <td>Deck=C</td>\n",
       "      <td>0.008539</td>\n",
       "    </tr>\n",
       "    <tr>\n",
       "      <th>10</th>\n",
       "      <td>Deck=B</td>\n",
       "      <td>0.008142</td>\n",
       "    </tr>\n",
       "    <tr>\n",
       "      <th>12</th>\n",
       "      <td>Deck=D</td>\n",
       "      <td>0.006224</td>\n",
       "    </tr>\n",
       "    <tr>\n",
       "      <th>15</th>\n",
       "      <td>Deck=G</td>\n",
       "      <td>0.002194</td>\n",
       "    </tr>\n",
       "    <tr>\n",
       "      <th>14</th>\n",
       "      <td>Deck=F</td>\n",
       "      <td>0.001984</td>\n",
       "    </tr>\n",
       "    <tr>\n",
       "      <th>16</th>\n",
       "      <td>Deck=T</td>\n",
       "      <td>0.000440</td>\n",
       "    </tr>\n",
       "  </tbody>\n",
       "</table>\n",
       "</div>"
      ],
      "text/plain": [
       "              features  importances\n",
       "1                  Age     0.228174\n",
       "2                 Fare     0.218795\n",
       "4             Sex=male     0.179468\n",
       "3         Familiy_Size     0.075691\n",
       "0               Pclass     0.070605\n",
       "9   marital_status=yes     0.062598\n",
       "8    marital_status=no     0.044256\n",
       "17        Deck=unknown     0.033431\n",
       "6           Embarked=S     0.021225\n",
       "7      Title=rareTitle     0.017027\n",
       "13              Deck=E     0.011807\n",
       "5           Embarked=Q     0.009402\n",
       "11              Deck=C     0.008539\n",
       "10              Deck=B     0.008142\n",
       "12              Deck=D     0.006224\n",
       "15              Deck=G     0.002194\n",
       "14              Deck=F     0.001984\n",
       "16              Deck=T     0.000440"
      ]
     },
     "execution_count": 183,
     "metadata": {},
     "output_type": "execute_result"
    }
   ],
   "source": [
    "importance_df = pd.DataFrame({'features': featues,\n",
    "                              'importances': importances})\\\n",
    "    .sort_values(by='importances', ascending=False)\n",
    "importance_df"
   ]
  },
  {
   "cell_type": "markdown",
   "metadata": {},
   "source": [
    "Surprisingly, the feature Pclass does not seem to be that important as we maybe have thought. Maybhe we have been biased by the movie titanic too much? But wait, what about the feature Fare? It is a numeric feature which describes the price of the ticket. This feature will be correlated with Pclass.\n",
    "\n",
    "To check if Fare depends on the Pclass please create a boxplot which show the distribution of Fare for the different classes.\n",
    "\n",
    "**Bonus**: Look at the distribution of Fare for the two different target labels."
   ]
  },
  {
   "cell_type": "code",
   "execution_count": 181,
   "metadata": {},
   "outputs": [
    {
     "data": {
      "text/plain": [
       "<matplotlib.axes._subplots.AxesSubplot at 0x7f0b9875d0b8>"
      ]
     },
     "execution_count": 181,
     "metadata": {},
     "output_type": "execute_result"
    },
    {
     "data": {
      "image/png": "[encoded data removed]",
      "text/plain": [
       "<matplotlib.figure.Figure at 0x7f0b9872e518>"
      ]
     },
     "metadata": {},
     "output_type": "display_data"
    }
   ],
   "source": [
    "sns.boxplot(data=X_train, x='Pclass', y='Fare', showfliers=False)"
   ]
  },
  {
   "cell_type": "code",
   "execution_count": 187,
   "metadata": {},
   "outputs": [
    {
     "data": {
      "text/plain": [
       "<matplotlib.axes._subplots.AxesSubplot at 0x7f0b98531c88>"
      ]
     },
     "execution_count": 187,
     "metadata": {},
     "output_type": "execute_result"
    },
    {
     "data": {
      "image/png": "[encoded data removed]",
      "text/plain": [
       "<matplotlib.figure.Figure at 0x7f0b98531320>"
      ]
     },
     "metadata": {},
     "output_type": "display_data"
    }
   ],
   "source": [
    "df = X_train.join(y_train)\n",
    "sns.boxplot(data=df, x='Survived', y='Fare', showfliers=False)"
   ]
  },
  {
   "cell_type": "markdown",
   "metadata": {},
   "source": [
    "**Bonus**: Can you sum all the values belonging to one categorical variable?\n",
    "\n",
    "**Hint**:\n",
    "\n",
    "1. Use apply method and the split function on the column importance_df[features]\n",
    "2. Use groupby, sum, and sort"
   ]
  },
  {
   "cell_type": "code",
   "execution_count": 184,
   "metadata": {},
   "outputs": [],
   "source": [
    "# Create new column\n",
    "importance_df['features_split'] = importance_df['features'].apply(lambda x: x.split('=')[0])"
   ]
  },
  {
   "cell_type": "code",
   "execution_count": 186,
   "metadata": {},
   "outputs": [
    {
     "data": {
      "text/html": [
       "<div>\n",
       "<style scoped>\n",
       "    .dataframe tbody tr th:only-of-type {\n",
       "        vertical-align: middle;\n",
       "    }\n",
       "\n",
       "    .dataframe tbody tr th {\n",
       "        vertical-align: top;\n",
       "    }\n",
       "\n",
       "    .dataframe thead th {\n",
       "        text-align: right;\n",
       "    }\n",
       "</style>\n",
       "<table border=\"1\" class=\"dataframe\">\n",
       "  <thead>\n",
       "    <tr style=\"text-align: right;\">\n",
       "      <th></th>\n",
       "      <th>importances</th>\n",
       "    </tr>\n",
       "    <tr>\n",
       "      <th>features_split</th>\n",
       "      <th></th>\n",
       "    </tr>\n",
       "  </thead>\n",
       "  <tbody>\n",
       "    <tr>\n",
       "      <th>Age</th>\n",
       "      <td>0.228174</td>\n",
       "    </tr>\n",
       "    <tr>\n",
       "      <th>Fare</th>\n",
       "      <td>0.218795</td>\n",
       "    </tr>\n",
       "    <tr>\n",
       "      <th>Sex</th>\n",
       "      <td>0.179468</td>\n",
       "    </tr>\n",
       "    <tr>\n",
       "      <th>marital_status</th>\n",
       "      <td>0.106854</td>\n",
       "    </tr>\n",
       "    <tr>\n",
       "      <th>Familiy_Size</th>\n",
       "      <td>0.075691</td>\n",
       "    </tr>\n",
       "    <tr>\n",
       "      <th>Deck</th>\n",
       "      <td>0.072759</td>\n",
       "    </tr>\n",
       "    <tr>\n",
       "      <th>Pclass</th>\n",
       "      <td>0.070605</td>\n",
       "    </tr>\n",
       "    <tr>\n",
       "      <th>Embarked</th>\n",
       "      <td>0.030627</td>\n",
       "    </tr>\n",
       "    <tr>\n",
       "      <th>Title</th>\n",
       "      <td>0.017027</td>\n",
       "    </tr>\n",
       "  </tbody>\n",
       "</table>\n",
       "</div>"
      ],
      "text/plain": [
       "                importances\n",
       "features_split             \n",
       "Age                0.228174\n",
       "Fare               0.218795\n",
       "Sex                0.179468\n",
       "marital_status     0.106854\n",
       "Familiy_Size       0.075691\n",
       "Deck               0.072759\n",
       "Pclass             0.070605\n",
       "Embarked           0.030627\n",
       "Title              0.017027"
      ]
     },
     "execution_count": 186,
     "metadata": {},
     "output_type": "execute_result"
    }
   ],
   "source": [
    "# Compute sum\n",
    "importance_df.groupby('features_split').sum().sort_values('importances', ascending=False)"
   ]
  },
  {
   "cell_type": "markdown",
   "metadata": {},
   "source": [
    "## K nearest Neighbors Classification"
   ]
  },
  {
   "cell_type": "markdown",
   "metadata": {},
   "source": [
    "In this part we want to train k nearest neighbors classification model. Since this model uses a distance metric for training, we need to standardize out data. This can be done by using the class StandardScaler from the module sklearn.preprocessing."
   ]
  },
  {
   "cell_type": "code",
   "execution_count": 188,
   "metadata": {},
   "outputs": [],
   "source": [
    "from sklearn.preprocessing import StandardScaler"
   ]
  },
  {
   "cell_type": "code",
   "execution_count": 189,
   "metadata": {},
   "outputs": [],
   "source": [
    "scaler = StandardScaler()"
   ]
  },
  {
   "cell_type": "code",
   "execution_count": 190,
   "metadata": {},
   "outputs": [],
   "source": [
    "columns = X_train.columns.tolist()\n",
    "train_index = X_train.index.tolist()\n",
    "test_index = X_test.index.tolist()"
   ]
  },
  {
   "cell_type": "code",
   "execution_count": 191,
   "metadata": {},
   "outputs": [],
   "source": [
    "X_train_scaled_array = scaler.fit_transform(X_train)\n",
    "X_test_scaled_array = scaler.transform(X_test)"
   ]
  },
  {
   "cell_type": "code",
   "execution_count": 193,
   "metadata": {},
   "outputs": [],
   "source": [
    "X_train_scaled = pd.DataFrame(X_train_scaled_array,\n",
    "                              columns=columns, index=train_index)\n",
    "\n",
    "X_test_scaled = pd.DataFrame(X_test_scaled_array,\n",
    "                              columns=columns, index=test_index)"
   ]
  },
  {
   "cell_type": "code",
   "execution_count": 194,
   "metadata": {},
   "outputs": [],
   "source": [
    "from sklearn.neighbors import KNeighborsClassifier"
   ]
  },
  {
   "cell_type": "code",
   "execution_count": 195,
   "metadata": {},
   "outputs": [],
   "source": [
    "knn_clf = KNeighborsClassifier()"
   ]
  },
  {
   "cell_type": "code",
   "execution_count": 197,
   "metadata": {},
   "outputs": [
    {
     "name": "stdout",
     "output_type": "stream",
     "text": [
      "             precision    recall  f1-score   support\n",
      "\n",
      "          0       0.80      0.82      0.81       105\n",
      "          1       0.74      0.72      0.73        74\n",
      "\n",
      "avg / total       0.78      0.78      0.78       179\n",
      "\n"
     ]
    }
   ],
   "source": [
    "knn_clf.fit(X_train_scaled, y_train)\n",
    "y_pred = knn_clf.predict(X_test_scaled)\n",
    "print(classification_report(y_test, y_pred))"
   ]
  },
  {
   "cell_type": "code",
   "execution_count": 198,
   "metadata": {},
   "outputs": [
    {
     "name": "stdout",
     "output_type": "stream",
     "text": [
      "             precision    recall  f1-score   support\n",
      "\n",
      "          0       0.74      0.85      0.79       105\n",
      "          1       0.73      0.58      0.65        74\n",
      "\n",
      "avg / total       0.74      0.74      0.73       179\n",
      "\n"
     ]
    }
   ],
   "source": [
    "knn_clf.fit(X_train, y_train)\n",
    "y_pred = knn_clf.predict(X_test)\n",
    "print(classification_report(y_test, y_pred))"
   ]
  },
  {
   "cell_type": "code",
   "execution_count": 199,
   "metadata": {},
   "outputs": [],
   "source": [
    "from sklearn.preprocessing import OneHotEncoder"
   ]
  },
  {
   "cell_type": "code",
   "execution_count": 208,
   "metadata": {},
   "outputs": [],
   "source": [
    "Pclass_train = pd.get_dummies(X_train['Pclass'],\n",
    "               prefix_sep='=',\n",
    "               drop_first=True,\n",
    "               prefix='Pclass')\n",
    "\n",
    "Pclass_test = pd.get_dummies(X_test['Pclass'],\n",
    "               prefix_sep='=',\n",
    "               drop_first=True,\n",
    "               prefix='Pclass')"
   ]
  },
  {
   "cell_type": "code",
   "execution_count": 210,
   "metadata": {},
   "outputs": [],
   "source": [
    "X_train_new = X_train.join(Pclass_train).drop(['Pclass'], axis=1)\n",
    "X_test_new = X_test.join(Pclass_test).drop(['Pclass'], axis=1)"
   ]
  },
  {
   "cell_type": "code",
   "execution_count": 211,
   "metadata": {},
   "outputs": [],
   "source": [
    "columns = X_train_new.columns.tolist()\n",
    "train_index = X_train_new.index.tolist()\n",
    "test_index = X_test_new.index.tolist()"
   ]
  },
  {
   "cell_type": "code",
   "execution_count": 212,
   "metadata": {},
   "outputs": [],
   "source": [
    "X_train_scaled_array = scaler.fit_transform(X_train_new)\n",
    "X_test_scaled_array = scaler.transform(X_test_new)"
   ]
  },
  {
   "cell_type": "code",
   "execution_count": 213,
   "metadata": {},
   "outputs": [],
   "source": [
    "X_train_scaled = pd.DataFrame(X_train_scaled_array,\n",
    "                              columns=columns, index=train_index)\n",
    "\n",
    "X_test_scaled = pd.DataFrame(X_test_scaled_array,\n",
    "                              columns=columns, index=test_index)"
   ]
  },
  {
   "cell_type": "code",
   "execution_count": 214,
   "metadata": {},
   "outputs": [
    {
     "name": "stdout",
     "output_type": "stream",
     "text": [
      "             precision    recall  f1-score   support\n",
      "\n",
      "          0       0.81      0.82      0.82       105\n",
      "          1       0.74      0.73      0.73        74\n",
      "\n",
      "avg / total       0.78      0.78      0.78       179\n",
      "\n"
     ]
    }
   ],
   "source": [
    "knn_clf.fit(X_train_scaled, y_train)\n",
    "y_pred = knn_clf.predict(X_test_scaled)\n",
    "print(classification_report(y_test, y_pred))"
   ]
  },
  {
   "cell_type": "code",
   "execution_count": 215,
   "metadata": {},
   "outputs": [
    {
     "data": {
      "text/html": [
       "<div>\n",
       "<style scoped>\n",
       "    .dataframe tbody tr th:only-of-type {\n",
       "        vertical-align: middle;\n",
       "    }\n",
       "\n",
       "    .dataframe tbody tr th {\n",
       "        vertical-align: top;\n",
       "    }\n",
       "\n",
       "    .dataframe thead th {\n",
       "        text-align: right;\n",
       "    }\n",
       "</style>\n",
       "<table border=\"1\" class=\"dataframe\">\n",
       "  <thead>\n",
       "    <tr style=\"text-align: right;\">\n",
       "      <th></th>\n",
       "      <th>Age</th>\n",
       "      <th>Fare</th>\n",
       "      <th>Familiy_Size</th>\n",
       "      <th>Sex=male</th>\n",
       "      <th>Embarked=Q</th>\n",
       "      <th>Embarked=S</th>\n",
       "      <th>Title=rareTitle</th>\n",
       "      <th>marital_status=no</th>\n",
       "      <th>marital_status=yes</th>\n",
       "      <th>Deck=B</th>\n",
       "      <th>Deck=C</th>\n",
       "      <th>Deck=D</th>\n",
       "      <th>Deck=E</th>\n",
       "      <th>Deck=F</th>\n",
       "      <th>Deck=G</th>\n",
       "      <th>Deck=T</th>\n",
       "      <th>Deck=unknown</th>\n",
       "      <th>Pclass=2</th>\n",
       "      <th>Pclass=3</th>\n",
       "    </tr>\n",
       "  </thead>\n",
       "  <tbody>\n",
       "    <tr>\n",
       "      <th>count</th>\n",
       "      <td>7.120000e+02</td>\n",
       "      <td>7.120000e+02</td>\n",
       "      <td>7.120000e+02</td>\n",
       "      <td>7.120000e+02</td>\n",
       "      <td>7.120000e+02</td>\n",
       "      <td>7.120000e+02</td>\n",
       "      <td>7.120000e+02</td>\n",
       "      <td>7.120000e+02</td>\n",
       "      <td>7.120000e+02</td>\n",
       "      <td>7.120000e+02</td>\n",
       "      <td>7.120000e+02</td>\n",
       "      <td>7.120000e+02</td>\n",
       "      <td>7.120000e+02</td>\n",
       "      <td>7.120000e+02</td>\n",
       "      <td>7.120000e+02</td>\n",
       "      <td>7.120000e+02</td>\n",
       "      <td>7.120000e+02</td>\n",
       "      <td>7.120000e+02</td>\n",
       "      <td>7.120000e+02</td>\n",
       "    </tr>\n",
       "    <tr>\n",
       "      <th>mean</th>\n",
       "      <td>-3.851476e-17</td>\n",
       "      <td>3.867069e-17</td>\n",
       "      <td>-8.494298e-17</td>\n",
       "      <td>6.517882e-17</td>\n",
       "      <td>-2.114414e-16</td>\n",
       "      <td>-3.227755e-16</td>\n",
       "      <td>1.844654e-16</td>\n",
       "      <td>-8.934800e-17</td>\n",
       "      <td>-3.207484e-16</td>\n",
       "      <td>-1.372186e-16</td>\n",
       "      <td>8.295487e-17</td>\n",
       "      <td>5.289152e-16</td>\n",
       "      <td>1.375304e-16</td>\n",
       "      <td>1.122697e-16</td>\n",
       "      <td>1.165968e-16</td>\n",
       "      <td>-4.442646e-16</td>\n",
       "      <td>-4.802650e-17</td>\n",
       "      <td>-2.869116e-17</td>\n",
       "      <td>-5.738231e-17</td>\n",
       "    </tr>\n",
       "    <tr>\n",
       "      <th>std</th>\n",
       "      <td>1.000703e+00</td>\n",
       "      <td>1.000703e+00</td>\n",
       "      <td>1.000703e+00</td>\n",
       "      <td>1.000703e+00</td>\n",
       "      <td>1.000703e+00</td>\n",
       "      <td>1.000703e+00</td>\n",
       "      <td>1.000703e+00</td>\n",
       "      <td>1.000703e+00</td>\n",
       "      <td>1.000703e+00</td>\n",
       "      <td>1.000703e+00</td>\n",
       "      <td>1.000703e+00</td>\n",
       "      <td>1.000703e+00</td>\n",
       "      <td>1.000703e+00</td>\n",
       "      <td>1.000703e+00</td>\n",
       "      <td>1.000703e+00</td>\n",
       "      <td>1.000703e+00</td>\n",
       "      <td>1.000703e+00</td>\n",
       "      <td>1.000703e+00</td>\n",
       "      <td>1.000703e+00</td>\n",
       "    </tr>\n",
       "    <tr>\n",
       "      <th>min</th>\n",
       "      <td>-2.172938e+00</td>\n",
       "      <td>-6.274674e-01</td>\n",
       "      <td>-5.546661e-01</td>\n",
       "      <td>-1.380624e+00</td>\n",
       "      <td>-3.033555e-01</td>\n",
       "      <td>-1.675556e+00</td>\n",
       "      <td>-2.777694e-01</td>\n",
       "      <td>-5.078883e-01</td>\n",
       "      <td>-3.947710e-01</td>\n",
       "      <td>-2.374444e-01</td>\n",
       "      <td>-2.806918e-01</td>\n",
       "      <td>-1.655809e-01</td>\n",
       "      <td>-1.907619e-01</td>\n",
       "      <td>-1.252672e-01</td>\n",
       "      <td>-6.504853e-02</td>\n",
       "      <td>-3.750293e-02</td>\n",
       "      <td>-1.864936e+00</td>\n",
       "      <td>-5.188085e-01</td>\n",
       "      <td>-1.125840e+00</td>\n",
       "    </tr>\n",
       "    <tr>\n",
       "      <th>25%</th>\n",
       "      <td>-5.326406e-01</td>\n",
       "      <td>-4.748670e-01</td>\n",
       "      <td>-5.546661e-01</td>\n",
       "      <td>-1.380624e+00</td>\n",
       "      <td>-3.033555e-01</td>\n",
       "      <td>-1.675556e+00</td>\n",
       "      <td>-2.777694e-01</td>\n",
       "      <td>-5.078883e-01</td>\n",
       "      <td>-3.947710e-01</td>\n",
       "      <td>-2.374444e-01</td>\n",
       "      <td>-2.806918e-01</td>\n",
       "      <td>-1.655809e-01</td>\n",
       "      <td>-1.907619e-01</td>\n",
       "      <td>-1.252672e-01</td>\n",
       "      <td>-6.504853e-02</td>\n",
       "      <td>-3.750293e-02</td>\n",
       "      <td>5.362113e-01</td>\n",
       "      <td>-5.188085e-01</td>\n",
       "      <td>-1.125840e+00</td>\n",
       "    </tr>\n",
       "    <tr>\n",
       "      <th>50%</th>\n",
       "      <td>-2.286003e-01</td>\n",
       "      <td>-3.491435e-01</td>\n",
       "      <td>-5.546661e-01</td>\n",
       "      <td>7.243102e-01</td>\n",
       "      <td>-3.033555e-01</td>\n",
       "      <td>5.968170e-01</td>\n",
       "      <td>-2.777694e-01</td>\n",
       "      <td>-5.078883e-01</td>\n",
       "      <td>-3.947710e-01</td>\n",
       "      <td>-2.374444e-01</td>\n",
       "      <td>-2.806918e-01</td>\n",
       "      <td>-1.655809e-01</td>\n",
       "      <td>-1.907619e-01</td>\n",
       "      <td>-1.252672e-01</td>\n",
       "      <td>-6.504853e-02</td>\n",
       "      <td>-3.750293e-02</td>\n",
       "      <td>5.362113e-01</td>\n",
       "      <td>-5.188085e-01</td>\n",
       "      <td>8.882256e-01</td>\n",
       "    </tr>\n",
       "    <tr>\n",
       "      <th>75%</th>\n",
       "      <td>5.315004e-01</td>\n",
       "      <td>-4.017244e-02</td>\n",
       "      <td>4.009635e-02</td>\n",
       "      <td>7.243102e-01</td>\n",
       "      <td>-3.033555e-01</td>\n",
       "      <td>5.968170e-01</td>\n",
       "      <td>-2.777694e-01</td>\n",
       "      <td>-5.078883e-01</td>\n",
       "      <td>-3.947710e-01</td>\n",
       "      <td>-2.374444e-01</td>\n",
       "      <td>-2.806918e-01</td>\n",
       "      <td>-1.655809e-01</td>\n",
       "      <td>-1.907619e-01</td>\n",
       "      <td>-1.252672e-01</td>\n",
       "      <td>-6.504853e-02</td>\n",
       "      <td>-3.750293e-02</td>\n",
       "      <td>5.362113e-01</td>\n",
       "      <td>-5.188085e-01</td>\n",
       "      <td>8.882256e-01</td>\n",
       "    </tr>\n",
       "    <tr>\n",
       "      <th>max</th>\n",
       "      <td>3.875944e+00</td>\n",
       "      <td>9.237724e+00</td>\n",
       "      <td>5.392959e+00</td>\n",
       "      <td>7.243102e-01</td>\n",
       "      <td>3.296463e+00</td>\n",
       "      <td>5.968170e-01</td>\n",
       "      <td>3.600109e+00</td>\n",
       "      <td>1.968937e+00</td>\n",
       "      <td>2.533114e+00</td>\n",
       "      <td>4.211513e+00</td>\n",
       "      <td>3.562627e+00</td>\n",
       "      <td>6.039345e+00</td>\n",
       "      <td>5.242137e+00</td>\n",
       "      <td>7.982936e+00</td>\n",
       "      <td>1.537314e+01</td>\n",
       "      <td>2.666458e+01</td>\n",
       "      <td>5.362113e-01</td>\n",
       "      <td>1.927494e+00</td>\n",
       "      <td>8.882256e-01</td>\n",
       "    </tr>\n",
       "  </tbody>\n",
       "</table>\n",
       "</div>"
      ],
      "text/plain": [
       "                Age          Fare  Familiy_Size      Sex=male    Embarked=Q  \\\n",
       "count  7.120000e+02  7.120000e+02  7.120000e+02  7.120000e+02  7.120000e+02   \n",
       "mean  -3.851476e-17  3.867069e-17 -8.494298e-17  6.517882e-17 -2.114414e-16   \n",
       "std    1.000703e+00  1.000703e+00  1.000703e+00  1.000703e+00  1.000703e+00   \n",
       "min   -2.172938e+00 -6.274674e-01 -5.546661e-01 -1.380624e+00 -3.033555e-01   \n",
       "25%   -5.326406e-01 -4.748670e-01 -5.546661e-01 -1.380624e+00 -3.033555e-01   \n",
       "50%   -2.286003e-01 -3.491435e-01 -5.546661e-01  7.243102e-01 -3.033555e-01   \n",
       "75%    5.315004e-01 -4.017244e-02  4.009635e-02  7.243102e-01 -3.033555e-01   \n",
       "max    3.875944e+00  9.237724e+00  5.392959e+00  7.243102e-01  3.296463e+00   \n",
       "\n",
       "         Embarked=S  Title=rareTitle  marital_status=no  marital_status=yes  \\\n",
       "count  7.120000e+02     7.120000e+02       7.120000e+02        7.120000e+02   \n",
       "mean  -3.227755e-16     1.844654e-16      -8.934800e-17       -3.207484e-16   \n",
       "std    1.000703e+00     1.000703e+00       1.000703e+00        1.000703e+00   \n",
       "min   -1.675556e+00    -2.777694e-01      -5.078883e-01       -3.947710e-01   \n",
       "25%   -1.675556e+00    -2.777694e-01      -5.078883e-01       -3.947710e-01   \n",
       "50%    5.968170e-01    -2.777694e-01      -5.078883e-01       -3.947710e-01   \n",
       "75%    5.968170e-01    -2.777694e-01      -5.078883e-01       -3.947710e-01   \n",
       "max    5.968170e-01     3.600109e+00       1.968937e+00        2.533114e+00   \n",
       "\n",
       "             Deck=B        Deck=C        Deck=D        Deck=E        Deck=F  \\\n",
       "count  7.120000e+02  7.120000e+02  7.120000e+02  7.120000e+02  7.120000e+02   \n",
       "mean  -1.372186e-16  8.295487e-17  5.289152e-16  1.375304e-16  1.122697e-16   \n",
       "std    1.000703e+00  1.000703e+00  1.000703e+00  1.000703e+00  1.000703e+00   \n",
       "min   -2.374444e-01 -2.806918e-01 -1.655809e-01 -1.907619e-01 -1.252672e-01   \n",
       "25%   -2.374444e-01 -2.806918e-01 -1.655809e-01 -1.907619e-01 -1.252672e-01   \n",
       "50%   -2.374444e-01 -2.806918e-01 -1.655809e-01 -1.907619e-01 -1.252672e-01   \n",
       "75%   -2.374444e-01 -2.806918e-01 -1.655809e-01 -1.907619e-01 -1.252672e-01   \n",
       "max    4.211513e+00  3.562627e+00  6.039345e+00  5.242137e+00  7.982936e+00   \n",
       "\n",
       "             Deck=G        Deck=T  Deck=unknown      Pclass=2      Pclass=3  \n",
       "count  7.120000e+02  7.120000e+02  7.120000e+02  7.120000e+02  7.120000e+02  \n",
       "mean   1.165968e-16 -4.442646e-16 -4.802650e-17 -2.869116e-17 -5.738231e-17  \n",
       "std    1.000703e+00  1.000703e+00  1.000703e+00  1.000703e+00  1.000703e+00  \n",
       "min   -6.504853e-02 -3.750293e-02 -1.864936e+00 -5.188085e-01 -1.125840e+00  \n",
       "25%   -6.504853e-02 -3.750293e-02  5.362113e-01 -5.188085e-01 -1.125840e+00  \n",
       "50%   -6.504853e-02 -3.750293e-02  5.362113e-01 -5.188085e-01  8.882256e-01  \n",
       "75%   -6.504853e-02 -3.750293e-02  5.362113e-01 -5.188085e-01  8.882256e-01  \n",
       "max    1.537314e+01  2.666458e+01  5.362113e-01  1.927494e+00  8.882256e-01  "
      ]
     },
     "execution_count": 215,
     "metadata": {},
     "output_type": "execute_result"
    }
   ],
   "source": [
    "X_train_scaled.describe()"
   ]
  },
  {
   "cell_type": "code",
   "execution_count": 232,
   "metadata": {},
   "outputs": [],
   "source": [
    "from sklearn.model_selection import cross_val_score, GridSearchCV, KFold"
   ]
  },
  {
   "cell_type": "code",
   "execution_count": 218,
   "metadata": {},
   "outputs": [
    {
     "data": {
      "text/plain": [
       "{'algorithm': 'auto',\n",
       " 'leaf_size': 30,\n",
       " 'metric': 'minkowski',\n",
       " 'metric_params': None,\n",
       " 'n_jobs': 1,\n",
       " 'n_neighbors': 5,\n",
       " 'p': 2,\n",
       " 'weights': 'uniform'}"
      ]
     },
     "execution_count": 218,
     "metadata": {},
     "output_type": "execute_result"
    }
   ],
   "source": [
    "knn_clf.get_params()"
   ]
  },
  {
   "cell_type": "code",
   "execution_count": 219,
   "metadata": {},
   "outputs": [
    {
     "data": {
      "text/plain": [
       "{'n_neighbors': array([1, 2, 3, 4, 5, 6, 7, 8, 9])}"
      ]
     },
     "execution_count": 219,
     "metadata": {},
     "output_type": "execute_result"
    }
   ],
   "source": [
    "params = {'n_neighbors': np.arange(1,10)}\n",
    "params"
   ]
  },
  {
   "cell_type": "code",
   "execution_count": 233,
   "metadata": {},
   "outputs": [],
   "source": [
    "cv = KFold(random_state=42)"
   ]
  },
  {
   "cell_type": "code",
   "execution_count": 234,
   "metadata": {},
   "outputs": [],
   "source": [
    "grid_clf = GridSearchCV(knn_clf, params, scoring='f1', cv=cv)"
   ]
  },
  {
   "cell_type": "code",
   "execution_count": 235,
   "metadata": {},
   "outputs": [
    {
     "data": {
      "text/plain": [
       "GridSearchCV(cv=KFold(n_splits=3, random_state=42, shuffle=False),\n",
       "       error_score='raise',\n",
       "       estimator=KNeighborsClassifier(algorithm='auto', leaf_size=30, metric='minkowski',\n",
       "           metric_params=None, n_jobs=1, n_neighbors=5, p=2,\n",
       "           weights='uniform'),\n",
       "       fit_params=None, iid=True, n_jobs=1,\n",
       "       param_grid={'n_neighbors': array([1, 2, 3, 4, 5, 6, 7, 8, 9])},\n",
       "       pre_dispatch='2*n_jobs', refit=True, return_train_score='warn',\n",
       "       scoring='f1', verbose=0)"
      ]
     },
     "execution_count": 235,
     "metadata": {},
     "output_type": "execute_result"
    }
   ],
   "source": [
    "grid_clf.fit(X_train_scaled, y_train)"
   ]
  },
  {
   "cell_type": "code",
   "execution_count": 236,
   "metadata": {},
   "outputs": [
    {
     "name": "stderr",
     "output_type": "stream",
     "text": [
      "/home/jodahr/anaconda3/lib/python3.6/site-packages/sklearn/utils/deprecation.py:122: FutureWarning: You are accessing a training score ('mean_train_score'), which will not be available by default any more in 0.21. If you need training scores, please set return_train_score=True\n",
      "  warnings.warn(*warn_args, **warn_kwargs)\n",
      "/home/jodahr/anaconda3/lib/python3.6/site-packages/sklearn/utils/deprecation.py:122: FutureWarning: You are accessing a training score ('split0_train_score'), which will not be available by default any more in 0.21. If you need training scores, please set return_train_score=True\n",
      "  warnings.warn(*warn_args, **warn_kwargs)\n",
      "/home/jodahr/anaconda3/lib/python3.6/site-packages/sklearn/utils/deprecation.py:122: FutureWarning: You are accessing a training score ('split1_train_score'), which will not be available by default any more in 0.21. If you need training scores, please set return_train_score=True\n",
      "  warnings.warn(*warn_args, **warn_kwargs)\n",
      "/home/jodahr/anaconda3/lib/python3.6/site-packages/sklearn/utils/deprecation.py:122: FutureWarning: You are accessing a training score ('split2_train_score'), which will not be available by default any more in 0.21. If you need training scores, please set return_train_score=True\n",
      "  warnings.warn(*warn_args, **warn_kwargs)\n",
      "/home/jodahr/anaconda3/lib/python3.6/site-packages/sklearn/utils/deprecation.py:122: FutureWarning: You are accessing a training score ('std_train_score'), which will not be available by default any more in 0.21. If you need training scores, please set return_train_score=True\n",
      "  warnings.warn(*warn_args, **warn_kwargs)\n"
     ]
    },
    {
     "data": {
      "text/html": [
       "<div>\n",
       "<style scoped>\n",
       "    .dataframe tbody tr th:only-of-type {\n",
       "        vertical-align: middle;\n",
       "    }\n",
       "\n",
       "    .dataframe tbody tr th {\n",
       "        vertical-align: top;\n",
       "    }\n",
       "\n",
       "    .dataframe thead th {\n",
       "        text-align: right;\n",
       "    }\n",
       "</style>\n",
       "<table border=\"1\" class=\"dataframe\">\n",
       "  <thead>\n",
       "    <tr style=\"text-align: right;\">\n",
       "      <th></th>\n",
       "      <th>mean_fit_time</th>\n",
       "      <th>mean_score_time</th>\n",
       "      <th>mean_test_score</th>\n",
       "      <th>mean_train_score</th>\n",
       "      <th>param_n_neighbors</th>\n",
       "      <th>params</th>\n",
       "      <th>rank_test_score</th>\n",
       "      <th>split0_test_score</th>\n",
       "      <th>split0_train_score</th>\n",
       "      <th>split1_test_score</th>\n",
       "      <th>split1_train_score</th>\n",
       "      <th>split2_test_score</th>\n",
       "      <th>split2_train_score</th>\n",
       "      <th>std_fit_time</th>\n",
       "      <th>std_score_time</th>\n",
       "      <th>std_test_score</th>\n",
       "      <th>std_train_score</th>\n",
       "    </tr>\n",
       "  </thead>\n",
       "  <tbody>\n",
       "    <tr>\n",
       "      <th>0</th>\n",
       "      <td>0.002488</td>\n",
       "      <td>0.007181</td>\n",
       "      <td>0.680384</td>\n",
       "      <td>0.980323</td>\n",
       "      <td>1</td>\n",
       "      <td>{'n_neighbors': 1}</td>\n",
       "      <td>7</td>\n",
       "      <td>0.713568</td>\n",
       "      <td>0.982659</td>\n",
       "      <td>0.638554</td>\n",
       "      <td>0.983240</td>\n",
       "      <td>0.688889</td>\n",
       "      <td>0.975069</td>\n",
       "      <td>0.001351</td>\n",
       "      <td>0.004141</td>\n",
       "      <td>0.031218</td>\n",
       "      <td>0.003722</td>\n",
       "    </tr>\n",
       "    <tr>\n",
       "      <th>1</th>\n",
       "      <td>0.001046</td>\n",
       "      <td>0.003475</td>\n",
       "      <td>0.652217</td>\n",
       "      <td>0.812732</td>\n",
       "      <td>2</td>\n",
       "      <td>{'n_neighbors': 2}</td>\n",
       "      <td>9</td>\n",
       "      <td>0.730539</td>\n",
       "      <td>0.825939</td>\n",
       "      <td>0.594203</td>\n",
       "      <td>0.832258</td>\n",
       "      <td>0.631579</td>\n",
       "      <td>0.780000</td>\n",
       "      <td>0.000017</td>\n",
       "      <td>0.000393</td>\n",
       "      <td>0.057555</td>\n",
       "      <td>0.023289</td>\n",
       "    </tr>\n",
       "    <tr>\n",
       "      <th>2</th>\n",
       "      <td>0.000929</td>\n",
       "      <td>0.003083</td>\n",
       "      <td>0.741815</td>\n",
       "      <td>0.841462</td>\n",
       "      <td>3</td>\n",
       "      <td>{'n_neighbors': 3}</td>\n",
       "      <td>1</td>\n",
       "      <td>0.745946</td>\n",
       "      <td>0.834356</td>\n",
       "      <td>0.716981</td>\n",
       "      <td>0.852273</td>\n",
       "      <td>0.762500</td>\n",
       "      <td>0.837758</td>\n",
       "      <td>0.000079</td>\n",
       "      <td>0.000193</td>\n",
       "      <td>0.018799</td>\n",
       "      <td>0.007769</td>\n",
       "    </tr>\n",
       "    <tr>\n",
       "      <th>3</th>\n",
       "      <td>0.000946</td>\n",
       "      <td>0.003219</td>\n",
       "      <td>0.667933</td>\n",
       "      <td>0.782121</td>\n",
       "      <td>4</td>\n",
       "      <td>{'n_neighbors': 4}</td>\n",
       "      <td>8</td>\n",
       "      <td>0.674699</td>\n",
       "      <td>0.782609</td>\n",
       "      <td>0.643357</td>\n",
       "      <td>0.800000</td>\n",
       "      <td>0.685714</td>\n",
       "      <td>0.763754</td>\n",
       "      <td>0.000031</td>\n",
       "      <td>0.000103</td>\n",
       "      <td>0.017933</td>\n",
       "      <td>0.014801</td>\n",
       "    </tr>\n",
       "    <tr>\n",
       "      <th>4</th>\n",
       "      <td>0.000945</td>\n",
       "      <td>0.003360</td>\n",
       "      <td>0.697192</td>\n",
       "      <td>0.805115</td>\n",
       "      <td>5</td>\n",
       "      <td>{'n_neighbors': 5}</td>\n",
       "      <td>3</td>\n",
       "      <td>0.707865</td>\n",
       "      <td>0.802548</td>\n",
       "      <td>0.692308</td>\n",
       "      <td>0.824561</td>\n",
       "      <td>0.691358</td>\n",
       "      <td>0.788235</td>\n",
       "      <td>0.000013</td>\n",
       "      <td>0.000142</td>\n",
       "      <td>0.007573</td>\n",
       "      <td>0.014941</td>\n",
       "    </tr>\n",
       "    <tr>\n",
       "      <th>5</th>\n",
       "      <td>0.000995</td>\n",
       "      <td>0.003319</td>\n",
       "      <td>0.692969</td>\n",
       "      <td>0.756765</td>\n",
       "      <td>6</td>\n",
       "      <td>{'n_neighbors': 6}</td>\n",
       "      <td>4</td>\n",
       "      <td>0.701754</td>\n",
       "      <td>0.793333</td>\n",
       "      <td>0.671233</td>\n",
       "      <td>0.734824</td>\n",
       "      <td>0.705882</td>\n",
       "      <td>0.742138</td>\n",
       "      <td>0.000068</td>\n",
       "      <td>0.000104</td>\n",
       "      <td>0.015446</td>\n",
       "      <td>0.026029</td>\n",
       "    </tr>\n",
       "    <tr>\n",
       "      <th>6</th>\n",
       "      <td>0.000896</td>\n",
       "      <td>0.003593</td>\n",
       "      <td>0.691157</td>\n",
       "      <td>0.773886</td>\n",
       "      <td>7</td>\n",
       "      <td>{'n_neighbors': 7}</td>\n",
       "      <td>5</td>\n",
       "      <td>0.711111</td>\n",
       "      <td>0.782334</td>\n",
       "      <td>0.675159</td>\n",
       "      <td>0.788571</td>\n",
       "      <td>0.687117</td>\n",
       "      <td>0.750751</td>\n",
       "      <td>0.000022</td>\n",
       "      <td>0.000220</td>\n",
       "      <td>0.014957</td>\n",
       "      <td>0.016556</td>\n",
       "    </tr>\n",
       "    <tr>\n",
       "      <th>7</th>\n",
       "      <td>0.000941</td>\n",
       "      <td>0.003791</td>\n",
       "      <td>0.687600</td>\n",
       "      <td>0.733922</td>\n",
       "      <td>8</td>\n",
       "      <td>{'n_neighbors': 8}</td>\n",
       "      <td>6</td>\n",
       "      <td>0.694118</td>\n",
       "      <td>0.743243</td>\n",
       "      <td>0.666667</td>\n",
       "      <td>0.727273</td>\n",
       "      <td>0.701987</td>\n",
       "      <td>0.731250</td>\n",
       "      <td>0.000041</td>\n",
       "      <td>0.000163</td>\n",
       "      <td>0.015131</td>\n",
       "      <td>0.006788</td>\n",
       "    </tr>\n",
       "    <tr>\n",
       "      <th>8</th>\n",
       "      <td>0.000954</td>\n",
       "      <td>0.003473</td>\n",
       "      <td>0.714961</td>\n",
       "      <td>0.762316</td>\n",
       "      <td>9</td>\n",
       "      <td>{'n_neighbors': 9}</td>\n",
       "      <td>2</td>\n",
       "      <td>0.711864</td>\n",
       "      <td>0.776699</td>\n",
       "      <td>0.716981</td>\n",
       "      <td>0.767045</td>\n",
       "      <td>0.716049</td>\n",
       "      <td>0.743202</td>\n",
       "      <td>0.000082</td>\n",
       "      <td>0.000153</td>\n",
       "      <td>0.002227</td>\n",
       "      <td>0.014078</td>\n",
       "    </tr>\n",
       "  </tbody>\n",
       "</table>\n",
       "</div>"
      ],
      "text/plain": [
       "   mean_fit_time  mean_score_time  mean_test_score  mean_train_score  \\\n",
       "0       0.002488         0.007181         0.680384          0.980323   \n",
       "1       0.001046         0.003475         0.652217          0.812732   \n",
       "2       0.000929         0.003083         0.741815          0.841462   \n",
       "3       0.000946         0.003219         0.667933          0.782121   \n",
       "4       0.000945         0.003360         0.697192          0.805115   \n",
       "5       0.000995         0.003319         0.692969          0.756765   \n",
       "6       0.000896         0.003593         0.691157          0.773886   \n",
       "7       0.000941         0.003791         0.687600          0.733922   \n",
       "8       0.000954         0.003473         0.714961          0.762316   \n",
       "\n",
       "  param_n_neighbors              params  rank_test_score  split0_test_score  \\\n",
       "0                 1  {'n_neighbors': 1}                7           0.713568   \n",
       "1                 2  {'n_neighbors': 2}                9           0.730539   \n",
       "2                 3  {'n_neighbors': 3}                1           0.745946   \n",
       "3                 4  {'n_neighbors': 4}                8           0.674699   \n",
       "4                 5  {'n_neighbors': 5}                3           0.707865   \n",
       "5                 6  {'n_neighbors': 6}                4           0.701754   \n",
       "6                 7  {'n_neighbors': 7}                5           0.711111   \n",
       "7                 8  {'n_neighbors': 8}                6           0.694118   \n",
       "8                 9  {'n_neighbors': 9}                2           0.711864   \n",
       "\n",
       "   split0_train_score  split1_test_score  split1_train_score  \\\n",
       "0            0.982659           0.638554            0.983240   \n",
       "1            0.825939           0.594203            0.832258   \n",
       "2            0.834356           0.716981            0.852273   \n",
       "3            0.782609           0.643357            0.800000   \n",
       "4            0.802548           0.692308            0.824561   \n",
       "5            0.793333           0.671233            0.734824   \n",
       "6            0.782334           0.675159            0.788571   \n",
       "7            0.743243           0.666667            0.727273   \n",
       "8            0.776699           0.716981            0.767045   \n",
       "\n",
       "   split2_test_score  split2_train_score  std_fit_time  std_score_time  \\\n",
       "0           0.688889            0.975069      0.001351        0.004141   \n",
       "1           0.631579            0.780000      0.000017        0.000393   \n",
       "2           0.762500            0.837758      0.000079        0.000193   \n",
       "3           0.685714            0.763754      0.000031        0.000103   \n",
       "4           0.691358            0.788235      0.000013        0.000142   \n",
       "5           0.705882            0.742138      0.000068        0.000104   \n",
       "6           0.687117            0.750751      0.000022        0.000220   \n",
       "7           0.701987            0.731250      0.000041        0.000163   \n",
       "8           0.716049            0.743202      0.000082        0.000153   \n",
       "\n",
       "   std_test_score  std_train_score  \n",
       "0        0.031218         0.003722  \n",
       "1        0.057555         0.023289  \n",
       "2        0.018799         0.007769  \n",
       "3        0.017933         0.014801  \n",
       "4        0.007573         0.014941  \n",
       "5        0.015446         0.026029  \n",
       "6        0.014957         0.016556  \n",
       "7        0.015131         0.006788  \n",
       "8        0.002227         0.014078  "
      ]
     },
     "execution_count": 236,
     "metadata": {},
     "output_type": "execute_result"
    }
   ],
   "source": [
    "cf_results = pd.DataFrame(grid_clf.cv_results_)\n",
    "cf_results"
   ]
  },
  {
   "cell_type": "code",
   "execution_count": 237,
   "metadata": {},
   "outputs": [
    {
     "name": "stdout",
     "output_type": "stream",
     "text": [
      "             precision    recall  f1-score   support\n",
      "\n",
      "          0       0.83      0.84      0.83       105\n",
      "          1       0.77      0.76      0.76        74\n",
      "\n",
      "avg / total       0.80      0.80      0.80       179\n",
      "\n"
     ]
    }
   ],
   "source": [
    "grid_clf.fit(X_train_scaled, y_train)\n",
    "y_pred = grid_clf.predict(X_test_scaled)\n",
    "print(classification_report(y_test, y_pred))"
   ]
  },
  {
   "cell_type": "markdown",
   "metadata": {},
   "source": [
    "### Logistic Regression"
   ]
  },
  {
   "cell_type": "code",
   "execution_count": 230,
   "metadata": {},
   "outputs": [],
   "source": [
    "from sklearn.linear_model import LogisticRegression"
   ]
  },
  {
   "cell_type": "code",
   "execution_count": 231,
   "metadata": {},
   "outputs": [],
   "source": [
    "lr_clf = LogisticRegression(random_state=42)"
   ]
  },
  {
   "cell_type": "code",
   "execution_count": 238,
   "metadata": {},
   "outputs": [
    {
     "data": {
      "text/plain": [
       "LogisticRegression(C=1.0, class_weight=None, dual=False, fit_intercept=True,\n",
       "          intercept_scaling=1, max_iter=100, multi_class='ovr', n_jobs=1,\n",
       "          penalty='l2', random_state=42, solver='liblinear', tol=0.0001,\n",
       "          verbose=0, warm_start=False)"
      ]
     },
     "execution_count": 238,
     "metadata": {},
     "output_type": "execute_result"
    }
   ],
   "source": [
    "lr_clf.fit(X_train_scaled, y_train)"
   ]
  },
  {
   "cell_type": "code",
   "execution_count": 239,
   "metadata": {},
   "outputs": [
    {
     "name": "stdout",
     "output_type": "stream",
     "text": [
      "             precision    recall  f1-score   support\n",
      "\n",
      "          0       0.83      0.82      0.82       105\n",
      "          1       0.75      0.76      0.75        74\n",
      "\n",
      "avg / total       0.79      0.79      0.79       179\n",
      "\n"
     ]
    }
   ],
   "source": [
    "lr_clf.fit(X_train_scaled, y_train)\n",
    "y_pred = lr_clf.predict(X_test_scaled)\n",
    "print(classification_report(y_test, y_pred))"
   ]
  },
  {
   "cell_type": "markdown",
   "metadata": {},
   "source": [
    "### Optimal Tree size"
   ]
  },
  {
   "cell_type": "code",
   "execution_count": 241,
   "metadata": {},
   "outputs": [
    {
     "data": {
      "text/plain": [
       "{'class_weight': None,\n",
       " 'criterion': 'gini',\n",
       " 'max_depth': None,\n",
       " 'max_features': None,\n",
       " 'max_leaf_nodes': None,\n",
       " 'min_impurity_decrease': 0.0,\n",
       " 'min_impurity_split': None,\n",
       " 'min_samples_leaf': 1,\n",
       " 'min_samples_split': 2,\n",
       " 'min_weight_fraction_leaf': 0.0,\n",
       " 'presort': False,\n",
       " 'random_state': 42,\n",
       " 'splitter': 'best'}"
      ]
     },
     "execution_count": 241,
     "metadata": {},
     "output_type": "execute_result"
    }
   ],
   "source": [
    "tree_clf.get_params()"
   ]
  },
  {
   "cell_type": "code",
   "execution_count": 245,
   "metadata": {},
   "outputs": [],
   "source": [
    "params = {'max_depth': np.arange(1,15)}"
   ]
  },
  {
   "cell_type": "code",
   "execution_count": 246,
   "metadata": {},
   "outputs": [],
   "source": [
    "clf_grid = GridSearchCV(tree_clf, cv=cv, param_grid=params)"
   ]
  },
  {
   "cell_type": "code",
   "execution_count": 247,
   "metadata": {},
   "outputs": [
    {
     "data": {
      "text/plain": [
       "GridSearchCV(cv=KFold(n_splits=3, random_state=42, shuffle=False),\n",
       "       error_score='raise',\n",
       "       estimator=DecisionTreeClassifier(class_weight=None, criterion='gini', max_depth=None,\n",
       "            max_features=None, max_leaf_nodes=None,\n",
       "            min_impurity_decrease=0.0, min_impurity_split=None,\n",
       "            min_samples_leaf=1, min_samples_split=2,\n",
       "            min_weight_fraction_leaf=0.0, presort=False, random_state=42,\n",
       "            splitter='best'),\n",
       "       fit_params=None, iid=True, n_jobs=1,\n",
       "       param_grid={'max_depth': array([ 1,  2,  3,  4,  5,  6,  7,  8,  9, 10, 11, 12, 13, 14])},\n",
       "       pre_dispatch='2*n_jobs', refit=True, return_train_score='warn',\n",
       "       scoring=None, verbose=0)"
      ]
     },
     "execution_count": 247,
     "metadata": {},
     "output_type": "execute_result"
    }
   ],
   "source": [
    "clf_grid.fit(X_train_scaled, y_train)"
   ]
  },
  {
   "cell_type": "code",
   "execution_count": 249,
   "metadata": {},
   "outputs": [
    {
     "name": "stderr",
     "output_type": "stream",
     "text": [
      "/home/jodahr/anaconda3/lib/python3.6/site-packages/sklearn/utils/deprecation.py:122: FutureWarning: You are accessing a training score ('mean_train_score'), which will not be available by default any more in 0.21. If you need training scores, please set return_train_score=True\n",
      "  warnings.warn(*warn_args, **warn_kwargs)\n",
      "/home/jodahr/anaconda3/lib/python3.6/site-packages/sklearn/utils/deprecation.py:122: FutureWarning: You are accessing a training score ('split0_train_score'), which will not be available by default any more in 0.21. If you need training scores, please set return_train_score=True\n",
      "  warnings.warn(*warn_args, **warn_kwargs)\n",
      "/home/jodahr/anaconda3/lib/python3.6/site-packages/sklearn/utils/deprecation.py:122: FutureWarning: You are accessing a training score ('split1_train_score'), which will not be available by default any more in 0.21. If you need training scores, please set return_train_score=True\n",
      "  warnings.warn(*warn_args, **warn_kwargs)\n",
      "/home/jodahr/anaconda3/lib/python3.6/site-packages/sklearn/utils/deprecation.py:122: FutureWarning: You are accessing a training score ('split2_train_score'), which will not be available by default any more in 0.21. If you need training scores, please set return_train_score=True\n",
      "  warnings.warn(*warn_args, **warn_kwargs)\n",
      "/home/jodahr/anaconda3/lib/python3.6/site-packages/sklearn/utils/deprecation.py:122: FutureWarning: You are accessing a training score ('std_train_score'), which will not be available by default any more in 0.21. If you need training scores, please set return_train_score=True\n",
      "  warnings.warn(*warn_args, **warn_kwargs)\n"
     ]
    },
    {
     "data": {
      "text/html": [
       "<div>\n",
       "<style scoped>\n",
       "    .dataframe tbody tr th:only-of-type {\n",
       "        vertical-align: middle;\n",
       "    }\n",
       "\n",
       "    .dataframe tbody tr th {\n",
       "        vertical-align: top;\n",
       "    }\n",
       "\n",
       "    .dataframe thead th {\n",
       "        text-align: right;\n",
       "    }\n",
       "</style>\n",
       "<table border=\"1\" class=\"dataframe\">\n",
       "  <thead>\n",
       "    <tr style=\"text-align: right;\">\n",
       "      <th></th>\n",
       "      <th>mean_fit_time</th>\n",
       "      <th>mean_score_time</th>\n",
       "      <th>mean_test_score</th>\n",
       "      <th>mean_train_score</th>\n",
       "      <th>param_max_depth</th>\n",
       "      <th>params</th>\n",
       "      <th>rank_test_score</th>\n",
       "      <th>split0_test_score</th>\n",
       "      <th>split0_train_score</th>\n",
       "      <th>split1_test_score</th>\n",
       "      <th>split1_train_score</th>\n",
       "      <th>split2_test_score</th>\n",
       "      <th>split2_train_score</th>\n",
       "      <th>std_fit_time</th>\n",
       "      <th>std_score_time</th>\n",
       "      <th>std_test_score</th>\n",
       "      <th>std_train_score</th>\n",
       "    </tr>\n",
       "  </thead>\n",
       "  <tbody>\n",
       "    <tr>\n",
       "      <th>0</th>\n",
       "      <td>0.001035</td>\n",
       "      <td>0.000317</td>\n",
       "      <td>0.787921</td>\n",
       "      <td>0.787925</td>\n",
       "      <td>1</td>\n",
       "      <td>{'max_depth': 1}</td>\n",
       "      <td>8</td>\n",
       "      <td>0.777311</td>\n",
       "      <td>0.793249</td>\n",
       "      <td>0.784810</td>\n",
       "      <td>0.789474</td>\n",
       "      <td>0.801688</td>\n",
       "      <td>0.781053</td>\n",
       "      <td>0.000229</td>\n",
       "      <td>4.457443e-05</td>\n",
       "      <td>0.010195</td>\n",
       "      <td>0.005098</td>\n",
       "    </tr>\n",
       "    <tr>\n",
       "      <th>1</th>\n",
       "      <td>0.000946</td>\n",
       "      <td>0.000274</td>\n",
       "      <td>0.793539</td>\n",
       "      <td>0.801269</td>\n",
       "      <td>2</td>\n",
       "      <td>{'max_depth': 2}</td>\n",
       "      <td>4</td>\n",
       "      <td>0.789916</td>\n",
       "      <td>0.808017</td>\n",
       "      <td>0.793249</td>\n",
       "      <td>0.791579</td>\n",
       "      <td>0.797468</td>\n",
       "      <td>0.804211</td>\n",
       "      <td>0.000102</td>\n",
       "      <td>4.673383e-06</td>\n",
       "      <td>0.003091</td>\n",
       "      <td>0.007026</td>\n",
       "    </tr>\n",
       "    <tr>\n",
       "      <th>2</th>\n",
       "      <td>0.000980</td>\n",
       "      <td>0.000325</td>\n",
       "      <td>0.813202</td>\n",
       "      <td>0.835678</td>\n",
       "      <td>3</td>\n",
       "      <td>{'max_depth': 3}</td>\n",
       "      <td>1</td>\n",
       "      <td>0.798319</td>\n",
       "      <td>0.841772</td>\n",
       "      <td>0.818565</td>\n",
       "      <td>0.829474</td>\n",
       "      <td>0.822785</td>\n",
       "      <td>0.835789</td>\n",
       "      <td>0.000051</td>\n",
       "      <td>7.575919e-05</td>\n",
       "      <td>0.010686</td>\n",
       "      <td>0.005021</td>\n",
       "    </tr>\n",
       "    <tr>\n",
       "      <th>3</th>\n",
       "      <td>0.001218</td>\n",
       "      <td>0.000303</td>\n",
       "      <td>0.801966</td>\n",
       "      <td>0.844810</td>\n",
       "      <td>4</td>\n",
       "      <td>{'max_depth': 4}</td>\n",
       "      <td>2</td>\n",
       "      <td>0.789916</td>\n",
       "      <td>0.854430</td>\n",
       "      <td>0.801688</td>\n",
       "      <td>0.835789</td>\n",
       "      <td>0.814346</td>\n",
       "      <td>0.844211</td>\n",
       "      <td>0.000115</td>\n",
       "      <td>3.394822e-05</td>\n",
       "      <td>0.009979</td>\n",
       "      <td>0.007622</td>\n",
       "    </tr>\n",
       "    <tr>\n",
       "      <th>4</th>\n",
       "      <td>0.001311</td>\n",
       "      <td>0.000277</td>\n",
       "      <td>0.796348</td>\n",
       "      <td>0.864473</td>\n",
       "      <td>5</td>\n",
       "      <td>{'max_depth': 5}</td>\n",
       "      <td>3</td>\n",
       "      <td>0.777311</td>\n",
       "      <td>0.873418</td>\n",
       "      <td>0.805907</td>\n",
       "      <td>0.871579</td>\n",
       "      <td>0.805907</td>\n",
       "      <td>0.848421</td>\n",
       "      <td>0.000190</td>\n",
       "      <td>2.202072e-05</td>\n",
       "      <td>0.013490</td>\n",
       "      <td>0.011375</td>\n",
       "    </tr>\n",
       "    <tr>\n",
       "      <th>5</th>\n",
       "      <td>0.001099</td>\n",
       "      <td>0.000251</td>\n",
       "      <td>0.789326</td>\n",
       "      <td>0.883435</td>\n",
       "      <td>6</td>\n",
       "      <td>{'max_depth': 6}</td>\n",
       "      <td>7</td>\n",
       "      <td>0.768908</td>\n",
       "      <td>0.894515</td>\n",
       "      <td>0.793249</td>\n",
       "      <td>0.892632</td>\n",
       "      <td>0.805907</td>\n",
       "      <td>0.863158</td>\n",
       "      <td>0.000068</td>\n",
       "      <td>1.730247e-06</td>\n",
       "      <td>0.015362</td>\n",
       "      <td>0.014358</td>\n",
       "    </tr>\n",
       "    <tr>\n",
       "      <th>6</th>\n",
       "      <td>0.001193</td>\n",
       "      <td>0.000281</td>\n",
       "      <td>0.793539</td>\n",
       "      <td>0.904502</td>\n",
       "      <td>7</td>\n",
       "      <td>{'max_depth': 7}</td>\n",
       "      <td>4</td>\n",
       "      <td>0.781513</td>\n",
       "      <td>0.915612</td>\n",
       "      <td>0.805907</td>\n",
       "      <td>0.915789</td>\n",
       "      <td>0.793249</td>\n",
       "      <td>0.882105</td>\n",
       "      <td>0.000041</td>\n",
       "      <td>2.397052e-05</td>\n",
       "      <td>0.009965</td>\n",
       "      <td>0.015837</td>\n",
       "    </tr>\n",
       "    <tr>\n",
       "      <th>7</th>\n",
       "      <td>0.001270</td>\n",
       "      <td>0.000261</td>\n",
       "      <td>0.790730</td>\n",
       "      <td>0.914330</td>\n",
       "      <td>8</td>\n",
       "      <td>{'max_depth': 8}</td>\n",
       "      <td>6</td>\n",
       "      <td>0.777311</td>\n",
       "      <td>0.919831</td>\n",
       "      <td>0.793249</td>\n",
       "      <td>0.932632</td>\n",
       "      <td>0.801688</td>\n",
       "      <td>0.890526</td>\n",
       "      <td>0.000127</td>\n",
       "      <td>1.012336e-05</td>\n",
       "      <td>0.010113</td>\n",
       "      <td>0.017624</td>\n",
       "    </tr>\n",
       "    <tr>\n",
       "      <th>8</th>\n",
       "      <td>0.001296</td>\n",
       "      <td>0.000275</td>\n",
       "      <td>0.775281</td>\n",
       "      <td>0.933991</td>\n",
       "      <td>9</td>\n",
       "      <td>{'max_depth': 9}</td>\n",
       "      <td>12</td>\n",
       "      <td>0.768908</td>\n",
       "      <td>0.936709</td>\n",
       "      <td>0.797468</td>\n",
       "      <td>0.951579</td>\n",
       "      <td>0.759494</td>\n",
       "      <td>0.913684</td>\n",
       "      <td>0.000104</td>\n",
       "      <td>2.154081e-05</td>\n",
       "      <td>0.016137</td>\n",
       "      <td>0.015589</td>\n",
       "    </tr>\n",
       "    <tr>\n",
       "      <th>9</th>\n",
       "      <td>0.001417</td>\n",
       "      <td>0.000316</td>\n",
       "      <td>0.773876</td>\n",
       "      <td>0.950141</td>\n",
       "      <td>10</td>\n",
       "      <td>{'max_depth': 10}</td>\n",
       "      <td>13</td>\n",
       "      <td>0.764706</td>\n",
       "      <td>0.951477</td>\n",
       "      <td>0.793249</td>\n",
       "      <td>0.955789</td>\n",
       "      <td>0.763713</td>\n",
       "      <td>0.943158</td>\n",
       "      <td>0.000089</td>\n",
       "      <td>1.445052e-05</td>\n",
       "      <td>0.013690</td>\n",
       "      <td>0.005243</td>\n",
       "    </tr>\n",
       "    <tr>\n",
       "      <th>10</th>\n",
       "      <td>0.001475</td>\n",
       "      <td>0.000334</td>\n",
       "      <td>0.778090</td>\n",
       "      <td>0.962782</td>\n",
       "      <td>11</td>\n",
       "      <td>{'max_depth': 11}</td>\n",
       "      <td>10</td>\n",
       "      <td>0.773109</td>\n",
       "      <td>0.964135</td>\n",
       "      <td>0.776371</td>\n",
       "      <td>0.970526</td>\n",
       "      <td>0.784810</td>\n",
       "      <td>0.953684</td>\n",
       "      <td>0.000126</td>\n",
       "      <td>9.897463e-05</td>\n",
       "      <td>0.004930</td>\n",
       "      <td>0.006942</td>\n",
       "    </tr>\n",
       "    <tr>\n",
       "      <th>11</th>\n",
       "      <td>0.001248</td>\n",
       "      <td>0.000259</td>\n",
       "      <td>0.776685</td>\n",
       "      <td>0.969802</td>\n",
       "      <td>12</td>\n",
       "      <td>{'max_depth': 12}</td>\n",
       "      <td>11</td>\n",
       "      <td>0.773109</td>\n",
       "      <td>0.968354</td>\n",
       "      <td>0.772152</td>\n",
       "      <td>0.974737</td>\n",
       "      <td>0.784810</td>\n",
       "      <td>0.966316</td>\n",
       "      <td>0.000029</td>\n",
       "      <td>6.743496e-07</td>\n",
       "      <td>0.005752</td>\n",
       "      <td>0.003587</td>\n",
       "    </tr>\n",
       "    <tr>\n",
       "      <th>12</th>\n",
       "      <td>0.001603</td>\n",
       "      <td>0.000295</td>\n",
       "      <td>0.780899</td>\n",
       "      <td>0.974718</td>\n",
       "      <td>13</td>\n",
       "      <td>{'max_depth': 13}</td>\n",
       "      <td>9</td>\n",
       "      <td>0.777311</td>\n",
       "      <td>0.972574</td>\n",
       "      <td>0.767932</td>\n",
       "      <td>0.976842</td>\n",
       "      <td>0.797468</td>\n",
       "      <td>0.974737</td>\n",
       "      <td>0.000412</td>\n",
       "      <td>2.765678e-05</td>\n",
       "      <td>0.012315</td>\n",
       "      <td>0.001743</td>\n",
       "    </tr>\n",
       "    <tr>\n",
       "      <th>13</th>\n",
       "      <td>0.001296</td>\n",
       "      <td>0.000259</td>\n",
       "      <td>0.772472</td>\n",
       "      <td>0.979633</td>\n",
       "      <td>14</td>\n",
       "      <td>{'max_depth': 14}</td>\n",
       "      <td>14</td>\n",
       "      <td>0.768908</td>\n",
       "      <td>0.976793</td>\n",
       "      <td>0.763713</td>\n",
       "      <td>0.985263</td>\n",
       "      <td>0.784810</td>\n",
       "      <td>0.976842</td>\n",
       "      <td>0.000013</td>\n",
       "      <td>1.123916e-07</td>\n",
       "      <td>0.008970</td>\n",
       "      <td>0.003981</td>\n",
       "    </tr>\n",
       "  </tbody>\n",
       "</table>\n",
       "</div>"
      ],
      "text/plain": [
       "    mean_fit_time  mean_score_time  mean_test_score  mean_train_score  \\\n",
       "0        0.001035         0.000317         0.787921          0.787925   \n",
       "1        0.000946         0.000274         0.793539          0.801269   \n",
       "2        0.000980         0.000325         0.813202          0.835678   \n",
       "3        0.001218         0.000303         0.801966          0.844810   \n",
       "4        0.001311         0.000277         0.796348          0.864473   \n",
       "5        0.001099         0.000251         0.789326          0.883435   \n",
       "6        0.001193         0.000281         0.793539          0.904502   \n",
       "7        0.001270         0.000261         0.790730          0.914330   \n",
       "8        0.001296         0.000275         0.775281          0.933991   \n",
       "9        0.001417         0.000316         0.773876          0.950141   \n",
       "10       0.001475         0.000334         0.778090          0.962782   \n",
       "11       0.001248         0.000259         0.776685          0.969802   \n",
       "12       0.001603         0.000295         0.780899          0.974718   \n",
       "13       0.001296         0.000259         0.772472          0.979633   \n",
       "\n",
       "   param_max_depth             params  rank_test_score  split0_test_score  \\\n",
       "0                1   {'max_depth': 1}                8           0.777311   \n",
       "1                2   {'max_depth': 2}                4           0.789916   \n",
       "2                3   {'max_depth': 3}                1           0.798319   \n",
       "3                4   {'max_depth': 4}                2           0.789916   \n",
       "4                5   {'max_depth': 5}                3           0.777311   \n",
       "5                6   {'max_depth': 6}                7           0.768908   \n",
       "6                7   {'max_depth': 7}                4           0.781513   \n",
       "7                8   {'max_depth': 8}                6           0.777311   \n",
       "8                9   {'max_depth': 9}               12           0.768908   \n",
       "9               10  {'max_depth': 10}               13           0.764706   \n",
       "10              11  {'max_depth': 11}               10           0.773109   \n",
       "11              12  {'max_depth': 12}               11           0.773109   \n",
       "12              13  {'max_depth': 13}                9           0.777311   \n",
       "13              14  {'max_depth': 14}               14           0.768908   \n",
       "\n",
       "    split0_train_score  split1_test_score  split1_train_score  \\\n",
       "0             0.793249           0.784810            0.789474   \n",
       "1             0.808017           0.793249            0.791579   \n",
       "2             0.841772           0.818565            0.829474   \n",
       "3             0.854430           0.801688            0.835789   \n",
       "4             0.873418           0.805907            0.871579   \n",
       "5             0.894515           0.793249            0.892632   \n",
       "6             0.915612           0.805907            0.915789   \n",
       "7             0.919831           0.793249            0.932632   \n",
       "8             0.936709           0.797468            0.951579   \n",
       "9             0.951477           0.793249            0.955789   \n",
       "10            0.964135           0.776371            0.970526   \n",
       "11            0.968354           0.772152            0.974737   \n",
       "12            0.972574           0.767932            0.976842   \n",
       "13            0.976793           0.763713            0.985263   \n",
       "\n",
       "    split2_test_score  split2_train_score  std_fit_time  std_score_time  \\\n",
       "0            0.801688            0.781053      0.000229    4.457443e-05   \n",
       "1            0.797468            0.804211      0.000102    4.673383e-06   \n",
       "2            0.822785            0.835789      0.000051    7.575919e-05   \n",
       "3            0.814346            0.844211      0.000115    3.394822e-05   \n",
       "4            0.805907            0.848421      0.000190    2.202072e-05   \n",
       "5            0.805907            0.863158      0.000068    1.730247e-06   \n",
       "6            0.793249            0.882105      0.000041    2.397052e-05   \n",
       "7            0.801688            0.890526      0.000127    1.012336e-05   \n",
       "8            0.759494            0.913684      0.000104    2.154081e-05   \n",
       "9            0.763713            0.943158      0.000089    1.445052e-05   \n",
       "10           0.784810            0.953684      0.000126    9.897463e-05   \n",
       "11           0.784810            0.966316      0.000029    6.743496e-07   \n",
       "12           0.797468            0.974737      0.000412    2.765678e-05   \n",
       "13           0.784810            0.976842      0.000013    1.123916e-07   \n",
       "\n",
       "    std_test_score  std_train_score  \n",
       "0         0.010195         0.005098  \n",
       "1         0.003091         0.007026  \n",
       "2         0.010686         0.005021  \n",
       "3         0.009979         0.007622  \n",
       "4         0.013490         0.011375  \n",
       "5         0.015362         0.014358  \n",
       "6         0.009965         0.015837  \n",
       "7         0.010113         0.017624  \n",
       "8         0.016137         0.015589  \n",
       "9         0.013690         0.005243  \n",
       "10        0.004930         0.006942  \n",
       "11        0.005752         0.003587  \n",
       "12        0.012315         0.001743  \n",
       "13        0.008970         0.003981  "
      ]
     },
     "execution_count": 249,
     "metadata": {},
     "output_type": "execute_result"
    }
   ],
   "source": [
    "cf_results = pd.DataFrame(clf_grid.cv_results_)\n",
    "cf_results"
   ]
  },
  {
   "cell_type": "code",
   "execution_count": 253,
   "metadata": {},
   "outputs": [
    {
     "data": {
      "text/plain": [
       "<seaborn.axisgrid.FacetGrid at 0x7f0b95fdc940>"
      ]
     },
     "execution_count": 253,
     "metadata": {},
     "output_type": "execute_result"
    },
    {
     "data": {
      "image/png": "[encoded data removed]",
      "text/plain": [
       "<matplotlib.figure.Figure at 0x7f0b95faee10>"
      ]
     },
     "metadata": {},
     "output_type": "display_data"
    },
    {
     "data": {
      "image/png": "[encoded data removed]",
      "text/plain": [
       "<matplotlib.figure.Figure at 0x7f0b95fcd4e0>"
      ]
     },
     "metadata": {},
     "output_type": "display_data"
    }
   ],
   "source": [
    "sns.lmplot(data=cf_results, x='param_max_depth',\n",
    "           y='mean_test_score', fit_reg=False)\n",
    "sns.lmplot(data=cf_results, x='param_max_depth',\n",
    "           y='mean_train_score', fit_reg=False)"
   ]
  },
  {
   "cell_type": "markdown",
   "metadata": {},
   "source": [
    "### pca and knn"
   ]
  },
  {
   "cell_type": "code",
   "execution_count": 254,
   "metadata": {},
   "outputs": [],
   "source": [
    "from sklearn.decomposition import PCA"
   ]
  },
  {
   "cell_type": "code",
   "execution_count": 255,
   "metadata": {},
   "outputs": [],
   "source": [
    "pca = PCA(n_components=2)"
   ]
  },
  {
   "cell_type": "code",
   "execution_count": 273,
   "metadata": {},
   "outputs": [
    {
     "data": {
      "text/html": [
       "<div>\n",
       "<style scoped>\n",
       "    .dataframe tbody tr th:only-of-type {\n",
       "        vertical-align: middle;\n",
       "    }\n",
       "\n",
       "    .dataframe tbody tr th {\n",
       "        vertical-align: top;\n",
       "    }\n",
       "\n",
       "    .dataframe thead th {\n",
       "        text-align: right;\n",
       "    }\n",
       "</style>\n",
       "<table border=\"1\" class=\"dataframe\">\n",
       "  <thead>\n",
       "    <tr style=\"text-align: right;\">\n",
       "      <th></th>\n",
       "      <th>0</th>\n",
       "      <th>1</th>\n",
       "    </tr>\n",
       "  </thead>\n",
       "  <tbody>\n",
       "    <tr>\n",
       "      <th>709</th>\n",
       "      <td>-1.323172</td>\n",
       "      <td>0.200469</td>\n",
       "    </tr>\n",
       "    <tr>\n",
       "      <th>439</th>\n",
       "      <td>-0.318874</td>\n",
       "      <td>-1.800677</td>\n",
       "    </tr>\n",
       "    <tr>\n",
       "      <th>840</th>\n",
       "      <td>-1.526634</td>\n",
       "      <td>-0.535651</td>\n",
       "    </tr>\n",
       "    <tr>\n",
       "      <th>720</th>\n",
       "      <td>0.108088</td>\n",
       "      <td>1.304567</td>\n",
       "    </tr>\n",
       "    <tr>\n",
       "      <th>39</th>\n",
       "      <td>-0.804418</td>\n",
       "      <td>2.770798</td>\n",
       "    </tr>\n",
       "  </tbody>\n",
       "</table>\n",
       "</div>"
      ],
      "text/plain": [
       "            0         1\n",
       "709 -1.323172  0.200469\n",
       "439 -0.318874 -1.800677\n",
       "840 -1.526634 -0.535651\n",
       "720  0.108088  1.304567\n",
       "39  -0.804418  2.770798"
      ]
     },
     "execution_count": 273,
     "metadata": {},
     "output_type": "execute_result"
    }
   ],
   "source": [
    "pca_df = pd.DataFrame(pca.fit_transform(X_train_scaled), index=train_index)\n",
    "pca_df.head()\n",
    "\n",
    "pca_df_test = pd.DataFrame(pca.transform(X_test_scaled), index=test_index)\n",
    "pca_df_test.head()"
   ]
  },
  {
   "cell_type": "code",
   "execution_count": 262,
   "metadata": {},
   "outputs": [],
   "source": [
    "df = pca_df.join(y_train)"
   ]
  },
  {
   "cell_type": "code",
   "execution_count": 265,
   "metadata": {},
   "outputs": [
    {
     "data": {
      "text/plain": [
       "<seaborn.axisgrid.PairGrid at 0x7f0b95e7d4a8>"
      ]
     },
     "execution_count": 265,
     "metadata": {},
     "output_type": "execute_result"
    },
    {
     "data": {
      "image/png": "[encoded data removed]",
      "text/plain": [
       "<matplotlib.figure.Figure at 0x7f0b95d9d400>"
      ]
     },
     "metadata": {},
     "output_type": "display_data"
    }
   ],
   "source": [
    "sns.pairplot(df, hue='Survived')"
   ]
  },
  {
   "cell_type": "code",
   "execution_count": 266,
   "metadata": {},
   "outputs": [
    {
     "data": {
      "text/plain": [
       "KNeighborsClassifier(algorithm='auto', leaf_size=30, metric='minkowski',\n",
       "           metric_params=None, n_jobs=1, n_neighbors=5, p=2,\n",
       "           weights='uniform')"
      ]
     },
     "execution_count": 266,
     "metadata": {},
     "output_type": "execute_result"
    }
   ],
   "source": [
    "knn_clf.fit(pca_df, y_train)"
   ]
  },
  {
   "cell_type": "code",
   "execution_count": 267,
   "metadata": {},
   "outputs": [],
   "source": [
    "from mlxtend.plotting import plot_decision_regions"
   ]
  },
  {
   "cell_type": "code",
   "execution_count": 275,
   "metadata": {},
   "outputs": [
    {
     "data": {
      "text/plain": [
       "<matplotlib.axes._subplots.AxesSubplot at 0x7f0b8f6c2320>"
      ]
     },
     "execution_count": 275,
     "metadata": {},
     "output_type": "execute_result"
    },
    {
     "data": {
      "image/png": "[encoded data removed]",
      "text/plain": [
       "<matplotlib.figure.Figure at 0x7f0b97cde160>"
      ]
     },
     "metadata": {},
     "output_type": "display_data"
    }
   ],
   "source": [
    "plot_decision_regions(pca_df_test.values, y_test.values, knn_clf)"
   ]
  },
  {
   "cell_type": "code",
   "execution_count": 276,
   "metadata": {},
   "outputs": [
    {
     "data": {
      "text/plain": [
       "0.7877094972067039"
      ]
     },
     "execution_count": 276,
     "metadata": {},
     "output_type": "execute_result"
    }
   ],
   "source": [
    "knn_clf.score(pca_df_test, y_test)"
   ]
  },
  {
   "cell_type": "code",
   "execution_count": null,
   "metadata": {},
   "outputs": [],
   "source": []
  }
 ],
 "metadata": {
  "kernelspec": {
   "display_name": "Python 3",
   "language": "python",
   "name": "python3"
  },
  "language_info": {
   "codemirror_mode": {
    "name": "ipython",
    "version": 3
   },
   "file_extension": ".py",
   "mimetype": "text/x-python",
   "name": "python",
   "nbconvert_exporter": "python",
   "pygments_lexer": "ipython3",
   "version": "3.6.4"
  }
 },
 "nbformat": 4,
 "nbformat_minor": 2
}
