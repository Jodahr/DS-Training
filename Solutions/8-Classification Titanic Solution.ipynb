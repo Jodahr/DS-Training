{
 "cells": [
  {
   "cell_type": "markdown",
   "metadata": {},
   "source": [
    "# Classification Models for Titanic Dataset\n",
    "In this exercise we are going to build a classification model which allows us to predict if a passenger on the titanic has survived.\n",
    "\n",
    "As always, **import** the two standard libraries **pandas** as pd and **numpy** as np. Afterwards, **load** the training and test datasets of the titanic data which we have prepared and saved as pickle files during the last exercise. Call the dataframes **train** and **test**. Use the info method on both dataframes.\n",
    "\n",
    "**Hint:** Use the pandas method **read_pickle()** to read the two files **'titanic_train.pkl'** and **'titanic_test.pkl'**.\n",
    "\n",
    "**Remark:** If you cannot load the pickle files, please use the csv files which are stored in the samle folder. Please set the optional argument **index_col** to 0."
   ]
  },
  {
   "cell_type": "code",
   "execution_count": 4,
   "metadata": {},
   "outputs": [],
   "source": [
    "# Import pandas and numpy\n",
    "import pandas as pd\n",
    "import numpy as np"
   ]
  },
  {
   "cell_type": "code",
   "execution_count": 5,
   "metadata": {},
   "outputs": [],
   "source": [
    "# Read pickle files\n",
    "train = pd.read_pickle('../data/titanic_train.pkl')\n",
    "test = pd.read_pickle('../data/titanic_test.pkl')\n",
    "\n",
    "train_csv = pd.read_csv('../data/titanic_train.csv', index_col=0)\n",
    "test_csv = pd.read_csv('../data/titanic_test.csv', index_col=0)"
   ]
  },
  {
   "cell_type": "code",
   "execution_count": 6,
   "metadata": {},
   "outputs": [
    {
     "name": "stdout",
     "output_type": "stream",
     "text": [
      "<class 'pandas.core.frame.DataFrame'>\n",
      "Int64Index: 712 entries, 331 to 102\n",
      "Data columns (total 19 columns):\n",
      "Survived              712 non-null int64\n",
      "Pclass                712 non-null int64\n",
      "Age                   712 non-null float64\n",
      "Fare                  712 non-null float64\n",
      "Familiy_Size          712 non-null int64\n",
      "Sex=male              712 non-null uint8\n",
      "Embarked=Q            712 non-null uint8\n",
      "Embarked=S            712 non-null uint8\n",
      "Title=rareTitle       712 non-null uint8\n",
      "marital_status=no     712 non-null uint8\n",
      "marital_status=yes    712 non-null uint8\n",
      "Deck=B                712 non-null uint8\n",
      "Deck=C                712 non-null uint8\n",
      "Deck=D                712 non-null uint8\n",
      "Deck=E                712 non-null uint8\n",
      "Deck=F                712 non-null uint8\n",
      "Deck=G                712 non-null uint8\n",
      "Deck=T                712 non-null uint8\n",
      "Deck=unknown          712 non-null uint8\n",
      "dtypes: float64(2), int64(3), uint8(14)\n",
      "memory usage: 43.1 KB\n"
     ]
    }
   ],
   "source": [
    "# Info\n",
    "train.info()\n",
    "#test.info()"
   ]
  },
  {
   "cell_type": "markdown",
   "metadata": {},
   "source": [
    "Next, we need to **separate** the **features** and the classification **target**. Hence, **create** the variables **X_train**, **y_train**, **X_test** and **y_test** from the two dataframes **train** and **test**, where for instance X_train contains all the features and y_train contains only the target **'Survived'** of the dataframe train (analogue for the test data)."
   ]
  },
  {
   "cell_type": "code",
   "execution_count": 7,
   "metadata": {},
   "outputs": [],
   "source": [
    "# Separate features and target\n",
    "X_train, X_test = train.drop(['Survived'], axis=1), test.drop(['Survived'], axis=1)\n",
    "y_train, y_test = train['Survived'], test['Survived']"
   ]
  },
  {
   "cell_type": "markdown",
   "metadata": {},
   "source": [
    "## Decision Tree for Classification\n",
    "\n",
    "The first model we want to train is a single decision tree for classification. Therefore, **import** the class **DecisionTreeClassifier** from the module **sklearn.tree**. Afterwards, **create an object** of that class called **tree_clf**. Pass the argument **random_state=42** to the constructor."
   ]
  },
  {
   "cell_type": "code",
   "execution_count": 8,
   "metadata": {},
   "outputs": [],
   "source": [
    "# Import Decision Tree\n",
    "from sklearn.tree import DecisionTreeClassifier"
   ]
  },
  {
   "cell_type": "code",
   "execution_count": 9,
   "metadata": {},
   "outputs": [],
   "source": [
    "# Create instance\n",
    "tree_clf = DecisionTreeClassifier(random_state=42)"
   ]
  },
  {
   "cell_type": "markdown",
   "metadata": {},
   "source": [
    "Now we can fit the model by using the **fit(X,y)** method of the object."
   ]
  },
  {
   "cell_type": "code",
   "execution_count": 10,
   "metadata": {},
   "outputs": [
    {
     "data": {
      "text/plain": [
       "DecisionTreeClassifier(ccp_alpha=0.0, class_weight=None, criterion='gini',\n",
       "                       max_depth=None, max_features=None, max_leaf_nodes=None,\n",
       "                       min_impurity_decrease=0.0, min_impurity_split=None,\n",
       "                       min_samples_leaf=1, min_samples_split=2,\n",
       "                       min_weight_fraction_leaf=0.0, presort='deprecated',\n",
       "                       random_state=42, splitter='best')"
      ]
     },
     "execution_count": 10,
     "metadata": {},
     "output_type": "execute_result"
    }
   ],
   "source": [
    "# Fit the model\n",
    "tree_clf.fit(X_train, y_train)"
   ]
  },
  {
   "cell_type": "markdown",
   "metadata": {},
   "source": [
    "### Accuracy\n",
    "Next, we want to compute the accuracy of our predictions, which is given by the number of correct predictions, divided by all predictions:  \n",
    "\n",
    "$$\\mathrm{Acc}= \\frac{\\# correct\\ predictions}{\\# all\\ samples}$$\n",
    "\n",
    "Therefore, **create** a results dataframe called **results**, which has one column **containing y_test** and another column **containing our predictions** on the test data. To create the predictions you can use the **predict(X)** method of the model on the dataframe **X_test**. Call the resulting numpy array **y_pred**. Afterwards, you can create a dataframe by using the dictionary approach. Call the column holding the true values **y_true**."
   ]
  },
  {
   "cell_type": "code",
   "execution_count": 11,
   "metadata": {},
   "outputs": [],
   "source": [
    "# Create predictions\n",
    "y_pred = tree_clf.predict(X_test)"
   ]
  },
  {
   "cell_type": "code",
   "execution_count": 12,
   "metadata": {},
   "outputs": [
    {
     "data": {
      "text/html": [
       "<div>\n",
       "<style scoped>\n",
       "    .dataframe tbody tr th:only-of-type {\n",
       "        vertical-align: middle;\n",
       "    }\n",
       "\n",
       "    .dataframe tbody tr th {\n",
       "        vertical-align: top;\n",
       "    }\n",
       "\n",
       "    .dataframe thead th {\n",
       "        text-align: right;\n",
       "    }\n",
       "</style>\n",
       "<table border=\"1\" class=\"dataframe\">\n",
       "  <thead>\n",
       "    <tr style=\"text-align: right;\">\n",
       "      <th></th>\n",
       "      <th>y_true</th>\n",
       "      <th>y_pred</th>\n",
       "    </tr>\n",
       "  </thead>\n",
       "  <tbody>\n",
       "    <tr>\n",
       "      <th>709</th>\n",
       "      <td>1</td>\n",
       "      <td>1</td>\n",
       "    </tr>\n",
       "    <tr>\n",
       "      <th>439</th>\n",
       "      <td>0</td>\n",
       "      <td>1</td>\n",
       "    </tr>\n",
       "    <tr>\n",
       "      <th>840</th>\n",
       "      <td>0</td>\n",
       "      <td>0</td>\n",
       "    </tr>\n",
       "    <tr>\n",
       "      <th>720</th>\n",
       "      <td>1</td>\n",
       "      <td>1</td>\n",
       "    </tr>\n",
       "    <tr>\n",
       "      <th>39</th>\n",
       "      <td>1</td>\n",
       "      <td>1</td>\n",
       "    </tr>\n",
       "  </tbody>\n",
       "</table>\n",
       "</div>"
      ],
      "text/plain": [
       "     y_true  y_pred\n",
       "709       1       1\n",
       "439       0       1\n",
       "840       0       0\n",
       "720       1       1\n",
       "39        1       1"
      ]
     },
     "execution_count": 12,
     "metadata": {},
     "output_type": "execute_result"
    }
   ],
   "source": [
    "# Create result dataframe\n",
    "results = pd.DataFrame({'y_true': y_test, 'y_pred': y_pred})\n",
    "results.head()"
   ]
  },
  {
   "cell_type": "markdown",
   "metadata": {},
   "source": [
    "Next, **compute the accuarcy** using the results dataframe."
   ]
  },
  {
   "cell_type": "code",
   "execution_count": 13,
   "metadata": {},
   "outputs": [
    {
     "data": {
      "text/plain": [
       "0.7821229050279329"
      ]
     },
     "execution_count": 13,
     "metadata": {},
     "output_type": "execute_result"
    }
   ],
   "source": [
    "# Compute accuracy by hand\n",
    "acc = len(results[results.y_pred == results.y_true]) / len(results)\n",
    "acc"
   ]
  },
  {
   "cell_type": "markdown",
   "metadata": {},
   "source": [
    "Actually, we do not have to compute the accuracy manually, but it is a good practice to compute a performance measure once *by hand*. Please, **crosscheck your result** by using the **accuracy_score** function from the modul **sklearn.metrics**."
   ]
  },
  {
   "cell_type": "code",
   "execution_count": 14,
   "metadata": {},
   "outputs": [],
   "source": [
    "# Import accuracy_score\n",
    "from sklearn.metrics import accuracy_score"
   ]
  },
  {
   "cell_type": "code",
   "execution_count": 15,
   "metadata": {},
   "outputs": [
    {
     "data": {
      "text/plain": [
       "0.7821229050279329"
      ]
     },
     "execution_count": 15,
     "metadata": {},
     "output_type": "execute_result"
    }
   ],
   "source": [
    "# Compute accuracy\n",
    "accuracy_score(y_test, y_pred)"
   ]
  },
  {
   "cell_type": "markdown",
   "metadata": {},
   "source": [
    "There is also another option to compute the accuracy. Most of the sklearn models have a method called score(). In the case of classification this score is by default the accuracy. In regression models it is the r2_score. Please use that method to compute the accuracy."
   ]
  },
  {
   "cell_type": "code",
   "execution_count": 16,
   "metadata": {},
   "outputs": [
    {
     "data": {
      "text/plain": [
       "0.7821229050279329"
      ]
     },
     "execution_count": 16,
     "metadata": {},
     "output_type": "execute_result"
    }
   ],
   "source": [
    "# Use model score method\n",
    "tree_clf.score(X_test, y_test)"
   ]
  },
  {
   "cell_type": "markdown",
   "metadata": {},
   "source": [
    "For an **imbalanced dataset**, i.e. the classes are not equally distributed in the dataset, the **accuracy is not a good performance measure**. Can you **explain** why?"
   ]
  },
  {
   "cell_type": "markdown",
   "metadata": {},
   "source": [
    "### Confusion matrix\n",
    "\n",
    "Next, we look at another way to evaluate the performance of our classification model: the **confusion matrix**. It is a specific table layout which **holds** the number of True Positives (**TP**), True Negatives (**TN**), False Positives (**FP**) and False Negatives (**FN**).\n",
    "\n",
    "Please, **compute TP, TN, FP and FN** with the dataframe results. Afterwards, we create the confusion matrix."
   ]
  },
  {
   "cell_type": "code",
   "execution_count": 17,
   "metadata": {},
   "outputs": [
    {
     "data": {
      "text/html": [
       "<div>\n",
       "<style scoped>\n",
       "    .dataframe tbody tr th:only-of-type {\n",
       "        vertical-align: middle;\n",
       "    }\n",
       "\n",
       "    .dataframe tbody tr th {\n",
       "        vertical-align: top;\n",
       "    }\n",
       "\n",
       "    .dataframe thead th {\n",
       "        text-align: right;\n",
       "    }\n",
       "</style>\n",
       "<table border=\"1\" class=\"dataframe\">\n",
       "  <thead>\n",
       "    <tr style=\"text-align: right;\">\n",
       "      <th>predicted</th>\n",
       "      <th>0</th>\n",
       "      <th>1</th>\n",
       "    </tr>\n",
       "    <tr>\n",
       "      <th>true</th>\n",
       "      <th></th>\n",
       "      <th></th>\n",
       "    </tr>\n",
       "  </thead>\n",
       "  <tbody>\n",
       "    <tr>\n",
       "      <th>0</th>\n",
       "      <td>83</td>\n",
       "      <td>22</td>\n",
       "    </tr>\n",
       "    <tr>\n",
       "      <th>1</th>\n",
       "      <td>17</td>\n",
       "      <td>57</td>\n",
       "    </tr>\n",
       "  </tbody>\n",
       "</table>\n",
       "</div>"
      ],
      "text/plain": [
       "predicted   0   1\n",
       "true             \n",
       "0          83  22\n",
       "1          17  57"
      ]
     },
     "execution_count": 17,
     "metadata": {},
     "output_type": "execute_result"
    }
   ],
   "source": [
    "# Compute TP, TN, FP and FN\n",
    "TP = len(results[(results.y_pred == 1) & (results.y_true == 1)])\n",
    "TN = len(results[(results.y_pred == 0) & (results.y_true == 0)])\n",
    "FP = len(results[(results.y_pred == 1) & (results.y_true == 0)])\n",
    "FN = len(results[(results.y_pred == 0) & (results.y_true == 1)])\n",
    "\n",
    "# Create confusion matrix\n",
    "C = pd.DataFrame(np.array([[TN, FP], [FN, TP]]))\n",
    "C.index.name = 'true'\n",
    "C.columns.name = 'predicted'\n",
    "C"
   ]
  },
  {
   "cell_type": "markdown",
   "metadata": {},
   "source": [
    "Again, there is a function which computes that matrix automatically, given y_test and y_pred. Please, **import** the function **confustion_matrix** from the module **sklearn.metrics** and **crosscheck** your results."
   ]
  },
  {
   "cell_type": "code",
   "execution_count": 18,
   "metadata": {},
   "outputs": [],
   "source": [
    "# Import conf function\n",
    "from sklearn.metrics import confusion_matrix"
   ]
  },
  {
   "cell_type": "code",
   "execution_count": 19,
   "metadata": {},
   "outputs": [
    {
     "data": {
      "text/plain": [
       "array([[83, 22],\n",
       "       [17, 57]])"
      ]
     },
     "execution_count": 19,
     "metadata": {},
     "output_type": "execute_result"
    }
   ],
   "source": [
    "# Compute confusion matrix\n",
    "C = confusion_matrix(y_test, y_pred)\n",
    "C"
   ]
  },
  {
   "cell_type": "markdown",
   "metadata": {},
   "source": [
    "### Precision and Recall\n",
    "Next, we want to compute the Precision, given by\n",
    "$$\\mathrm{Precision} = \\frac{TP}{TP + FP} = \\frac{TP}{P^*}$$\n",
    "and the Recall, defined as\n",
    "$$\\mathrm{Recall} = \\frac{TP}{TP + FN} = \\frac{TP}{P},$$  \n",
    "\n",
    "where $P^*$ and $P$ are the numbers of predicted positive instances and of all positive instances, respectively.\n",
    "\n",
    "The Precison describes how precise a positive prediction of the model is. For instance, if the precision is 0.9 it means that 90% of the positive predictions really belong to the positive class.  \n",
    "Recall (also known as hit rate) describes the proportion of the positive class which has been detected by the model. For Instance, a recall of 0.6 means that 60 % of the all positive instances have been detected by the model as such."
   ]
  },
  {
   "cell_type": "code",
   "execution_count": 20,
   "metadata": {},
   "outputs": [
    {
     "data": {
      "text/plain": [
       "0.7215189873417721"
      ]
     },
     "execution_count": 20,
     "metadata": {},
     "output_type": "execute_result"
    }
   ],
   "source": [
    "# Compute Precision\n",
    "precision = TP / (TP + FP)\n",
    "precision"
   ]
  },
  {
   "cell_type": "code",
   "execution_count": 21,
   "metadata": {},
   "outputs": [
    {
     "data": {
      "text/plain": [
       "0.7702702702702703"
      ]
     },
     "execution_count": 21,
     "metadata": {},
     "output_type": "execute_result"
    }
   ],
   "source": [
    "# Compute Recall\n",
    "recall = TP / (TP + FN)\n",
    "recall"
   ]
  },
  {
   "cell_type": "markdown",
   "metadata": {},
   "source": [
    "Of course, there are again prebuilt functions to compute these measures. Please **crosscheck** your results by using the functions **precision_score** and **recall_score** from the module **sklearn.metrics**."
   ]
  },
  {
   "cell_type": "code",
   "execution_count": 22,
   "metadata": {},
   "outputs": [],
   "source": [
    "# Import functions\n",
    "from sklearn.metrics import precision_score, recall_score"
   ]
  },
  {
   "cell_type": "code",
   "execution_count": 23,
   "metadata": {},
   "outputs": [
    {
     "data": {
      "text/plain": [
       "0.7215189873417721"
      ]
     },
     "execution_count": 23,
     "metadata": {},
     "output_type": "execute_result"
    }
   ],
   "source": [
    "# precision\n",
    "precision_score(y_test, y_pred)"
   ]
  },
  {
   "cell_type": "code",
   "execution_count": 24,
   "metadata": {},
   "outputs": [
    {
     "data": {
      "text/plain": [
       "0.7702702702702703"
      ]
     },
     "execution_count": 24,
     "metadata": {},
     "output_type": "execute_result"
    }
   ],
   "source": [
    "# recall\n",
    "recall_score(y_test, y_pred)"
   ]
  },
  {
   "cell_type": "markdown",
   "metadata": {},
   "source": [
    "### Classification Report\n",
    "\n",
    "Most of the performance measures that we have computed so far are contained in the **classification report**. It can be computed by using the method **classification_report** from the module **sklearn.metrics**. Please, use that function and have a look at the report."
   ]
  },
  {
   "cell_type": "code",
   "execution_count": 25,
   "metadata": {},
   "outputs": [],
   "source": [
    "# Import function\n",
    "from sklearn.metrics import classification_report"
   ]
  },
  {
   "cell_type": "code",
   "execution_count": 26,
   "metadata": {},
   "outputs": [
    {
     "name": "stdout",
     "output_type": "stream",
     "text": [
      "              precision    recall  f1-score   support\n",
      "\n",
      "           0       0.83      0.79      0.81       105\n",
      "           1       0.72      0.77      0.75        74\n",
      "\n",
      "    accuracy                           0.78       179\n",
      "   macro avg       0.78      0.78      0.78       179\n",
      "weighted avg       0.79      0.78      0.78       179\n",
      "\n"
     ]
    }
   ],
   "source": [
    "# Compute report\n",
    "report = classification_report(y_test, y_pred)\n",
    "\n",
    "print(report)"
   ]
  },
  {
   "cell_type": "markdown",
   "metadata": {},
   "source": [
    "### Visualization of the Classification Tree\n",
    "Next, we want to visualize two classification trees, similarly to the regression tree in the regression exercise. However, this time we visualize the fully grown tree as well as a pruned tree.\n",
    "\n",
    "Please, **create** a tree object called **tree_2_clf** with **max_depth=2** and **random_state=42** and **train it**. Afterwards, **compute the classification report**."
   ]
  },
  {
   "cell_type": "code",
   "execution_count": 27,
   "metadata": {},
   "outputs": [],
   "source": [
    "# Create tree with fixed depth of 2\n",
    "tree_2_clf = DecisionTreeClassifier(max_depth=2, random_state=42)"
   ]
  },
  {
   "cell_type": "code",
   "execution_count": 28,
   "metadata": {},
   "outputs": [
    {
     "data": {
      "text/plain": [
       "DecisionTreeClassifier(ccp_alpha=0.0, class_weight=None, criterion='gini',\n",
       "                       max_depth=2, max_features=None, max_leaf_nodes=None,\n",
       "                       min_impurity_decrease=0.0, min_impurity_split=None,\n",
       "                       min_samples_leaf=1, min_samples_split=2,\n",
       "                       min_weight_fraction_leaf=0.0, presort='deprecated',\n",
       "                       random_state=42, splitter='best')"
      ]
     },
     "execution_count": 28,
     "metadata": {},
     "output_type": "execute_result"
    }
   ],
   "source": [
    "# Train tree\n",
    "tree_2_clf.fit(X_train, y_train)"
   ]
  },
  {
   "cell_type": "code",
   "execution_count": 29,
   "metadata": {},
   "outputs": [
    {
     "name": "stdout",
     "output_type": "stream",
     "text": [
      "              precision    recall  f1-score   support\n",
      "\n",
      "           0       0.73      0.95      0.83       105\n",
      "           1       0.88      0.50      0.64        74\n",
      "\n",
      "    accuracy                           0.77       179\n",
      "   macro avg       0.81      0.73      0.73       179\n",
      "weighted avg       0.79      0.77      0.75       179\n",
      "\n"
     ]
    }
   ],
   "source": [
    "# Classification report\n",
    "y_pred = tree_2_clf.predict(X_test)\n",
    "print(classification_report(y_test, y_pred))"
   ]
  },
  {
   "cell_type": "markdown",
   "metadata": {},
   "source": [
    "Hey, the pruned tree seems to be better. Can you explain why?   \n",
    "\n",
    "To visualize both trees we need to **import** the function **export_graphviz** from the module **sklearn.tree**."
   ]
  },
  {
   "cell_type": "code",
   "execution_count": 30,
   "metadata": {},
   "outputs": [],
   "source": [
    "# Import\n",
    "from sklearn.tree import export_graphviz"
   ]
  },
  {
   "cell_type": "code",
   "execution_count": 31,
   "metadata": {},
   "outputs": [],
   "source": [
    "# Just execute\n",
    "export_graphviz(tree_clf, out_file=\"tree_clf.dot\",\n",
    "                feature_names=X_train.columns.tolist(),\n",
    "                filled=True, rounded=True)\n",
    "\n",
    "# Just execute\n",
    "export_graphviz(tree_2_clf, out_file=\"tree_2_clf.dot\",\n",
    "                feature_names=X_train.columns.tolist(),\n",
    "                filled=True, rounded=True)"
   ]
  },
  {
   "cell_type": "markdown",
   "metadata": {},
   "source": [
    "Please, open a terminal and execute the command **sudo apt install graphviz** if you haven't installed that package in the previous exercise. If the package has been installed, you can execute the command in the cell below. Afterwards, you should find the two trees in your execerise folder."
   ]
  },
  {
   "cell_type": "code",
   "execution_count": 32,
   "metadata": {},
   "outputs": [],
   "source": [
    "%%bash\n",
    "dot -Tpng tree_clf.dot -o tree_clf.png\n",
    "dot -Tpng tree_2_clf.dot -o tree_2_clf.png"
   ]
  },
  {
   "cell_type": "markdown",
   "metadata": {},
   "source": [
    "Look at the two trees and try to explain them.   \n",
    "\n",
    "**Bonus**:\n",
    "\n",
    "Try to recompute the first two levels of the small tree. The Gini Coefficient is defined as \n",
    "\n",
    "$$ G = \\sum_k \\hat{p}_{mk} (1 - \\hat{p}_{mk})$$\n",
    "\n",
    "where \n",
    "\n",
    "$$\\hat{p}_{mk} = \\frac{1}{N_m} \\sum_{x_i \\in R_m} I(y_i = k)$$\n",
    "\n",
    "is the proportion of training observations in the m-th region from the k-th class. For a binary classifier this can be simplified to \n",
    "\n",
    "$$G = \\hat{p}_{m} (1-\\hat{p}_m) + \\hat{q}_m (1-\\hat{q}_m) = 2 \\hat{p}_m (1-\\hat{p}_m)$$ and \n",
    "\n",
    "$$\\hat{p}_{m} = \\frac{1}{N_m} \\sum_{x_i \\in R_m} I(y_i = 1).$$\n",
    "\n",
    "Additionally, compute the values of $p_m$ for the leafs by using the values given in the figure."
   ]
  },
  {
   "cell_type": "code",
   "execution_count": 33,
   "metadata": {},
   "outputs": [
    {
     "name": "stdout",
     "output_type": "stream",
     "text": [
      "0    444\n",
      "1    268\n",
      "Name: Survived, dtype: int64\n",
      "0.37640449438202245\n",
      "0.469448301982073\n"
     ]
    }
   ],
   "source": [
    "# level 0\n",
    "samples = len(y_train)\n",
    "print(y_train.value_counts())\n",
    "p_level0 = len(y_train[y_train == 1]) / samples\n",
    "print(p_level0)\n",
    "gini = 2 * p_level0 * (1-p_level0)\n",
    "print(gini)"
   ]
  },
  {
   "cell_type": "code",
   "execution_count": 34,
   "metadata": {},
   "outputs": [
    {
     "name": "stdout",
     "output_type": "stream",
     "text": [
      "0.7387755102040816\n",
      "0.38597251145356104\n",
      "1    181\n",
      "0     64\n",
      "Name: Survived, dtype: int64\n"
     ]
    }
   ],
   "source": [
    "# level 1 left\n",
    "df = X_train.join(y_train)\n",
    "df_level1_left = df[df['Sex=male'] == 0]\n",
    "\n",
    "y_level1_left = df_level1_left['Survived']\n",
    "\n",
    "samples = len(y_level1_left)\n",
    "\n",
    "p_level1 = len(y_level1_left[y_level1_left == 1]) / samples\n",
    "\n",
    "print(p_level1)\n",
    "gini = 2 * p_level1 * (1-p_level1)\n",
    "print(gini)\n",
    "print(y_level1_left.value_counts())"
   ]
  },
  {
   "cell_type": "code",
   "execution_count": 35,
   "metadata": {},
   "outputs": [
    {
     "name": "stdout",
     "output_type": "stream",
     "text": [
      "0.18629550321199143\n",
      "0.30317897738996463\n",
      "1    181\n",
      "0     64\n",
      "Name: Survived, dtype: int64\n"
     ]
    }
   ],
   "source": [
    "# level 1 right\n",
    "df = X_train.join(y_train)\n",
    "df_level1_right = df[df['Sex=male'] == 1]\n",
    "y_level1_right = df_level1_right['Survived']\n",
    "samples = len(y_level1_right)\n",
    "p_level1 = len(y_level1_right[y_level1_right == 1]) / samples\n",
    "print(p_level1)\n",
    "gini = 2 * p_level1 * (1-p_level1)\n",
    "print(gini)\n",
    "print(y_level1_left.value_counts())"
   ]
  },
  {
   "cell_type": "code",
   "execution_count": 36,
   "metadata": {},
   "outputs": [
    {
     "name": "stdout",
     "output_type": "stream",
     "text": [
      "p0 = 0.9615384615384616,\n",
      "p1 = 0.48695652173913045,\n",
      "p2 = 0.6818181818181818,\n",
      "p3 = 0.16179775280898875\n"
     ]
    }
   ],
   "source": [
    "# Computation of the probabilities\n",
    "p0 = 125/130\n",
    "p1 = 56/(59+56)\n",
    "p2 = 15/(7+15)\n",
    "p3 = 72/445\n",
    "print('p0 = {},\\np1 = {},\\np2 = {},\\np3 = {}'.format(p0,p1,p2,p3))"
   ]
  },
  {
   "cell_type": "markdown",
   "metadata": {},
   "source": [
    "### Probability/Certainty and Precision-Recall Trade-Off\n",
    "\n",
    "The values for p that we have computed in the bonus exercise can be considered as the probability/certainty of a sample in that region/hyperrectangle belonging to class 1. However, this only makes sense for pruned trees. **Try to explain why!**\n",
    "\n",
    "We can get these probabilities by using the method **predict_proba(X)** of the decision tree **tree_2_clf**. Please, compute these probabilities on the test set. Afterwards, **create** a **dataframe** called **results_proba** which consists of a column with the true values **y_test** called **y_true** and another column with the predicted **probabilites for class 1** called **y_proba**."
   ]
  },
  {
   "cell_type": "code",
   "execution_count": 37,
   "metadata": {},
   "outputs": [
    {
     "name": "stdout",
     "output_type": "stream",
     "text": [
      "(179, 2)\n"
     ]
    },
    {
     "data": {
      "text/plain": [
       "array([[0.83820225, 0.16179775],\n",
       "       [0.83820225, 0.16179775],\n",
       "       [0.83820225, 0.16179775],\n",
       "       [0.03846154, 0.96153846],\n",
       "       [0.51304348, 0.48695652],\n",
       "       [0.03846154, 0.96153846],\n",
       "       [0.51304348, 0.48695652],\n",
       "       [0.83820225, 0.16179775],\n",
       "       [0.51304348, 0.48695652],\n",
       "       [0.03846154, 0.96153846]])"
      ]
     },
     "execution_count": 37,
     "metadata": {},
     "output_type": "execute_result"
    }
   ],
   "source": [
    "# Compute probabilities\n",
    "y_proba = tree_2_clf.predict_proba(X_test)\n",
    "print(y_proba.shape)\n",
    "y_proba[:10]"
   ]
  },
  {
   "cell_type": "code",
   "execution_count": 38,
   "metadata": {},
   "outputs": [
    {
     "data": {
      "text/plain": [
       "array([0.16179775, 0.16179775, 0.16179775, 0.96153846, 0.48695652])"
      ]
     },
     "execution_count": 38,
     "metadata": {},
     "output_type": "execute_result"
    }
   ],
   "source": [
    "# Extract proba for class 1\n",
    "y_proba_class1 = y_proba[:,1]\n",
    "y_proba_class1[:5]"
   ]
  },
  {
   "cell_type": "code",
   "execution_count": 39,
   "metadata": {},
   "outputs": [
    {
     "data": {
      "text/html": [
       "<div>\n",
       "<style scoped>\n",
       "    .dataframe tbody tr th:only-of-type {\n",
       "        vertical-align: middle;\n",
       "    }\n",
       "\n",
       "    .dataframe tbody tr th {\n",
       "        vertical-align: top;\n",
       "    }\n",
       "\n",
       "    .dataframe thead th {\n",
       "        text-align: right;\n",
       "    }\n",
       "</style>\n",
       "<table border=\"1\" class=\"dataframe\">\n",
       "  <thead>\n",
       "    <tr style=\"text-align: right;\">\n",
       "      <th></th>\n",
       "      <th>y_true</th>\n",
       "      <th>y_proba</th>\n",
       "    </tr>\n",
       "  </thead>\n",
       "  <tbody>\n",
       "    <tr>\n",
       "      <th>709</th>\n",
       "      <td>1</td>\n",
       "      <td>0.161798</td>\n",
       "    </tr>\n",
       "    <tr>\n",
       "      <th>439</th>\n",
       "      <td>0</td>\n",
       "      <td>0.161798</td>\n",
       "    </tr>\n",
       "    <tr>\n",
       "      <th>840</th>\n",
       "      <td>0</td>\n",
       "      <td>0.161798</td>\n",
       "    </tr>\n",
       "    <tr>\n",
       "      <th>720</th>\n",
       "      <td>1</td>\n",
       "      <td>0.961538</td>\n",
       "    </tr>\n",
       "    <tr>\n",
       "      <th>39</th>\n",
       "      <td>1</td>\n",
       "      <td>0.486957</td>\n",
       "    </tr>\n",
       "  </tbody>\n",
       "</table>\n",
       "</div>"
      ],
      "text/plain": [
       "     y_true   y_proba\n",
       "709       1  0.161798\n",
       "439       0  0.161798\n",
       "840       0  0.161798\n",
       "720       1  0.961538\n",
       "39        1  0.486957"
      ]
     },
     "execution_count": 39,
     "metadata": {},
     "output_type": "execute_result"
    }
   ],
   "source": [
    "# Create dataframe\n",
    "results_proba = pd.DataFrame({'y_true': y_test, 'y_proba': y_proba_class1})\n",
    "results_proba.head()"
   ]
  },
  {
   "cell_type": "markdown",
   "metadata": {},
   "source": [
    "#### Prediction Threshold\n",
    "Now, let us introduce the **threshold**. Per default a binary classifier, which can compute probabilities, classifies a sample belonging to class 1 if the probability is **larger than 0.5**. This value is called the threshold. Of course, we can also use different thresholds. \n",
    "\n",
    "**Bonus:**\n",
    "\n",
    "**Compute the classification report for three different thresholds**:\n",
    "\n",
    "a) 0.20  \n",
    "b) 0.50  \n",
    "c) 0.70   \n",
    "\n",
    "**Hint:** Add four new columns called **y_pred_A**, y_pred_B, etc. to the dataframe results_proba. Fill them with the value 1 if the probability is larger than the threshold. You can use the numpy method **np.where()**.\n",
    "\n",
    "Do you see any difference in the classification reports?"
   ]
  },
  {
   "cell_type": "code",
   "execution_count": 40,
   "metadata": {},
   "outputs": [
    {
     "data": {
      "text/html": [
       "<div>\n",
       "<style scoped>\n",
       "    .dataframe tbody tr th:only-of-type {\n",
       "        vertical-align: middle;\n",
       "    }\n",
       "\n",
       "    .dataframe tbody tr th {\n",
       "        vertical-align: top;\n",
       "    }\n",
       "\n",
       "    .dataframe thead th {\n",
       "        text-align: right;\n",
       "    }\n",
       "</style>\n",
       "<table border=\"1\" class=\"dataframe\">\n",
       "  <thead>\n",
       "    <tr style=\"text-align: right;\">\n",
       "      <th></th>\n",
       "      <th>y_true</th>\n",
       "      <th>y_proba</th>\n",
       "      <th>y_pred_A</th>\n",
       "      <th>y_pred_B</th>\n",
       "      <th>y_pred_C</th>\n",
       "    </tr>\n",
       "  </thead>\n",
       "  <tbody>\n",
       "    <tr>\n",
       "      <th>709</th>\n",
       "      <td>1</td>\n",
       "      <td>0.161798</td>\n",
       "      <td>0</td>\n",
       "      <td>0</td>\n",
       "      <td>0</td>\n",
       "    </tr>\n",
       "    <tr>\n",
       "      <th>439</th>\n",
       "      <td>0</td>\n",
       "      <td>0.161798</td>\n",
       "      <td>0</td>\n",
       "      <td>0</td>\n",
       "      <td>0</td>\n",
       "    </tr>\n",
       "    <tr>\n",
       "      <th>840</th>\n",
       "      <td>0</td>\n",
       "      <td>0.161798</td>\n",
       "      <td>0</td>\n",
       "      <td>0</td>\n",
       "      <td>0</td>\n",
       "    </tr>\n",
       "    <tr>\n",
       "      <th>720</th>\n",
       "      <td>1</td>\n",
       "      <td>0.961538</td>\n",
       "      <td>1</td>\n",
       "      <td>1</td>\n",
       "      <td>1</td>\n",
       "    </tr>\n",
       "    <tr>\n",
       "      <th>39</th>\n",
       "      <td>1</td>\n",
       "      <td>0.486957</td>\n",
       "      <td>1</td>\n",
       "      <td>0</td>\n",
       "      <td>0</td>\n",
       "    </tr>\n",
       "  </tbody>\n",
       "</table>\n",
       "</div>"
      ],
      "text/plain": [
       "     y_true   y_proba  y_pred_A  y_pred_B  y_pred_C\n",
       "709       1  0.161798         0         0         0\n",
       "439       0  0.161798         0         0         0\n",
       "840       0  0.161798         0         0         0\n",
       "720       1  0.961538         1         1         1\n",
       "39        1  0.486957         1         0         0"
      ]
     },
     "execution_count": 40,
     "metadata": {},
     "output_type": "execute_result"
    }
   ],
   "source": [
    "# Compute predictions for different thresholds\n",
    "results_proba['y_pred_A'] = np.where(results_proba.y_proba > 0.2, 1, 0)\n",
    "results_proba['y_pred_B'] = np.where(results_proba.y_proba > 0.5, 1, 0)\n",
    "results_proba['y_pred_C'] = np.where(results_proba.y_proba > 0.7, 1, 0)\n",
    "results_proba.head()"
   ]
  },
  {
   "cell_type": "code",
   "execution_count": 41,
   "metadata": {},
   "outputs": [
    {
     "name": "stdout",
     "output_type": "stream",
     "text": [
      "              precision    recall  f1-score   support\n",
      "\n",
      "           0       0.81      0.83      0.82       105\n",
      "           1       0.75      0.72      0.73        74\n",
      "\n",
      "    accuracy                           0.78       179\n",
      "   macro avg       0.78      0.77      0.77       179\n",
      "weighted avg       0.78      0.78      0.78       179\n",
      "\n",
      "              precision    recall  f1-score   support\n",
      "\n",
      "           0       0.73      0.95      0.83       105\n",
      "           1       0.88      0.50      0.64        74\n",
      "\n",
      "    accuracy                           0.77       179\n",
      "   macro avg       0.81      0.73      0.73       179\n",
      "weighted avg       0.79      0.77      0.75       179\n",
      "\n",
      "              precision    recall  f1-score   support\n",
      "\n",
      "           0       0.73      0.96      0.83       105\n",
      "           1       0.90      0.49      0.63        74\n",
      "\n",
      "    accuracy                           0.77       179\n",
      "   macro avg       0.81      0.72      0.73       179\n",
      "weighted avg       0.80      0.77      0.75       179\n",
      "\n"
     ]
    }
   ],
   "source": [
    "# Compute classification reports\n",
    "report_A = classification_report(y_test, results_proba['y_pred_A'])\n",
    "report_B = classification_report(y_test, results_proba['y_pred_B'])\n",
    "report_C = classification_report(y_test, results_proba['y_pred_C'])\n",
    "print(report_A)\n",
    "print(report_B)\n",
    "print(report_C)"
   ]
  },
  {
   "cell_type": "markdown",
   "metadata": {},
   "source": [
    "Maybe you have noticed that the precision for class 1 increases, while increasing the threshold. However, for the recall we observe the opposite effect. This is called the Precision-Recall Trade-Off."
   ]
  },
  {
   "cell_type": "markdown",
   "metadata": {},
   "source": [
    "## Random Forest Classifier\n",
    "\n",
    "In this part of the exercise we want to train a random forest classifier. Therefore, please **import** the class **RandomForestClassifier** from the module **sklearn.ensemble**, **create** an **object** of that class called **rf_clf** and **train the model** with the training data **X_train, y_train**. Afterwards, compute the classification report. Please, pass the argument **random_state=42** and **n_estimators=100** to the constructor."
   ]
  },
  {
   "cell_type": "code",
   "execution_count": 42,
   "metadata": {},
   "outputs": [],
   "source": [
    "# Import rf\n",
    "from sklearn.ensemble import RandomForestClassifier"
   ]
  },
  {
   "cell_type": "code",
   "execution_count": 43,
   "metadata": {},
   "outputs": [],
   "source": [
    "# Create object\n",
    "rf_clf = RandomForestClassifier(random_state=42, n_estimators=100)"
   ]
  },
  {
   "cell_type": "code",
   "execution_count": 44,
   "metadata": {},
   "outputs": [
    {
     "data": {
      "text/plain": [
       "RandomForestClassifier(bootstrap=True, ccp_alpha=0.0, class_weight=None,\n",
       "                       criterion='gini', max_depth=None, max_features='auto',\n",
       "                       max_leaf_nodes=None, max_samples=None,\n",
       "                       min_impurity_decrease=0.0, min_impurity_split=None,\n",
       "                       min_samples_leaf=1, min_samples_split=2,\n",
       "                       min_weight_fraction_leaf=0.0, n_estimators=100,\n",
       "                       n_jobs=None, oob_score=False, random_state=42, verbose=0,\n",
       "                       warm_start=False)"
      ]
     },
     "execution_count": 44,
     "metadata": {},
     "output_type": "execute_result"
    }
   ],
   "source": [
    "# Train rf\n",
    "rf_clf.fit(X_train, y_train)"
   ]
  },
  {
   "cell_type": "code",
   "execution_count": 45,
   "metadata": {},
   "outputs": [],
   "source": [
    "# Compute predictions y_pred\n",
    "y_pred = rf_clf.predict(X_test) "
   ]
  },
  {
   "cell_type": "code",
   "execution_count": 46,
   "metadata": {},
   "outputs": [
    {
     "name": "stdout",
     "output_type": "stream",
     "text": [
      "              precision    recall  f1-score   support\n",
      "\n",
      "           0       0.83      0.85      0.84       105\n",
      "           1       0.78      0.76      0.77        74\n",
      "\n",
      "    accuracy                           0.81       179\n",
      "   macro avg       0.80      0.80      0.80       179\n",
      "weighted avg       0.81      0.81      0.81       179\n",
      "\n"
     ]
    }
   ],
   "source": [
    "# Compute classification report\n",
    "print(classification_report(y_test, y_pred))"
   ]
  },
  {
   "cell_type": "markdown",
   "metadata": {},
   "source": [
    "As expected, the result is much better than for a single tree.   \n",
    "\n",
    "We can also use the random forest to get probabilities with the predict_proba method. However, this time it is computed in a different way compared to a single decision tree. Here, it is the proportion of trees which voted for class 1.\n",
    "\n",
    "Please, **create** a dataframe called **results_rf** which contains **y_test** and the **probabilities for class 1**. Call the two columns **'y_true'** and **'y_proba'**, respectively. "
   ]
  },
  {
   "cell_type": "code",
   "execution_count": 47,
   "metadata": {},
   "outputs": [],
   "source": [
    "# Compute probas\n",
    "y_proba = rf_clf.predict_proba(X_test)"
   ]
  },
  {
   "cell_type": "code",
   "execution_count": 48,
   "metadata": {},
   "outputs": [
    {
     "name": "stdout",
     "output_type": "stream",
     "text": [
      "C\t DecisionTreeClassifier\t FN\t FP\t RandomForestClassifier\t TN\t TP\t X_test\t X_train\t \n",
      "acc\t accuracy_score\t classification_report\t confusion_matrix\t df\t df_level1_left\t df_level1_right\t export_graphviz\t gini\t \n",
      "np\t p0\t p1\t p2\t p3\t p_level0\t p_level1\t pd\t precision\t \n",
      "precision_score\t recall\t recall_score\t report\t report_A\t report_B\t report_C\t results\t results_proba\t \n",
      "rf_clf\t samples\t test\t test_csv\t train\t train_csv\t tree_2_clf\t tree_clf\t y_level1_left\t \n",
      "y_level1_right\t y_pred\t y_proba\t y_proba_class1\t y_test\t y_train\t \n"
     ]
    }
   ],
   "source": [
    "%who"
   ]
  },
  {
   "cell_type": "code",
   "execution_count": 49,
   "metadata": {},
   "outputs": [
    {
     "data": {
      "text/html": [
       "<div>\n",
       "<style scoped>\n",
       "    .dataframe tbody tr th:only-of-type {\n",
       "        vertical-align: middle;\n",
       "    }\n",
       "\n",
       "    .dataframe tbody tr th {\n",
       "        vertical-align: top;\n",
       "    }\n",
       "\n",
       "    .dataframe thead th {\n",
       "        text-align: right;\n",
       "    }\n",
       "</style>\n",
       "<table border=\"1\" class=\"dataframe\">\n",
       "  <thead>\n",
       "    <tr style=\"text-align: right;\">\n",
       "      <th></th>\n",
       "      <th>y_true</th>\n",
       "      <th>y_proba</th>\n",
       "    </tr>\n",
       "  </thead>\n",
       "  <tbody>\n",
       "    <tr>\n",
       "      <th>709</th>\n",
       "      <td>1</td>\n",
       "      <td>0.44</td>\n",
       "    </tr>\n",
       "    <tr>\n",
       "      <th>439</th>\n",
       "      <td>0</td>\n",
       "      <td>0.02</td>\n",
       "    </tr>\n",
       "    <tr>\n",
       "      <th>840</th>\n",
       "      <td>0</td>\n",
       "      <td>0.10</td>\n",
       "    </tr>\n",
       "    <tr>\n",
       "      <th>720</th>\n",
       "      <td>1</td>\n",
       "      <td>0.96</td>\n",
       "    </tr>\n",
       "    <tr>\n",
       "      <th>39</th>\n",
       "      <td>1</td>\n",
       "      <td>0.35</td>\n",
       "    </tr>\n",
       "  </tbody>\n",
       "</table>\n",
       "</div>"
      ],
      "text/plain": [
       "     y_true  y_proba\n",
       "709       1     0.44\n",
       "439       0     0.02\n",
       "840       0     0.10\n",
       "720       1     0.96\n",
       "39        1     0.35"
      ]
     },
     "execution_count": 49,
     "metadata": {},
     "output_type": "execute_result"
    }
   ],
   "source": [
    "# Create dataframe\n",
    "results_rf = pd.DataFrame({'y_true': y_test, 'y_proba':y_proba[:,1]})\n",
    "results_rf.head()"
   ]
  },
  {
   "cell_type": "code",
   "execution_count": 50,
   "metadata": {},
   "outputs": [
    {
     "data": {
      "text/plain": [
       "82"
      ]
     },
     "execution_count": 50,
     "metadata": {},
     "output_type": "execute_result"
    }
   ],
   "source": [
    "# Number of unique probas\n",
    "pd.Series(y_proba[:,1]).nunique()"
   ]
  },
  {
   "cell_type": "markdown",
   "metadata": {},
   "source": [
    "**Bonus:**  \n",
    "\n",
    "**Create a boxplot** which shows the **probability distribution y_proba** for the true values of class 0 and class 1.\n",
    "First, **import seasborn as sns** and issue the command **%matplotlib inline**. Afterwards, use the boxplot method where **x='y_true'** and **y='y_proba'**. For a good classifier both distributions have only a small overlap with each other and the medians should be well separated."
   ]
  },
  {
   "cell_type": "code",
   "execution_count": 51,
   "metadata": {},
   "outputs": [],
   "source": [
    "# Import seaborn\n",
    "import seaborn as sns\n",
    "%matplotlib inline"
   ]
  },
  {
   "cell_type": "code",
   "execution_count": 52,
   "metadata": {},
   "outputs": [
    {
     "data": {
      "text/plain": [
       "<matplotlib.axes._subplots.AxesSubplot at 0x7f41b40454a8>"
      ]
     },
     "execution_count": 52,
     "metadata": {},
     "output_type": "execute_result"
    },
    {
     "data": {
      "image/png": "[encoded data removed]",
      "text/plain": [
       "<Figure size 432x288 with 1 Axes>"
      ]
     },
     "metadata": {
      "needs_background": "light"
     },
     "output_type": "display_data"
    }
   ],
   "source": [
    "# boxplot\n",
    "sns.boxplot(data=results_rf, x='y_true', y='y_proba')\n",
    "#sns.violinplot(data=results_rf, x='y_true', y='y_proba')"
   ]
  },
  {
   "cell_type": "markdown",
   "metadata": {},
   "source": [
    "### Precision/Recall curves\n",
    "Next, we want to investigate the precision-recall trade-off of our model.\n",
    "Sklearn provides a method which computes precisions and recalls for various threshold values. Therefore, import the function **precision_recall_curve** from the module **sklearn.metrics**."
   ]
  },
  {
   "cell_type": "code",
   "execution_count": 53,
   "metadata": {},
   "outputs": [],
   "source": [
    "# Import precison_recall_curve\n",
    "from sklearn.metrics import precision_recall_curve"
   ]
  },
  {
   "cell_type": "markdown",
   "metadata": {},
   "source": [
    "If you look at the docstring of the function you notice that this function returns three arrays. We can directly *unpack* the return values into three arrays called precision, recall and threshold. Please, use that function to compute the three numpy arrays."
   ]
  },
  {
   "cell_type": "code",
   "execution_count": 54,
   "metadata": {},
   "outputs": [],
   "source": [
    "# Compute precision, recall and threshold\n",
    "precision, recall, threshold = precision_recall_curve(y_test, y_proba[:,1])"
   ]
  },
  {
   "cell_type": "markdown",
   "metadata": {},
   "source": [
    "Now we can plot two curves:\n",
    "\n",
    "1. precision (recall) vs. threshold\n",
    "2. precision vs. recall\n",
    "\n",
    "Therefore, please execute the cell below which defines two plotting functions."
   ]
  },
  {
   "cell_type": "code",
   "execution_count": 55,
   "metadata": {},
   "outputs": [],
   "source": [
    "# Just execute\n",
    "\n",
    "from matplotlib import pyplot as plt\n",
    "\n",
    "def plot_precision_recall_vs_threshold(precisions, recalls, thresholds,\n",
    "                                      color=\"g\", labels=('Precision', 'Recall')):\n",
    "    '''Function takes precisions, recalls and\n",
    "    thresholds as arguments and generates a plot with two curves.\n",
    "        Optionally you can define the color and the labels.'''\n",
    "    fig = plt.figure()\n",
    "    plt.plot(thresholds, precisions[:-1], color + \"--\", label = labels[0])\n",
    "    plt.plot(thresholds, recalls[:-1], color + \"-\", label = labels[1])\n",
    "    plt.xlabel(\"Threshold\")\n",
    "    plt.legend(loc=\"lower left\")\n",
    "    return fig\n",
    "\n",
    "def plot_precision_vs_recall(precisions, recalls, color=\"g\", label='model'):\n",
    "    fig = plt.figure()\n",
    "    plt.plot(recalls, precisions, color + \"--\", label = label)\n",
    "    plt.xlabel(\"recall\")\n",
    "    plt.ylabel(\"precision\")\n",
    "    plt.legend(loc=\"upper right\")\n",
    "    return fig"
   ]
  },
  {
   "cell_type": "markdown",
   "metadata": {},
   "source": [
    "Use the two functions to create the two plots."
   ]
  },
  {
   "cell_type": "code",
   "execution_count": 56,
   "metadata": {},
   "outputs": [
    {
     "data": {
      "image/png": "[encoded data removed]",
      "text/plain": [
       "<Figure size 432x288 with 1 Axes>"
      ]
     },
     "metadata": {
      "needs_background": "light"
     },
     "output_type": "display_data"
    }
   ],
   "source": [
    "# precision vs recall\n",
    "fig = plot_precision_vs_recall(precision, recall)\n",
    "#fig.savefig(\"/home/jodahr/Desktop/Blogbeitrag-Metriken/precRecall.pdf\")"
   ]
  },
  {
   "cell_type": "code",
   "execution_count": 57,
   "metadata": {},
   "outputs": [
    {
     "data": {
      "image/png": "[encoded data removed]",
      "text/plain": [
       "<Figure size 432x288 with 1 Axes>"
      ]
     },
     "metadata": {
      "needs_background": "light"
     },
     "output_type": "display_data"
    }
   ],
   "source": [
    "# precision (recall) vs. threshold\n",
    "fig = plot_precision_recall_vs_threshold(precision, recall, threshold)\n",
    "#fig.savefig(\"/home/jodahr/Desktop/Blogbeitrag-Metriken/precRecallVsThreshold.pdf\")"
   ]
  },
  {
   "cell_type": "markdown",
   "metadata": {},
   "source": [
    "The intersection point of the precision and recall curve is called the **breakeven point**.\n",
    "\n",
    "**Question:** What threshold do we need if we want to have a precision of 0.9? What will be the recall value? (read it off the diagram)."
   ]
  },
  {
   "cell_type": "code",
   "execution_count": 58,
   "metadata": {},
   "outputs": [],
   "source": [
    "# solution: threshold: 0.9, recall 0.5"
   ]
  },
  {
   "cell_type": "code",
   "execution_count": 59,
   "metadata": {},
   "outputs": [],
   "source": [
    "def plot_roc_curve(fpr, tpr, auc, color=\"g\", label='model'):\n",
    "    fig = plt.figure()\n",
    "    #plt.title('ROC Curve')\n",
    "    plt.plot(fpr, tpr, color + \"--\", label = label + \", AUC = {:0.2f}\".format(auc))\n",
    "    plt.xlabel(\"False Positive Rate\")\n",
    "    plt.ylabel(\"True Positive Rate\")\n",
    "    plt.legend(loc=\"lower right\")\n",
    "    plt.ylim([-0.02,1.02])\n",
    "    plt.plot([0,1],[0,1], label='Zufall')\n",
    "    return fig"
   ]
  },
  {
   "cell_type": "code",
   "execution_count": 60,
   "metadata": {},
   "outputs": [],
   "source": [
    "import sklearn\n",
    "fpr, tpr, thresholds= sklearn.metrics.roc_curve(y_test,y_proba[:,1])\n",
    "auc = sklearn.metrics.auc(fpr, tpr)"
   ]
  },
  {
   "cell_type": "code",
   "execution_count": 61,
   "metadata": {},
   "outputs": [
    {
     "data": {
      "image/png": "[encoded data removed]",
      "text/plain": [
       "<Figure size 432x288 with 1 Axes>"
      ]
     },
     "metadata": {
      "needs_background": "light"
     },
     "output_type": "display_data"
    }
   ],
   "source": [
    "fig = plot_roc_curve(fpr,tpr,auc)\n",
    "#fig.savefig(\"/home/jodahr/Desktop/Blogbeitrag-Metriken/roc.pdf\")"
   ]
  },
  {
   "cell_type": "markdown",
   "metadata": {},
   "source": [
    "### Feature Importance\n",
    "In this part we compute the feature importance of the random forest. For a classification problem the features are ranked according to their proportion of the reduction of the gini coefficient. The computation will be very similar to the feature importance part of the regression exercise. Please perform the following steps:\n",
    "\n",
    "1. Create a **list** of features called **features** by using the **columns attribute** of X_train and the **tolist()** method.\n",
    "2. Create a **list** of the **feature importance** values by accessing the attribute **feature\\_importances\\_** of the random forest. \n",
    "3. Create a **dataframe importance_df** which contains the two lists as columns.\n",
    "4. Sort the dataframe by the feature importance column in descending order."
   ]
  },
  {
   "cell_type": "code",
   "execution_count": 62,
   "metadata": {},
   "outputs": [],
   "source": [
    "# Create two lists\n",
    "featues = X_train.columns.tolist()\n",
    "importances = rf_clf.feature_importances_"
   ]
  },
  {
   "cell_type": "code",
   "execution_count": 63,
   "metadata": {},
   "outputs": [
    {
     "data": {
      "text/html": [
       "<div>\n",
       "<style scoped>\n",
       "    .dataframe tbody tr th:only-of-type {\n",
       "        vertical-align: middle;\n",
       "    }\n",
       "\n",
       "    .dataframe tbody tr th {\n",
       "        vertical-align: top;\n",
       "    }\n",
       "\n",
       "    .dataframe thead th {\n",
       "        text-align: right;\n",
       "    }\n",
       "</style>\n",
       "<table border=\"1\" class=\"dataframe\">\n",
       "  <thead>\n",
       "    <tr style=\"text-align: right;\">\n",
       "      <th></th>\n",
       "      <th>features</th>\n",
       "      <th>importances</th>\n",
       "    </tr>\n",
       "  </thead>\n",
       "  <tbody>\n",
       "    <tr>\n",
       "      <th>1</th>\n",
       "      <td>Age</td>\n",
       "      <td>0.228174</td>\n",
       "    </tr>\n",
       "    <tr>\n",
       "      <th>2</th>\n",
       "      <td>Fare</td>\n",
       "      <td>0.218795</td>\n",
       "    </tr>\n",
       "    <tr>\n",
       "      <th>4</th>\n",
       "      <td>Sex=male</td>\n",
       "      <td>0.179468</td>\n",
       "    </tr>\n",
       "    <tr>\n",
       "      <th>3</th>\n",
       "      <td>Familiy_Size</td>\n",
       "      <td>0.075691</td>\n",
       "    </tr>\n",
       "    <tr>\n",
       "      <th>0</th>\n",
       "      <td>Pclass</td>\n",
       "      <td>0.070605</td>\n",
       "    </tr>\n",
       "    <tr>\n",
       "      <th>9</th>\n",
       "      <td>marital_status=yes</td>\n",
       "      <td>0.062598</td>\n",
       "    </tr>\n",
       "    <tr>\n",
       "      <th>8</th>\n",
       "      <td>marital_status=no</td>\n",
       "      <td>0.044256</td>\n",
       "    </tr>\n",
       "    <tr>\n",
       "      <th>17</th>\n",
       "      <td>Deck=unknown</td>\n",
       "      <td>0.033431</td>\n",
       "    </tr>\n",
       "    <tr>\n",
       "      <th>6</th>\n",
       "      <td>Embarked=S</td>\n",
       "      <td>0.021225</td>\n",
       "    </tr>\n",
       "    <tr>\n",
       "      <th>7</th>\n",
       "      <td>Title=rareTitle</td>\n",
       "      <td>0.017027</td>\n",
       "    </tr>\n",
       "    <tr>\n",
       "      <th>13</th>\n",
       "      <td>Deck=E</td>\n",
       "      <td>0.011807</td>\n",
       "    </tr>\n",
       "    <tr>\n",
       "      <th>5</th>\n",
       "      <td>Embarked=Q</td>\n",
       "      <td>0.009402</td>\n",
       "    </tr>\n",
       "    <tr>\n",
       "      <th>11</th>\n",
       "      <td>Deck=C</td>\n",
       "      <td>0.008539</td>\n",
       "    </tr>\n",
       "    <tr>\n",
       "      <th>10</th>\n",
       "      <td>Deck=B</td>\n",
       "      <td>0.008142</td>\n",
       "    </tr>\n",
       "    <tr>\n",
       "      <th>12</th>\n",
       "      <td>Deck=D</td>\n",
       "      <td>0.006224</td>\n",
       "    </tr>\n",
       "    <tr>\n",
       "      <th>15</th>\n",
       "      <td>Deck=G</td>\n",
       "      <td>0.002194</td>\n",
       "    </tr>\n",
       "    <tr>\n",
       "      <th>14</th>\n",
       "      <td>Deck=F</td>\n",
       "      <td>0.001984</td>\n",
       "    </tr>\n",
       "    <tr>\n",
       "      <th>16</th>\n",
       "      <td>Deck=T</td>\n",
       "      <td>0.000440</td>\n",
       "    </tr>\n",
       "  </tbody>\n",
       "</table>\n",
       "</div>"
      ],
      "text/plain": [
       "              features  importances\n",
       "1                  Age     0.228174\n",
       "2                 Fare     0.218795\n",
       "4             Sex=male     0.179468\n",
       "3         Familiy_Size     0.075691\n",
       "0               Pclass     0.070605\n",
       "9   marital_status=yes     0.062598\n",
       "8    marital_status=no     0.044256\n",
       "17        Deck=unknown     0.033431\n",
       "6           Embarked=S     0.021225\n",
       "7      Title=rareTitle     0.017027\n",
       "13              Deck=E     0.011807\n",
       "5           Embarked=Q     0.009402\n",
       "11              Deck=C     0.008539\n",
       "10              Deck=B     0.008142\n",
       "12              Deck=D     0.006224\n",
       "15              Deck=G     0.002194\n",
       "14              Deck=F     0.001984\n",
       "16              Deck=T     0.000440"
      ]
     },
     "execution_count": 63,
     "metadata": {},
     "output_type": "execute_result"
    }
   ],
   "source": [
    "# Create dataframe importance_df\n",
    "importance_df = pd.DataFrame({'features': featues,\n",
    "                              'importances': importances})\\\n",
    "    .sort_values(by='importances', ascending=False)\n",
    "importance_df"
   ]
  },
  {
   "cell_type": "markdown",
   "metadata": {},
   "source": [
    "Surprisingly, the feature Pclass does not seem to be that important as we migh have thought. Maybe we have been biased by the movie titanic too much? But wait, what about the feature Fare? It is a numeric feature which describes the price of the ticket. This feature is probably correlated with Pclass.\n",
    "\n",
    "**Bonus**\n",
    "\n",
    "To check if Fare depends on Pclass please create a boxplot which show the distribution of Fare for the different classes. As the data you can use the training dataset. Furthermore, Look at the distribution of Fare for the two different target labels. Use the training dataset."
   ]
  },
  {
   "cell_type": "code",
   "execution_count": 64,
   "metadata": {},
   "outputs": [
    {
     "data": {
      "text/plain": [
       "<matplotlib.axes._subplots.AxesSubplot at 0x7f41b3666a90>"
      ]
     },
     "execution_count": 64,
     "metadata": {},
     "output_type": "execute_result"
    },
    {
     "data": {
      "image/png": "[encoded data removed]",
      "text/plain": [
       "<Figure size 432x288 with 1 Axes>"
      ]
     },
     "metadata": {
      "needs_background": "light"
     },
     "output_type": "display_data"
    }
   ],
   "source": [
    "# Distribution of Fare with respect to Pclasses\n",
    "sns.boxplot(data=X_train, x='Pclass', y='Fare', showfliers=False)"
   ]
  },
  {
   "cell_type": "code",
   "execution_count": 65,
   "metadata": {},
   "outputs": [
    {
     "data": {
      "text/plain": [
       "<matplotlib.axes._subplots.AxesSubplot at 0x7f41b35d4390>"
      ]
     },
     "execution_count": 65,
     "metadata": {},
     "output_type": "execute_result"
    },
    {
     "data": {
      "image/png": "[encoded data removed]",
      "text/plain": [
       "<Figure size 432x288 with 1 Axes>"
      ]
     },
     "metadata": {
      "needs_background": "light"
     },
     "output_type": "display_data"
    }
   ],
   "source": [
    "# Distribution of Fare with respect to the target label\n",
    "df = X_train.join(y_train)\n",
    "sns.boxplot(data=df, x='Survived', y='Fare', showfliers=False)"
   ]
  },
  {
   "cell_type": "markdown",
   "metadata": {},
   "source": [
    "**Bonus**: Sum all feature importance values which belong to one categorical variable.\n",
    "\n",
    "**Hint**:\n",
    "\n",
    "1. Use the apply method and the split function on the column importance_df['features']\n",
    "2. Use groupby, sum, and sort"
   ]
  },
  {
   "cell_type": "code",
   "execution_count": 66,
   "metadata": {},
   "outputs": [],
   "source": [
    "# Create new column\n",
    "importance_df['features_split'] = importance_df['features']\\\n",
    "    .apply(lambda x: x.split('=')[0])"
   ]
  },
  {
   "cell_type": "code",
   "execution_count": 67,
   "metadata": {},
   "outputs": [
    {
     "data": {
      "text/html": [
       "<div>\n",
       "<style scoped>\n",
       "    .dataframe tbody tr th:only-of-type {\n",
       "        vertical-align: middle;\n",
       "    }\n",
       "\n",
       "    .dataframe tbody tr th {\n",
       "        vertical-align: top;\n",
       "    }\n",
       "\n",
       "    .dataframe thead th {\n",
       "        text-align: right;\n",
       "    }\n",
       "</style>\n",
       "<table border=\"1\" class=\"dataframe\">\n",
       "  <thead>\n",
       "    <tr style=\"text-align: right;\">\n",
       "      <th></th>\n",
       "      <th>importances</th>\n",
       "    </tr>\n",
       "    <tr>\n",
       "      <th>features_split</th>\n",
       "      <th></th>\n",
       "    </tr>\n",
       "  </thead>\n",
       "  <tbody>\n",
       "    <tr>\n",
       "      <th>Age</th>\n",
       "      <td>0.228174</td>\n",
       "    </tr>\n",
       "    <tr>\n",
       "      <th>Fare</th>\n",
       "      <td>0.218795</td>\n",
       "    </tr>\n",
       "    <tr>\n",
       "      <th>Sex</th>\n",
       "      <td>0.179468</td>\n",
       "    </tr>\n",
       "    <tr>\n",
       "      <th>marital_status</th>\n",
       "      <td>0.106854</td>\n",
       "    </tr>\n",
       "    <tr>\n",
       "      <th>Familiy_Size</th>\n",
       "      <td>0.075691</td>\n",
       "    </tr>\n",
       "    <tr>\n",
       "      <th>Deck</th>\n",
       "      <td>0.072759</td>\n",
       "    </tr>\n",
       "    <tr>\n",
       "      <th>Pclass</th>\n",
       "      <td>0.070605</td>\n",
       "    </tr>\n",
       "    <tr>\n",
       "      <th>Embarked</th>\n",
       "      <td>0.030627</td>\n",
       "    </tr>\n",
       "    <tr>\n",
       "      <th>Title</th>\n",
       "      <td>0.017027</td>\n",
       "    </tr>\n",
       "  </tbody>\n",
       "</table>\n",
       "</div>"
      ],
      "text/plain": [
       "                importances\n",
       "features_split             \n",
       "Age                0.228174\n",
       "Fare               0.218795\n",
       "Sex                0.179468\n",
       "marital_status     0.106854\n",
       "Familiy_Size       0.075691\n",
       "Deck               0.072759\n",
       "Pclass             0.070605\n",
       "Embarked           0.030627\n",
       "Title              0.017027"
      ]
     },
     "execution_count": 67,
     "metadata": {},
     "output_type": "execute_result"
    }
   ],
   "source": [
    "# Compute sum\n",
    "importance_df.groupby('features_split')\\\n",
    "    .sum().sort_values('importances', ascending=False)"
   ]
  },
  {
   "cell_type": "markdown",
   "metadata": {},
   "source": [
    "## K nearest Neighbors Classification"
   ]
  },
  {
   "cell_type": "markdown",
   "metadata": {},
   "source": [
    "Enough about decison trees. In this part we want to train k nearest neighbors classification model. Since this model uses a distance metric for training, we need to standardize the data. This can be done by using the class **StandardScaler** from the module **sklearn.preprocessing**. Please import that class and create an object called **scaler**. Use the **fit_transform** method of that object on **X_train** and the **transform** method on **X_test**. Call the resulting numpy arrays **X_trained_scaled_array** and **X_test_scaled_array**, respectively."
   ]
  },
  {
   "cell_type": "code",
   "execution_count": 68,
   "metadata": {},
   "outputs": [],
   "source": [
    "# Import StandardScaler\n",
    "from sklearn.preprocessing import StandardScaler"
   ]
  },
  {
   "cell_type": "code",
   "execution_count": 69,
   "metadata": {},
   "outputs": [],
   "source": [
    "# Create object scaler\n",
    "scaler = StandardScaler()"
   ]
  },
  {
   "cell_type": "code",
   "execution_count": 70,
   "metadata": {},
   "outputs": [],
   "source": [
    "# Perform fit_transform on X_train and transform on X_test\n",
    "X_train_scaled_array = scaler.fit_transform(X_train)\n",
    "X_test_scaled_array = scaler.transform(X_test)"
   ]
  },
  {
   "cell_type": "markdown",
   "metadata": {},
   "source": [
    "The scaled output are numpy array. Please **extract the column names and the indices** of the train and test data. Afterwards, **create two dataframes** called **X_train_scaled** and **X_test_scaled** holding the scaled training data and scaled test data, respectively."
   ]
  },
  {
   "cell_type": "code",
   "execution_count": 71,
   "metadata": {},
   "outputs": [],
   "source": [
    "# Extract columns and indices\n",
    "columns = X_train.columns.tolist()\n",
    "train_index = X_train.index.tolist()\n",
    "test_index = X_test.index.tolist()"
   ]
  },
  {
   "cell_type": "code",
   "execution_count": 72,
   "metadata": {},
   "outputs": [],
   "source": [
    "# Create scaled dataframes\n",
    "X_train_scaled = pd.DataFrame(X_train_scaled_array,\n",
    "                              columns=columns, index=train_index)\n",
    "\n",
    "X_test_scaled = pd.DataFrame(X_test_scaled_array,\n",
    "                              columns=columns, index=test_index)"
   ]
  },
  {
   "cell_type": "markdown",
   "metadata": {},
   "source": [
    "Use the describe method on both dataframes and check whether the scaling was successful."
   ]
  },
  {
   "cell_type": "code",
   "execution_count": 73,
   "metadata": {},
   "outputs": [
    {
     "data": {
      "text/html": [
       "<div>\n",
       "<style scoped>\n",
       "    .dataframe tbody tr th:only-of-type {\n",
       "        vertical-align: middle;\n",
       "    }\n",
       "\n",
       "    .dataframe tbody tr th {\n",
       "        vertical-align: top;\n",
       "    }\n",
       "\n",
       "    .dataframe thead th {\n",
       "        text-align: right;\n",
       "    }\n",
       "</style>\n",
       "<table border=\"1\" class=\"dataframe\">\n",
       "  <thead>\n",
       "    <tr style=\"text-align: right;\">\n",
       "      <th></th>\n",
       "      <th>Pclass</th>\n",
       "      <th>Age</th>\n",
       "      <th>Fare</th>\n",
       "      <th>Familiy_Size</th>\n",
       "      <th>Sex=male</th>\n",
       "      <th>Embarked=Q</th>\n",
       "      <th>Embarked=S</th>\n",
       "      <th>Title=rareTitle</th>\n",
       "      <th>marital_status=no</th>\n",
       "      <th>marital_status=yes</th>\n",
       "      <th>Deck=B</th>\n",
       "      <th>Deck=C</th>\n",
       "      <th>Deck=D</th>\n",
       "      <th>Deck=E</th>\n",
       "      <th>Deck=F</th>\n",
       "      <th>Deck=G</th>\n",
       "      <th>Deck=T</th>\n",
       "      <th>Deck=unknown</th>\n",
       "    </tr>\n",
       "  </thead>\n",
       "  <tbody>\n",
       "    <tr>\n",
       "      <th>count</th>\n",
       "      <td>179.000000</td>\n",
       "      <td>179.000000</td>\n",
       "      <td>179.000000</td>\n",
       "      <td>179.000000</td>\n",
       "      <td>179.000000</td>\n",
       "      <td>179.000000</td>\n",
       "      <td>179.000000</td>\n",
       "      <td>179.000000</td>\n",
       "      <td>179.000000</td>\n",
       "      <td>179.000000</td>\n",
       "      <td>179.000000</td>\n",
       "      <td>179.000000</td>\n",
       "      <td>179.000000</td>\n",
       "      <td>179.000000</td>\n",
       "      <td>179.000000</td>\n",
       "      <td>179.000000</td>\n",
       "      <td>1.790000e+02</td>\n",
       "      <td>179.000000</td>\n",
       "    </tr>\n",
       "    <tr>\n",
       "      <th>mean</th>\n",
       "      <td>-0.129359</td>\n",
       "      <td>0.080039</td>\n",
       "      <td>-0.036620</td>\n",
       "      <td>-0.082843</td>\n",
       "      <td>-0.087089</td>\n",
       "      <td>0.038527</td>\n",
       "      <td>-0.164872</td>\n",
       "      <td>0.003864</td>\n",
       "      <td>0.031755</td>\n",
       "      <td>0.079579</td>\n",
       "      <td>-0.013754</td>\n",
       "      <td>-0.130394</td>\n",
       "      <td>0.319721</td>\n",
       "      <td>0.052049</td>\n",
       "      <td>-0.079970</td>\n",
       "      <td>0.021198</td>\n",
       "      <td>-3.750293e-02</td>\n",
       "      <td>-0.067429</td>\n",
       "    </tr>\n",
       "    <tr>\n",
       "      <th>std</th>\n",
       "      <td>1.064922</td>\n",
       "      <td>1.010578</td>\n",
       "      <td>0.759588</td>\n",
       "      <td>0.773875</td>\n",
       "      <td>1.027361</td>\n",
       "      <td>1.058342</td>\n",
       "      <td>1.075702</td>\n",
       "      <td>1.009214</td>\n",
       "      <td>1.025310</td>\n",
       "      <td>1.081838</td>\n",
       "      <td>0.974917</td>\n",
       "      <td>0.747107</td>\n",
       "      <td>1.670729</td>\n",
       "      <td>1.125740</td>\n",
       "      <td>0.606036</td>\n",
       "      <td>1.153904</td>\n",
       "      <td>6.958358e-17</td>\n",
       "      <td>1.044578</td>\n",
       "    </tr>\n",
       "    <tr>\n",
       "      <th>min</th>\n",
       "      <td>-1.614136</td>\n",
       "      <td>-2.141774</td>\n",
       "      <td>-0.627467</td>\n",
       "      <td>-0.554666</td>\n",
       "      <td>-1.380624</td>\n",
       "      <td>-0.303355</td>\n",
       "      <td>-1.675556</td>\n",
       "      <td>-0.277769</td>\n",
       "      <td>-0.507888</td>\n",
       "      <td>-0.394771</td>\n",
       "      <td>-0.237444</td>\n",
       "      <td>-0.280692</td>\n",
       "      <td>-0.165581</td>\n",
       "      <td>-0.190762</td>\n",
       "      <td>-0.125267</td>\n",
       "      <td>-0.065049</td>\n",
       "      <td>-3.750293e-02</td>\n",
       "      <td>-1.864936</td>\n",
       "    </tr>\n",
       "    <tr>\n",
       "      <th>25%</th>\n",
       "      <td>-1.614136</td>\n",
       "      <td>-0.532641</td>\n",
       "      <td>-0.475429</td>\n",
       "      <td>-0.554666</td>\n",
       "      <td>-1.380624</td>\n",
       "      <td>-0.303355</td>\n",
       "      <td>-1.675556</td>\n",
       "      <td>-0.277769</td>\n",
       "      <td>-0.507888</td>\n",
       "      <td>-0.394771</td>\n",
       "      <td>-0.237444</td>\n",
       "      <td>-0.280692</td>\n",
       "      <td>-0.165581</td>\n",
       "      <td>-0.190762</td>\n",
       "      <td>-0.125267</td>\n",
       "      <td>-0.065049</td>\n",
       "      <td>-3.750293e-02</td>\n",
       "      <td>-0.664362</td>\n",
       "    </tr>\n",
       "    <tr>\n",
       "      <th>50%</th>\n",
       "      <td>0.813034</td>\n",
       "      <td>-0.152590</td>\n",
       "      <td>-0.348262</td>\n",
       "      <td>-0.554666</td>\n",
       "      <td>0.724310</td>\n",
       "      <td>-0.303355</td>\n",
       "      <td>0.596817</td>\n",
       "      <td>-0.277769</td>\n",
       "      <td>-0.507888</td>\n",
       "      <td>-0.394771</td>\n",
       "      <td>-0.237444</td>\n",
       "      <td>-0.280692</td>\n",
       "      <td>-0.165581</td>\n",
       "      <td>-0.190762</td>\n",
       "      <td>-0.125267</td>\n",
       "      <td>-0.065049</td>\n",
       "      <td>-3.750293e-02</td>\n",
       "      <td>0.536211</td>\n",
       "    </tr>\n",
       "    <tr>\n",
       "      <th>75%</th>\n",
       "      <td>0.813034</td>\n",
       "      <td>0.607511</td>\n",
       "      <td>-0.003387</td>\n",
       "      <td>0.040096</td>\n",
       "      <td>0.724310</td>\n",
       "      <td>-0.303355</td>\n",
       "      <td>0.596817</td>\n",
       "      <td>-0.277769</td>\n",
       "      <td>-0.507888</td>\n",
       "      <td>-0.394771</td>\n",
       "      <td>-0.237444</td>\n",
       "      <td>-0.280692</td>\n",
       "      <td>-0.165581</td>\n",
       "      <td>-0.190762</td>\n",
       "      <td>-0.125267</td>\n",
       "      <td>-0.065049</td>\n",
       "      <td>-3.750293e-02</td>\n",
       "      <td>0.536211</td>\n",
       "    </tr>\n",
       "    <tr>\n",
       "      <th>max</th>\n",
       "      <td>0.813034</td>\n",
       "      <td>3.191853</td>\n",
       "      <td>4.424713</td>\n",
       "      <td>3.013909</td>\n",
       "      <td>0.724310</td>\n",
       "      <td>3.296463</td>\n",
       "      <td>0.596817</td>\n",
       "      <td>3.600109</td>\n",
       "      <td>1.968937</td>\n",
       "      <td>2.533114</td>\n",
       "      <td>4.211513</td>\n",
       "      <td>3.562627</td>\n",
       "      <td>6.039345</td>\n",
       "      <td>5.242137</td>\n",
       "      <td>7.982936</td>\n",
       "      <td>15.373137</td>\n",
       "      <td>-3.750293e-02</td>\n",
       "      <td>0.536211</td>\n",
       "    </tr>\n",
       "  </tbody>\n",
       "</table>\n",
       "</div>"
      ],
      "text/plain": [
       "           Pclass         Age        Fare  Familiy_Size    Sex=male  \\\n",
       "count  179.000000  179.000000  179.000000    179.000000  179.000000   \n",
       "mean    -0.129359    0.080039   -0.036620     -0.082843   -0.087089   \n",
       "std      1.064922    1.010578    0.759588      0.773875    1.027361   \n",
       "min     -1.614136   -2.141774   -0.627467     -0.554666   -1.380624   \n",
       "25%     -1.614136   -0.532641   -0.475429     -0.554666   -1.380624   \n",
       "50%      0.813034   -0.152590   -0.348262     -0.554666    0.724310   \n",
       "75%      0.813034    0.607511   -0.003387      0.040096    0.724310   \n",
       "max      0.813034    3.191853    4.424713      3.013909    0.724310   \n",
       "\n",
       "       Embarked=Q  Embarked=S  Title=rareTitle  marital_status=no  \\\n",
       "count  179.000000  179.000000       179.000000         179.000000   \n",
       "mean     0.038527   -0.164872         0.003864           0.031755   \n",
       "std      1.058342    1.075702         1.009214           1.025310   \n",
       "min     -0.303355   -1.675556        -0.277769          -0.507888   \n",
       "25%     -0.303355   -1.675556        -0.277769          -0.507888   \n",
       "50%     -0.303355    0.596817        -0.277769          -0.507888   \n",
       "75%     -0.303355    0.596817        -0.277769          -0.507888   \n",
       "max      3.296463    0.596817         3.600109           1.968937   \n",
       "\n",
       "       marital_status=yes      Deck=B      Deck=C      Deck=D      Deck=E  \\\n",
       "count          179.000000  179.000000  179.000000  179.000000  179.000000   \n",
       "mean             0.079579   -0.013754   -0.130394    0.319721    0.052049   \n",
       "std              1.081838    0.974917    0.747107    1.670729    1.125740   \n",
       "min             -0.394771   -0.237444   -0.280692   -0.165581   -0.190762   \n",
       "25%             -0.394771   -0.237444   -0.280692   -0.165581   -0.190762   \n",
       "50%             -0.394771   -0.237444   -0.280692   -0.165581   -0.190762   \n",
       "75%             -0.394771   -0.237444   -0.280692   -0.165581   -0.190762   \n",
       "max              2.533114    4.211513    3.562627    6.039345    5.242137   \n",
       "\n",
       "           Deck=F      Deck=G        Deck=T  Deck=unknown  \n",
       "count  179.000000  179.000000  1.790000e+02    179.000000  \n",
       "mean    -0.079970    0.021198 -3.750293e-02     -0.067429  \n",
       "std      0.606036    1.153904  6.958358e-17      1.044578  \n",
       "min     -0.125267   -0.065049 -3.750293e-02     -1.864936  \n",
       "25%     -0.125267   -0.065049 -3.750293e-02     -0.664362  \n",
       "50%     -0.125267   -0.065049 -3.750293e-02      0.536211  \n",
       "75%     -0.125267   -0.065049 -3.750293e-02      0.536211  \n",
       "max      7.982936   15.373137 -3.750293e-02      0.536211  "
      ]
     },
     "execution_count": 73,
     "metadata": {},
     "output_type": "execute_result"
    }
   ],
   "source": [
    "# Check scaling\n",
    "X_train_scaled.describe()\n",
    "X_test_scaled.describe()"
   ]
  },
  {
   "cell_type": "markdown",
   "metadata": {},
   "source": [
    "Now we can train our K nearest neighbor classifier. **Import** the class **KNeighborsClassifier** from the module **sklearn.neighbors**. Instanciate an **object** called **knn_clf**. Do not pass any parameters to the constructor. However, you can **check the default values**."
   ]
  },
  {
   "cell_type": "code",
   "execution_count": 74,
   "metadata": {},
   "outputs": [],
   "source": [
    "# Import KNeighborsClassifier\n",
    "from sklearn.neighbors import KNeighborsClassifier"
   ]
  },
  {
   "cell_type": "code",
   "execution_count": 75,
   "metadata": {},
   "outputs": [],
   "source": [
    "# Create object knn_clf\n",
    "knn_clf = KNeighborsClassifier()"
   ]
  },
  {
   "cell_type": "markdown",
   "metadata": {},
   "source": [
    "Finally, train the model on the scaled data, compute the predictions y_pred and the probabilities y_proba for class 1. Call the new created predictions y_pred_knn_scaled and y_pred_probas_class1_knn_scaled. Afterwards, compute the classification report."
   ]
  },
  {
   "cell_type": "code",
   "execution_count": 76,
   "metadata": {},
   "outputs": [
    {
     "name": "stdout",
     "output_type": "stream",
     "text": [
      "              precision    recall  f1-score   support\n",
      "\n",
      "           0       0.80      0.82      0.81       105\n",
      "           1       0.74      0.72      0.73        74\n",
      "\n",
      "    accuracy                           0.78       179\n",
      "   macro avg       0.77      0.77      0.77       179\n",
      "weighted avg       0.78      0.78      0.78       179\n",
      "\n"
     ]
    }
   ],
   "source": [
    "# Fit, predict, predict_probas and create classification report\n",
    "knn_clf.fit(X_train_scaled, y_train)\n",
    "y_pred_knn_scaled = knn_clf.predict(X_test_scaled)\n",
    "y_probas_knn_scaled = knn_clf.predict_proba(X_test_scaled)\n",
    "y_probas_class1_knn_scaled = y_proba[:,1]\n",
    "print(classification_report(y_test, y_pred_knn_scaled))"
   ]
  },
  {
   "cell_type": "markdown",
   "metadata": {},
   "source": [
    "To check whether the scaling was really necessary, please perform the steps above also for the unscaled data X_train and X_test."
   ]
  },
  {
   "cell_type": "code",
   "execution_count": 77,
   "metadata": {},
   "outputs": [
    {
     "name": "stdout",
     "output_type": "stream",
     "text": [
      "              precision    recall  f1-score   support\n",
      "\n",
      "           0       0.74      0.85      0.79       105\n",
      "           1       0.73      0.58      0.65        74\n",
      "\n",
      "    accuracy                           0.74       179\n",
      "   macro avg       0.74      0.71      0.72       179\n",
      "weighted avg       0.74      0.74      0.73       179\n",
      "\n"
     ]
    }
   ],
   "source": [
    "knn_clf.fit(X_train, y_train)\n",
    "y_pred = knn_clf.predict(X_test)\n",
    "y_probas_knn = knn_clf.predict_proba(X_test)\n",
    "y_probas_class1_knn = y_proba[:,1]\n",
    "print(classification_report(y_test, y_pred))"
   ]
  },
  {
   "cell_type": "markdown",
   "metadata": {},
   "source": [
    "Hey, scaling was worth it! In the theory part we have already learned why it was necessary.\n",
    "\n",
    "During the Feature Engineering part we learned another important part about the usage of ordinal categorical variables. The variable Pclass could be problematic. Do you have an idea why?   \n",
    "\n",
    "\n",
    "We need to *one hot encode* the categorical variable Pclass to use it with a model which uses distance metrics. Please execute the code below which performs the dummy encoding on that column and rejoins it to the training and test data."
   ]
  },
  {
   "cell_type": "code",
   "execution_count": 78,
   "metadata": {},
   "outputs": [],
   "source": [
    "# Just execute\n",
    "from sklearn.preprocessing import OneHotEncoder"
   ]
  },
  {
   "cell_type": "code",
   "execution_count": 79,
   "metadata": {},
   "outputs": [],
   "source": [
    "# Just execute\n",
    "Pclass_train = pd.get_dummies(X_train['Pclass'],\n",
    "               prefix_sep='=',\n",
    "               drop_first=True,\n",
    "               prefix='Pclass')\n",
    "\n",
    "Pclass_test = pd.get_dummies(X_test['Pclass'],\n",
    "               prefix_sep='=',\n",
    "               drop_first=True,\n",
    "               prefix='Pclass')"
   ]
  },
  {
   "cell_type": "code",
   "execution_count": 80,
   "metadata": {},
   "outputs": [],
   "source": [
    "# Just execute\n",
    "X_train_new = X_train.join(Pclass_train).drop(['Pclass'], axis=1)\n",
    "X_test_new = X_test.join(Pclass_test).drop(['Pclass'], axis=1)"
   ]
  },
  {
   "cell_type": "code",
   "execution_count": 81,
   "metadata": {},
   "outputs": [],
   "source": [
    "# Just execute\n",
    "columns = X_train_new.columns.tolist()\n",
    "train_index = X_train_new.index.tolist()\n",
    "test_index = X_test_new.index.tolist()"
   ]
  },
  {
   "cell_type": "code",
   "execution_count": 82,
   "metadata": {},
   "outputs": [],
   "source": [
    "# Just execute\n",
    "X_train_scaled_array = scaler.fit_transform(X_train_new)\n",
    "X_test_scaled_array = scaler.transform(X_test_new)"
   ]
  },
  {
   "cell_type": "code",
   "execution_count": 83,
   "metadata": {},
   "outputs": [],
   "source": [
    "# Just execute\n",
    "X_train_scaled = pd.DataFrame(X_train_scaled_array,\n",
    "                              columns=columns, index=train_index)\n",
    "\n",
    "X_test_scaled = pd.DataFrame(X_test_scaled_array,\n",
    "                              columns=columns, index=test_index)"
   ]
  },
  {
   "cell_type": "code",
   "execution_count": 84,
   "metadata": {},
   "outputs": [
    {
     "name": "stdout",
     "output_type": "stream",
     "text": [
      "              precision    recall  f1-score   support\n",
      "\n",
      "           0       0.81      0.82      0.82       105\n",
      "           1       0.74      0.73      0.73        74\n",
      "\n",
      "    accuracy                           0.78       179\n",
      "   macro avg       0.78      0.77      0.77       179\n",
      "weighted avg       0.78      0.78      0.78       179\n",
      "\n"
     ]
    }
   ],
   "source": [
    "# Just execute\n",
    "knn_clf.fit(X_train_scaled, y_train)\n",
    "y_pred = knn_clf.predict(X_test_scaled)\n",
    "print(classification_report(y_test, y_pred))"
   ]
  },
  {
   "cell_type": "markdown",
   "metadata": {},
   "source": [
    "The result is now slightly better. Actually, we should not always modify the model and investigate if the performance on the test data set has been improved. In this way we somehow try to **fit the test data** (overfitting).\n",
    "\n",
    "### Cross Validation\n",
    "\n",
    "We can compute a **better estimate for the accuracy of our model on unseen data** by using K-Fold cross validation. Therefore, the **data is split into K folds**. The model is trained K times on K-1 splits of the training data and evaluated on the hold out set (which changes for each fit). Afterwards, we take the mean of all K performances.   \n",
    "\n",
    "Let's **compute an example** of 10-Fold cross validation **for our models** knn_clf, rf_clf, tree_clf and tree_2_clf. First, **import** the function **cross_val_score** from the module **sklearn.model_selection**. Afterwards, **use** the function **cross_val_score** and pass as the **arguments** the **estimator/model**, the **scaled training data X_train_scaled**, our **target y_train**, the number of folds (**cv=10**) and the scoring (**'accuracy'**). The results will be numpy arrays containing 10 scores. Please name the numpy arrays **scores_knn**, **scores_rf**, **scores_tree** and **scores_fixed_tree** for the different models."
   ]
  },
  {
   "cell_type": "code",
   "execution_count": 85,
   "metadata": {},
   "outputs": [],
   "source": [
    "# Import cross_val_score\n",
    "from sklearn.model_selection import cross_val_score"
   ]
  },
  {
   "cell_type": "code",
   "execution_count": 86,
   "metadata": {},
   "outputs": [],
   "source": [
    "# Compute 10 Fold Cross validation scores\n",
    "scores_knn = cross_val_score(estimator=knn_clf, X=X_train_scaled, y=y_train, cv=10, scoring='accuracy')\n",
    "scores_rf = cross_val_score(estimator=rf_clf, X=X_train_scaled, y=y_train, cv=10, scoring='accuracy')\n",
    "scores_tree = cross_val_score(estimator=tree_clf, X=X_train_scaled, y=y_train, cv=10, scoring='accuracy')\n",
    "scores_fixed_tree = cross_val_score(estimator=tree_2_clf, X=X_train_scaled, y=y_train, cv=10, scoring='accuracy')"
   ]
  },
  {
   "cell_type": "markdown",
   "metadata": {},
   "source": [
    "If you have computed the four numpy arrays you can just execute the cell below to compute the mean and the standard deviation of the scores."
   ]
  },
  {
   "cell_type": "code",
   "execution_count": 87,
   "metadata": {},
   "outputs": [
    {
     "name": "stdout",
     "output_type": "stream",
     "text": [
      "knn: \t score = 0.809076682316119 +- 0.05944346132441596\n",
      "tree: \t score = 0.7669600938967136 +- 0.04719014177922664\n",
      "tree2: \t score = 0.7696400625978091 +- 0.07483871968416234\n",
      "rf: \t score = 0.8104068857589984 +- 0.04255500166619593\n"
     ]
    }
   ],
   "source": [
    "# Just execute\n",
    "# Print performance results\n",
    "print(\"knn: \\t score = {} +- {}\".format(np.mean(scores_knn),\n",
    "                                        np.std(scores_knn)))\n",
    "print(\"tree: \\t score = {} +- {}\".format(np.mean(scores_tree),\n",
    "                                         np.std(scores_tree)))\n",
    "print(\"tree2: \\t score = {} +- {}\".format(np.mean(scores_fixed_tree),\n",
    "                                          np.std(scores_fixed_tree)))\n",
    "print(\"rf: \\t score = {} +- {}\".format(np.mean(scores_rf),\n",
    "                                       np.std(scores_rf)))"
   ]
  },
  {
   "cell_type": "markdown",
   "metadata": {},
   "source": [
    "Hey, it looks like the random forest performs best, closely followed by our k nearest neighbor model."
   ]
  },
  {
   "cell_type": "markdown",
   "metadata": {},
   "source": [
    "### Principal Component Analysis and Dimensional Reduction\n",
    "\n",
    "In the final part of the exercise we want to reduce the number of dimensions by using a PCA. Afterwards, we fit our k nearest neighbor model (knn) to the data of the first two principal components. Since only two dimensions are left, we can produce a scatter plot to visualize our results. Please follow the follwowing steps:\n",
    "\n",
    "1. import the class PCA from the module sklearn.decomposition\n",
    "2. create an object of the PCA class called pca\n",
    "3. fit the object by using its fit method on the training dataset X_train_scaled\n",
    "4. use the transform method of the fitted pca object on X_train_scaled and X_train_test\n",
    "5. call the resulting numpy arrays of step 4 X_train_pca and X_test_pca"
   ]
  },
  {
   "cell_type": "code",
   "execution_count": 88,
   "metadata": {},
   "outputs": [],
   "source": [
    "# Import PCA\n",
    "from sklearn.decomposition import PCA"
   ]
  },
  {
   "cell_type": "code",
   "execution_count": 89,
   "metadata": {},
   "outputs": [],
   "source": [
    "# Create object pca\n",
    "pca = PCA()"
   ]
  },
  {
   "cell_type": "code",
   "execution_count": 90,
   "metadata": {},
   "outputs": [
    {
     "data": {
      "text/plain": [
       "PCA(copy=True, iterated_power='auto', n_components=None, random_state=None,\n",
       "    svd_solver='auto', tol=0.0, whiten=False)"
      ]
     },
     "execution_count": 90,
     "metadata": {},
     "output_type": "execute_result"
    }
   ],
   "source": [
    "# Fit pca\n",
    "pca.fit(X_train_scaled)"
   ]
  },
  {
   "cell_type": "code",
   "execution_count": 91,
   "metadata": {},
   "outputs": [],
   "source": [
    "# Transform data\n",
    "X_train_pca = pca.transform(X_train_scaled)\n",
    "X_test_pca = pca.transform(X_test_scaled)"
   ]
  },
  {
   "cell_type": "markdown",
   "metadata": {},
   "source": [
    "We can also look at the explained variance of the principal components. Please execute the two cells below to create a scree plot and a cumulative variance plot."
   ]
  },
  {
   "cell_type": "code",
   "execution_count": 92,
   "metadata": {},
   "outputs": [
    {
     "data": {
      "text/plain": [
       "[<matplotlib.lines.Line2D at 0x7f41b0bf8f60>]"
      ]
     },
     "execution_count": 92,
     "metadata": {},
     "output_type": "execute_result"
    },
    {
     "data": {
      "image/png": "[encoded data removed]",
      "text/plain": [
       "<Figure size 432x288 with 1 Axes>"
      ]
     },
     "metadata": {
      "needs_background": "light"
     },
     "output_type": "display_data"
    }
   ],
   "source": [
    "# Create scree plot\n",
    "exp_variance = pca.explained_variance_ratio_\n",
    "fig, ax = plt.subplots()\n",
    "ax.set_xticks(np.arange(0, 19))\n",
    "ax.set_xlabel('pca component')\n",
    "ax.set_ylabel('variance ratio')\n",
    "ax.plot(exp_variance)"
   ]
  },
  {
   "cell_type": "code",
   "execution_count": 93,
   "metadata": {},
   "outputs": [
    {
     "data": {
      "text/plain": [
       "[<matplotlib.lines.Line2D at 0x7f41b0b77400>]"
      ]
     },
     "execution_count": 93,
     "metadata": {},
     "output_type": "execute_result"
    },
    {
     "data": {
      "image/png": "[encoded data removed]",
      "text/plain": [
       "<Figure size 432x288 with 1 Axes>"
      ]
     },
     "metadata": {
      "needs_background": "light"
     },
     "output_type": "display_data"
    }
   ],
   "source": [
    "# Create cumulative variance plot\n",
    "exp_variance = pca.explained_variance_ratio_\n",
    "fig, ax = plt.subplots()\n",
    "ax.set_xticks(np.arange(0, 19))\n",
    "ax.set_xlabel('pca component')\n",
    "ax.set_ylabel('cumulative variance ratio')\n",
    "ax.plot(np.cumsum(exp_variance))"
   ]
  },
  {
   "cell_type": "markdown",
   "metadata": {},
   "source": [
    "Compute the cross validation score by using only the first two principal components and the k nearest neighbors classifier knn_clf. Afterwards, compute the mean and the standard deviation.\n",
    "\n",
    "**Hint:** Use slicing to extract the first two principal components."
   ]
  },
  {
   "cell_type": "code",
   "execution_count": 94,
   "metadata": {},
   "outputs": [],
   "source": [
    "# cross_val_score\n",
    "scores_knn_pca = cross_val_score(estimator=knn_clf, X=X_train_pca[:,0:2], y=y_train, cv=10, scoring='accuracy')"
   ]
  },
  {
   "cell_type": "code",
   "execution_count": 95,
   "metadata": {},
   "outputs": [
    {
     "name": "stdout",
     "output_type": "stream",
     "text": [
      "knn_pca: \t score = 0.783744131455399 +- 0.05659482004691845\n"
     ]
    }
   ],
   "source": [
    "# Mean and std\n",
    "print(\"knn_pca: \\t score = {} +- {}\".format(np.mean(scores_knn_pca), np.std(scores_knn_pca)))"
   ]
  },
  {
   "cell_type": "markdown",
   "metadata": {},
   "source": [
    "Actually, this is not that bad for only taking into account less than 30% variance of the data.\n",
    "\n",
    "Finally, we want to visualize the decision boundary in the space of the first two principal components. Hence, install the package mlxtend via the shell command *conda install -c conda-forge mlxtend*. You can also issue the command by using the magic function %%bash. Afterwards, import the function plot_decision_regions from the module mlxtend.plotting. Use the cunftion."
   ]
  },
  {
   "cell_type": "code",
   "execution_count": 96,
   "metadata": {},
   "outputs": [],
   "source": [
    "# Import plot_decision_regions\n",
    "from mlxtend.plotting import plot_decision_regions"
   ]
  },
  {
   "cell_type": "code",
   "execution_count": 97,
   "metadata": {},
   "outputs": [
    {
     "data": {
      "text/plain": [
       "<matplotlib.axes._subplots.AxesSubplot at 0x7f41b35162e8>"
      ]
     },
     "execution_count": 97,
     "metadata": {},
     "output_type": "execute_result"
    },
    {
     "data": {
      "image/png": "[encoded data removed]",
      "text/plain": [
       "<Figure size 432x288 with 1 Axes>"
      ]
     },
     "metadata": {
      "needs_background": "light"
     },
     "output_type": "display_data"
    }
   ],
   "source": [
    "plot_decision_regions(X_test_pca[:,0:2], y_test.values,\n",
    "                      knn_clf.fit(X_train_pca[:,0:2], y_train))"
   ]
  },
  {
   "cell_type": "markdown",
   "metadata": {},
   "source": [
    "Please describe the plot. Does it look like you have overfitted? What parameter should you change?\n",
    "\n",
    "- parameter k is too small.\n",
    "- looks like overfitting."
   ]
  },
  {
   "cell_type": "markdown",
   "metadata": {},
   "source": [
    "**This is the end of the exercise**"
   ]
  },
  {
   "cell_type": "markdown",
   "metadata": {},
   "source": [
    "**Bonus**:   \n",
    "\n",
    "In this bonus exercise we want to find the best value of k, i.e. the best number of nearest neighbors.\n",
    "\n",
    "To find the best value for k we use a **GridSearch** with **cross validation**. In a GridSearch we compute for each combination of hyperparameters (here for each k) a performance score (here accuracy) by using cross validation. For K-Fold cross validation the dataset is split into K-Folds. Afterwards, the model is trained on K-1 splits and evaluated on an hold out set. This done K times, so that each Fold has been used as a hold out set. \n",
    "\n",
    "Please import the classes **GridSearchCV** and **Kfold** from the **modul sklearn.model_selection**. Create an object of the class KFold called cv. Pass the arguments random_state=42 and shuffle=True to the constructor. Afterwards, we create a python dictionary to use as a parameter grid. Hence, create a dictionary called param_grid holding only one Key-Value pair. As the key use the string 'n_neighbors' and as the value use a numpy array holding integer values from 1 to 20.\n",
    "\n",
    "**Remark**: You can use the **get_params()** method on any machine learning objects to investigate all possible hyperparameters."
   ]
  },
  {
   "cell_type": "code",
   "execution_count": 98,
   "metadata": {},
   "outputs": [],
   "source": [
    "# Import GridSeach and KFold\n",
    "from sklearn.model_selection import GridSearchCV, KFold"
   ]
  },
  {
   "cell_type": "code",
   "execution_count": 99,
   "metadata": {},
   "outputs": [],
   "source": [
    "# Create KFold object (uses 3 splits as default)\n",
    "cv = KFold(random_state=42, shuffle=True, n_splits=10)"
   ]
  },
  {
   "cell_type": "code",
   "execution_count": 100,
   "metadata": {},
   "outputs": [
    {
     "data": {
      "text/plain": [
       "{'algorithm': 'auto',\n",
       " 'leaf_size': 30,\n",
       " 'metric': 'minkowski',\n",
       " 'metric_params': None,\n",
       " 'n_jobs': None,\n",
       " 'n_neighbors': 5,\n",
       " 'p': 2,\n",
       " 'weights': 'uniform'}"
      ]
     },
     "execution_count": 100,
     "metadata": {},
     "output_type": "execute_result"
    }
   ],
   "source": [
    "# Check params using get_params()\n",
    "knn_clf.get_params()"
   ]
  },
  {
   "cell_type": "code",
   "execution_count": 101,
   "metadata": {},
   "outputs": [
    {
     "data": {
      "text/plain": [
       "{'n_neighbors': array([ 1,  2,  3,  4,  5,  6,  7,  8,  9, 10, 11, 12, 13, 14, 15, 16, 17,\n",
       "        18, 19, 20])}"
      ]
     },
     "execution_count": 101,
     "metadata": {},
     "output_type": "execute_result"
    }
   ],
   "source": [
    "# Create parameter grid (dictionary)\n",
    "param_grid = {'n_neighbors': np.arange(1,21)}\n",
    "param_grid"
   ]
  },
  {
   "cell_type": "markdown",
   "metadata": {},
   "source": [
    "Next, we can create a gridsearch object called grid_clf of the class GridSearchCV. As arguments please use estimator=knn_clf, param_grid=param_grid, scoring='accuracy' and cv=cv."
   ]
  },
  {
   "cell_type": "code",
   "execution_count": 102,
   "metadata": {},
   "outputs": [],
   "source": [
    "# Create GridSearch object\n",
    "#grid_clf = GridSearchCV(knn_clf, param_grid, scoring='accuracy', cv=cv)\n",
    "grid_clf = GridSearchCV(knn_clf, param_grid, scoring='accuracy', cv=cv)"
   ]
  },
  {
   "cell_type": "markdown",
   "metadata": {},
   "source": [
    "This object can be used like any ordinary classification object/model. Please train the model by passing the data X_train_scaled and y_train to the fit(X,y) method."
   ]
  },
  {
   "cell_type": "code",
   "execution_count": 103,
   "metadata": {},
   "outputs": [
    {
     "data": {
      "text/plain": [
       "GridSearchCV(cv=KFold(n_splits=10, random_state=42, shuffle=True),\n",
       "             error_score=nan,\n",
       "             estimator=KNeighborsClassifier(algorithm='auto', leaf_size=30,\n",
       "                                            metric='minkowski',\n",
       "                                            metric_params=None, n_jobs=None,\n",
       "                                            n_neighbors=5, p=2,\n",
       "                                            weights='uniform'),\n",
       "             iid='deprecated', n_jobs=None,\n",
       "             param_grid={'n_neighbors': array([ 1,  2,  3,  4,  5,  6,  7,  8,  9, 10, 11, 12, 13, 14, 15, 16, 17,\n",
       "       18, 19, 20])},\n",
       "             pre_dispatch='2*n_jobs', refit=True, return_train_score=False,\n",
       "             scoring='accuracy', verbose=0)"
      ]
     },
     "execution_count": 103,
     "metadata": {},
     "output_type": "execute_result"
    }
   ],
   "source": [
    "# Fit the gridsearch model\n",
    "grid_clf.fit(X_train_pca[:,:2], y_train)"
   ]
  },
  {
   "cell_type": "markdown",
   "metadata": {},
   "source": [
    "The fitted gridsearch estimator grid_clf has several attributes. For instance you can access the best estimator (best_estimator\\_) or best parameters (best_params_)."
   ]
  },
  {
   "cell_type": "code",
   "execution_count": 104,
   "metadata": {},
   "outputs": [
    {
     "data": {
      "text/plain": [
       "{'n_neighbors': 17}"
      ]
     },
     "execution_count": 104,
     "metadata": {},
     "output_type": "execute_result"
    }
   ],
   "source": [
    "# Access best params\n",
    "grid_clf.best_params_"
   ]
  },
  {
   "cell_type": "markdown",
   "metadata": {},
   "source": [
    "Furthermore, this estimator has the attribute cv\\_results\\_ which gives you a summary dictionary of the gridsearch. You can pass it directly to the pd.DataFrame() method in order to create a dataframe out of it. Please do so and sort the dataframe by rank_test_score in ascending oder.\n",
    "\n",
    "**Remark**: Ignore the warnings."
   ]
  },
  {
   "cell_type": "code",
   "execution_count": 105,
   "metadata": {},
   "outputs": [
    {
     "data": {
      "text/html": [
       "<div>\n",
       "<style scoped>\n",
       "    .dataframe tbody tr th:only-of-type {\n",
       "        vertical-align: middle;\n",
       "    }\n",
       "\n",
       "    .dataframe tbody tr th {\n",
       "        vertical-align: top;\n",
       "    }\n",
       "\n",
       "    .dataframe thead th {\n",
       "        text-align: right;\n",
       "    }\n",
       "</style>\n",
       "<table border=\"1\" class=\"dataframe\">\n",
       "  <thead>\n",
       "    <tr style=\"text-align: right;\">\n",
       "      <th></th>\n",
       "      <th>mean_fit_time</th>\n",
       "      <th>std_fit_time</th>\n",
       "      <th>mean_score_time</th>\n",
       "      <th>std_score_time</th>\n",
       "      <th>param_n_neighbors</th>\n",
       "      <th>params</th>\n",
       "      <th>split0_test_score</th>\n",
       "      <th>split1_test_score</th>\n",
       "      <th>split2_test_score</th>\n",
       "      <th>split3_test_score</th>\n",
       "      <th>split4_test_score</th>\n",
       "      <th>split5_test_score</th>\n",
       "      <th>split6_test_score</th>\n",
       "      <th>split7_test_score</th>\n",
       "      <th>split8_test_score</th>\n",
       "      <th>split9_test_score</th>\n",
       "      <th>mean_test_score</th>\n",
       "      <th>std_test_score</th>\n",
       "      <th>rank_test_score</th>\n",
       "    </tr>\n",
       "  </thead>\n",
       "  <tbody>\n",
       "    <tr>\n",
       "      <th>16</th>\n",
       "      <td>0.001047</td>\n",
       "      <td>0.000024</td>\n",
       "      <td>0.003899</td>\n",
       "      <td>0.000136</td>\n",
       "      <td>17</td>\n",
       "      <td>{'n_neighbors': 17}</td>\n",
       "      <td>0.833333</td>\n",
       "      <td>0.736111</td>\n",
       "      <td>0.816901</td>\n",
       "      <td>0.760563</td>\n",
       "      <td>0.774648</td>\n",
       "      <td>0.732394</td>\n",
       "      <td>0.816901</td>\n",
       "      <td>0.746479</td>\n",
       "      <td>0.845070</td>\n",
       "      <td>0.802817</td>\n",
       "      <td>0.786522</td>\n",
       "      <td>0.039522</td>\n",
       "      <td>1</td>\n",
       "    </tr>\n",
       "    <tr>\n",
       "      <th>15</th>\n",
       "      <td>0.001051</td>\n",
       "      <td>0.000019</td>\n",
       "      <td>0.003851</td>\n",
       "      <td>0.000167</td>\n",
       "      <td>16</td>\n",
       "      <td>{'n_neighbors': 16}</td>\n",
       "      <td>0.847222</td>\n",
       "      <td>0.750000</td>\n",
       "      <td>0.802817</td>\n",
       "      <td>0.760563</td>\n",
       "      <td>0.760563</td>\n",
       "      <td>0.732394</td>\n",
       "      <td>0.830986</td>\n",
       "      <td>0.746479</td>\n",
       "      <td>0.830986</td>\n",
       "      <td>0.802817</td>\n",
       "      <td>0.786483</td>\n",
       "      <td>0.039223</td>\n",
       "      <td>2</td>\n",
       "    </tr>\n",
       "    <tr>\n",
       "      <th>13</th>\n",
       "      <td>0.001011</td>\n",
       "      <td>0.000016</td>\n",
       "      <td>0.003825</td>\n",
       "      <td>0.000117</td>\n",
       "      <td>14</td>\n",
       "      <td>{'n_neighbors': 14}</td>\n",
       "      <td>0.847222</td>\n",
       "      <td>0.736111</td>\n",
       "      <td>0.802817</td>\n",
       "      <td>0.760563</td>\n",
       "      <td>0.774648</td>\n",
       "      <td>0.718310</td>\n",
       "      <td>0.816901</td>\n",
       "      <td>0.746479</td>\n",
       "      <td>0.845070</td>\n",
       "      <td>0.802817</td>\n",
       "      <td>0.785094</td>\n",
       "      <td>0.042613</td>\n",
       "      <td>3</td>\n",
       "    </tr>\n",
       "    <tr>\n",
       "      <th>18</th>\n",
       "      <td>0.001014</td>\n",
       "      <td>0.000011</td>\n",
       "      <td>0.003789</td>\n",
       "      <td>0.000071</td>\n",
       "      <td>19</td>\n",
       "      <td>{'n_neighbors': 19}</td>\n",
       "      <td>0.833333</td>\n",
       "      <td>0.763889</td>\n",
       "      <td>0.802817</td>\n",
       "      <td>0.760563</td>\n",
       "      <td>0.746479</td>\n",
       "      <td>0.746479</td>\n",
       "      <td>0.830986</td>\n",
       "      <td>0.746479</td>\n",
       "      <td>0.859155</td>\n",
       "      <td>0.760563</td>\n",
       "      <td>0.785074</td>\n",
       "      <td>0.040446</td>\n",
       "      <td>4</td>\n",
       "    </tr>\n",
       "    <tr>\n",
       "      <th>17</th>\n",
       "      <td>0.001030</td>\n",
       "      <td>0.000024</td>\n",
       "      <td>0.003875</td>\n",
       "      <td>0.000158</td>\n",
       "      <td>18</td>\n",
       "      <td>{'n_neighbors': 18}</td>\n",
       "      <td>0.833333</td>\n",
       "      <td>0.736111</td>\n",
       "      <td>0.802817</td>\n",
       "      <td>0.760563</td>\n",
       "      <td>0.760563</td>\n",
       "      <td>0.746479</td>\n",
       "      <td>0.830986</td>\n",
       "      <td>0.746479</td>\n",
       "      <td>0.830986</td>\n",
       "      <td>0.788732</td>\n",
       "      <td>0.783705</td>\n",
       "      <td>0.036650</td>\n",
       "      <td>5</td>\n",
       "    </tr>\n",
       "  </tbody>\n",
       "</table>\n",
       "</div>"
      ],
      "text/plain": [
       "    mean_fit_time  std_fit_time  mean_score_time  std_score_time  \\\n",
       "16       0.001047      0.000024         0.003899        0.000136   \n",
       "15       0.001051      0.000019         0.003851        0.000167   \n",
       "13       0.001011      0.000016         0.003825        0.000117   \n",
       "18       0.001014      0.000011         0.003789        0.000071   \n",
       "17       0.001030      0.000024         0.003875        0.000158   \n",
       "\n",
       "   param_n_neighbors               params  split0_test_score  \\\n",
       "16                17  {'n_neighbors': 17}           0.833333   \n",
       "15                16  {'n_neighbors': 16}           0.847222   \n",
       "13                14  {'n_neighbors': 14}           0.847222   \n",
       "18                19  {'n_neighbors': 19}           0.833333   \n",
       "17                18  {'n_neighbors': 18}           0.833333   \n",
       "\n",
       "    split1_test_score  split2_test_score  split3_test_score  \\\n",
       "16           0.736111           0.816901           0.760563   \n",
       "15           0.750000           0.802817           0.760563   \n",
       "13           0.736111           0.802817           0.760563   \n",
       "18           0.763889           0.802817           0.760563   \n",
       "17           0.736111           0.802817           0.760563   \n",
       "\n",
       "    split4_test_score  split5_test_score  split6_test_score  \\\n",
       "16           0.774648           0.732394           0.816901   \n",
       "15           0.760563           0.732394           0.830986   \n",
       "13           0.774648           0.718310           0.816901   \n",
       "18           0.746479           0.746479           0.830986   \n",
       "17           0.760563           0.746479           0.830986   \n",
       "\n",
       "    split7_test_score  split8_test_score  split9_test_score  mean_test_score  \\\n",
       "16           0.746479           0.845070           0.802817         0.786522   \n",
       "15           0.746479           0.830986           0.802817         0.786483   \n",
       "13           0.746479           0.845070           0.802817         0.785094   \n",
       "18           0.746479           0.859155           0.760563         0.785074   \n",
       "17           0.746479           0.830986           0.788732         0.783705   \n",
       "\n",
       "    std_test_score  rank_test_score  \n",
       "16        0.039522                1  \n",
       "15        0.039223                2  \n",
       "13        0.042613                3  \n",
       "18        0.040446                4  \n",
       "17        0.036650                5  "
      ]
     },
     "execution_count": 105,
     "metadata": {},
     "output_type": "execute_result"
    }
   ],
   "source": [
    "# Create cv results dataframe\n",
    "cv_results = pd.DataFrame(grid_clf.cv_results_).sort_values(by='rank_test_score', ascending=True)\n",
    "cv_results.head()"
   ]
  },
  {
   "cell_type": "code",
   "execution_count": 106,
   "metadata": {},
   "outputs": [
    {
     "data": {
      "text/plain": [
       "<matplotlib.axes._subplots.AxesSubplot at 0x7f41b0aa64e0>"
      ]
     },
     "execution_count": 106,
     "metadata": {},
     "output_type": "execute_result"
    },
    {
     "data": {
      "image/png": "[encoded data removed]",
      "text/plain": [
       "<Figure size 432x288 with 1 Axes>"
      ]
     },
     "metadata": {
      "needs_background": "light"
     },
     "output_type": "display_data"
    }
   ],
   "source": [
    "plot_decision_regions(X_test_pca[:,0:2], y_test.values, grid_clf.fit(X_train_pca[:,0:2], y_train))"
   ]
  }
 ],
 "metadata": {
  "kernelspec": {
   "display_name": "Python 3",
   "language": "python",
   "name": "python3"
  },
  "language_info": {
   "codemirror_mode": {
    "name": "ipython",
    "version": 3
   },
   "file_extension": ".py",
   "mimetype": "text/x-python",
   "name": "python",
   "nbconvert_exporter": "python",
   "pygments_lexer": "ipython3",
   "version": "3.7.3"
  }
 },
 "nbformat": 4,
 "nbformat_minor": 4
}
