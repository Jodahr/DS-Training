{
 "cells": [
  {
   "cell_type": "markdown",
   "metadata": {},
   "source": [
    "# Feature Engineering and Preparation for Titanic\n",
    "In one of the previous exercises we have explored the titanic dataset. Now, we want to extract new features from the dataset and make it ready for classification algorithms.\n",
    "\n",
    "As always, we start by importing the necessary libraries."
   ]
  },
  {
   "cell_type": "code",
   "execution_count": null,
   "metadata": {},
   "outputs": [],
   "source": [
    "import pandas as pd\n",
    "import numpy as np\n",
    "import seaborn as sns\n",
    "import matplotlib\n",
    "%matplotlib inline\n",
    "\n",
    "# change default figure and font size for plots\n",
    "matplotlib.rcParams['figure.figsize'] = (12.0, 9.0)\n",
    "matplotlib.rcParams.update({'font.size': 12})"
   ]
  },
  {
   "cell_type": "markdown",
   "metadata": {},
   "source": [
    "Please load the titanic data from the path **'data/titanic_new.csv'** as a pandas dataframe called **titanic** and use the head and the info method on the dataframe."
   ]
  },
  {
   "cell_type": "code",
   "execution_count": null,
   "metadata": {},
   "outputs": [],
   "source": [
    "# solution\n",
    "titanic = pd.read_csv('data/titanic_new.csv', sep=',')"
   ]
  },
  {
   "cell_type": "code",
   "execution_count": null,
   "metadata": {},
   "outputs": [],
   "source": [
    "# solution\n",
    "titanic.head()"
   ]
  },
  {
   "cell_type": "code",
   "execution_count": null,
   "metadata": {},
   "outputs": [],
   "source": [
    "# solution\n",
    "titanic.info()"
   ]
  },
  {
   "cell_type": "markdown",
   "metadata": {},
   "source": [
    "## Feature Engineering"
   ]
  },
  {
   "cell_type": "markdown",
   "metadata": {},
   "source": [
    "Before we start dropping columns, filling null values and encoding categorical variables we want to construct some new features.\n",
    "\n",
    "Please have a look at the **'name'** column. What kind of feature could we extract from that column?"
   ]
  },
  {
   "cell_type": "code",
   "execution_count": 5,
   "metadata": {},
   "outputs": [
    {
     "data": {
      "text/plain": [
       "'Leader, Dr. Alice (Farnham)'"
      ]
     },
     "execution_count": 5,
     "metadata": {},
     "output_type": "execute_result"
    }
   ],
   "source": [
    "# solution\n",
    "# idx 796 (Dr.)\n",
    "titanic['Name'].iloc[796]"
   ]
  },
  {
   "cell_type": "markdown",
   "metadata": {},
   "source": [
    "### Extract Title\n",
    "Maybe the title in front of the first name could be useful? Therefore, let's extract it by using a small python function and regex expression."
   ]
  },
  {
   "cell_type": "code",
   "execution_count": 6,
   "metadata": {},
   "outputs": [],
   "source": [
    "# just execute\n",
    "import re\n",
    "def getTitle(name):\n",
    "    'Extracts the word on front of a dot (.)'\n",
    "    title = re.search(r'(\\w+\\.)',name)\n",
    "    return title.group(1)"
   ]
  },
  {
   "cell_type": "markdown",
   "metadata": {},
   "source": [
    "Next, use the getTitle function in an apply method on the column 'Name' of the dataframe in order to get a new column containing all the titles. Name this new column 'Title'."
   ]
  },
  {
   "cell_type": "code",
   "execution_count": 7,
   "metadata": {},
   "outputs": [],
   "source": [
    "# solution\n",
    "titanic['Title'] = titanic['Name'].apply(lambda name: getTitle(name))"
   ]
  },
  {
   "cell_type": "markdown",
   "metadata": {},
   "source": [
    "Please extract all unique titles by using the unique() method on the column."
   ]
  },
  {
   "cell_type": "code",
   "execution_count": 8,
   "metadata": {},
   "outputs": [
    {
     "data": {
      "text/plain": [
       "array(['Mr.', 'Mrs.', 'Miss.', 'Master.', 'Don.', 'Rev.', 'Dr.', 'Mme.',\n",
       "       'Ms.', 'Major.', 'Lady.', 'Sir.', 'Mlle.', 'Col.', 'Capt.',\n",
       "       'Countess.', 'Jonkheer.'], dtype=object)"
      ]
     },
     "execution_count": 8,
     "metadata": {},
     "output_type": "execute_result"
    }
   ],
   "source": [
    "# solution\n",
    "titanic['Title'].unique()"
   ]
  },
  {
   "cell_type": "markdown",
   "metadata": {},
   "source": [
    "Some of the titles seem to be very uncommon, e.g. *Jonkheer*. If you are interested in what this title means you can have a look at the wikipedia page (https://en.wikipedia.org/wiki/Jonkheer). There is only one person in the dataset having this title, who is that?"
   ]
  },
  {
   "cell_type": "code",
   "execution_count": 9,
   "metadata": {},
   "outputs": [
    {
     "data": {
      "text/html": [
       "<div>\n",
       "<style scoped>\n",
       "    .dataframe tbody tr th:only-of-type {\n",
       "        vertical-align: middle;\n",
       "    }\n",
       "\n",
       "    .dataframe tbody tr th {\n",
       "        vertical-align: top;\n",
       "    }\n",
       "\n",
       "    .dataframe thead th {\n",
       "        text-align: right;\n",
       "    }\n",
       "</style>\n",
       "<table border=\"1\" class=\"dataframe\">\n",
       "  <thead>\n",
       "    <tr style=\"text-align: right;\">\n",
       "      <th></th>\n",
       "      <th>PassengerId</th>\n",
       "      <th>Survived</th>\n",
       "      <th>Pclass</th>\n",
       "      <th>Name</th>\n",
       "      <th>Sex</th>\n",
       "      <th>Age</th>\n",
       "      <th>SibSp</th>\n",
       "      <th>Parch</th>\n",
       "      <th>Ticket</th>\n",
       "      <th>Fare</th>\n",
       "      <th>Cabin</th>\n",
       "      <th>Embarked</th>\n",
       "      <th>Title</th>\n",
       "    </tr>\n",
       "  </thead>\n",
       "  <tbody>\n",
       "    <tr>\n",
       "      <th>822</th>\n",
       "      <td>823</td>\n",
       "      <td>0</td>\n",
       "      <td>1</td>\n",
       "      <td>Reuchlin, Jonkheer. John George</td>\n",
       "      <td>male</td>\n",
       "      <td>38.0</td>\n",
       "      <td>0</td>\n",
       "      <td>0</td>\n",
       "      <td>19972</td>\n",
       "      <td>0.0</td>\n",
       "      <td>NaN</td>\n",
       "      <td>S</td>\n",
       "      <td>Jonkheer.</td>\n",
       "    </tr>\n",
       "  </tbody>\n",
       "</table>\n",
       "</div>"
      ],
      "text/plain": [
       "     PassengerId  Survived  Pclass                             Name   Sex  \\\n",
       "822          823         0       1  Reuchlin, Jonkheer. John George  male   \n",
       "\n",
       "      Age  SibSp  Parch Ticket  Fare Cabin Embarked      Title  \n",
       "822  38.0      0      0  19972   0.0   NaN        S  Jonkheer.  "
      ]
     },
     "execution_count": 9,
     "metadata": {},
     "output_type": "execute_result"
    }
   ],
   "source": [
    "# solution\n",
    "titanic[titanic['Title'] == 'Jonkheer.']"
   ]
  },
  {
   "cell_type": "markdown",
   "metadata": {},
   "source": [
    "Next, check the cardinality of the different titles by using the method value_counts or visualize them by using the seaborn method sns.countplot(data, column)."
   ]
  },
  {
   "cell_type": "code",
   "execution_count": 10,
   "metadata": {},
   "outputs": [
    {
     "data": {
      "text/plain": [
       "Mr.          517\n",
       "Miss.        182\n",
       "Mrs.         125\n",
       "Master.       40\n",
       "Dr.            7\n",
       "Rev.           6\n",
       "Mlle.          2\n",
       "Col.           2\n",
       "Major.         2\n",
       "Capt.          1\n",
       "Lady.          1\n",
       "Ms.            1\n",
       "Sir.           1\n",
       "Countess.      1\n",
       "Don.           1\n",
       "Jonkheer.      1\n",
       "Mme.           1\n",
       "Name: Title, dtype: int64"
      ]
     },
     "execution_count": 10,
     "metadata": {},
     "output_type": "execute_result"
    }
   ],
   "source": [
    "# solution\n",
    "titanic['Title'].value_counts()"
   ]
  },
  {
   "cell_type": "code",
   "execution_count": 11,
   "metadata": {},
   "outputs": [
    {
     "data": {
      "text/plain": [
       "<matplotlib.axes._subplots.AxesSubplot at 0x7f2563cdea90>"
      ]
     },
     "execution_count": 11,
     "metadata": {},
     "output_type": "execute_result"
    },
    {
     "data": {
      "image/png": "[encoded data removed]",
      "text/plain": [
       "<matplotlib.figure.Figure at 0x7f2563d14c18>"
      ]
     },
     "metadata": {},
     "output_type": "display_data"
    }
   ],
   "source": [
    "# solution\n",
    "sns.countplot(data=titanic, y='Title')"
   ]
  },
  {
   "cell_type": "markdown",
   "metadata": {},
   "source": [
    "Some tiltes are underrepresented. Hence, we combine all uncommon titles to a new feature called 'rareTitle'.\n",
    "This can be easily done by using the map function and a python dictionary. In each Title field it replaces the key with the corresponding value. If the value in the column is not contained in the dictionary keys a null value will be inserted which we directly fill with tne value 'rareTitle'."
   ]
  },
  {
   "cell_type": "code",
   "execution_count": 12,
   "metadata": {},
   "outputs": [],
   "source": [
    "# just execute\n",
    "map_dict = {\n",
    "    'Ms.': 'Miss.',\n",
    "    'Mlle.': 'Miss.',\n",
    "    'Mr.' : 'Mr.',\n",
    "    'Mrs.': 'Mrs.',\n",
    "    'Miss.': 'Miss.'\n",
    "}\n",
    "\n",
    "titanic['Title'] = titanic['Title'].map(map_dict).fillna('rareTitle')"
   ]
  },
  {
   "cell_type": "markdown",
   "metadata": {},
   "source": [
    "Again, check the unique titles and the cardinality."
   ]
  },
  {
   "cell_type": "code",
   "execution_count": 13,
   "metadata": {},
   "outputs": [
    {
     "data": {
      "text/plain": [
       "array(['Mr.', 'Mrs.', 'Miss.', 'rareTitle'], dtype=object)"
      ]
     },
     "execution_count": 13,
     "metadata": {},
     "output_type": "execute_result"
    }
   ],
   "source": [
    "# solution\n",
    "titanic['Title'].unique()"
   ]
  },
  {
   "cell_type": "code",
   "execution_count": 14,
   "metadata": {},
   "outputs": [
    {
     "data": {
      "text/plain": [
       "<matplotlib.axes._subplots.AxesSubplot at 0x7f2563cdcb38>"
      ]
     },
     "execution_count": 14,
     "metadata": {},
     "output_type": "execute_result"
    },
    {
     "data": {
      "image/png": "[encoded data removed]",
      "text/plain": [
       "<matplotlib.figure.Figure at 0x7f2561c8a358>"
      ]
     },
     "metadata": {},
     "output_type": "display_data"
    }
   ],
   "source": [
    "# solution\n",
    "sns.countplot(data=titanic, y='Title')"
   ]
  },
  {
   "cell_type": "markdown",
   "metadata": {},
   "source": [
    "Before we combine the common titles like Miss and Mrs we can extract another feature: married and unmarried female. Similar as before, we use a map function to generate this new feature.\n",
    "\n",
    "Please add a new column called 'married' and apply a map function using the map_dict on the 'Title' column. Afterwards, fill the null values with the string 'unknown'."
   ]
  },
  {
   "cell_type": "code",
   "execution_count": 15,
   "metadata": {},
   "outputs": [],
   "source": [
    "# solution\n",
    "map_dict = {\n",
    "    'Miss.' : 'no',\n",
    "    'Mrs.': 'yes',\n",
    "}\n",
    "\n",
    "titanic['marital_status'] = titanic['Title'].map(map_dict).fillna('Unknown')"
   ]
  },
  {
   "cell_type": "code",
   "execution_count": 16,
   "metadata": {},
   "outputs": [
    {
     "data": {
      "text/plain": [
       "array(['Unknown', 'yes', 'no'], dtype=object)"
      ]
     },
     "execution_count": 16,
     "metadata": {},
     "output_type": "execute_result"
    }
   ],
   "source": [
    "titanic['marital_status'].unique()"
   ]
  },
  {
   "cell_type": "markdown",
   "metadata": {},
   "source": [
    "Finally, we combine the common titles in the 'Title' columns to the category 'noTitle'. Therefore, we use the numpy method np.where(). Check the docstring to see how it works."
   ]
  },
  {
   "cell_type": "code",
   "execution_count": 17,
   "metadata": {},
   "outputs": [
    {
     "data": {
      "text/plain": [
       "array(['noTitle', 'rareTitle'], dtype=object)"
      ]
     },
     "execution_count": 17,
     "metadata": {},
     "output_type": "execute_result"
    }
   ],
   "source": [
    "# solution\n",
    "# condition\n",
    "cond = (titanic['Title'] == 'rareTitle')\n",
    "\n",
    "# replace\n",
    "titanic['Title'] = np.where(cond, 'rareTitle', 'noTitle')\n",
    "titanic['Title'].unique()"
   ]
  },
  {
   "cell_type": "markdown",
   "metadata": {},
   "source": [
    "Create a countplot of the two new features by using the method sns.countplot(x='column', data='data)."
   ]
  },
  {
   "cell_type": "code",
   "execution_count": 18,
   "metadata": {},
   "outputs": [
    {
     "data": {
      "text/plain": [
       "<matplotlib.axes._subplots.AxesSubplot at 0x7f2561bcfda0>"
      ]
     },
     "execution_count": 18,
     "metadata": {},
     "output_type": "execute_result"
    },
    {
     "data": {
      "image/png": "[encoded data removed]",
      "text/plain": [
       "<matplotlib.figure.Figure at 0x7f259953bba8>"
      ]
     },
     "metadata": {},
     "output_type": "display_data"
    }
   ],
   "source": [
    "# solution\n",
    "sns.countplot(data=titanic, x='Title')"
   ]
  },
  {
   "cell_type": "code",
   "execution_count": 19,
   "metadata": {},
   "outputs": [
    {
     "data": {
      "text/plain": [
       "<matplotlib.axes._subplots.AxesSubplot at 0x7f2561b81160>"
      ]
     },
     "execution_count": 19,
     "metadata": {},
     "output_type": "execute_result"
    },
    {
     "data": {
      "image/png": "[encoded data removed]",
      "text/plain": [
       "<matplotlib.figure.Figure at 0x7f2561b5c5f8>"
      ]
     },
     "metadata": {},
     "output_type": "display_data"
    }
   ],
   "source": [
    "# solution\n",
    "sns.countplot(data=titanic, x='marital_status')"
   ]
  },
  {
   "cell_type": "markdown",
   "metadata": {},
   "source": [
    "# Deck\n",
    "We can extract another feature from the 'Cabin' column which by itself is not doing much. A lot of null values are contained in that column since only 1st class passengers have cabins. A cabin number looks like 'C123', where the first letter refers to the deck. We extract the deck in a similar fashion as the title."
   ]
  },
  {
   "cell_type": "code",
   "execution_count": 20,
   "metadata": {},
   "outputs": [],
   "source": [
    "# cabin list\n",
    "cabin_list = ['A', 'B', 'C', 'D', 'E', 'F', 'T', 'G', 'unknown']"
   ]
  },
  {
   "cell_type": "code",
   "execution_count": 21,
   "metadata": {},
   "outputs": [],
   "source": [
    "# extract function\n",
    "def charInString(charlist, text):\n",
    "    for element in charlist:\n",
    "        if element in text:\n",
    "            return element\n",
    "    return 'NaN'"
   ]
  },
  {
   "cell_type": "code",
   "execution_count": 23,
   "metadata": {},
   "outputs": [
    {
     "data": {
      "text/plain": [
       "'C'"
      ]
     },
     "execution_count": 23,
     "metadata": {},
     "output_type": "execute_result"
    }
   ],
   "source": [
    "# single check\n",
    "charInString(cabin_list, 'C123')"
   ]
  },
  {
   "cell_type": "code",
   "execution_count": 24,
   "metadata": {},
   "outputs": [],
   "source": [
    "# create feature column\n",
    "titanic['Deck'] = titanic['Cabin'].fillna('unknown')\\\n",
    "    .apply(lambda x: charInString(cabin_list, x))"
   ]
  },
  {
   "cell_type": "code",
   "execution_count": 25,
   "metadata": {},
   "outputs": [
    {
     "data": {
      "text/plain": [
       "array(['unknown', 'C', 'E', 'G', 'D', 'A', 'B', 'F', 'T'], dtype=object)"
      ]
     },
     "execution_count": 25,
     "metadata": {},
     "output_type": "execute_result"
    }
   ],
   "source": [
    "titanic['Deck'].unique()"
   ]
  },
  {
   "cell_type": "code",
   "execution_count": 26,
   "metadata": {},
   "outputs": [
    {
     "name": "stdout",
     "output_type": "stream",
     "text": [
      "<class 'pandas.core.frame.DataFrame'>\n",
      "RangeIndex: 891 entries, 0 to 890\n",
      "Data columns (total 15 columns):\n",
      "PassengerId       891 non-null int64\n",
      "Survived          891 non-null int64\n",
      "Pclass            891 non-null int64\n",
      "Name              891 non-null object\n",
      "Sex               891 non-null object\n",
      "Age               714 non-null float64\n",
      "SibSp             891 non-null int64\n",
      "Parch             891 non-null int64\n",
      "Ticket            891 non-null object\n",
      "Fare              891 non-null float64\n",
      "Cabin             204 non-null object\n",
      "Embarked          889 non-null object\n",
      "Title             891 non-null object\n",
      "marital_status    891 non-null object\n",
      "Deck              891 non-null object\n",
      "dtypes: float64(2), int64(5), object(8)\n",
      "memory usage: 104.5+ KB\n"
     ]
    }
   ],
   "source": [
    "titanic.info()"
   ]
  },
  {
   "cell_type": "markdown",
   "metadata": {},
   "source": [
    "## Family Size\n",
    "Finally, we add a new feature Family Size, which is just the sum of SibSp and Parch.\n",
    "\n",
    "Please create this new column."
   ]
  },
  {
   "cell_type": "code",
   "execution_count": 27,
   "metadata": {},
   "outputs": [],
   "source": [
    "#solution\n",
    "## Family size\n",
    "titanic['Familiy_Size'] = titanic['SibSp'] + titanic['Parch']"
   ]
  },
  {
   "cell_type": "code",
   "execution_count": 28,
   "metadata": {},
   "outputs": [
    {
     "name": "stdout",
     "output_type": "stream",
     "text": [
      "<class 'pandas.core.frame.DataFrame'>\n",
      "RangeIndex: 891 entries, 0 to 890\n",
      "Data columns (total 16 columns):\n",
      "PassengerId       891 non-null int64\n",
      "Survived          891 non-null int64\n",
      "Pclass            891 non-null int64\n",
      "Name              891 non-null object\n",
      "Sex               891 non-null object\n",
      "Age               714 non-null float64\n",
      "SibSp             891 non-null int64\n",
      "Parch             891 non-null int64\n",
      "Ticket            891 non-null object\n",
      "Fare              891 non-null float64\n",
      "Cabin             204 non-null object\n",
      "Embarked          889 non-null object\n",
      "Title             891 non-null object\n",
      "marital_status    891 non-null object\n",
      "Deck              891 non-null object\n",
      "Familiy_Size      891 non-null int64\n",
      "dtypes: float64(2), int64(6), object(8)\n",
      "memory usage: 111.5+ KB\n"
     ]
    }
   ],
   "source": [
    "# solution\n",
    "titanic.info()"
   ]
  },
  {
   "cell_type": "markdown",
   "metadata": {},
   "source": [
    "## Feature Preparation"
   ]
  },
  {
   "cell_type": "markdown",
   "metadata": {},
   "source": [
    "Finally, we can prepare our data so that we can feed it to a classification model in the next exercise. This part will be very similar to the feature preparation part of the house pricing dataset, i.e. splitting the data into a train and test dataset, filling null values and encoding the catogrical variables to numerical ones.\n",
    "\n",
    "First, drop the unnecessary columns 'Cabin', 'PassengerId' and 'Ticket'."
   ]
  },
  {
   "cell_type": "code",
   "execution_count": 29,
   "metadata": {},
   "outputs": [
    {
     "name": "stdout",
     "output_type": "stream",
     "text": [
      "<class 'pandas.core.frame.DataFrame'>\n",
      "RangeIndex: 891 entries, 0 to 890\n",
      "Data columns (total 10 columns):\n",
      "Survived          891 non-null int64\n",
      "Pclass            891 non-null int64\n",
      "Sex               891 non-null object\n",
      "Age               714 non-null float64\n",
      "Fare              891 non-null float64\n",
      "Embarked          889 non-null object\n",
      "Title             891 non-null object\n",
      "marital_status    891 non-null object\n",
      "Deck              891 non-null object\n",
      "Familiy_Size      891 non-null int64\n",
      "dtypes: float64(2), int64(3), object(5)\n",
      "memory usage: 69.7+ KB\n"
     ]
    }
   ],
   "source": [
    "# solution\n",
    "# cropCols\n",
    "cols = ['Cabin', 'PassengerId', 'Ticket', 'Name', 'SibSp', 'Parch',]\n",
    "\n",
    "titanic.drop(cols, axis=1, errors='ignore', inplace=True)\n",
    "\n",
    "titanic.info()"
   ]
  },
  {
   "cell_type": "code",
   "execution_count": 30,
   "metadata": {},
   "outputs": [
    {
     "data": {
      "text/html": [
       "<div>\n",
       "<style scoped>\n",
       "    .dataframe tbody tr th:only-of-type {\n",
       "        vertical-align: middle;\n",
       "    }\n",
       "\n",
       "    .dataframe tbody tr th {\n",
       "        vertical-align: top;\n",
       "    }\n",
       "\n",
       "    .dataframe thead th {\n",
       "        text-align: right;\n",
       "    }\n",
       "</style>\n",
       "<table border=\"1\" class=\"dataframe\">\n",
       "  <thead>\n",
       "    <tr style=\"text-align: right;\">\n",
       "      <th></th>\n",
       "      <th>Survived</th>\n",
       "      <th>Pclass</th>\n",
       "      <th>Age</th>\n",
       "      <th>Fare</th>\n",
       "      <th>Familiy_Size</th>\n",
       "      <th>Sex=male</th>\n",
       "      <th>Embarked=Q</th>\n",
       "      <th>Embarked=S</th>\n",
       "      <th>Title=rareTitle</th>\n",
       "      <th>marital_status=no</th>\n",
       "      <th>marital_status=yes</th>\n",
       "      <th>Deck=B</th>\n",
       "      <th>Deck=C</th>\n",
       "      <th>Deck=D</th>\n",
       "      <th>Deck=E</th>\n",
       "      <th>Deck=F</th>\n",
       "      <th>Deck=G</th>\n",
       "      <th>Deck=T</th>\n",
       "      <th>Deck=unknown</th>\n",
       "    </tr>\n",
       "  </thead>\n",
       "  <tbody>\n",
       "    <tr>\n",
       "      <th>0</th>\n",
       "      <td>0</td>\n",
       "      <td>3</td>\n",
       "      <td>22.0</td>\n",
       "      <td>7.2500</td>\n",
       "      <td>1</td>\n",
       "      <td>1</td>\n",
       "      <td>0</td>\n",
       "      <td>1</td>\n",
       "      <td>0</td>\n",
       "      <td>0</td>\n",
       "      <td>0</td>\n",
       "      <td>0</td>\n",
       "      <td>0</td>\n",
       "      <td>0</td>\n",
       "      <td>0</td>\n",
       "      <td>0</td>\n",
       "      <td>0</td>\n",
       "      <td>0</td>\n",
       "      <td>1</td>\n",
       "    </tr>\n",
       "    <tr>\n",
       "      <th>1</th>\n",
       "      <td>1</td>\n",
       "      <td>1</td>\n",
       "      <td>38.0</td>\n",
       "      <td>71.2833</td>\n",
       "      <td>1</td>\n",
       "      <td>0</td>\n",
       "      <td>0</td>\n",
       "      <td>0</td>\n",
       "      <td>0</td>\n",
       "      <td>0</td>\n",
       "      <td>1</td>\n",
       "      <td>0</td>\n",
       "      <td>1</td>\n",
       "      <td>0</td>\n",
       "      <td>0</td>\n",
       "      <td>0</td>\n",
       "      <td>0</td>\n",
       "      <td>0</td>\n",
       "      <td>0</td>\n",
       "    </tr>\n",
       "    <tr>\n",
       "      <th>2</th>\n",
       "      <td>1</td>\n",
       "      <td>3</td>\n",
       "      <td>26.0</td>\n",
       "      <td>7.9250</td>\n",
       "      <td>0</td>\n",
       "      <td>0</td>\n",
       "      <td>0</td>\n",
       "      <td>1</td>\n",
       "      <td>0</td>\n",
       "      <td>1</td>\n",
       "      <td>0</td>\n",
       "      <td>0</td>\n",
       "      <td>0</td>\n",
       "      <td>0</td>\n",
       "      <td>0</td>\n",
       "      <td>0</td>\n",
       "      <td>0</td>\n",
       "      <td>0</td>\n",
       "      <td>1</td>\n",
       "    </tr>\n",
       "    <tr>\n",
       "      <th>3</th>\n",
       "      <td>1</td>\n",
       "      <td>1</td>\n",
       "      <td>35.0</td>\n",
       "      <td>53.1000</td>\n",
       "      <td>1</td>\n",
       "      <td>0</td>\n",
       "      <td>0</td>\n",
       "      <td>1</td>\n",
       "      <td>0</td>\n",
       "      <td>0</td>\n",
       "      <td>1</td>\n",
       "      <td>0</td>\n",
       "      <td>1</td>\n",
       "      <td>0</td>\n",
       "      <td>0</td>\n",
       "      <td>0</td>\n",
       "      <td>0</td>\n",
       "      <td>0</td>\n",
       "      <td>0</td>\n",
       "    </tr>\n",
       "    <tr>\n",
       "      <th>4</th>\n",
       "      <td>0</td>\n",
       "      <td>3</td>\n",
       "      <td>35.0</td>\n",
       "      <td>8.0500</td>\n",
       "      <td>0</td>\n",
       "      <td>1</td>\n",
       "      <td>0</td>\n",
       "      <td>1</td>\n",
       "      <td>0</td>\n",
       "      <td>0</td>\n",
       "      <td>0</td>\n",
       "      <td>0</td>\n",
       "      <td>0</td>\n",
       "      <td>0</td>\n",
       "      <td>0</td>\n",
       "      <td>0</td>\n",
       "      <td>0</td>\n",
       "      <td>0</td>\n",
       "      <td>1</td>\n",
       "    </tr>\n",
       "  </tbody>\n",
       "</table>\n",
       "</div>"
      ],
      "text/plain": [
       "   Survived  Pclass   Age     Fare  Familiy_Size  Sex=male  Embarked=Q  \\\n",
       "0         0       3  22.0   7.2500             1         1           0   \n",
       "1         1       1  38.0  71.2833             1         0           0   \n",
       "2         1       3  26.0   7.9250             0         0           0   \n",
       "3         1       1  35.0  53.1000             1         0           0   \n",
       "4         0       3  35.0   8.0500             0         1           0   \n",
       "\n",
       "   Embarked=S  Title=rareTitle  marital_status=no  marital_status=yes  Deck=B  \\\n",
       "0           1                0                  0                   0       0   \n",
       "1           0                0                  0                   1       0   \n",
       "2           1                0                  1                   0       0   \n",
       "3           1                0                  0                   1       0   \n",
       "4           1                0                  0                   0       0   \n",
       "\n",
       "   Deck=C  Deck=D  Deck=E  Deck=F  Deck=G  Deck=T  Deck=unknown  \n",
       "0       0       0       0       0       0       0             1  \n",
       "1       1       0       0       0       0       0             0  \n",
       "2       0       0       0       0       0       0             1  \n",
       "3       1       0       0       0       0       0             0  \n",
       "4       0       0       0       0       0       0             1  "
      ]
     },
     "execution_count": 30,
     "metadata": {},
     "output_type": "execute_result"
    }
   ],
   "source": [
    "# what can happen if we dummy transform on test and train seperately?\n",
    "titanic_dum = pd.get_dummies(titanic, prefix_sep='=', drop_first=True)\n",
    "titanic_dum.head()"
   ]
  },
  {
   "cell_type": "markdown",
   "metadata": {},
   "source": [
    "The only remaining column containing null values is the 'Age' column. Instead of just filling the values by the median or mean we design our own imputation method. Maybe you remember, that the medians differed across the passenger classes. Hence, we fill each null value with the mean of the class group. In sklearn it is straight forward to construct custom preprocessing function. Therefore, we build a custom class:"
   ]
  },
  {
   "cell_type": "code",
   "execution_count": 31,
   "metadata": {},
   "outputs": [],
   "source": [
    "# just execute\n",
    "\n",
    "# maybe transform to cat beforehand\n",
    "\n",
    "from sklearn.base import TransformerMixin, BaseEstimator\n",
    "\n",
    "class AgeImputer(TransformerMixin, BaseEstimator):\n",
    "    '''Custom Imputator which computes the median of the age column grouped \n",
    "    by another feature and fills the null values accordingly'''\n",
    "    \n",
    "    def __init__(self, col, copy=True):\n",
    "        self.col = col # col to groupyBy\n",
    "        self.copy = copy # option\n",
    "        self.median = {} # medianDict\n",
    "        \n",
    "    def fit(self, X, y=None):\n",
    "        # fitting procedure fills the median dict\n",
    "        self.median = X[['Age', self.col]].groupby(self.col)\\\n",
    "            .median().to_dict()['Age']\n",
    "        return self\n",
    "    \n",
    "    def transform(self, X):\n",
    "        X_ = X if not self.copy else X.copy()\n",
    "        for key in self.median:\n",
    "            # filling NaN values using conditional Expressions\n",
    "            X_.loc[(  (X_['Age'].isnull()) &\n",
    "                    (X_['Pclass'] == key)),'Age'] = self.median[key]\n",
    "        return X_"
   ]
  },
  {
   "cell_type": "markdown",
   "metadata": {},
   "source": [
    "The class above contains a fit method. As we already know we are only allowed to use fit functions on the training set. Hence, we have to split our data into test and training datasets."
   ]
  },
  {
   "cell_type": "code",
   "execution_count": 32,
   "metadata": {},
   "outputs": [],
   "source": [
    "from sklearn.model_selection import train_test_split\n",
    "#from sklearn.externals import joblib\n",
    "#from sklearn.preprocessing import Imputer\n",
    "# fix random seed\n",
    "np.random.seed(42)"
   ]
  },
  {
   "cell_type": "code",
   "execution_count": 33,
   "metadata": {},
   "outputs": [],
   "source": [
    "#split dataframe in training and test dfs\n",
    "titanic_train, titanic_test = train_test_split(titanic_dum, test_size=0.2,\n",
    "                                               random_state=42)"
   ]
  },
  {
   "cell_type": "code",
   "execution_count": 34,
   "metadata": {},
   "outputs": [],
   "source": [
    "# solution\n",
    "ageImputer = AgeImputer(col='Pclass')"
   ]
  },
  {
   "cell_type": "code",
   "execution_count": 39,
   "metadata": {},
   "outputs": [
    {
     "data": {
      "text/plain": [
       "{'col': 'Pclass', 'copy': True}"
      ]
     },
     "execution_count": 39,
     "metadata": {},
     "output_type": "execute_result"
    }
   ],
   "source": [
    "ageImputer.get_params()"
   ]
  },
  {
   "cell_type": "code",
   "execution_count": 40,
   "metadata": {},
   "outputs": [
    {
     "data": {
      "text/plain": [
       "AgeImputer(col='Pclass', copy=True)"
      ]
     },
     "execution_count": 40,
     "metadata": {},
     "output_type": "execute_result"
    }
   ],
   "source": [
    "#ageImputer.median\n",
    "ageImputer.fit(titanic_train)"
   ]
  },
  {
   "cell_type": "code",
   "execution_count": 41,
   "metadata": {},
   "outputs": [
    {
     "data": {
      "text/plain": [
       "{1: 37.0, 2: 29.0, 3: 25.0}"
      ]
     },
     "execution_count": 41,
     "metadata": {},
     "output_type": "execute_result"
    }
   ],
   "source": [
    "ageImputer.median"
   ]
  },
  {
   "cell_type": "code",
   "execution_count": 42,
   "metadata": {},
   "outputs": [
    {
     "data": {
      "text/html": [
       "<div>\n",
       "<style scoped>\n",
       "    .dataframe tbody tr th:only-of-type {\n",
       "        vertical-align: middle;\n",
       "    }\n",
       "\n",
       "    .dataframe tbody tr th {\n",
       "        vertical-align: top;\n",
       "    }\n",
       "\n",
       "    .dataframe thead th {\n",
       "        text-align: right;\n",
       "    }\n",
       "</style>\n",
       "<table border=\"1\" class=\"dataframe\">\n",
       "  <thead>\n",
       "    <tr style=\"text-align: right;\">\n",
       "      <th></th>\n",
       "      <th>Survived</th>\n",
       "      <th>Pclass</th>\n",
       "      <th>Age</th>\n",
       "      <th>Fare</th>\n",
       "      <th>Familiy_Size</th>\n",
       "      <th>Sex=male</th>\n",
       "      <th>Embarked=Q</th>\n",
       "      <th>Embarked=S</th>\n",
       "      <th>Title=rareTitle</th>\n",
       "      <th>marital_status=no</th>\n",
       "      <th>marital_status=yes</th>\n",
       "      <th>Deck=B</th>\n",
       "      <th>Deck=C</th>\n",
       "      <th>Deck=D</th>\n",
       "      <th>Deck=E</th>\n",
       "      <th>Deck=F</th>\n",
       "      <th>Deck=G</th>\n",
       "      <th>Deck=T</th>\n",
       "      <th>Deck=unknown</th>\n",
       "    </tr>\n",
       "  </thead>\n",
       "  <tbody>\n",
       "    <tr>\n",
       "      <th>709</th>\n",
       "      <td>1</td>\n",
       "      <td>3</td>\n",
       "      <td>25.0</td>\n",
       "      <td>15.2458</td>\n",
       "      <td>2</td>\n",
       "      <td>1</td>\n",
       "      <td>0</td>\n",
       "      <td>0</td>\n",
       "      <td>1</td>\n",
       "      <td>0</td>\n",
       "      <td>0</td>\n",
       "      <td>0</td>\n",
       "      <td>0</td>\n",
       "      <td>0</td>\n",
       "      <td>0</td>\n",
       "      <td>0</td>\n",
       "      <td>0</td>\n",
       "      <td>0</td>\n",
       "      <td>1</td>\n",
       "    </tr>\n",
       "    <tr>\n",
       "      <th>439</th>\n",
       "      <td>0</td>\n",
       "      <td>2</td>\n",
       "      <td>31.0</td>\n",
       "      <td>10.5000</td>\n",
       "      <td>0</td>\n",
       "      <td>1</td>\n",
       "      <td>0</td>\n",
       "      <td>1</td>\n",
       "      <td>0</td>\n",
       "      <td>0</td>\n",
       "      <td>0</td>\n",
       "      <td>0</td>\n",
       "      <td>0</td>\n",
       "      <td>0</td>\n",
       "      <td>0</td>\n",
       "      <td>0</td>\n",
       "      <td>0</td>\n",
       "      <td>0</td>\n",
       "      <td>1</td>\n",
       "    </tr>\n",
       "    <tr>\n",
       "      <th>840</th>\n",
       "      <td>0</td>\n",
       "      <td>3</td>\n",
       "      <td>20.0</td>\n",
       "      <td>7.9250</td>\n",
       "      <td>0</td>\n",
       "      <td>1</td>\n",
       "      <td>0</td>\n",
       "      <td>1</td>\n",
       "      <td>0</td>\n",
       "      <td>0</td>\n",
       "      <td>0</td>\n",
       "      <td>0</td>\n",
       "      <td>0</td>\n",
       "      <td>0</td>\n",
       "      <td>0</td>\n",
       "      <td>0</td>\n",
       "      <td>0</td>\n",
       "      <td>0</td>\n",
       "      <td>1</td>\n",
       "    </tr>\n",
       "    <tr>\n",
       "      <th>720</th>\n",
       "      <td>1</td>\n",
       "      <td>2</td>\n",
       "      <td>6.0</td>\n",
       "      <td>33.0000</td>\n",
       "      <td>1</td>\n",
       "      <td>0</td>\n",
       "      <td>0</td>\n",
       "      <td>1</td>\n",
       "      <td>0</td>\n",
       "      <td>1</td>\n",
       "      <td>0</td>\n",
       "      <td>0</td>\n",
       "      <td>0</td>\n",
       "      <td>0</td>\n",
       "      <td>0</td>\n",
       "      <td>0</td>\n",
       "      <td>0</td>\n",
       "      <td>0</td>\n",
       "      <td>1</td>\n",
       "    </tr>\n",
       "    <tr>\n",
       "      <th>39</th>\n",
       "      <td>1</td>\n",
       "      <td>3</td>\n",
       "      <td>14.0</td>\n",
       "      <td>11.2417</td>\n",
       "      <td>1</td>\n",
       "      <td>0</td>\n",
       "      <td>0</td>\n",
       "      <td>0</td>\n",
       "      <td>0</td>\n",
       "      <td>1</td>\n",
       "      <td>0</td>\n",
       "      <td>0</td>\n",
       "      <td>0</td>\n",
       "      <td>0</td>\n",
       "      <td>0</td>\n",
       "      <td>0</td>\n",
       "      <td>0</td>\n",
       "      <td>0</td>\n",
       "      <td>1</td>\n",
       "    </tr>\n",
       "  </tbody>\n",
       "</table>\n",
       "</div>"
      ],
      "text/plain": [
       "     Survived  Pclass   Age     Fare  Familiy_Size  Sex=male  Embarked=Q  \\\n",
       "709         1       3  25.0  15.2458             2         1           0   \n",
       "439         0       2  31.0  10.5000             0         1           0   \n",
       "840         0       3  20.0   7.9250             0         1           0   \n",
       "720         1       2   6.0  33.0000             1         0           0   \n",
       "39          1       3  14.0  11.2417             1         0           0   \n",
       "\n",
       "     Embarked=S  Title=rareTitle  marital_status=no  marital_status=yes  \\\n",
       "709           0                1                  0                   0   \n",
       "439           1                0                  0                   0   \n",
       "840           1                0                  0                   0   \n",
       "720           1                0                  1                   0   \n",
       "39            0                0                  1                   0   \n",
       "\n",
       "     Deck=B  Deck=C  Deck=D  Deck=E  Deck=F  Deck=G  Deck=T  Deck=unknown  \n",
       "709       0       0       0       0       0       0       0             1  \n",
       "439       0       0       0       0       0       0       0             1  \n",
       "840       0       0       0       0       0       0       0             1  \n",
       "720       0       0       0       0       0       0       0             1  \n",
       "39        0       0       0       0       0       0       0             1  "
      ]
     },
     "execution_count": 42,
     "metadata": {},
     "output_type": "execute_result"
    }
   ],
   "source": [
    "# solution\n",
    "train_df = ageImputer.fit_transform(titanic_train)\n",
    "test_df = ageImputer.transform(titanic_test)\n",
    "test_df.head()"
   ]
  },
  {
   "cell_type": "code",
   "execution_count": 43,
   "metadata": {},
   "outputs": [],
   "source": [
    "# solution\n",
    "# save the two dataframes\n",
    "train_df.to_pickle('titanic_train.pkl')\n",
    "test_df.to_pickle('titanic_test.pkl')"
   ]
  },
  {
   "cell_type": "code",
   "execution_count": 44,
   "metadata": {},
   "outputs": [
    {
     "name": "stdout",
     "output_type": "stream",
     "text": [
      "<class 'pandas.core.frame.DataFrame'>\n",
      "Int64Index: 179 entries, 709 to 10\n",
      "Data columns (total 19 columns):\n",
      "Survived              179 non-null int64\n",
      "Pclass                179 non-null int64\n",
      "Age                   179 non-null float64\n",
      "Fare                  179 non-null float64\n",
      "Familiy_Size          179 non-null int64\n",
      "Sex=male              179 non-null uint8\n",
      "Embarked=Q            179 non-null uint8\n",
      "Embarked=S            179 non-null uint8\n",
      "Title=rareTitle       179 non-null uint8\n",
      "marital_status=no     179 non-null uint8\n",
      "marital_status=yes    179 non-null uint8\n",
      "Deck=B                179 non-null uint8\n",
      "Deck=C                179 non-null uint8\n",
      "Deck=D                179 non-null uint8\n",
      "Deck=E                179 non-null uint8\n",
      "Deck=F                179 non-null uint8\n",
      "Deck=G                179 non-null uint8\n",
      "Deck=T                179 non-null uint8\n",
      "Deck=unknown          179 non-null uint8\n",
      "dtypes: float64(2), int64(3), uint8(14)\n",
      "memory usage: 10.8 KB\n"
     ]
    }
   ],
   "source": [
    "test_df.info()"
   ]
  },
  {
   "cell_type": "code",
   "execution_count": null,
   "metadata": {},
   "outputs": [],
   "source": []
  }
 ],
 "metadata": {
  "kernelspec": {
   "display_name": "Python 3",
   "language": "python",
   "name": "python3"
  },
  "language_info": {
   "codemirror_mode": {
    "name": "ipython",
    "version": 3
   },
   "file_extension": ".py",
   "mimetype": "text/x-python",
   "name": "python",
   "nbconvert_exporter": "python",
   "pygments_lexer": "ipython3",
   "version": "3.6.4"
  }
 },
 "nbformat": 4,
 "nbformat_minor": 2
}
