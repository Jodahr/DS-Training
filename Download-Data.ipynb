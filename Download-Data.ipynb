{
 "cells": [
  {
   "cell_type": "markdown",
   "metadata": {},
   "source": [
    "Since you cannot easily download files larger than 40MB from google drive with wget we use a small python script."
   ]
  },
  {
   "cell_type": "code",
   "execution_count": 1,
   "metadata": {},
   "outputs": [],
   "source": [
    "import requests\n",
    "\n",
    "def download_file_from_google_drive(id, destination):\n",
    "    def get_confirm_token(response):\n",
    "        for key, value in response.cookies.items():\n",
    "            if key.startswith('download_warning'):\n",
    "                return value\n",
    "\n",
    "        return None\n",
    "\n",
    "    def save_response_content(response, destination):\n",
    "        CHUNK_SIZE = 32768\n",
    "\n",
    "        with open(destination, \"wb\") as f:\n",
    "            for chunk in response.iter_content(CHUNK_SIZE):\n",
    "                if chunk: # filter out keep-alive new chunks\n",
    "                    f.write(chunk)\n",
    "\n",
    "    URL = \"https://docs.google.com/uc?export=download\"\n",
    "\n",
    "    session = requests.Session()\n",
    "\n",
    "    response = session.get(URL, params = { 'id' : id }, stream = True)\n",
    "    token = get_confirm_token(response)\n",
    "\n",
    "    if token:\n",
    "        params = { 'id' : id, 'confirm' : token }\n",
    "        response = session.get(URL, params = params, stream = True)\n",
    "\n",
    "    save_response_content(response, destination)    "
   ]
  },
  {
   "cell_type": "code",
   "execution_count": 2,
   "metadata": {},
   "outputs": [],
   "source": [
    "destination = 'data.tar.gz'\n",
    "file_id = '1dBu7N_kQ23nd83yCYQkgvw0pOBXreMnN'\n",
    "download_file_from_google_drive(file_id, destination)"
   ]
  },
  {
   "cell_type": "code",
   "execution_count": 3,
   "metadata": {},
   "outputs": [
    {
     "name": "stdout",
     "output_type": "stream",
     "text": [
      "data/titanic.csv\n",
      "data/user.json\n",
      "data/houses.csv\n",
      "data/bills_exploded.parquet/.part-00003-ceb74ad2-c8f7-48ed-8c16-5c1f6ee8f063-c000.snappy.parquet.crc\n",
      "data/bills_exploded.parquet/._SUCCESS.crc\n",
      "data/bills_exploded.parquet/part-00000-ceb74ad2-c8f7-48ed-8c16-5c1f6ee8f063-c000.snappy.parquet\n",
      "data/bills_exploded.parquet/.part-00001-ceb74ad2-c8f7-48ed-8c16-5c1f6ee8f063-c000.snappy.parquet.crc\n",
      "data/bills_exploded.parquet/part-00005-ceb74ad2-c8f7-48ed-8c16-5c1f6ee8f063-c000.snappy.parquet\n",
      "data/bills_exploded.parquet/.part-00002-ceb74ad2-c8f7-48ed-8c16-5c1f6ee8f063-c000.snappy.parquet.crc\n",
      "data/bills_exploded.parquet/part-00012-ceb74ad2-c8f7-48ed-8c16-5c1f6ee8f063-c000.snappy.parquet\n",
      "data/bills_exploded.parquet/part-00001-ceb74ad2-c8f7-48ed-8c16-5c1f6ee8f063-c000.snappy.parquet\n",
      "data/bills_exploded.parquet/part-00006-ceb74ad2-c8f7-48ed-8c16-5c1f6ee8f063-c000.snappy.parquet\n",
      "data/bills_exploded.parquet/\n",
      "data/bills-1000000.json\n",
      "data/ml-latest-small/ratings.csv\n",
      "data/houses_train.pkl\n",
      "data/ml-latest-small/tags.csv\n",
      "data/ml-latest-small/README.txt\n",
      "data/planets.csv\n",
      "data/titanic_new.csv\n",
      "data/bills_exploded.parquet/.part-00000-ceb74ad2-c8f7-48ed-8c16-5c1f6ee8f063-c000.snappy.parquet.crc\n",
      "data/bills_exploded.parquet/.part-00009-ceb74ad2-c8f7-48ed-8c16-5c1f6ee8f063-c000.snappy.parquet.crc\n",
      "data/titanic_train.pkl\n",
      "data/houses_test.pkl\n",
      "data/\n",
      "data/bills_exploded.parquet/part-00002-ceb74ad2-c8f7-48ed-8c16-5c1f6ee8f063-c000.snappy.parquet\n",
      "data/bills_exploded.parquet/part-00007-ceb74ad2-c8f7-48ed-8c16-5c1f6ee8f063-c000.snappy.parquet\n",
      "data/ml-latest-small/\n",
      "data/ml-latest-small/links.csv\n",
      "data/bills_exploded.parquet/.part-00008-ceb74ad2-c8f7-48ed-8c16-5c1f6ee8f063-c000.snappy.parquet.crc\n",
      "data/bills_exploded.parquet/part-00011-ceb74ad2-c8f7-48ed-8c16-5c1f6ee8f063-c000.snappy.parquet\n",
      "data/bills_exploded.parquet/.part-00012-ceb74ad2-c8f7-48ed-8c16-5c1f6ee8f063-c000.snappy.parquet.crc\n",
      "data/bills_exploded.parquet/.part-00007-ceb74ad2-c8f7-48ed-8c16-5c1f6ee8f063-c000.snappy.parquet.crc\n",
      "data/bills_exploded.parquet/part-00008-ceb74ad2-c8f7-48ed-8c16-5c1f6ee8f063-c000.snappy.parquet\n",
      "data/bills_exploded.parquet/.part-00006-ceb74ad2-c8f7-48ed-8c16-5c1f6ee8f063-c000.snappy.parquet.crc\n",
      "data/bills_exploded.parquet/.part-00011-ceb74ad2-c8f7-48ed-8c16-5c1f6ee8f063-c000.snappy.parquet.crc\n",
      "data/bills_exploded.parquet/part-00003-ceb74ad2-c8f7-48ed-8c16-5c1f6ee8f063-c000.snappy.parquet\n",
      "data/bills_exploded.parquet/part-00010-ceb74ad2-c8f7-48ed-8c16-5c1f6ee8f063-c000.snappy.parquet\n",
      "data/bills_exploded.parquet/.part-00005-ceb74ad2-c8f7-48ed-8c16-5c1f6ee8f063-c000.snappy.parquet.crc\n",
      "data/tips.csv\n",
      "data/Salaries.csv\n",
      "data/bills_exploded.parquet/.part-00010-ceb74ad2-c8f7-48ed-8c16-5c1f6ee8f063-c000.snappy.parquet.crc\n",
      "data/ml-latest-small/movies.csv\n",
      "data/bills_exploded.parquet/part-00004-ceb74ad2-c8f7-48ed-8c16-5c1f6ee8f063-c000.snappy.parquet\n",
      "data/bills_exploded.parquet/part-00009-ceb74ad2-c8f7-48ed-8c16-5c1f6ee8f063-c000.snappy.parquet\n",
      "data/titanic_test.pkl\n",
      "data/bills_exploded.parquet/.part-00004-ceb74ad2-c8f7-48ed-8c16-5c1f6ee8f063-c000.snappy.parquet.crc\n"
     ]
    }
   ],
   "source": [
    "%%bash\n",
    "tar -xvf data.tar.gz"
   ]
  },
  {
   "cell_type": "code",
   "execution_count": null,
   "metadata": {},
   "outputs": [],
   "source": []
  }
 ],
 "metadata": {
  "kernelspec": {
   "display_name": "Python 3",
   "language": "python",
   "name": "python3"
  },
  "language_info": {
   "codemirror_mode": {
    "name": "ipython",
    "version": 3
   },
   "file_extension": ".py",
   "mimetype": "text/x-python",
   "name": "python",
   "nbconvert_exporter": "python",
   "pygments_lexer": "ipython3",
   "version": "3.7.0"
  }
 },
 "nbformat": 4,
 "nbformat_minor": 2
}
