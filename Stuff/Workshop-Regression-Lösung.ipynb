{
 "cells": [
  {
   "cell_type": "markdown",
   "metadata": {},
   "source": [
    "# Vorhersage von Hauspreisen mit Regressionsmethoden\n",
    "\n",
    "In dieser Übung werden Sie den bekannten *Ames Housing Datensatz* von Dean De Cock analysieren. Dieser enthält 79 erklärende Variablen, um den Preis eines Hauses vorherzusagen. Dieser Datensatz ist quasi der komplexere *Bruder* des Boston House Pricing Datasets. Für weitere Informationen können Sie sich das PDF unter diesem Link http://ww2.amstat.org/publications/jse/v19n3/decock.pdf anschauen.\n",
    "\n",
    "### Was werden wir in dieser Übung tun?\n",
    "- Die Daten explorativ erkunden\n",
    "- Features aufbereiten (Feature preparation), um diese an Machine Learning Modellen zu übergeben\n",
    "- Ergebnisse evaluieren\n",
    "- Ranking der erklärenden Variablen erstellen\n",
    "\n",
    "**Anmerkung**: In dieser Übung werden Sie Code ergänzen müssen oder teilweise selber schreiben. Lesen Sie daher die Anweisungen genau, da sich dort meistens Hinweise für die Lösungen befinden."
   ]
  },
  {
   "cell_type": "markdown",
   "metadata": {},
   "source": [
    "## 1. Laden der benötigten Paketen und des Datensatzes\n",
    "Laden Sie bitte die Pakete **pandas** als **pd** und **seaborn** als **sns** mit dem **import** Befehl. Fügen Sie außerdem die Zeile **%matplotlib inline** hinzu, damit Plots direkt in Seaborn ohne den Befehl *plt.show()* angezeigt werden.\n",
    "Anschließend lesen Sie bitte die CSV File **'data/houses.csv'** als DataFrame ein und weisen diesem den Namen **houses** zu.\n",
    "\n",
    "**Tipp**: Denken Sie daran, dass ihnen die Taste *Tab* viel Schreibarbeit und Recherchearbeit spart. Außerdem können Sie sich mit *Shift + Tab* innerhalb der Klammern einer Methode oder Funktion die Beschreibung und Argumente anschauen."
   ]
  },
  {
   "cell_type": "code",
   "execution_count": null,
   "metadata": {
    "collapsed": true
   },
   "outputs": [],
   "source": [
    "# Laden der Pakete und matplotlib Einstellung\n",
    "import <FILL-IN> as pd\n",
    "import <Fill-IN>\n",
    "%mat<Fill-IN>"
   ]
  },
  {
   "cell_type": "code",
   "execution_count": 1,
   "metadata": {
    "collapsed": true
   },
   "outputs": [],
   "source": []
  },
  {
   "cell_type": "code",
   "execution_count": 1,
   "metadata": {
    "collapsed": true
   },
   "outputs": [],
   "source": [
    "# Laden der Pakete und matplotlib Einstellung\n",
    "\n",
    "#Lösung:\n",
    "import pandas as pd\n",
    "import seaborn as sns\n",
    "%matplotlib inline"
   ]
  },
  {
   "cell_type": "code",
   "execution_count": null,
   "metadata": {
    "collapsed": true
   },
   "outputs": [],
   "source": [
    "# Laden des Datensatzes\n",
    "<FILL-IN> = <FILL-IN>('houses.csv')"
   ]
  },
  {
   "cell_type": "code",
   "execution_count": 2,
   "metadata": {
    "collapsed": true
   },
   "outputs": [],
   "source": [
    "# Laden des Datensatzes\n",
    "\n",
    "#Lösung\n",
    "houses = pd.read_csv('houses.csv')"
   ]
  },
  {
   "cell_type": "markdown",
   "metadata": {},
   "source": [
    "Nutzen Sie bitte die **.head()**, **.info()** und **.describe()** Methoden, um sich einen ersten Überblick über den Datensatz zu verschaffen."
   ]
  },
  {
   "cell_type": "code",
   "execution_count": 3,
   "metadata": {},
   "outputs": [
    {
     "data": {
      "text/html": [
       "<div>\n",
       "<style>\n",
       "    .dataframe thead tr:only-child th {\n",
       "        text-align: right;\n",
       "    }\n",
       "\n",
       "    .dataframe thead th {\n",
       "        text-align: left;\n",
       "    }\n",
       "\n",
       "    .dataframe tbody tr th {\n",
       "        vertical-align: top;\n",
       "    }\n",
       "</style>\n",
       "<table border=\"1\" class=\"dataframe\">\n",
       "  <thead>\n",
       "    <tr style=\"text-align: right;\">\n",
       "      <th></th>\n",
       "      <th>Id</th>\n",
       "      <th>MSSubClass</th>\n",
       "      <th>MSZoning</th>\n",
       "      <th>LotFrontage</th>\n",
       "      <th>LotArea</th>\n",
       "      <th>Street</th>\n",
       "      <th>Alley</th>\n",
       "      <th>LotShape</th>\n",
       "      <th>LandContour</th>\n",
       "      <th>Utilities</th>\n",
       "      <th>...</th>\n",
       "      <th>PoolArea</th>\n",
       "      <th>PoolQC</th>\n",
       "      <th>Fence</th>\n",
       "      <th>MiscFeature</th>\n",
       "      <th>MiscVal</th>\n",
       "      <th>MoSold</th>\n",
       "      <th>YrSold</th>\n",
       "      <th>SaleType</th>\n",
       "      <th>SaleCondition</th>\n",
       "      <th>SalePrice</th>\n",
       "    </tr>\n",
       "  </thead>\n",
       "  <tbody>\n",
       "    <tr>\n",
       "      <th>0</th>\n",
       "      <td>1</td>\n",
       "      <td>60</td>\n",
       "      <td>RL</td>\n",
       "      <td>65.0</td>\n",
       "      <td>8450</td>\n",
       "      <td>Pave</td>\n",
       "      <td>NaN</td>\n",
       "      <td>Reg</td>\n",
       "      <td>Lvl</td>\n",
       "      <td>AllPub</td>\n",
       "      <td>...</td>\n",
       "      <td>0</td>\n",
       "      <td>NaN</td>\n",
       "      <td>NaN</td>\n",
       "      <td>NaN</td>\n",
       "      <td>0</td>\n",
       "      <td>2</td>\n",
       "      <td>2008</td>\n",
       "      <td>WD</td>\n",
       "      <td>Normal</td>\n",
       "      <td>208500</td>\n",
       "    </tr>\n",
       "    <tr>\n",
       "      <th>1</th>\n",
       "      <td>2</td>\n",
       "      <td>20</td>\n",
       "      <td>RL</td>\n",
       "      <td>80.0</td>\n",
       "      <td>9600</td>\n",
       "      <td>Pave</td>\n",
       "      <td>NaN</td>\n",
       "      <td>Reg</td>\n",
       "      <td>Lvl</td>\n",
       "      <td>AllPub</td>\n",
       "      <td>...</td>\n",
       "      <td>0</td>\n",
       "      <td>NaN</td>\n",
       "      <td>NaN</td>\n",
       "      <td>NaN</td>\n",
       "      <td>0</td>\n",
       "      <td>5</td>\n",
       "      <td>2007</td>\n",
       "      <td>WD</td>\n",
       "      <td>Normal</td>\n",
       "      <td>181500</td>\n",
       "    </tr>\n",
       "    <tr>\n",
       "      <th>2</th>\n",
       "      <td>3</td>\n",
       "      <td>60</td>\n",
       "      <td>RL</td>\n",
       "      <td>68.0</td>\n",
       "      <td>11250</td>\n",
       "      <td>Pave</td>\n",
       "      <td>NaN</td>\n",
       "      <td>IR1</td>\n",
       "      <td>Lvl</td>\n",
       "      <td>AllPub</td>\n",
       "      <td>...</td>\n",
       "      <td>0</td>\n",
       "      <td>NaN</td>\n",
       "      <td>NaN</td>\n",
       "      <td>NaN</td>\n",
       "      <td>0</td>\n",
       "      <td>9</td>\n",
       "      <td>2008</td>\n",
       "      <td>WD</td>\n",
       "      <td>Normal</td>\n",
       "      <td>223500</td>\n",
       "    </tr>\n",
       "    <tr>\n",
       "      <th>3</th>\n",
       "      <td>4</td>\n",
       "      <td>70</td>\n",
       "      <td>RL</td>\n",
       "      <td>60.0</td>\n",
       "      <td>9550</td>\n",
       "      <td>Pave</td>\n",
       "      <td>NaN</td>\n",
       "      <td>IR1</td>\n",
       "      <td>Lvl</td>\n",
       "      <td>AllPub</td>\n",
       "      <td>...</td>\n",
       "      <td>0</td>\n",
       "      <td>NaN</td>\n",
       "      <td>NaN</td>\n",
       "      <td>NaN</td>\n",
       "      <td>0</td>\n",
       "      <td>2</td>\n",
       "      <td>2006</td>\n",
       "      <td>WD</td>\n",
       "      <td>Abnorml</td>\n",
       "      <td>140000</td>\n",
       "    </tr>\n",
       "    <tr>\n",
       "      <th>4</th>\n",
       "      <td>5</td>\n",
       "      <td>60</td>\n",
       "      <td>RL</td>\n",
       "      <td>84.0</td>\n",
       "      <td>14260</td>\n",
       "      <td>Pave</td>\n",
       "      <td>NaN</td>\n",
       "      <td>IR1</td>\n",
       "      <td>Lvl</td>\n",
       "      <td>AllPub</td>\n",
       "      <td>...</td>\n",
       "      <td>0</td>\n",
       "      <td>NaN</td>\n",
       "      <td>NaN</td>\n",
       "      <td>NaN</td>\n",
       "      <td>0</td>\n",
       "      <td>12</td>\n",
       "      <td>2008</td>\n",
       "      <td>WD</td>\n",
       "      <td>Normal</td>\n",
       "      <td>250000</td>\n",
       "    </tr>\n",
       "  </tbody>\n",
       "</table>\n",
       "<p>5 rows × 81 columns</p>\n",
       "</div>"
      ],
      "text/plain": [
       "   Id  MSSubClass MSZoning  LotFrontage  LotArea Street Alley LotShape  \\\n",
       "0   1          60       RL         65.0     8450   Pave   NaN      Reg   \n",
       "1   2          20       RL         80.0     9600   Pave   NaN      Reg   \n",
       "2   3          60       RL         68.0    11250   Pave   NaN      IR1   \n",
       "3   4          70       RL         60.0     9550   Pave   NaN      IR1   \n",
       "4   5          60       RL         84.0    14260   Pave   NaN      IR1   \n",
       "\n",
       "  LandContour Utilities    ...     PoolArea PoolQC Fence MiscFeature MiscVal  \\\n",
       "0         Lvl    AllPub    ...            0    NaN   NaN         NaN       0   \n",
       "1         Lvl    AllPub    ...            0    NaN   NaN         NaN       0   \n",
       "2         Lvl    AllPub    ...            0    NaN   NaN         NaN       0   \n",
       "3         Lvl    AllPub    ...            0    NaN   NaN         NaN       0   \n",
       "4         Lvl    AllPub    ...            0    NaN   NaN         NaN       0   \n",
       "\n",
       "  MoSold YrSold  SaleType  SaleCondition  SalePrice  \n",
       "0      2   2008        WD         Normal     208500  \n",
       "1      5   2007        WD         Normal     181500  \n",
       "2      9   2008        WD         Normal     223500  \n",
       "3      2   2006        WD        Abnorml     140000  \n",
       "4     12   2008        WD         Normal     250000  \n",
       "\n",
       "[5 rows x 81 columns]"
      ]
     },
     "execution_count": 3,
     "metadata": {},
     "output_type": "execute_result"
    }
   ],
   "source": [
    "# head\n",
    "houses.head()"
   ]
  },
  {
   "cell_type": "code",
   "execution_count": 4,
   "metadata": {
    "scrolled": true
   },
   "outputs": [
    {
     "name": "stdout",
     "output_type": "stream",
     "text": [
      "<class 'pandas.core.frame.DataFrame'>\n",
      "RangeIndex: 1460 entries, 0 to 1459\n",
      "Data columns (total 81 columns):\n",
      "Id               1460 non-null int64\n",
      "MSSubClass       1460 non-null int64\n",
      "MSZoning         1460 non-null object\n",
      "LotFrontage      1201 non-null float64\n",
      "LotArea          1460 non-null int64\n",
      "Street           1460 non-null object\n",
      "Alley            91 non-null object\n",
      "LotShape         1460 non-null object\n",
      "LandContour      1460 non-null object\n",
      "Utilities        1460 non-null object\n",
      "LotConfig        1460 non-null object\n",
      "LandSlope        1460 non-null object\n",
      "Neighborhood     1460 non-null object\n",
      "Condition1       1460 non-null object\n",
      "Condition2       1460 non-null object\n",
      "BldgType         1460 non-null object\n",
      "HouseStyle       1460 non-null object\n",
      "OverallQual      1460 non-null int64\n",
      "OverallCond      1460 non-null int64\n",
      "YearBuilt        1460 non-null int64\n",
      "YearRemodAdd     1460 non-null int64\n",
      "RoofStyle        1460 non-null object\n",
      "RoofMatl         1460 non-null object\n",
      "Exterior1st      1460 non-null object\n",
      "Exterior2nd      1460 non-null object\n",
      "MasVnrType       1452 non-null object\n",
      "MasVnrArea       1452 non-null float64\n",
      "ExterQual        1460 non-null object\n",
      "ExterCond        1460 non-null object\n",
      "Foundation       1460 non-null object\n",
      "BsmtQual         1423 non-null object\n",
      "BsmtCond         1423 non-null object\n",
      "BsmtExposure     1422 non-null object\n",
      "BsmtFinType1     1423 non-null object\n",
      "BsmtFinSF1       1460 non-null int64\n",
      "BsmtFinType2     1422 non-null object\n",
      "BsmtFinSF2       1460 non-null int64\n",
      "BsmtUnfSF        1460 non-null int64\n",
      "TotalBsmtSF      1460 non-null int64\n",
      "Heating          1460 non-null object\n",
      "HeatingQC        1460 non-null object\n",
      "CentralAir       1460 non-null object\n",
      "Electrical       1459 non-null object\n",
      "1stFlrSF         1460 non-null int64\n",
      "2ndFlrSF         1460 non-null int64\n",
      "LowQualFinSF     1460 non-null int64\n",
      "GrLivArea        1460 non-null int64\n",
      "BsmtFullBath     1460 non-null int64\n",
      "BsmtHalfBath     1460 non-null int64\n",
      "FullBath         1460 non-null int64\n",
      "HalfBath         1460 non-null int64\n",
      "BedroomAbvGr     1460 non-null int64\n",
      "KitchenAbvGr     1460 non-null int64\n",
      "KitchenQual      1460 non-null object\n",
      "TotRmsAbvGrd     1460 non-null int64\n",
      "Functional       1460 non-null object\n",
      "Fireplaces       1460 non-null int64\n",
      "FireplaceQu      770 non-null object\n",
      "GarageType       1379 non-null object\n",
      "GarageYrBlt      1379 non-null float64\n",
      "GarageFinish     1379 non-null object\n",
      "GarageCars       1460 non-null int64\n",
      "GarageArea       1460 non-null int64\n",
      "GarageQual       1379 non-null object\n",
      "GarageCond       1379 non-null object\n",
      "PavedDrive       1460 non-null object\n",
      "WoodDeckSF       1460 non-null int64\n",
      "OpenPorchSF      1460 non-null int64\n",
      "EnclosedPorch    1460 non-null int64\n",
      "3SsnPorch        1460 non-null int64\n",
      "ScreenPorch      1460 non-null int64\n",
      "PoolArea         1460 non-null int64\n",
      "PoolQC           7 non-null object\n",
      "Fence            281 non-null object\n",
      "MiscFeature      54 non-null object\n",
      "MiscVal          1460 non-null int64\n",
      "MoSold           1460 non-null int64\n",
      "YrSold           1460 non-null int64\n",
      "SaleType         1460 non-null object\n",
      "SaleCondition    1460 non-null object\n",
      "SalePrice        1460 non-null int64\n",
      "dtypes: float64(3), int64(35), object(43)\n",
      "memory usage: 924.0+ KB\n"
     ]
    }
   ],
   "source": [
    "# info\n",
    "houses.info()"
   ]
  },
  {
   "cell_type": "code",
   "execution_count": 5,
   "metadata": {},
   "outputs": [
    {
     "data": {
      "text/html": [
       "<div>\n",
       "<style>\n",
       "    .dataframe thead tr:only-child th {\n",
       "        text-align: right;\n",
       "    }\n",
       "\n",
       "    .dataframe thead th {\n",
       "        text-align: left;\n",
       "    }\n",
       "\n",
       "    .dataframe tbody tr th {\n",
       "        vertical-align: top;\n",
       "    }\n",
       "</style>\n",
       "<table border=\"1\" class=\"dataframe\">\n",
       "  <thead>\n",
       "    <tr style=\"text-align: right;\">\n",
       "      <th></th>\n",
       "      <th>Id</th>\n",
       "      <th>MSSubClass</th>\n",
       "      <th>LotFrontage</th>\n",
       "      <th>LotArea</th>\n",
       "      <th>OverallQual</th>\n",
       "      <th>OverallCond</th>\n",
       "      <th>YearBuilt</th>\n",
       "      <th>YearRemodAdd</th>\n",
       "      <th>MasVnrArea</th>\n",
       "      <th>BsmtFinSF1</th>\n",
       "      <th>...</th>\n",
       "      <th>WoodDeckSF</th>\n",
       "      <th>OpenPorchSF</th>\n",
       "      <th>EnclosedPorch</th>\n",
       "      <th>3SsnPorch</th>\n",
       "      <th>ScreenPorch</th>\n",
       "      <th>PoolArea</th>\n",
       "      <th>MiscVal</th>\n",
       "      <th>MoSold</th>\n",
       "      <th>YrSold</th>\n",
       "      <th>SalePrice</th>\n",
       "    </tr>\n",
       "  </thead>\n",
       "  <tbody>\n",
       "    <tr>\n",
       "      <th>count</th>\n",
       "      <td>1460.000000</td>\n",
       "      <td>1460.000000</td>\n",
       "      <td>1201.000000</td>\n",
       "      <td>1460.000000</td>\n",
       "      <td>1460.000000</td>\n",
       "      <td>1460.000000</td>\n",
       "      <td>1460.000000</td>\n",
       "      <td>1460.000000</td>\n",
       "      <td>1452.000000</td>\n",
       "      <td>1460.000000</td>\n",
       "      <td>...</td>\n",
       "      <td>1460.000000</td>\n",
       "      <td>1460.000000</td>\n",
       "      <td>1460.000000</td>\n",
       "      <td>1460.000000</td>\n",
       "      <td>1460.000000</td>\n",
       "      <td>1460.000000</td>\n",
       "      <td>1460.000000</td>\n",
       "      <td>1460.000000</td>\n",
       "      <td>1460.000000</td>\n",
       "      <td>1460.000000</td>\n",
       "    </tr>\n",
       "    <tr>\n",
       "      <th>mean</th>\n",
       "      <td>730.500000</td>\n",
       "      <td>56.897260</td>\n",
       "      <td>70.049958</td>\n",
       "      <td>10516.828082</td>\n",
       "      <td>6.099315</td>\n",
       "      <td>5.575342</td>\n",
       "      <td>1971.267808</td>\n",
       "      <td>1984.865753</td>\n",
       "      <td>103.685262</td>\n",
       "      <td>443.639726</td>\n",
       "      <td>...</td>\n",
       "      <td>94.244521</td>\n",
       "      <td>46.660274</td>\n",
       "      <td>21.954110</td>\n",
       "      <td>3.409589</td>\n",
       "      <td>15.060959</td>\n",
       "      <td>2.758904</td>\n",
       "      <td>43.489041</td>\n",
       "      <td>6.321918</td>\n",
       "      <td>2007.815753</td>\n",
       "      <td>180921.195890</td>\n",
       "    </tr>\n",
       "    <tr>\n",
       "      <th>std</th>\n",
       "      <td>421.610009</td>\n",
       "      <td>42.300571</td>\n",
       "      <td>24.284752</td>\n",
       "      <td>9981.264932</td>\n",
       "      <td>1.382997</td>\n",
       "      <td>1.112799</td>\n",
       "      <td>30.202904</td>\n",
       "      <td>20.645407</td>\n",
       "      <td>181.066207</td>\n",
       "      <td>456.098091</td>\n",
       "      <td>...</td>\n",
       "      <td>125.338794</td>\n",
       "      <td>66.256028</td>\n",
       "      <td>61.119149</td>\n",
       "      <td>29.317331</td>\n",
       "      <td>55.757415</td>\n",
       "      <td>40.177307</td>\n",
       "      <td>496.123024</td>\n",
       "      <td>2.703626</td>\n",
       "      <td>1.328095</td>\n",
       "      <td>79442.502883</td>\n",
       "    </tr>\n",
       "    <tr>\n",
       "      <th>min</th>\n",
       "      <td>1.000000</td>\n",
       "      <td>20.000000</td>\n",
       "      <td>21.000000</td>\n",
       "      <td>1300.000000</td>\n",
       "      <td>1.000000</td>\n",
       "      <td>1.000000</td>\n",
       "      <td>1872.000000</td>\n",
       "      <td>1950.000000</td>\n",
       "      <td>0.000000</td>\n",
       "      <td>0.000000</td>\n",
       "      <td>...</td>\n",
       "      <td>0.000000</td>\n",
       "      <td>0.000000</td>\n",
       "      <td>0.000000</td>\n",
       "      <td>0.000000</td>\n",
       "      <td>0.000000</td>\n",
       "      <td>0.000000</td>\n",
       "      <td>0.000000</td>\n",
       "      <td>1.000000</td>\n",
       "      <td>2006.000000</td>\n",
       "      <td>34900.000000</td>\n",
       "    </tr>\n",
       "    <tr>\n",
       "      <th>25%</th>\n",
       "      <td>365.750000</td>\n",
       "      <td>20.000000</td>\n",
       "      <td>59.000000</td>\n",
       "      <td>7553.500000</td>\n",
       "      <td>5.000000</td>\n",
       "      <td>5.000000</td>\n",
       "      <td>1954.000000</td>\n",
       "      <td>1967.000000</td>\n",
       "      <td>0.000000</td>\n",
       "      <td>0.000000</td>\n",
       "      <td>...</td>\n",
       "      <td>0.000000</td>\n",
       "      <td>0.000000</td>\n",
       "      <td>0.000000</td>\n",
       "      <td>0.000000</td>\n",
       "      <td>0.000000</td>\n",
       "      <td>0.000000</td>\n",
       "      <td>0.000000</td>\n",
       "      <td>5.000000</td>\n",
       "      <td>2007.000000</td>\n",
       "      <td>129975.000000</td>\n",
       "    </tr>\n",
       "    <tr>\n",
       "      <th>50%</th>\n",
       "      <td>730.500000</td>\n",
       "      <td>50.000000</td>\n",
       "      <td>69.000000</td>\n",
       "      <td>9478.500000</td>\n",
       "      <td>6.000000</td>\n",
       "      <td>5.000000</td>\n",
       "      <td>1973.000000</td>\n",
       "      <td>1994.000000</td>\n",
       "      <td>0.000000</td>\n",
       "      <td>383.500000</td>\n",
       "      <td>...</td>\n",
       "      <td>0.000000</td>\n",
       "      <td>25.000000</td>\n",
       "      <td>0.000000</td>\n",
       "      <td>0.000000</td>\n",
       "      <td>0.000000</td>\n",
       "      <td>0.000000</td>\n",
       "      <td>0.000000</td>\n",
       "      <td>6.000000</td>\n",
       "      <td>2008.000000</td>\n",
       "      <td>163000.000000</td>\n",
       "    </tr>\n",
       "    <tr>\n",
       "      <th>75%</th>\n",
       "      <td>1095.250000</td>\n",
       "      <td>70.000000</td>\n",
       "      <td>80.000000</td>\n",
       "      <td>11601.500000</td>\n",
       "      <td>7.000000</td>\n",
       "      <td>6.000000</td>\n",
       "      <td>2000.000000</td>\n",
       "      <td>2004.000000</td>\n",
       "      <td>166.000000</td>\n",
       "      <td>712.250000</td>\n",
       "      <td>...</td>\n",
       "      <td>168.000000</td>\n",
       "      <td>68.000000</td>\n",
       "      <td>0.000000</td>\n",
       "      <td>0.000000</td>\n",
       "      <td>0.000000</td>\n",
       "      <td>0.000000</td>\n",
       "      <td>0.000000</td>\n",
       "      <td>8.000000</td>\n",
       "      <td>2009.000000</td>\n",
       "      <td>214000.000000</td>\n",
       "    </tr>\n",
       "    <tr>\n",
       "      <th>max</th>\n",
       "      <td>1460.000000</td>\n",
       "      <td>190.000000</td>\n",
       "      <td>313.000000</td>\n",
       "      <td>215245.000000</td>\n",
       "      <td>10.000000</td>\n",
       "      <td>9.000000</td>\n",
       "      <td>2010.000000</td>\n",
       "      <td>2010.000000</td>\n",
       "      <td>1600.000000</td>\n",
       "      <td>5644.000000</td>\n",
       "      <td>...</td>\n",
       "      <td>857.000000</td>\n",
       "      <td>547.000000</td>\n",
       "      <td>552.000000</td>\n",
       "      <td>508.000000</td>\n",
       "      <td>480.000000</td>\n",
       "      <td>738.000000</td>\n",
       "      <td>15500.000000</td>\n",
       "      <td>12.000000</td>\n",
       "      <td>2010.000000</td>\n",
       "      <td>755000.000000</td>\n",
       "    </tr>\n",
       "  </tbody>\n",
       "</table>\n",
       "<p>8 rows × 38 columns</p>\n",
       "</div>"
      ],
      "text/plain": [
       "                Id   MSSubClass  LotFrontage        LotArea  OverallQual  \\\n",
       "count  1460.000000  1460.000000  1201.000000    1460.000000  1460.000000   \n",
       "mean    730.500000    56.897260    70.049958   10516.828082     6.099315   \n",
       "std     421.610009    42.300571    24.284752    9981.264932     1.382997   \n",
       "min       1.000000    20.000000    21.000000    1300.000000     1.000000   \n",
       "25%     365.750000    20.000000    59.000000    7553.500000     5.000000   \n",
       "50%     730.500000    50.000000    69.000000    9478.500000     6.000000   \n",
       "75%    1095.250000    70.000000    80.000000   11601.500000     7.000000   \n",
       "max    1460.000000   190.000000   313.000000  215245.000000    10.000000   \n",
       "\n",
       "       OverallCond    YearBuilt  YearRemodAdd   MasVnrArea   BsmtFinSF1  \\\n",
       "count  1460.000000  1460.000000   1460.000000  1452.000000  1460.000000   \n",
       "mean      5.575342  1971.267808   1984.865753   103.685262   443.639726   \n",
       "std       1.112799    30.202904     20.645407   181.066207   456.098091   \n",
       "min       1.000000  1872.000000   1950.000000     0.000000     0.000000   \n",
       "25%       5.000000  1954.000000   1967.000000     0.000000     0.000000   \n",
       "50%       5.000000  1973.000000   1994.000000     0.000000   383.500000   \n",
       "75%       6.000000  2000.000000   2004.000000   166.000000   712.250000   \n",
       "max       9.000000  2010.000000   2010.000000  1600.000000  5644.000000   \n",
       "\n",
       "           ...         WoodDeckSF  OpenPorchSF  EnclosedPorch    3SsnPorch  \\\n",
       "count      ...        1460.000000  1460.000000    1460.000000  1460.000000   \n",
       "mean       ...          94.244521    46.660274      21.954110     3.409589   \n",
       "std        ...         125.338794    66.256028      61.119149    29.317331   \n",
       "min        ...           0.000000     0.000000       0.000000     0.000000   \n",
       "25%        ...           0.000000     0.000000       0.000000     0.000000   \n",
       "50%        ...           0.000000    25.000000       0.000000     0.000000   \n",
       "75%        ...         168.000000    68.000000       0.000000     0.000000   \n",
       "max        ...         857.000000   547.000000     552.000000   508.000000   \n",
       "\n",
       "       ScreenPorch     PoolArea       MiscVal       MoSold       YrSold  \\\n",
       "count  1460.000000  1460.000000   1460.000000  1460.000000  1460.000000   \n",
       "mean     15.060959     2.758904     43.489041     6.321918  2007.815753   \n",
       "std      55.757415    40.177307    496.123024     2.703626     1.328095   \n",
       "min       0.000000     0.000000      0.000000     1.000000  2006.000000   \n",
       "25%       0.000000     0.000000      0.000000     5.000000  2007.000000   \n",
       "50%       0.000000     0.000000      0.000000     6.000000  2008.000000   \n",
       "75%       0.000000     0.000000      0.000000     8.000000  2009.000000   \n",
       "max     480.000000   738.000000  15500.000000    12.000000  2010.000000   \n",
       "\n",
       "           SalePrice  \n",
       "count    1460.000000  \n",
       "mean   180921.195890  \n",
       "std     79442.502883  \n",
       "min     34900.000000  \n",
       "25%    129975.000000  \n",
       "50%    163000.000000  \n",
       "75%    214000.000000  \n",
       "max    755000.000000  \n",
       "\n",
       "[8 rows x 38 columns]"
      ]
     },
     "execution_count": 5,
     "metadata": {},
     "output_type": "execute_result"
    }
   ],
   "source": [
    "#describe \n",
    "houses.describe()"
   ]
  },
  {
   "cell_type": "markdown",
   "metadata": {},
   "source": [
    "Versuchen Sie bitte mit dem generetierten Output folgende Fragen zu beantworten:\n",
    "- Wieviele Einträge hat der Datensatz?\n",
    "- Wieviele Spalten gibt es?\n",
    "- Wieviele numerische und nicht-numerische Spalten gibt es?\n",
    "- Welches Feature hat die meisten Null Values?\n",
    "\n",
    "Unter diesem Link https://ww2.amstat.org/publications/jse/v19n3/decock/DataDocumentation.txt können Sie mehr über die verschiedenen Featuers erfahren."
   ]
  },
  {
   "cell_type": "markdown",
   "metadata": {},
   "source": [
    "## 2. Data Exploration\n",
    "In diesem Abschnitt geht es darum, den Datensatz besser zu verstehen und uns an einige pandas und seaborn skills zu erinnern.\n",
    "\n",
    "Zunächst möchten wir ein **Histogram** erstellen, um uns die Verteilung der Target-Variable **SalePrice** anzuschauen. Verwenden Sie hierfür die Seaborn-Methode **distplot()**. Setzen Sie außerdem **kde auf False** und ändern Sie die Anzahl der verwendeten **bins auf 30**."
   ]
  },
  {
   "cell_type": "code",
   "execution_count": null,
   "metadata": {
    "collapsed": true
   },
   "outputs": [],
   "source": [
    "# Histogramm\n",
    "sns.<FILL-IN>"
   ]
  },
  {
   "cell_type": "code",
   "execution_count": 6,
   "metadata": {},
   "outputs": [
    {
     "data": {
      "text/plain": [
       "<matplotlib.axes._subplots.AxesSubplot at 0x7fe8e2b671d0>"
      ]
     },
     "execution_count": 6,
     "metadata": {},
     "output_type": "execute_result"
    },
    {
     "name": "stderr",
     "output_type": "stream",
     "text": [
      "/opt/hdp/anaconda2/lib/python2.7/site-packages/matplotlib/font_manager.py:1297: UserWarning: findfont: Font family [u'sans-serif'] not found. Falling back to DejaVu Sans\n",
      "  (prop.get_family(), self.defaultFamily[fontext]))\n"
     ]
    },
    {
     "data": {
      "image/png": "[encoded data removed]",
      "text/plain": [
       "<matplotlib.figure.Figure at 0x7fe8a9881810>"
      ]
     },
     "metadata": {},
     "output_type": "display_data"
    }
   ],
   "source": [
    "# Lösung\n",
    "sns.distplot(houses['SalePrice'], bins=30, kde=False)"
   ]
  },
  {
   "cell_type": "markdown",
   "metadata": {},
   "source": [
    "**Bitte beschreiben Sie, was Sie sehen und Ihnen auffällt**"
   ]
  },
  {
   "cell_type": "markdown",
   "metadata": {},
   "source": [
    "### Lösung:\n",
    "\n",
    "Die Verteilung hat ein Maximum bei ca. 150.000 $. Bis zum Maximum is der Anstieg recht steil, nach dem Maximum, insbesondere im \"Tail-Bereich\" der Verteilung ist der Abfall flacher im vgl. Dies bedeutet, dass die Verteilung leicht schief ist. Dies können wir beispielsweise mit dem Befehl .skew() auch quantitativ bestätigen. Ein positiver Wert bedeutet, dass der Tail auf der rechten seite länger/flacher ist als auf der linken Seite. Falls die Verteilung symmetrisch wäre, dann wäre der Mean=Median. Andernfalls lässt sich keine einfache Aussage treffen. Da wir aber außerdem viele Ausreißer zur rechten Seite sehen, ist der Median sehr wahrscheinlich kleiner als der Mean."
   ]
  },
  {
   "cell_type": "code",
   "execution_count": null,
   "metadata": {
    "collapsed": true
   },
   "outputs": [],
   "source": [
    "# Lösung:\n",
    "houses.SalePrice.skew()"
   ]
  },
  {
   "cell_type": "markdown",
   "metadata": {},
   "source": [
    "Sie haben vermutlich festgestellt, dass die Verteilung leicht schief ist und es einige Ausreißer zur rechten Seite gibt. \n",
    "Als Ausreißer definieren wir die Beobachtungen, für die gilt:\n",
    "\n",
    "$$ SalePrice > mean + 3 \\times std $$\n",
    "und\n",
    "$$ SalePrice < mean - 3 \\times std $$,\n",
    "\n",
    "wobei *mean* der Mittelert der Hauspreise ist und *std* die Standardabweichung.\n",
    "\n",
    "**Bestimmen Sie bitte die Anzahl der Ausreißer.**\n",
    "\n",
    "Den *mean* und die *Standardabweichung* können wir mit den Methoden **df['Spalte'].std()** und **.mean()** berechnen. Die Ausreißer zur rechten und linken Seite können wir dann mit **conditional Indexing** extrahieren."
   ]
  },
  {
   "cell_type": "code",
   "execution_count": null,
   "metadata": {
    "collapsed": true
   },
   "outputs": [],
   "source": [
    "#Lösung:\n",
    "\n",
    "std = <FILL-IN>\n",
    "mean = <FILL-IN>\n",
    "\n",
    "housesOutliersRight = houses[(abs(houses['SalePrice']) > <FILL-IN>)]\n",
    "housesOutliersLeft = <FILL-IN>\n",
    "\n",
    "len(<FILL-IN>) + len(<FILL-IN>)"
   ]
  },
  {
   "cell_type": "code",
   "execution_count": 7,
   "metadata": {},
   "outputs": [
    {
     "data": {
      "text/plain": [
       "22"
      ]
     },
     "execution_count": 7,
     "metadata": {},
     "output_type": "execute_result"
    },
    {
     "data": {
      "image/png": "[encoded data removed]",
      "text/plain": [
       "<matplotlib.figure.Figure at 0x7fe8a98a1cd0>"
      ]
     },
     "metadata": {},
     "output_type": "display_data"
    }
   ],
   "source": [
    "#Lösung:\n",
    "\n",
    "std = houses.SalePrice.std()\n",
    "mean = houses.SalePrice.mean()\n",
    "\n",
    "housesOutliersRight = houses[(abs(houses['SalePrice']) > (mean + 3 * std))]\n",
    "housesOutliersLeft = houses[(abs(houses['SalePrice']) < (mean - 3 * std))]\n",
    "\n",
    "# Lösung\n",
    "housesOutliersRight.SalePrice.hist()\n",
    "\n",
    "len(housesOutliersRight) + len(housesOutliersLeft)"
   ]
  },
  {
   "cell_type": "markdown",
   "metadata": {},
   "source": [
    "Nun wollen wir uns die Paar-Korrelationen zwischen den erklärenden Variablen und der Target Variablen anschauen. Vielleicht entdecken wir dadurch schon wichtige Features. Hierfür berechnen wir zunächst die Korrelationsmatrix der numerischen Variablen mit der Methode **.corr()**, die wir direkt auf das DataFrame houses anwenden können. Anschließend wollen wir diese Matrix in Form einer **Heatmap** plotten.\n",
    "\n",
    "Tipp: Wenn wir die Methoden .corr() anwenden, dann werden automatisch nur die numerischen Spalten berücksichtigt."
   ]
  },
  {
   "cell_type": "code",
   "execution_count": null,
   "metadata": {
    "collapsed": true
   },
   "outputs": [],
   "source": [
    "# Berechnung der Korrelationsmatrix corr (Rückgabe ist ein DataFrame)\n",
    "corr = <FILL-IN>\n",
    "\n",
    "# Lassen Sie sich die ersten fünf Zeilen der Matrix anzeigen\n",
    "<FILL-IN>"
   ]
  },
  {
   "cell_type": "code",
   "execution_count": 8,
   "metadata": {},
   "outputs": [
    {
     "data": {
      "text/html": [
       "<div>\n",
       "<style>\n",
       "    .dataframe thead tr:only-child th {\n",
       "        text-align: right;\n",
       "    }\n",
       "\n",
       "    .dataframe thead th {\n",
       "        text-align: left;\n",
       "    }\n",
       "\n",
       "    .dataframe tbody tr th {\n",
       "        vertical-align: top;\n",
       "    }\n",
       "</style>\n",
       "<table border=\"1\" class=\"dataframe\">\n",
       "  <thead>\n",
       "    <tr style=\"text-align: right;\">\n",
       "      <th></th>\n",
       "      <th>Id</th>\n",
       "      <th>MSSubClass</th>\n",
       "      <th>LotFrontage</th>\n",
       "      <th>LotArea</th>\n",
       "      <th>OverallQual</th>\n",
       "      <th>OverallCond</th>\n",
       "      <th>YearBuilt</th>\n",
       "      <th>YearRemodAdd</th>\n",
       "      <th>MasVnrArea</th>\n",
       "      <th>BsmtFinSF1</th>\n",
       "      <th>...</th>\n",
       "      <th>WoodDeckSF</th>\n",
       "      <th>OpenPorchSF</th>\n",
       "      <th>EnclosedPorch</th>\n",
       "      <th>3SsnPorch</th>\n",
       "      <th>ScreenPorch</th>\n",
       "      <th>PoolArea</th>\n",
       "      <th>MiscVal</th>\n",
       "      <th>MoSold</th>\n",
       "      <th>YrSold</th>\n",
       "      <th>SalePrice</th>\n",
       "    </tr>\n",
       "  </thead>\n",
       "  <tbody>\n",
       "    <tr>\n",
       "      <th>Id</th>\n",
       "      <td>1.000000</td>\n",
       "      <td>0.011156</td>\n",
       "      <td>-0.010601</td>\n",
       "      <td>-0.033226</td>\n",
       "      <td>-0.028365</td>\n",
       "      <td>0.012609</td>\n",
       "      <td>-0.012713</td>\n",
       "      <td>-0.021998</td>\n",
       "      <td>-0.050298</td>\n",
       "      <td>-0.005024</td>\n",
       "      <td>...</td>\n",
       "      <td>-0.029643</td>\n",
       "      <td>-0.000477</td>\n",
       "      <td>0.002889</td>\n",
       "      <td>-0.046635</td>\n",
       "      <td>0.001330</td>\n",
       "      <td>0.057044</td>\n",
       "      <td>-0.006242</td>\n",
       "      <td>0.021172</td>\n",
       "      <td>0.000712</td>\n",
       "      <td>-0.021917</td>\n",
       "    </tr>\n",
       "    <tr>\n",
       "      <th>MSSubClass</th>\n",
       "      <td>0.011156</td>\n",
       "      <td>1.000000</td>\n",
       "      <td>-0.386347</td>\n",
       "      <td>-0.139781</td>\n",
       "      <td>0.032628</td>\n",
       "      <td>-0.059316</td>\n",
       "      <td>0.027850</td>\n",
       "      <td>0.040581</td>\n",
       "      <td>0.022936</td>\n",
       "      <td>-0.069836</td>\n",
       "      <td>...</td>\n",
       "      <td>-0.012579</td>\n",
       "      <td>-0.006100</td>\n",
       "      <td>-0.012037</td>\n",
       "      <td>-0.043825</td>\n",
       "      <td>-0.026030</td>\n",
       "      <td>0.008283</td>\n",
       "      <td>-0.007683</td>\n",
       "      <td>-0.013585</td>\n",
       "      <td>-0.021407</td>\n",
       "      <td>-0.084284</td>\n",
       "    </tr>\n",
       "    <tr>\n",
       "      <th>LotFrontage</th>\n",
       "      <td>-0.010601</td>\n",
       "      <td>-0.386347</td>\n",
       "      <td>1.000000</td>\n",
       "      <td>0.426095</td>\n",
       "      <td>0.251646</td>\n",
       "      <td>-0.059213</td>\n",
       "      <td>0.123349</td>\n",
       "      <td>0.088866</td>\n",
       "      <td>0.193458</td>\n",
       "      <td>0.233633</td>\n",
       "      <td>...</td>\n",
       "      <td>0.088521</td>\n",
       "      <td>0.151972</td>\n",
       "      <td>0.010700</td>\n",
       "      <td>0.070029</td>\n",
       "      <td>0.041383</td>\n",
       "      <td>0.206167</td>\n",
       "      <td>0.003368</td>\n",
       "      <td>0.011200</td>\n",
       "      <td>0.007450</td>\n",
       "      <td>0.351799</td>\n",
       "    </tr>\n",
       "    <tr>\n",
       "      <th>LotArea</th>\n",
       "      <td>-0.033226</td>\n",
       "      <td>-0.139781</td>\n",
       "      <td>0.426095</td>\n",
       "      <td>1.000000</td>\n",
       "      <td>0.105806</td>\n",
       "      <td>-0.005636</td>\n",
       "      <td>0.014228</td>\n",
       "      <td>0.013788</td>\n",
       "      <td>0.104160</td>\n",
       "      <td>0.214103</td>\n",
       "      <td>...</td>\n",
       "      <td>0.171698</td>\n",
       "      <td>0.084774</td>\n",
       "      <td>-0.018340</td>\n",
       "      <td>0.020423</td>\n",
       "      <td>0.043160</td>\n",
       "      <td>0.077672</td>\n",
       "      <td>0.038068</td>\n",
       "      <td>0.001205</td>\n",
       "      <td>-0.014261</td>\n",
       "      <td>0.263843</td>\n",
       "    </tr>\n",
       "    <tr>\n",
       "      <th>OverallQual</th>\n",
       "      <td>-0.028365</td>\n",
       "      <td>0.032628</td>\n",
       "      <td>0.251646</td>\n",
       "      <td>0.105806</td>\n",
       "      <td>1.000000</td>\n",
       "      <td>-0.091932</td>\n",
       "      <td>0.572323</td>\n",
       "      <td>0.550684</td>\n",
       "      <td>0.411876</td>\n",
       "      <td>0.239666</td>\n",
       "      <td>...</td>\n",
       "      <td>0.238923</td>\n",
       "      <td>0.308819</td>\n",
       "      <td>-0.113937</td>\n",
       "      <td>0.030371</td>\n",
       "      <td>0.064886</td>\n",
       "      <td>0.065166</td>\n",
       "      <td>-0.031406</td>\n",
       "      <td>0.070815</td>\n",
       "      <td>-0.027347</td>\n",
       "      <td>0.790982</td>\n",
       "    </tr>\n",
       "  </tbody>\n",
       "</table>\n",
       "<p>5 rows × 38 columns</p>\n",
       "</div>"
      ],
      "text/plain": [
       "                   Id  MSSubClass  LotFrontage   LotArea  OverallQual  \\\n",
       "Id           1.000000    0.011156    -0.010601 -0.033226    -0.028365   \n",
       "MSSubClass   0.011156    1.000000    -0.386347 -0.139781     0.032628   \n",
       "LotFrontage -0.010601   -0.386347     1.000000  0.426095     0.251646   \n",
       "LotArea     -0.033226   -0.139781     0.426095  1.000000     0.105806   \n",
       "OverallQual -0.028365    0.032628     0.251646  0.105806     1.000000   \n",
       "\n",
       "             OverallCond  YearBuilt  YearRemodAdd  MasVnrArea  BsmtFinSF1  \\\n",
       "Id              0.012609  -0.012713     -0.021998   -0.050298   -0.005024   \n",
       "MSSubClass     -0.059316   0.027850      0.040581    0.022936   -0.069836   \n",
       "LotFrontage    -0.059213   0.123349      0.088866    0.193458    0.233633   \n",
       "LotArea        -0.005636   0.014228      0.013788    0.104160    0.214103   \n",
       "OverallQual    -0.091932   0.572323      0.550684    0.411876    0.239666   \n",
       "\n",
       "               ...      WoodDeckSF  OpenPorchSF  EnclosedPorch  3SsnPorch  \\\n",
       "Id             ...       -0.029643    -0.000477       0.002889  -0.046635   \n",
       "MSSubClass     ...       -0.012579    -0.006100      -0.012037  -0.043825   \n",
       "LotFrontage    ...        0.088521     0.151972       0.010700   0.070029   \n",
       "LotArea        ...        0.171698     0.084774      -0.018340   0.020423   \n",
       "OverallQual    ...        0.238923     0.308819      -0.113937   0.030371   \n",
       "\n",
       "             ScreenPorch  PoolArea   MiscVal    MoSold    YrSold  SalePrice  \n",
       "Id              0.001330  0.057044 -0.006242  0.021172  0.000712  -0.021917  \n",
       "MSSubClass     -0.026030  0.008283 -0.007683 -0.013585 -0.021407  -0.084284  \n",
       "LotFrontage     0.041383  0.206167  0.003368  0.011200  0.007450   0.351799  \n",
       "LotArea         0.043160  0.077672  0.038068  0.001205 -0.014261   0.263843  \n",
       "OverallQual     0.064886  0.065166 -0.031406  0.070815 -0.027347   0.790982  \n",
       "\n",
       "[5 rows x 38 columns]"
      ]
     },
     "execution_count": 8,
     "metadata": {},
     "output_type": "execute_result"
    }
   ],
   "source": [
    "# Lösung\n",
    "\n",
    "# Es werden automatisch nur die numerischen Features verwendet\n",
    "corr = houses.corr()\n",
    "corr.head()"
   ]
  },
  {
   "cell_type": "markdown",
   "metadata": {},
   "source": [
    "Die Ergebnisse die Sie nun sehen sind Werte für den sog. Pearson Korrelationskoeffizienten.\n",
    "Dieser lässt sich wie folgt berechnen:\n",
    "\n",
    "$$ r_{xy} = \\frac{\\sum_{i=1}^n (x_i - \\bar{x})(y_i - \\bar{y})}{(n-1)s_x s_y}, $$\n",
    "\n",
    "wobei $s_x$ bzw $s_y$ die Standardabweichung ist. Die Summe verläuft über alle Observations $i$."
   ]
  },
  {
   "cell_type": "markdown",
   "metadata": {},
   "source": [
    "Um die Daten zu visualisieren verwenden wir die heatmap Methode von seaborn. Zusätzlich wenden wir noch einige Modifikationen mit matplotlib und numpy an, um die generierte Grafik zu verändern. "
   ]
  },
  {
   "cell_type": "code",
   "execution_count": 9,
   "metadata": {
    "collapsed": true
   },
   "outputs": [],
   "source": [
    "# Import von Matplotlib und Numpy\n",
    "import matplotlib.pyplot as plt\n",
    "import numpy as np"
   ]
  },
  {
   "cell_type": "markdown",
   "metadata": {},
   "source": [
    "Da das *customizen* dieses Plots nicht auf anhieb ersichtlich ist, führen Sie die unteren Zeilen bitte einfach nur aus."
   ]
  },
  {
   "cell_type": "code",
   "execution_count": 10,
   "metadata": {},
   "outputs": [
    {
     "data": {
      "image/png": "[encoded data removed]",
      "text/plain": [
       "<matplotlib.figure.Figure at 0x7fe8a79e32d0>"
      ]
     },
     "metadata": {},
     "output_type": "display_data"
    }
   ],
   "source": [
    "# Heatmap\n",
    "fig, ax = plt.subplots()\n",
    "fig.set_size_inches(12,10)\n",
    "mask = np.zeros_like(corr)\n",
    "mask[np.triu_indices_from(mask)] = True\n",
    "ax = sns.heatmap(corr, mask=mask, cmap='coolwarm', linewidths=0.5, vmax=.3, square=True)"
   ]
  },
  {
   "cell_type": "markdown",
   "metadata": {},
   "source": [
    "Im nächsten Schritt hätten wir gerne eine Liste der am stärksten korrelierten und antikorrelierten Größen. Auch hier bitte Ich sie den Code einfach auszuführen.\n",
    "\n",
    "Anmerkung: Falls es Sie interessiert was diese Satements tun, können Sie diese zerlegen und sich die einzelnen Output der verschachtelten und verketteten Statements anschauen."
   ]
  },
  {
   "cell_type": "code",
   "execution_count": 11,
   "metadata": {},
   "outputs": [
    {
     "data": {
      "text/plain": [
       "OverallQual    0.790982\n",
       "GrLivArea      0.708624\n",
       "GarageCars     0.640409\n",
       "GarageArea     0.623431\n",
       "TotalBsmtSF    0.613581\n",
       "dtype: float64"
      ]
     },
     "execution_count": 11,
     "metadata": {},
     "output_type": "execute_result"
    }
   ],
   "source": [
    "# Ausführen\n",
    "cond = np.triu(np.ones(corr.shape), k=1).astype(np.bool)\n",
    "os = corr.where(cond).stack().sort_values(ascending=False)\n",
    "\n",
    "# multilvl index\n",
    "# pos correlation\n",
    "os[:,'SalePrice'].head(5)"
   ]
  },
  {
   "cell_type": "code",
   "execution_count": 12,
   "metadata": {},
   "outputs": [
    {
     "data": {
      "text/plain": [
       "YrSold          -0.028923\n",
       "OverallCond     -0.077856\n",
       "MSSubClass      -0.084284\n",
       "EnclosedPorch   -0.128578\n",
       "KitchenAbvGr    -0.135907\n",
       "dtype: float64"
      ]
     },
     "execution_count": 12,
     "metadata": {},
     "output_type": "execute_result"
    }
   ],
   "source": [
    "# neg correlation\n",
    "os[:,'SalePrice'].tail(5)"
   ]
  },
  {
   "cell_type": "markdown",
   "metadata": {},
   "source": [
    "Denken Sie daran, dass eine monetäre Korrelation von ungefähr 0 Ihnen nicht sagen kann, ob das Feature und das Target voneinander unabhängig sind. Bei einer quadratischen Abhängigkeit zwischen Target und Feature würde der Korrelationskoeffizient beispielsweise 0 ergeben.\n",
    "Dieser oben erwähnte Sachverhalt ist recht gut im Diagramm auf der englischen Wikipediaseite https://en.wikipedia.org/wiki/Correlation_and_dependence veranschaulicht.\n",
    "\n",
    "**Frage**: Was bedeuten unsere bisher erzielten Ergebnisse? Denken Sie, dass wir mit diesen Features die Hauspreise vorhersagen können?\n",
    "\n",
    "**Bonus**: Natürlich kann man die Daten noch viel mehr erkunden. Wenn Sie möchten, dann können Sie sich beispielsweise Scatterplots der Features mit dem größten Korrelationskoeffizienten bzgl. des SalePrice anschauen, um sich die Abhängkeit genauer anzuschauen.\n",
    "Oder plotten Sie die Verteilung des TargetLabels unter Berücksichtigung verschieder Ausprägungen kategorischer Features (Tipp: Boxplots)."
   ]
  },
  {
   "cell_type": "markdown",
   "metadata": {
    "collapsed": true
   },
   "source": [
    "## 3. Feature Preparation\n",
    "Nachdem wir festgestellt haben, dass unsere Features das Target erklären könnten, wollen wir die Featurea soweit vorbereiten, dass wir damit ein Machine Learning Modell \"füttern\" können. Folgende Schritte sind hierfür notwendig:\n",
    "\n",
    "0. Aufsplitten der Daten in ein Trainingsdatensatz und Testdatensatz\n",
    "1. Droppen der irrelevanten Spalten\n",
    "2. Füllen der NaN Werte\n",
    "3. Kategorische Variablen in numerische kodieren\n",
    "4. Eventuell Features skalieren\n",
    "\n",
    "Da manche Schritte bereits **Fitting** beinhalten, wie z.B. das Füllen von NaN Values mit dem Median (der Median ist dann ein \"Fit-Resultat\" aus dem Datensatz), müssen wir unseren Datensatz bereits *splitten*. Üblicherweise trennt man seinen Datensatz in ein Trainingsdatensatz, mit dem alle **Fitting** Schritte durchgeführt werden und einen Testdatensatz, mit dem wir das Modell anschließend evaluieren können."
   ]
  },
  {
   "cell_type": "markdown",
   "metadata": {},
   "source": [
    "Zunächst droppen Sie bitte die irrelevante Spalte **Id** mit dem **.drop()** Befehl. Verwenden Sie bitte die Option **inplace=True**, um direkt das DataFrame zu verändern. Denken Sie an das **axis** Argument."
   ]
  },
  {
   "cell_type": "code",
   "execution_count": null,
   "metadata": {
    "collapsed": true
   },
   "outputs": [],
   "source": [
    "# Droppen Sie bitte die irrelevante Spalte Id und nutzen Sie \n",
    "houses.drop(<FIll-IN>)"
   ]
  },
  {
   "cell_type": "code",
   "execution_count": 13,
   "metadata": {
    "collapsed": true
   },
   "outputs": [],
   "source": [
    "#Lösung\n",
    "\n",
    "# Droppen Sie bitte die irrelevante Spalte Id und nutzen Sie \n",
    "houses.drop('Id', axis=1, inplace=True)"
   ]
  },
  {
   "cell_type": "markdown",
   "metadata": {},
   "source": [
    "### Trainung und Testdaten"
   ]
  },
  {
   "cell_type": "markdown",
   "metadata": {},
   "source": [
    "Für das aufsplitten der Daten verwenden wir die Methode **train_test_split** aus dem Modul **sklearn.model_selection**."
   ]
  },
  {
   "cell_type": "code",
   "execution_count": 14,
   "metadata": {
    "collapsed": true
   },
   "outputs": [],
   "source": [
    "# Laden der Methode\n",
    "from sklearn.model_selection import train_test_split"
   ]
  },
  {
   "cell_type": "markdown",
   "metadata": {},
   "source": [
    "Schauen Sie sich die möglichen Argumente mit der *Shift+Tab* Methode an. Hier wird ihnen nicht ersichtlich, was Sie genau an Argumente übergeben können. Per Konvention bedeutet ein Stern vorm Namen, dass wir eine Array oder eine Liste an Objekten übergeben können, wobei zwei Sternchen bedeutet, dass wir eine Collections aus Keywork Arguments übergeben können, beispielsweise ein Python Dictionary oder mehrere *named* Variables.\n",
    "\n",
    "Wir verwenden die Methode wie folgt: Als erstes Argument übergeben wir unser DataFrame **houses**, anschließend setzen wir die Option **test\\_size auf 0.3**, d.h. dass wir 30% der Daten als Testdatensatz verwenden. Damit wir alle die gleichen Daten im Test und Trainingsdatensatz haben, setzen wir noch einen **random Seed auf 42**. \n",
    "\n",
    "Der Rückgabewert dieser Methode ist eine Collection bzw. ein Array. Dieses können wir direkt **unpacken**, d.h. eine Liste/Array mit zwei Elementen können wir in einer Zeile direkt zwei Variablen zuordnen. Weisen Sie dem Output der Methode den Variablen **house_train** und **house_test** zu. "
   ]
  },
  {
   "cell_type": "code",
   "execution_count": null,
   "metadata": {
    "collapsed": true
   },
   "outputs": [],
   "source": [
    "# splitten in Training und Testdaten\n",
    "<FILL-IN>_train, <FILL-IN> = train_test_split(<FILL-IN>, <FILL-IN>, random_state=42)"
   ]
  },
  {
   "cell_type": "code",
   "execution_count": 15,
   "metadata": {
    "collapsed": true
   },
   "outputs": [],
   "source": [
    "# Lösung\n",
    "\n",
    "# der Rückgabewert ist eine Liste und wir nutzen hier das sogenannte Unpacking,\n",
    "# d.h. das erste Element der Liste ist house_train und das zweite wird houses_test zugewiesen\n",
    "houses_train, houses_test = train_test_split(houses, test_size=0.3, random_state=42)"
   ]
  },
  {
   "cell_type": "markdown",
   "metadata": {},
   "source": [
    "### Vernachlässigung von Features mit zu vielen Null Values"
   ]
  },
  {
   "cell_type": "markdown",
   "metadata": {},
   "source": [
    "Nun wollen wir herausfinden bei wievielen Features wir mehr als 15% NaN Values haben. Nutzen Sie dafür die Methoden **isnull()**, **sum()**, **sort_values()** und die Funktion **len()**. Als Argument der Methode **sort_values** wählen Sie bitte **ascending=False**. Lassen Sie sich anschließend die ersten 15 Einträge des DataFrames anzeigen. Versuchen Sie dies bitte alleine.\n",
    "\n",
    "Anmerkung: Denken Sie daran, dass wir dafür nur den Trainingsdatensatz betrachten!"
   ]
  },
  {
   "cell_type": "code",
   "execution_count": null,
   "metadata": {
    "collapsed": true
   },
   "outputs": [],
   "source": [
    "# Auflistung: Features und deren NaN Anteile\n",
    "<FILL-IN>"
   ]
  },
  {
   "cell_type": "code",
   "execution_count": 16,
   "metadata": {},
   "outputs": [
    {
     "data": {
      "text/plain": [
       "PoolQC          99.510763\n",
       "MiscFeature     96.086106\n",
       "Alley           93.542074\n",
       "Fence           80.234834\n",
       "FireplaceQu     47.651663\n",
       "LotFrontage     18.590998\n",
       "GarageType       5.283757\n",
       "GarageCond       5.283757\n",
       "GarageFinish     5.283757\n",
       "GarageQual       5.283757\n",
       "GarageYrBlt      5.283757\n",
       "BsmtFinType2     2.544031\n",
       "BsmtQual         2.544031\n",
       "BsmtCond         2.544031\n",
       "BsmtExposure     2.544031\n",
       "dtype: float64"
      ]
     },
     "execution_count": 16,
     "metadata": {},
     "output_type": "execute_result"
    }
   ],
   "source": [
    "# Lösung\n",
    "(houses_train.isnull().sum(axis=0) / len(houses_train) * 100).sort_values(ascending=False).head(15)"
   ]
  },
  {
   "cell_type": "markdown",
   "metadata": {},
   "source": [
    "Wir wollen nun die Attribute mit mehr als 15% NaN Anteil aus unseren DataFrames (Training und Test) entfernen. Hierfür nutzen wir wieder **conditional Indexing**.\n",
    "\n",
    "Zunächst erstellen wir eine Pandas Series, analog zu dem Befehl oben. Der Index sollte hier der Name des Attributs sein und der Wert ist der NaN Anteil in %."
   ]
  },
  {
   "cell_type": "code",
   "execution_count": null,
   "metadata": {
    "collapsed": true
   },
   "outputs": [],
   "source": [
    "# Pandas Series mit NaN Anteilen für conditional Indexing\n",
    "nullPercentage_df = (houses_train.<FILL-IN>.<FILL-IN> * 100) / len(houses)\n",
    "nullPercentage_df.head()"
   ]
  },
  {
   "cell_type": "code",
   "execution_count": 17,
   "metadata": {},
   "outputs": [
    {
     "data": {
      "text/plain": [
       "MSSubClass      0.000000\n",
       "MSZoning        0.000000\n",
       "LotFrontage    13.013699\n",
       "LotArea         0.000000\n",
       "Street          0.000000\n",
       "dtype: float64"
      ]
     },
     "execution_count": 17,
     "metadata": {},
     "output_type": "execute_result"
    }
   ],
   "source": [
    "# Lösung\n",
    "\n",
    "# Pandas Series \n",
    "nullPercentage_df = (houses_train.isnull().sum(axis=0) * 100) / len(houses)\n",
    "nullPercentage_df.head()"
   ]
  },
  {
   "cell_type": "markdown",
   "metadata": {},
   "source": [
    "Nun verwenden wir **conditional Indexing** für die Pandas Series *nullPercentage_df*, um zunächst nur die Einträge zu selektieren für die wir mehr als 15% NullAnteil haben. Anschließend wollen wir davon alle indizes in eine Liste vereinen.\n",
    "Das sind dann die Spaltennamen, die wir vom Trainings- und Testdatensatz droppen werden. Um diese Liste zu erzeugen, extrahieren wir das Arrbibut **index** aus der Pandas Series mit der Methode **.index** und wenden anschließend die Methode **.tolist()** an.\n",
    "\n",
    "Frage: Wissen Sie warum manche Methoden/Calls auf ein Objekt eine Klammer haben und manche nicht?"
   ]
  },
  {
   "cell_type": "code",
   "execution_count": null,
   "metadata": {
    "collapsed": true
   },
   "outputs": [],
   "source": [
    "# Extrahieren einer Liste mit Spaltennamen für die gilt: nullPercentage > 15\n",
    "colNames = nullPercentage_df.loc[<FILL-IN>].<FILL-IN>.<FILL-IN>\n",
    "colNames"
   ]
  },
  {
   "cell_type": "code",
   "execution_count": 18,
   "metadata": {},
   "outputs": [
    {
     "data": {
      "text/plain": [
       "['Alley', 'FireplaceQu', 'PoolQC', 'Fence', 'MiscFeature']"
      ]
     },
     "execution_count": 18,
     "metadata": {},
     "output_type": "execute_result"
    }
   ],
   "source": [
    "# Lösung\n",
    "colNames = nullPercentage_df.loc[(nullPercentage_df > 15)].index.tolist()\n",
    "colNames"
   ]
  },
  {
   "cell_type": "markdown",
   "metadata": {},
   "source": [
    "Droppen Sie nun bitte diese Spalten vom Trainings- und Testdatensatz."
   ]
  },
  {
   "cell_type": "code",
   "execution_count": null,
   "metadata": {
    "collapsed": true
   },
   "outputs": [],
   "source": [
    "# Lösung\n",
    "houses_train = houses_train.<FILL-IN>\n",
    "houses_test = houses_test.<FILL-IN>"
   ]
  },
  {
   "cell_type": "code",
   "execution_count": 19,
   "metadata": {
    "collapsed": true
   },
   "outputs": [],
   "source": [
    "# Lösung\n",
    "houses_train = houses_train.drop(labels=colNames,axis=1)\n",
    "houses_test = houses_test.drop(labels=colNames, axis=1)"
   ]
  },
  {
   "cell_type": "markdown",
   "metadata": {},
   "source": [
    "## Imputation: Behandlung der restlichen NaN Values\n",
    "\n",
    "Einige Spalten enthalten immernoch NaN Values. Die kategorischen wollen wir einfach mit dem String \"NaN\" füllen und die numerischen mit dem Median des jeweiligen Features.\n",
    "\n",
    "Um die Werte der kategorischen Spalten zu füllen, nutzen wir die Funktion fillna('NaN') auf die kategorischen Spalten. Um die kategorischen Features zu extrahieren wenden wir die Methode ** select_dtypes(include=[object])** auf unsere DataFrames an. Anschließend nutzen wir wieder via *chaining* die **fillna()** Methode.\n",
    "\n",
    "Anmerkung: Es gibt natürlich viel bessere Methoden um Null Werte zu füllen. Das ganze hier ist abhängig vom Datensatz.\n",
    "\n",
    "**Frage**: Unter welchen Umständen könnte es Sinn machen fehlende kategorische Werte mit dem String 'NaN' zu füllen?"
   ]
  },
  {
   "cell_type": "code",
   "execution_count": null,
   "metadata": {
    "collapsed": true
   },
   "outputs": [],
   "source": [
    "# Füllen der NaN Values für die kategorischen Features mit dem String 'NaN'\n",
    "houses_train_cat = houses_train.<FILL-IN>.fillna('NaN')\n",
    "houses_test_cat = houses_test.<FILL-IN>.<FILL-IN>"
   ]
  },
  {
   "cell_type": "code",
   "execution_count": 20,
   "metadata": {
    "collapsed": true
   },
   "outputs": [],
   "source": [
    "# Lösung\n",
    "houses_train_cat = houses_train.select_dtypes(include=[object]).fillna('NaN')\n",
    "houses_test_cat = houses_test.select_dtypes(include=[object]).fillna('NaN')"
   ]
  },
  {
   "cell_type": "markdown",
   "metadata": {},
   "source": [
    "Für die numerischen Daten müssen wir einen Fit durchführen, da der Wert mit dem wir die Null Values füllen wollen vom Datensatz abhängt. Hierfür laden wir zunächst die die Imputer Klasse von sklearn.preprocessing."
   ]
  },
  {
   "cell_type": "code",
   "execution_count": 21,
   "metadata": {
    "collapsed": true
   },
   "outputs": [],
   "source": [
    "# Import für Imputation\n",
    "from sklearn.preprocessing import Imputer"
   ]
  },
  {
   "cell_type": "markdown",
   "metadata": {},
   "source": [
    "Erstellen Sie nun ein Imputer Objekt aus der Klasse Imputer mit dem Argument bzw. der Option **strategy='median'** und weisen sie diesem Objekt den Namen imputer zu."
   ]
  },
  {
   "cell_type": "code",
   "execution_count": null,
   "metadata": {
    "collapsed": true
   },
   "outputs": [],
   "source": [
    "# imputer Objekt\n",
    "imputer = <FILL-IN>"
   ]
  },
  {
   "cell_type": "code",
   "execution_count": 22,
   "metadata": {
    "collapsed": true
   },
   "outputs": [],
   "source": [
    "# Lösung\n",
    "imputer = Imputer(strategy='median')"
   ]
  },
  {
   "cell_type": "markdown",
   "metadata": {},
   "source": [
    "Nachdem wir ein Objekt dieser Klasse erstellt haben, können wir dessen Methoden verwenden. Die wichtigsten Methoden von preprocessing Sklearn Klassen sind:\n",
    "\n",
    "- **fit(x,y=None)**: Bei Imputation wird mit dieser Methode beispielsweise der Median bestimmt. y wird dann nicht verwendet.\n",
    "- **transform(x)**: transformiert das DataFrame. Hier werden beispielsweise die NaN Werte mit dem jeweiligen Median gefüllt\n",
    "- **fit_transform(x,y)**: Führt eine Verkettung von fit und transform aus\n",
    "\n",
    "Wir wenden nun die **fit(x)** Methode des Imputers auf die numerischen Daten unseres Trainingsdatensatzes an. Hierfür extrahieren wir zunächst die numerischen Spalten mit der Methode **select_dtypes(exclude=[object])**."
   ]
  },
  {
   "cell_type": "code",
   "execution_count": 23,
   "metadata": {
    "collapsed": true
   },
   "outputs": [],
   "source": [
    "# Extrahieren der numierschen Spalten\n",
    "houses_train_num = houses_train.select_dtypes(exclude=[object])\n",
    "houses_test_num = houses_test.select_dtypes(exclude=[object])"
   ]
  },
  {
   "cell_type": "markdown",
   "metadata": {},
   "source": [
    "Verwenden Sie die fit-Methode ihres Imputation Objekts und nutzen Sie als Argument das DataFrame **houses_train_num**. Rückgabe dieser Funktion ist das Objekt selbst, jedoch diesmal mit angefitteten Klassenattributen."
   ]
  },
  {
   "cell_type": "code",
   "execution_count": null,
   "metadata": {
    "collapsed": true
   },
   "outputs": [],
   "source": [
    "# Fit Imputer\n",
    "imputer.<FILL-IN>"
   ]
  },
  {
   "cell_type": "code",
   "execution_count": 24,
   "metadata": {},
   "outputs": [
    {
     "data": {
      "text/plain": [
       "Imputer(axis=0, copy=True, missing_values='NaN', strategy='median', verbose=0)"
      ]
     },
     "execution_count": 24,
     "metadata": {},
     "output_type": "execute_result"
    }
   ],
   "source": [
    "# Lösung\n",
    "imputer.fit(houses_train_num)"
   ]
  },
  {
   "cell_type": "markdown",
   "metadata": {},
   "source": [
    "Nun wenden wir die **transform()** Methode des imputers auf unsere beiden DataFrames **house_train_num** und **house_test_num** an und weisen dem Ergebnis den gleichen Variablennamen zu. Lassen Sie sich anschließend eines der beiden Resultate anzeigen. Was fällt Ihnen auf?"
   ]
  },
  {
   "cell_type": "code",
   "execution_count": null,
   "metadata": {
    "collapsed": true
   },
   "outputs": [],
   "source": [
    "# Imputer Transformation\n",
    "houses_train_num = <FILL-IN>\n",
    "houses_test_num = <FILL-IN>\n",
    "<FILL-IN>"
   ]
  },
  {
   "cell_type": "code",
   "execution_count": 25,
   "metadata": {},
   "outputs": [
    {
     "data": {
      "text/plain": [
       "array([[  2.00000000e+01,   7.00000000e+01,   8.41400000e+03, ...,\n",
       "          2.00000000e+00,   2.00600000e+03,   1.54500000e+05],\n",
       "       [  6.00000000e+01,   9.80000000e+01,   1.22560000e+04, ...,\n",
       "          4.00000000e+00,   2.01000000e+03,   3.25000000e+05],\n",
       "       [  3.00000000e+01,   5.60000000e+01,   8.96000000e+03, ...,\n",
       "          3.00000000e+00,   2.01000000e+03,   1.15000000e+05],\n",
       "       ..., \n",
       "       [  6.00000000e+01,   6.50000000e+01,   8.12500000e+03, ...,\n",
       "          5.00000000e+00,   2.00800000e+03,   2.05950000e+05],\n",
       "       [  5.00000000e+01,   6.70000000e+01,   1.23540000e+04, ...,\n",
       "          8.00000000e+00,   2.00900000e+03,   1.10000000e+05],\n",
       "       [  6.00000000e+01,   1.04000000e+02,   1.35180000e+04, ...,\n",
       "          7.00000000e+00,   2.00900000e+03,   4.85000000e+05]])"
      ]
     },
     "execution_count": 25,
     "metadata": {},
     "output_type": "execute_result"
    }
   ],
   "source": [
    "# Lösung\n",
    "houses_train_num = imputer.transform(houses_train_num)\n",
    "houses_test_num = imputer.transform(houses_test_num)\n",
    "houses_test_num"
   ]
  },
  {
   "cell_type": "markdown",
   "metadata": {},
   "source": [
    "Leider haben wir nun unsere Spaltennamen *verloren*. Wenn wir ein Objekt aus der scikit-learn Bibliothek benutzen, dann können wir als Input ein Pandas DataFrame verwenden, erhalten jedoch als Output in der Regel ein Numpy Array.\n",
    "Wir können aus diesem Array jedoch wieder ein DataFrame erstellen. Dafür müssen wir die Spaltennamen des Inputdataframes extrahieren und mit pd.DataFrame() ein neues erstellen.\n",
    "Außerdem haben wir den Index verloren. Auch diesen extrahieren wir aus dem alten DataFrame mit dem Befehl **.index**.\n",
    "\n",
    "Achtung: Die Spaltennamen sind für den Training- und Testdatensatz natürlich identisch, die Indices jedoch nicht."
   ]
  },
  {
   "cell_type": "code",
   "execution_count": 26,
   "metadata": {
    "collapsed": true
   },
   "outputs": [],
   "source": [
    "# extrahieren der columns und indices\n",
    "numeric_cols = houses_train.select_dtypes(exclude=[object]).columns.tolist()\n",
    "numeric_index_train = houses_train.select_dtypes(exclude=[object]).index.tolist()\n",
    "numeric_index_test = houses_test.select_dtypes(exclude=[object]).index.tolist()"
   ]
  },
  {
   "cell_type": "markdown",
   "metadata": {},
   "source": [
    "Erstellen Sie nun zwei DataFrames **houses_train_num_df** und **houses_test_num_df** mit dem Befehl **pd.DataFrame()** und den entsprechenden Argumenten. Lassen Sie sich anschließend die ersten 10 Zeilen des DataFrames anzeigen. Nutzen Sie dafür den **head()** Befehlt mit entsprechndem Argument."
   ]
  },
  {
   "cell_type": "code",
   "execution_count": null,
   "metadata": {
    "collapsed": true
   },
   "outputs": [],
   "source": [
    "# Erstellung der DataFrames\n",
    "houses_train_num_df = <FILL-IN>\n",
    "houses_test_num_df = <FILL.IN>\n",
    "<FILL-IN>"
   ]
  },
  {
   "cell_type": "code",
   "execution_count": 27,
   "metadata": {},
   "outputs": [
    {
     "data": {
      "text/html": [
       "<div>\n",
       "<style>\n",
       "    .dataframe thead tr:only-child th {\n",
       "        text-align: right;\n",
       "    }\n",
       "\n",
       "    .dataframe thead th {\n",
       "        text-align: left;\n",
       "    }\n",
       "\n",
       "    .dataframe tbody tr th {\n",
       "        vertical-align: top;\n",
       "    }\n",
       "</style>\n",
       "<table border=\"1\" class=\"dataframe\">\n",
       "  <thead>\n",
       "    <tr style=\"text-align: right;\">\n",
       "      <th></th>\n",
       "      <th>MSSubClass</th>\n",
       "      <th>LotFrontage</th>\n",
       "      <th>LotArea</th>\n",
       "      <th>OverallQual</th>\n",
       "      <th>OverallCond</th>\n",
       "      <th>YearBuilt</th>\n",
       "      <th>YearRemodAdd</th>\n",
       "      <th>MasVnrArea</th>\n",
       "      <th>BsmtFinSF1</th>\n",
       "      <th>BsmtFinSF2</th>\n",
       "      <th>...</th>\n",
       "      <th>WoodDeckSF</th>\n",
       "      <th>OpenPorchSF</th>\n",
       "      <th>EnclosedPorch</th>\n",
       "      <th>3SsnPorch</th>\n",
       "      <th>ScreenPorch</th>\n",
       "      <th>PoolArea</th>\n",
       "      <th>MiscVal</th>\n",
       "      <th>MoSold</th>\n",
       "      <th>YrSold</th>\n",
       "      <th>SalePrice</th>\n",
       "    </tr>\n",
       "  </thead>\n",
       "  <tbody>\n",
       "    <tr>\n",
       "      <th>135</th>\n",
       "      <td>20.0</td>\n",
       "      <td>80.0</td>\n",
       "      <td>10400.0</td>\n",
       "      <td>7.0</td>\n",
       "      <td>6.0</td>\n",
       "      <td>1970.0</td>\n",
       "      <td>1970.0</td>\n",
       "      <td>288.0</td>\n",
       "      <td>0.0</td>\n",
       "      <td>0.0</td>\n",
       "      <td>...</td>\n",
       "      <td>98.0</td>\n",
       "      <td>0.0</td>\n",
       "      <td>0.0</td>\n",
       "      <td>0.0</td>\n",
       "      <td>0.0</td>\n",
       "      <td>0.0</td>\n",
       "      <td>0.0</td>\n",
       "      <td>5.0</td>\n",
       "      <td>2008.0</td>\n",
       "      <td>174000.0</td>\n",
       "    </tr>\n",
       "    <tr>\n",
       "      <th>1452</th>\n",
       "      <td>180.0</td>\n",
       "      <td>35.0</td>\n",
       "      <td>3675.0</td>\n",
       "      <td>5.0</td>\n",
       "      <td>5.0</td>\n",
       "      <td>2005.0</td>\n",
       "      <td>2005.0</td>\n",
       "      <td>80.0</td>\n",
       "      <td>547.0</td>\n",
       "      <td>0.0</td>\n",
       "      <td>...</td>\n",
       "      <td>0.0</td>\n",
       "      <td>28.0</td>\n",
       "      <td>0.0</td>\n",
       "      <td>0.0</td>\n",
       "      <td>0.0</td>\n",
       "      <td>0.0</td>\n",
       "      <td>0.0</td>\n",
       "      <td>5.0</td>\n",
       "      <td>2006.0</td>\n",
       "      <td>145000.0</td>\n",
       "    </tr>\n",
       "    <tr>\n",
       "      <th>762</th>\n",
       "      <td>60.0</td>\n",
       "      <td>72.0</td>\n",
       "      <td>8640.0</td>\n",
       "      <td>7.0</td>\n",
       "      <td>5.0</td>\n",
       "      <td>2009.0</td>\n",
       "      <td>2009.0</td>\n",
       "      <td>0.0</td>\n",
       "      <td>24.0</td>\n",
       "      <td>0.0</td>\n",
       "      <td>...</td>\n",
       "      <td>169.0</td>\n",
       "      <td>45.0</td>\n",
       "      <td>0.0</td>\n",
       "      <td>0.0</td>\n",
       "      <td>0.0</td>\n",
       "      <td>0.0</td>\n",
       "      <td>0.0</td>\n",
       "      <td>6.0</td>\n",
       "      <td>2010.0</td>\n",
       "      <td>215200.0</td>\n",
       "    </tr>\n",
       "    <tr>\n",
       "      <th>932</th>\n",
       "      <td>20.0</td>\n",
       "      <td>84.0</td>\n",
       "      <td>11670.0</td>\n",
       "      <td>9.0</td>\n",
       "      <td>5.0</td>\n",
       "      <td>2006.0</td>\n",
       "      <td>2006.0</td>\n",
       "      <td>302.0</td>\n",
       "      <td>0.0</td>\n",
       "      <td>0.0</td>\n",
       "      <td>...</td>\n",
       "      <td>0.0</td>\n",
       "      <td>191.0</td>\n",
       "      <td>0.0</td>\n",
       "      <td>0.0</td>\n",
       "      <td>0.0</td>\n",
       "      <td>0.0</td>\n",
       "      <td>0.0</td>\n",
       "      <td>3.0</td>\n",
       "      <td>2007.0</td>\n",
       "      <td>320000.0</td>\n",
       "    </tr>\n",
       "    <tr>\n",
       "      <th>435</th>\n",
       "      <td>60.0</td>\n",
       "      <td>43.0</td>\n",
       "      <td>10667.0</td>\n",
       "      <td>7.0</td>\n",
       "      <td>6.0</td>\n",
       "      <td>1996.0</td>\n",
       "      <td>1996.0</td>\n",
       "      <td>0.0</td>\n",
       "      <td>385.0</td>\n",
       "      <td>344.0</td>\n",
       "      <td>...</td>\n",
       "      <td>158.0</td>\n",
       "      <td>61.0</td>\n",
       "      <td>0.0</td>\n",
       "      <td>0.0</td>\n",
       "      <td>0.0</td>\n",
       "      <td>0.0</td>\n",
       "      <td>0.0</td>\n",
       "      <td>4.0</td>\n",
       "      <td>2009.0</td>\n",
       "      <td>212000.0</td>\n",
       "    </tr>\n",
       "    <tr>\n",
       "      <th>629</th>\n",
       "      <td>80.0</td>\n",
       "      <td>82.0</td>\n",
       "      <td>9020.0</td>\n",
       "      <td>6.0</td>\n",
       "      <td>5.0</td>\n",
       "      <td>1964.0</td>\n",
       "      <td>1964.0</td>\n",
       "      <td>259.0</td>\n",
       "      <td>624.0</td>\n",
       "      <td>336.0</td>\n",
       "      <td>...</td>\n",
       "      <td>176.0</td>\n",
       "      <td>0.0</td>\n",
       "      <td>0.0</td>\n",
       "      <td>0.0</td>\n",
       "      <td>0.0</td>\n",
       "      <td>0.0</td>\n",
       "      <td>0.0</td>\n",
       "      <td>6.0</td>\n",
       "      <td>2008.0</td>\n",
       "      <td>168500.0</td>\n",
       "    </tr>\n",
       "    <tr>\n",
       "      <th>1210</th>\n",
       "      <td>60.0</td>\n",
       "      <td>70.0</td>\n",
       "      <td>11218.0</td>\n",
       "      <td>6.0</td>\n",
       "      <td>5.0</td>\n",
       "      <td>1992.0</td>\n",
       "      <td>1992.0</td>\n",
       "      <td>0.0</td>\n",
       "      <td>0.0</td>\n",
       "      <td>0.0</td>\n",
       "      <td>...</td>\n",
       "      <td>635.0</td>\n",
       "      <td>104.0</td>\n",
       "      <td>0.0</td>\n",
       "      <td>0.0</td>\n",
       "      <td>0.0</td>\n",
       "      <td>0.0</td>\n",
       "      <td>400.0</td>\n",
       "      <td>5.0</td>\n",
       "      <td>2010.0</td>\n",
       "      <td>189000.0</td>\n",
       "    </tr>\n",
       "    <tr>\n",
       "      <th>1118</th>\n",
       "      <td>80.0</td>\n",
       "      <td>85.0</td>\n",
       "      <td>13825.0</td>\n",
       "      <td>5.0</td>\n",
       "      <td>6.0</td>\n",
       "      <td>1958.0</td>\n",
       "      <td>1987.0</td>\n",
       "      <td>0.0</td>\n",
       "      <td>0.0</td>\n",
       "      <td>0.0</td>\n",
       "      <td>...</td>\n",
       "      <td>280.0</td>\n",
       "      <td>34.0</td>\n",
       "      <td>0.0</td>\n",
       "      <td>0.0</td>\n",
       "      <td>0.0</td>\n",
       "      <td>0.0</td>\n",
       "      <td>0.0</td>\n",
       "      <td>12.0</td>\n",
       "      <td>2008.0</td>\n",
       "      <td>140000.0</td>\n",
       "    </tr>\n",
       "    <tr>\n",
       "      <th>1084</th>\n",
       "      <td>60.0</td>\n",
       "      <td>70.0</td>\n",
       "      <td>13031.0</td>\n",
       "      <td>6.0</td>\n",
       "      <td>5.0</td>\n",
       "      <td>1995.0</td>\n",
       "      <td>1996.0</td>\n",
       "      <td>0.0</td>\n",
       "      <td>592.0</td>\n",
       "      <td>0.0</td>\n",
       "      <td>...</td>\n",
       "      <td>315.0</td>\n",
       "      <td>44.0</td>\n",
       "      <td>0.0</td>\n",
       "      <td>0.0</td>\n",
       "      <td>0.0</td>\n",
       "      <td>0.0</td>\n",
       "      <td>0.0</td>\n",
       "      <td>7.0</td>\n",
       "      <td>2006.0</td>\n",
       "      <td>187500.0</td>\n",
       "    </tr>\n",
       "    <tr>\n",
       "      <th>158</th>\n",
       "      <td>60.0</td>\n",
       "      <td>100.0</td>\n",
       "      <td>12552.0</td>\n",
       "      <td>7.0</td>\n",
       "      <td>5.0</td>\n",
       "      <td>2004.0</td>\n",
       "      <td>2005.0</td>\n",
       "      <td>0.0</td>\n",
       "      <td>222.0</td>\n",
       "      <td>0.0</td>\n",
       "      <td>...</td>\n",
       "      <td>0.0</td>\n",
       "      <td>136.0</td>\n",
       "      <td>0.0</td>\n",
       "      <td>0.0</td>\n",
       "      <td>0.0</td>\n",
       "      <td>0.0</td>\n",
       "      <td>0.0</td>\n",
       "      <td>5.0</td>\n",
       "      <td>2010.0</td>\n",
       "      <td>254900.0</td>\n",
       "    </tr>\n",
       "  </tbody>\n",
       "</table>\n",
       "<p>10 rows × 37 columns</p>\n",
       "</div>"
      ],
      "text/plain": [
       "      MSSubClass  LotFrontage  LotArea  OverallQual  OverallCond  YearBuilt  \\\n",
       "135         20.0         80.0  10400.0          7.0          6.0     1970.0   \n",
       "1452       180.0         35.0   3675.0          5.0          5.0     2005.0   \n",
       "762         60.0         72.0   8640.0          7.0          5.0     2009.0   \n",
       "932         20.0         84.0  11670.0          9.0          5.0     2006.0   \n",
       "435         60.0         43.0  10667.0          7.0          6.0     1996.0   \n",
       "629         80.0         82.0   9020.0          6.0          5.0     1964.0   \n",
       "1210        60.0         70.0  11218.0          6.0          5.0     1992.0   \n",
       "1118        80.0         85.0  13825.0          5.0          6.0     1958.0   \n",
       "1084        60.0         70.0  13031.0          6.0          5.0     1995.0   \n",
       "158         60.0        100.0  12552.0          7.0          5.0     2004.0   \n",
       "\n",
       "      YearRemodAdd  MasVnrArea  BsmtFinSF1  BsmtFinSF2    ...      WoodDeckSF  \\\n",
       "135         1970.0       288.0         0.0         0.0    ...            98.0   \n",
       "1452        2005.0        80.0       547.0         0.0    ...             0.0   \n",
       "762         2009.0         0.0        24.0         0.0    ...           169.0   \n",
       "932         2006.0       302.0         0.0         0.0    ...             0.0   \n",
       "435         1996.0         0.0       385.0       344.0    ...           158.0   \n",
       "629         1964.0       259.0       624.0       336.0    ...           176.0   \n",
       "1210        1992.0         0.0         0.0         0.0    ...           635.0   \n",
       "1118        1987.0         0.0         0.0         0.0    ...           280.0   \n",
       "1084        1996.0         0.0       592.0         0.0    ...           315.0   \n",
       "158         2005.0         0.0       222.0         0.0    ...             0.0   \n",
       "\n",
       "      OpenPorchSF  EnclosedPorch  3SsnPorch  ScreenPorch  PoolArea  MiscVal  \\\n",
       "135           0.0            0.0        0.0          0.0       0.0      0.0   \n",
       "1452         28.0            0.0        0.0          0.0       0.0      0.0   \n",
       "762          45.0            0.0        0.0          0.0       0.0      0.0   \n",
       "932         191.0            0.0        0.0          0.0       0.0      0.0   \n",
       "435          61.0            0.0        0.0          0.0       0.0      0.0   \n",
       "629           0.0            0.0        0.0          0.0       0.0      0.0   \n",
       "1210        104.0            0.0        0.0          0.0       0.0    400.0   \n",
       "1118         34.0            0.0        0.0          0.0       0.0      0.0   \n",
       "1084         44.0            0.0        0.0          0.0       0.0      0.0   \n",
       "158         136.0            0.0        0.0          0.0       0.0      0.0   \n",
       "\n",
       "      MoSold  YrSold  SalePrice  \n",
       "135      5.0  2008.0   174000.0  \n",
       "1452     5.0  2006.0   145000.0  \n",
       "762      6.0  2010.0   215200.0  \n",
       "932      3.0  2007.0   320000.0  \n",
       "435      4.0  2009.0   212000.0  \n",
       "629      6.0  2008.0   168500.0  \n",
       "1210     5.0  2010.0   189000.0  \n",
       "1118    12.0  2008.0   140000.0  \n",
       "1084     7.0  2006.0   187500.0  \n",
       "158      5.0  2010.0   254900.0  \n",
       "\n",
       "[10 rows x 37 columns]"
      ]
     },
     "execution_count": 27,
     "metadata": {},
     "output_type": "execute_result"
    }
   ],
   "source": [
    "# Lösung\n",
    "houses_train_num_df = pd.DataFrame(data=houses_train_num, columns=numeric_cols, index=numeric_index_train)\n",
    "houses_test_num_df = pd.DataFrame(data=houses_test_num, columns=numeric_cols, index=numeric_index_test)\n",
    "houses_train_num_df.head(10)"
   ]
  },
  {
   "cell_type": "markdown",
   "metadata": {},
   "source": [
    "## Preprocessing der kategorischen Variablen\n",
    "Sklearn Machine Learning Modelle können nur mit numerischen Input Variablen umgehen, ansonstgen bekommen wir Fehlermeldungen. Da unsere kategorischen Variablen nur Strings enthalten, müssen wir diese noch numerisch *kodieren*. Auch hierfür gibt es wieder mehrere Möglichkeiten. Eine Möglichkeit haben wir schon kennengelernt. Und zwar gibt es in Pandas die Methode **pd.get_dummies()**.\n",
    "\n",
    "Benutzen Sie diese Methode und erstellen Sie damit neue DataFrame mit dem Namen houses_train_cat_df bzw. houses_test_cat_df.  Verwenden Sie als *prefix_sep* das Zeichen '='.\n",
    "\n",
    "Schauen Sie sich anschließend die Anzahl der Spalten vom Test- und Trainingsdatensatz an. Was fällt Ihnen auf? Können Sie diesen Sachverhalt begründen? Kann dies zu Problemen führen?"
   ]
  },
  {
   "cell_type": "code",
   "execution_count": null,
   "metadata": {
    "collapsed": true
   },
   "outputs": [],
   "source": [
    "# Erstellung von Dummy Variablen\n",
    "houses_train_cat_df = <FILL-IN>\n",
    "houses_test_cat_df = <FILL-IN>\n",
    "\n",
    "<FILL-IN>\n",
    "<FILL-IN>"
   ]
  },
  {
   "cell_type": "code",
   "execution_count": 28,
   "metadata": {},
   "outputs": [
    {
     "data": {
      "text/html": [
       "<div>\n",
       "<style>\n",
       "    .dataframe thead tr:only-child th {\n",
       "        text-align: right;\n",
       "    }\n",
       "\n",
       "    .dataframe thead th {\n",
       "        text-align: left;\n",
       "    }\n",
       "\n",
       "    .dataframe tbody tr th {\n",
       "        vertical-align: top;\n",
       "    }\n",
       "</style>\n",
       "<table border=\"1\" class=\"dataframe\">\n",
       "  <thead>\n",
       "    <tr style=\"text-align: right;\">\n",
       "      <th></th>\n",
       "      <th>MSZoning=C (all)</th>\n",
       "      <th>MSZoning=FV</th>\n",
       "      <th>MSZoning=RH</th>\n",
       "      <th>MSZoning=RL</th>\n",
       "      <th>MSZoning=RM</th>\n",
       "      <th>Street=Grvl</th>\n",
       "      <th>Street=Pave</th>\n",
       "      <th>LotShape=IR1</th>\n",
       "      <th>LotShape=IR2</th>\n",
       "      <th>LotShape=IR3</th>\n",
       "      <th>...</th>\n",
       "      <th>SaleType=ConLw</th>\n",
       "      <th>SaleType=New</th>\n",
       "      <th>SaleType=Oth</th>\n",
       "      <th>SaleType=WD</th>\n",
       "      <th>SaleCondition=Abnorml</th>\n",
       "      <th>SaleCondition=AdjLand</th>\n",
       "      <th>SaleCondition=Alloca</th>\n",
       "      <th>SaleCondition=Family</th>\n",
       "      <th>SaleCondition=Normal</th>\n",
       "      <th>SaleCondition=Partial</th>\n",
       "    </tr>\n",
       "  </thead>\n",
       "  <tbody>\n",
       "    <tr>\n",
       "      <th>135</th>\n",
       "      <td>0</td>\n",
       "      <td>0</td>\n",
       "      <td>0</td>\n",
       "      <td>1</td>\n",
       "      <td>0</td>\n",
       "      <td>0</td>\n",
       "      <td>1</td>\n",
       "      <td>0</td>\n",
       "      <td>0</td>\n",
       "      <td>0</td>\n",
       "      <td>...</td>\n",
       "      <td>0</td>\n",
       "      <td>0</td>\n",
       "      <td>0</td>\n",
       "      <td>1</td>\n",
       "      <td>0</td>\n",
       "      <td>0</td>\n",
       "      <td>0</td>\n",
       "      <td>0</td>\n",
       "      <td>1</td>\n",
       "      <td>0</td>\n",
       "    </tr>\n",
       "    <tr>\n",
       "      <th>1452</th>\n",
       "      <td>0</td>\n",
       "      <td>0</td>\n",
       "      <td>0</td>\n",
       "      <td>0</td>\n",
       "      <td>1</td>\n",
       "      <td>0</td>\n",
       "      <td>1</td>\n",
       "      <td>0</td>\n",
       "      <td>0</td>\n",
       "      <td>0</td>\n",
       "      <td>...</td>\n",
       "      <td>0</td>\n",
       "      <td>0</td>\n",
       "      <td>0</td>\n",
       "      <td>1</td>\n",
       "      <td>0</td>\n",
       "      <td>0</td>\n",
       "      <td>0</td>\n",
       "      <td>0</td>\n",
       "      <td>1</td>\n",
       "      <td>0</td>\n",
       "    </tr>\n",
       "    <tr>\n",
       "      <th>762</th>\n",
       "      <td>0</td>\n",
       "      <td>1</td>\n",
       "      <td>0</td>\n",
       "      <td>0</td>\n",
       "      <td>0</td>\n",
       "      <td>0</td>\n",
       "      <td>1</td>\n",
       "      <td>0</td>\n",
       "      <td>0</td>\n",
       "      <td>0</td>\n",
       "      <td>...</td>\n",
       "      <td>0</td>\n",
       "      <td>0</td>\n",
       "      <td>0</td>\n",
       "      <td>0</td>\n",
       "      <td>0</td>\n",
       "      <td>0</td>\n",
       "      <td>0</td>\n",
       "      <td>0</td>\n",
       "      <td>1</td>\n",
       "      <td>0</td>\n",
       "    </tr>\n",
       "    <tr>\n",
       "      <th>932</th>\n",
       "      <td>0</td>\n",
       "      <td>0</td>\n",
       "      <td>0</td>\n",
       "      <td>1</td>\n",
       "      <td>0</td>\n",
       "      <td>0</td>\n",
       "      <td>1</td>\n",
       "      <td>1</td>\n",
       "      <td>0</td>\n",
       "      <td>0</td>\n",
       "      <td>...</td>\n",
       "      <td>0</td>\n",
       "      <td>0</td>\n",
       "      <td>0</td>\n",
       "      <td>1</td>\n",
       "      <td>0</td>\n",
       "      <td>0</td>\n",
       "      <td>0</td>\n",
       "      <td>0</td>\n",
       "      <td>1</td>\n",
       "      <td>0</td>\n",
       "    </tr>\n",
       "    <tr>\n",
       "      <th>435</th>\n",
       "      <td>0</td>\n",
       "      <td>0</td>\n",
       "      <td>0</td>\n",
       "      <td>1</td>\n",
       "      <td>0</td>\n",
       "      <td>0</td>\n",
       "      <td>1</td>\n",
       "      <td>0</td>\n",
       "      <td>1</td>\n",
       "      <td>0</td>\n",
       "      <td>...</td>\n",
       "      <td>1</td>\n",
       "      <td>0</td>\n",
       "      <td>0</td>\n",
       "      <td>0</td>\n",
       "      <td>0</td>\n",
       "      <td>0</td>\n",
       "      <td>0</td>\n",
       "      <td>0</td>\n",
       "      <td>1</td>\n",
       "      <td>0</td>\n",
       "    </tr>\n",
       "  </tbody>\n",
       "</table>\n",
       "<p>5 rows × 240 columns</p>\n",
       "</div>"
      ],
      "text/plain": [
       "      MSZoning=C (all)  MSZoning=FV  MSZoning=RH  MSZoning=RL  MSZoning=RM  \\\n",
       "135                  0            0            0            1            0   \n",
       "1452                 0            0            0            0            1   \n",
       "762                  0            1            0            0            0   \n",
       "932                  0            0            0            1            0   \n",
       "435                  0            0            0            1            0   \n",
       "\n",
       "      Street=Grvl  Street=Pave  LotShape=IR1  LotShape=IR2  LotShape=IR3  \\\n",
       "135             0            1             0             0             0   \n",
       "1452            0            1             0             0             0   \n",
       "762             0            1             0             0             0   \n",
       "932             0            1             1             0             0   \n",
       "435             0            1             0             1             0   \n",
       "\n",
       "              ...            SaleType=ConLw  SaleType=New  SaleType=Oth  \\\n",
       "135           ...                         0             0             0   \n",
       "1452          ...                         0             0             0   \n",
       "762           ...                         0             0             0   \n",
       "932           ...                         0             0             0   \n",
       "435           ...                         1             0             0   \n",
       "\n",
       "      SaleType=WD  SaleCondition=Abnorml  SaleCondition=AdjLand  \\\n",
       "135             1                      0                      0   \n",
       "1452            1                      0                      0   \n",
       "762             0                      0                      0   \n",
       "932             1                      0                      0   \n",
       "435             0                      0                      0   \n",
       "\n",
       "      SaleCondition=Alloca  SaleCondition=Family  SaleCondition=Normal  \\\n",
       "135                      0                     0                     1   \n",
       "1452                     0                     0                     1   \n",
       "762                      0                     0                     1   \n",
       "932                      0                     0                     1   \n",
       "435                      0                     0                     1   \n",
       "\n",
       "      SaleCondition=Partial  \n",
       "135                       0  \n",
       "1452                      0  \n",
       "762                       0  \n",
       "932                       0  \n",
       "435                       0  \n",
       "\n",
       "[5 rows x 240 columns]"
      ]
     },
     "execution_count": 28,
     "metadata": {},
     "output_type": "execute_result"
    }
   ],
   "source": [
    "# Lösung\n",
    "houses_train_cat_df = pd.get_dummies(houses_train_cat, prefix_sep='=')\n",
    "houses_test_cat_df = pd.get_dummies(houses_test_cat, prefix_sep='=')\n",
    "houses_test_cat_df.head()\n",
    "houses_train_cat_df.head()"
   ]
  },
  {
   "cell_type": "markdown",
   "metadata": {},
   "source": [
    "Aufgrund der erwähnten Probleme verwenden wir eine andere Methode. Das erstellen von Dummy Variablen erfordert nämlich wieder einen Fit-Prozess und eine anschließende Transformation. Und zwar gibt es auch hier wieder mehrere Möglichkeiten in Sklearn, wie ein DictVectorizer, LabelBinarizer, OneHotEncoder, etc. \n",
    "\n",
    "Da das Anwenden dieser Objekte wieder dazu führt, dass wir ein Numpy Array erhalten und das Hinzufügen der Spaltennamen diesemal nicht so einfach ist wie bei der *Imputation*, nutzen wir eine Klasse, die ich bereits für Sie geschrieben habe. Diese befindet sich in meinem Paket **pandas_pipeline_classes** welches wir als **ppc** laden.\n",
    "\n",
    "Falls es Sie interessiert wie diese Klassen aussehen, dann gehen Sie auf http://github.com/jodahr und schauen Sie nach der pandas_pipeline_classes repository."
   ]
  },
  {
   "cell_type": "code",
   "execution_count": null,
   "metadata": {
    "collapsed": true
   },
   "outputs": [],
   "source": [
    "# Import meiner Custom Class\n",
    "import <FILL-IN>"
   ]
  },
  {
   "cell_type": "code",
   "execution_count": 29,
   "metadata": {
    "collapsed": true
   },
   "outputs": [],
   "source": [
    "# Lösung\n",
    "import pandas_pipeline_classes as ppc"
   ]
  },
  {
   "cell_type": "markdown",
   "metadata": {},
   "source": [
    "Diese Modul enthält die Klasse **DFDummyTransformer**. Erstellen Sie ein Objekt dieser Klasse namens **dummyTransformer**."
   ]
  },
  {
   "cell_type": "code",
   "execution_count": null,
   "metadata": {
    "collapsed": true
   },
   "outputs": [],
   "source": [
    "# Dummy Transformer Objekt\n",
    "<FILL-IN> = ppc.<FILL-IN>()"
   ]
  },
  {
   "cell_type": "code",
   "execution_count": 30,
   "metadata": {
    "collapsed": true
   },
   "outputs": [],
   "source": [
    "# Lösung\n",
    "dummyTransformer = ppc.DFDummyTransformer()"
   ]
  },
  {
   "cell_type": "markdown",
   "metadata": {},
   "source": [
    "Nun können wir die **fit** und **transform** Methode dieses Objekts verwenden. Für den Trainingsdatensatz verwenden wir diesmal die Kombination **fit_transform()** Methode mit entsprechendem Argument. Für den Testdatensatz verwenden wir dann nur noch den transformer, da der Fit ausschließlich mit dem Trainingsdatensatz gemacht wird.\n",
    "\n",
    "Die resultierenden DataFrames bekommen beide die gleichen Namen wir die Input DataFrames, jedoch fügen wir den Suffix **'_df'** hinzu. Schauen Sie sich anschließend die ersten Zeilen der DataFrames an. Wieviele Spalten haben die beiden DataFrames?"
   ]
  },
  {
   "cell_type": "code",
   "execution_count": null,
   "metadata": {
    "collapsed": true
   },
   "outputs": [],
   "source": [
    "# Erstellung der DataFrames mit Dummy Variablen\n",
    "<FILL-IN> = dummyTransformer.<FILL-IN>\n",
    "<FILL-IN> = <FILL-IN>"
   ]
  },
  {
   "cell_type": "code",
   "execution_count": 31,
   "metadata": {},
   "outputs": [
    {
     "data": {
      "text/html": [
       "<div>\n",
       "<style>\n",
       "    .dataframe thead tr:only-child th {\n",
       "        text-align: right;\n",
       "    }\n",
       "\n",
       "    .dataframe thead th {\n",
       "        text-align: left;\n",
       "    }\n",
       "\n",
       "    .dataframe tbody tr th {\n",
       "        vertical-align: top;\n",
       "    }\n",
       "</style>\n",
       "<table border=\"1\" class=\"dataframe\">\n",
       "  <thead>\n",
       "    <tr style=\"text-align: right;\">\n",
       "      <th></th>\n",
       "      <th>BldgType=1Fam</th>\n",
       "      <th>BldgType=2fmCon</th>\n",
       "      <th>BldgType=Duplex</th>\n",
       "      <th>BldgType=Twnhs</th>\n",
       "      <th>BldgType=TwnhsE</th>\n",
       "      <th>BsmtCond=Fa</th>\n",
       "      <th>BsmtCond=Gd</th>\n",
       "      <th>BsmtCond=NaN</th>\n",
       "      <th>BsmtCond=Po</th>\n",
       "      <th>BsmtCond=TA</th>\n",
       "      <th>...</th>\n",
       "      <th>SaleType=ConLD</th>\n",
       "      <th>SaleType=ConLI</th>\n",
       "      <th>SaleType=ConLw</th>\n",
       "      <th>SaleType=New</th>\n",
       "      <th>SaleType=Oth</th>\n",
       "      <th>SaleType=WD</th>\n",
       "      <th>Street=Grvl</th>\n",
       "      <th>Street=Pave</th>\n",
       "      <th>Utilities=AllPub</th>\n",
       "      <th>Utilities=NoSeWa</th>\n",
       "    </tr>\n",
       "  </thead>\n",
       "  <tbody>\n",
       "    <tr>\n",
       "      <th>135</th>\n",
       "      <td>1.0</td>\n",
       "      <td>0.0</td>\n",
       "      <td>0.0</td>\n",
       "      <td>0.0</td>\n",
       "      <td>0.0</td>\n",
       "      <td>0.0</td>\n",
       "      <td>0.0</td>\n",
       "      <td>0.0</td>\n",
       "      <td>0.0</td>\n",
       "      <td>1.0</td>\n",
       "      <td>...</td>\n",
       "      <td>0.0</td>\n",
       "      <td>0.0</td>\n",
       "      <td>0.0</td>\n",
       "      <td>0.0</td>\n",
       "      <td>0.0</td>\n",
       "      <td>1.0</td>\n",
       "      <td>0.0</td>\n",
       "      <td>1.0</td>\n",
       "      <td>1.0</td>\n",
       "      <td>0.0</td>\n",
       "    </tr>\n",
       "    <tr>\n",
       "      <th>1452</th>\n",
       "      <td>0.0</td>\n",
       "      <td>0.0</td>\n",
       "      <td>0.0</td>\n",
       "      <td>0.0</td>\n",
       "      <td>1.0</td>\n",
       "      <td>0.0</td>\n",
       "      <td>0.0</td>\n",
       "      <td>0.0</td>\n",
       "      <td>0.0</td>\n",
       "      <td>1.0</td>\n",
       "      <td>...</td>\n",
       "      <td>0.0</td>\n",
       "      <td>0.0</td>\n",
       "      <td>0.0</td>\n",
       "      <td>0.0</td>\n",
       "      <td>0.0</td>\n",
       "      <td>1.0</td>\n",
       "      <td>0.0</td>\n",
       "      <td>1.0</td>\n",
       "      <td>1.0</td>\n",
       "      <td>0.0</td>\n",
       "    </tr>\n",
       "    <tr>\n",
       "      <th>762</th>\n",
       "      <td>1.0</td>\n",
       "      <td>0.0</td>\n",
       "      <td>0.0</td>\n",
       "      <td>0.0</td>\n",
       "      <td>0.0</td>\n",
       "      <td>0.0</td>\n",
       "      <td>0.0</td>\n",
       "      <td>0.0</td>\n",
       "      <td>0.0</td>\n",
       "      <td>1.0</td>\n",
       "      <td>...</td>\n",
       "      <td>0.0</td>\n",
       "      <td>0.0</td>\n",
       "      <td>0.0</td>\n",
       "      <td>0.0</td>\n",
       "      <td>0.0</td>\n",
       "      <td>0.0</td>\n",
       "      <td>0.0</td>\n",
       "      <td>1.0</td>\n",
       "      <td>1.0</td>\n",
       "      <td>0.0</td>\n",
       "    </tr>\n",
       "    <tr>\n",
       "      <th>932</th>\n",
       "      <td>1.0</td>\n",
       "      <td>0.0</td>\n",
       "      <td>0.0</td>\n",
       "      <td>0.0</td>\n",
       "      <td>0.0</td>\n",
       "      <td>0.0</td>\n",
       "      <td>1.0</td>\n",
       "      <td>0.0</td>\n",
       "      <td>0.0</td>\n",
       "      <td>0.0</td>\n",
       "      <td>...</td>\n",
       "      <td>0.0</td>\n",
       "      <td>0.0</td>\n",
       "      <td>0.0</td>\n",
       "      <td>0.0</td>\n",
       "      <td>0.0</td>\n",
       "      <td>1.0</td>\n",
       "      <td>0.0</td>\n",
       "      <td>1.0</td>\n",
       "      <td>1.0</td>\n",
       "      <td>0.0</td>\n",
       "    </tr>\n",
       "    <tr>\n",
       "      <th>435</th>\n",
       "      <td>1.0</td>\n",
       "      <td>0.0</td>\n",
       "      <td>0.0</td>\n",
       "      <td>0.0</td>\n",
       "      <td>0.0</td>\n",
       "      <td>0.0</td>\n",
       "      <td>0.0</td>\n",
       "      <td>0.0</td>\n",
       "      <td>0.0</td>\n",
       "      <td>1.0</td>\n",
       "      <td>...</td>\n",
       "      <td>0.0</td>\n",
       "      <td>0.0</td>\n",
       "      <td>1.0</td>\n",
       "      <td>0.0</td>\n",
       "      <td>0.0</td>\n",
       "      <td>0.0</td>\n",
       "      <td>0.0</td>\n",
       "      <td>1.0</td>\n",
       "      <td>1.0</td>\n",
       "      <td>0.0</td>\n",
       "    </tr>\n",
       "  </tbody>\n",
       "</table>\n",
       "<p>5 rows × 240 columns</p>\n",
       "</div>"
      ],
      "text/plain": [
       "      BldgType=1Fam  BldgType=2fmCon  BldgType=Duplex  BldgType=Twnhs  \\\n",
       "135             1.0              0.0              0.0             0.0   \n",
       "1452            0.0              0.0              0.0             0.0   \n",
       "762             1.0              0.0              0.0             0.0   \n",
       "932             1.0              0.0              0.0             0.0   \n",
       "435             1.0              0.0              0.0             0.0   \n",
       "\n",
       "      BldgType=TwnhsE  BsmtCond=Fa  BsmtCond=Gd  BsmtCond=NaN  BsmtCond=Po  \\\n",
       "135               0.0          0.0          0.0           0.0          0.0   \n",
       "1452              1.0          0.0          0.0           0.0          0.0   \n",
       "762               0.0          0.0          0.0           0.0          0.0   \n",
       "932               0.0          0.0          1.0           0.0          0.0   \n",
       "435               0.0          0.0          0.0           0.0          0.0   \n",
       "\n",
       "      BsmtCond=TA        ...         SaleType=ConLD  SaleType=ConLI  \\\n",
       "135           1.0        ...                    0.0             0.0   \n",
       "1452          1.0        ...                    0.0             0.0   \n",
       "762           1.0        ...                    0.0             0.0   \n",
       "932           0.0        ...                    0.0             0.0   \n",
       "435           1.0        ...                    0.0             0.0   \n",
       "\n",
       "      SaleType=ConLw  SaleType=New  SaleType=Oth  SaleType=WD  Street=Grvl  \\\n",
       "135              0.0           0.0           0.0          1.0          0.0   \n",
       "1452             0.0           0.0           0.0          1.0          0.0   \n",
       "762              0.0           0.0           0.0          0.0          0.0   \n",
       "932              0.0           0.0           0.0          1.0          0.0   \n",
       "435              1.0           0.0           0.0          0.0          0.0   \n",
       "\n",
       "      Street=Pave  Utilities=AllPub  Utilities=NoSeWa  \n",
       "135           1.0               1.0               0.0  \n",
       "1452          1.0               1.0               0.0  \n",
       "762           1.0               1.0               0.0  \n",
       "932           1.0               1.0               0.0  \n",
       "435           1.0               1.0               0.0  \n",
       "\n",
       "[5 rows x 240 columns]"
      ]
     },
     "execution_count": 31,
     "metadata": {},
     "output_type": "execute_result"
    }
   ],
   "source": [
    "# Lösung\n",
    "houses_train_cat_df = dummyTransformer.fit_transform(houses_train_cat)\n",
    "houses_test_cat_df = dummyTransformer.transform(houses_test_cat)\n",
    "houses_test_cat_df.head()\n",
    "houses_train_cat_df.head()"
   ]
  },
  {
   "cell_type": "markdown",
   "metadata": {},
   "source": [
    "\n",
    "Nun sind wir fast fertig mit dem **Preprocessing**.\n",
    "Wir müssen nur noch die kategorischen und numerischen Dataframes vereinigen. Nutzen Sie hierfür die **.join()** Methode, die  Sie direkt auf das numerische (kategorische) DataFrame anwenden können. Als Argument übergeben Sie bitte das kategorische (numerische) DataFrame. Der Join erfolg dann automatisch über den Index."
   ]
  },
  {
   "cell_type": "code",
   "execution_count": null,
   "metadata": {
    "collapsed": true
   },
   "outputs": [],
   "source": [
    "# Zusammenführen der numerischen und kategorischen Variablen\n",
    "houses_train_df = <FILL-IN>\n",
    "houses_test_df = <FILL-IN>\n",
    "houses_train_df.head()\n",
    "houses_test_df.head()"
   ]
  },
  {
   "cell_type": "code",
   "execution_count": 32,
   "metadata": {},
   "outputs": [
    {
     "data": {
      "text/html": [
       "<div>\n",
       "<style>\n",
       "    .dataframe thead tr:only-child th {\n",
       "        text-align: right;\n",
       "    }\n",
       "\n",
       "    .dataframe thead th {\n",
       "        text-align: left;\n",
       "    }\n",
       "\n",
       "    .dataframe tbody tr th {\n",
       "        vertical-align: top;\n",
       "    }\n",
       "</style>\n",
       "<table border=\"1\" class=\"dataframe\">\n",
       "  <thead>\n",
       "    <tr style=\"text-align: right;\">\n",
       "      <th></th>\n",
       "      <th>MSSubClass</th>\n",
       "      <th>LotFrontage</th>\n",
       "      <th>LotArea</th>\n",
       "      <th>OverallQual</th>\n",
       "      <th>OverallCond</th>\n",
       "      <th>YearBuilt</th>\n",
       "      <th>YearRemodAdd</th>\n",
       "      <th>MasVnrArea</th>\n",
       "      <th>BsmtFinSF1</th>\n",
       "      <th>BsmtFinSF2</th>\n",
       "      <th>...</th>\n",
       "      <th>SaleType=ConLD</th>\n",
       "      <th>SaleType=ConLI</th>\n",
       "      <th>SaleType=ConLw</th>\n",
       "      <th>SaleType=New</th>\n",
       "      <th>SaleType=Oth</th>\n",
       "      <th>SaleType=WD</th>\n",
       "      <th>Street=Grvl</th>\n",
       "      <th>Street=Pave</th>\n",
       "      <th>Utilities=AllPub</th>\n",
       "      <th>Utilities=NoSeWa</th>\n",
       "    </tr>\n",
       "  </thead>\n",
       "  <tbody>\n",
       "    <tr>\n",
       "      <th>892</th>\n",
       "      <td>20.0</td>\n",
       "      <td>70.0</td>\n",
       "      <td>8414.0</td>\n",
       "      <td>6.0</td>\n",
       "      <td>8.0</td>\n",
       "      <td>1963.0</td>\n",
       "      <td>2003.0</td>\n",
       "      <td>0.0</td>\n",
       "      <td>663.0</td>\n",
       "      <td>0.0</td>\n",
       "      <td>...</td>\n",
       "      <td>0.0</td>\n",
       "      <td>0.0</td>\n",
       "      <td>0.0</td>\n",
       "      <td>0.0</td>\n",
       "      <td>0.0</td>\n",
       "      <td>1.0</td>\n",
       "      <td>0.0</td>\n",
       "      <td>1.0</td>\n",
       "      <td>1.0</td>\n",
       "      <td>0.0</td>\n",
       "    </tr>\n",
       "    <tr>\n",
       "      <th>1105</th>\n",
       "      <td>60.0</td>\n",
       "      <td>98.0</td>\n",
       "      <td>12256.0</td>\n",
       "      <td>8.0</td>\n",
       "      <td>5.0</td>\n",
       "      <td>1994.0</td>\n",
       "      <td>1995.0</td>\n",
       "      <td>362.0</td>\n",
       "      <td>1032.0</td>\n",
       "      <td>0.0</td>\n",
       "      <td>...</td>\n",
       "      <td>0.0</td>\n",
       "      <td>0.0</td>\n",
       "      <td>0.0</td>\n",
       "      <td>0.0</td>\n",
       "      <td>0.0</td>\n",
       "      <td>1.0</td>\n",
       "      <td>0.0</td>\n",
       "      <td>1.0</td>\n",
       "      <td>1.0</td>\n",
       "      <td>0.0</td>\n",
       "    </tr>\n",
       "    <tr>\n",
       "      <th>413</th>\n",
       "      <td>30.0</td>\n",
       "      <td>56.0</td>\n",
       "      <td>8960.0</td>\n",
       "      <td>5.0</td>\n",
       "      <td>6.0</td>\n",
       "      <td>1927.0</td>\n",
       "      <td>1950.0</td>\n",
       "      <td>0.0</td>\n",
       "      <td>0.0</td>\n",
       "      <td>0.0</td>\n",
       "      <td>...</td>\n",
       "      <td>0.0</td>\n",
       "      <td>0.0</td>\n",
       "      <td>0.0</td>\n",
       "      <td>0.0</td>\n",
       "      <td>0.0</td>\n",
       "      <td>1.0</td>\n",
       "      <td>0.0</td>\n",
       "      <td>1.0</td>\n",
       "      <td>1.0</td>\n",
       "      <td>0.0</td>\n",
       "    </tr>\n",
       "    <tr>\n",
       "      <th>522</th>\n",
       "      <td>50.0</td>\n",
       "      <td>50.0</td>\n",
       "      <td>5000.0</td>\n",
       "      <td>6.0</td>\n",
       "      <td>7.0</td>\n",
       "      <td>1947.0</td>\n",
       "      <td>1950.0</td>\n",
       "      <td>0.0</td>\n",
       "      <td>399.0</td>\n",
       "      <td>0.0</td>\n",
       "      <td>...</td>\n",
       "      <td>0.0</td>\n",
       "      <td>0.0</td>\n",
       "      <td>0.0</td>\n",
       "      <td>0.0</td>\n",
       "      <td>0.0</td>\n",
       "      <td>1.0</td>\n",
       "      <td>0.0</td>\n",
       "      <td>1.0</td>\n",
       "      <td>1.0</td>\n",
       "      <td>0.0</td>\n",
       "    </tr>\n",
       "    <tr>\n",
       "      <th>1036</th>\n",
       "      <td>20.0</td>\n",
       "      <td>89.0</td>\n",
       "      <td>12898.0</td>\n",
       "      <td>9.0</td>\n",
       "      <td>5.0</td>\n",
       "      <td>2007.0</td>\n",
       "      <td>2008.0</td>\n",
       "      <td>70.0</td>\n",
       "      <td>1022.0</td>\n",
       "      <td>0.0</td>\n",
       "      <td>...</td>\n",
       "      <td>0.0</td>\n",
       "      <td>0.0</td>\n",
       "      <td>0.0</td>\n",
       "      <td>0.0</td>\n",
       "      <td>0.0</td>\n",
       "      <td>1.0</td>\n",
       "      <td>0.0</td>\n",
       "      <td>1.0</td>\n",
       "      <td>1.0</td>\n",
       "      <td>0.0</td>\n",
       "    </tr>\n",
       "  </tbody>\n",
       "</table>\n",
       "<p>5 rows × 277 columns</p>\n",
       "</div>"
      ],
      "text/plain": [
       "      MSSubClass  LotFrontage  LotArea  OverallQual  OverallCond  YearBuilt  \\\n",
       "892         20.0         70.0   8414.0          6.0          8.0     1963.0   \n",
       "1105        60.0         98.0  12256.0          8.0          5.0     1994.0   \n",
       "413         30.0         56.0   8960.0          5.0          6.0     1927.0   \n",
       "522         50.0         50.0   5000.0          6.0          7.0     1947.0   \n",
       "1036        20.0         89.0  12898.0          9.0          5.0     2007.0   \n",
       "\n",
       "      YearRemodAdd  MasVnrArea  BsmtFinSF1  BsmtFinSF2        ...         \\\n",
       "892         2003.0         0.0       663.0         0.0        ...          \n",
       "1105        1995.0       362.0      1032.0         0.0        ...          \n",
       "413         1950.0         0.0         0.0         0.0        ...          \n",
       "522         1950.0         0.0       399.0         0.0        ...          \n",
       "1036        2008.0        70.0      1022.0         0.0        ...          \n",
       "\n",
       "      SaleType=ConLD  SaleType=ConLI  SaleType=ConLw  SaleType=New  \\\n",
       "892              0.0             0.0             0.0           0.0   \n",
       "1105             0.0             0.0             0.0           0.0   \n",
       "413              0.0             0.0             0.0           0.0   \n",
       "522              0.0             0.0             0.0           0.0   \n",
       "1036             0.0             0.0             0.0           0.0   \n",
       "\n",
       "      SaleType=Oth  SaleType=WD  Street=Grvl  Street=Pave  Utilities=AllPub  \\\n",
       "892            0.0          1.0          0.0          1.0               1.0   \n",
       "1105           0.0          1.0          0.0          1.0               1.0   \n",
       "413            0.0          1.0          0.0          1.0               1.0   \n",
       "522            0.0          1.0          0.0          1.0               1.0   \n",
       "1036           0.0          1.0          0.0          1.0               1.0   \n",
       "\n",
       "      Utilities=NoSeWa  \n",
       "892                0.0  \n",
       "1105               0.0  \n",
       "413                0.0  \n",
       "522                0.0  \n",
       "1036               0.0  \n",
       "\n",
       "[5 rows x 277 columns]"
      ]
     },
     "execution_count": 32,
     "metadata": {},
     "output_type": "execute_result"
    }
   ],
   "source": [
    "# Lösung\n",
    "houses_train_df = houses_train_num_df.join(houses_train_cat_df)\n",
    "houses_test_df = houses_test_num_df.join(houses_test_cat_df)\n",
    "houses_train_df.head()\n",
    "houses_test_df.head()"
   ]
  },
  {
   "cell_type": "code",
   "execution_count": 33,
   "metadata": {},
   "outputs": [
    {
     "data": {
      "text/plain": [
       "0"
      ]
     },
     "execution_count": 33,
     "metadata": {},
     "output_type": "execute_result"
    }
   ],
   "source": [
    "# Überprüfen Sie ob ein Wert NaN ist\n",
    "houses_train_df.isnull().any().sum()\n",
    "houses_test_df.isnull().any().sum()"
   ]
  },
  {
   "cell_type": "markdown",
   "metadata": {},
   "source": [
    "## Trainieren der Modelle\n",
    "Nun sind wir fast soweit, dass wir unsere Modelle trainieren können. Jedoch müssen wir noch unser Target Label **SalePrice** abspalten. Wir definieren den Teil des DataFrames ohne Targetlabel als **X_train** **(X_test)** und die Pandas Series des Target Labels als **y_train** **(y_test)**.\n",
    "\n",
    "Für X_test (X_train) droppen Sie bitte das Target Label und für y_train (y_test) selektieren Sie bitte nur das Targetlabel."
   ]
  },
  {
   "cell_type": "code",
   "execution_count": null,
   "metadata": {
    "collapsed": true
   },
   "outputs": [],
   "source": [
    "# Lösung\n",
    "X_train = <FILL-IN>\n",
    "X_test = <FILL-IN>\n",
    "\n",
    "y_train = <FILL-IN>\n",
    "y_test = <FILL-IN>"
   ]
  },
  {
   "cell_type": "code",
   "execution_count": 34,
   "metadata": {
    "collapsed": true
   },
   "outputs": [],
   "source": [
    "# Lösung\n",
    "X_train = houses_train_df.drop('SalePrice', axis=1)\n",
    "X_test = houses_test_df.drop('SalePrice', axis=1)\n",
    "\n",
    "y_train = houses_train_df['SalePrice']\n",
    "y_test = houses_test_df['SalePrice']"
   ]
  },
  {
   "cell_type": "markdown",
   "metadata": {},
   "source": [
    "### DecisionTreeRegressor\n",
    "\n",
    "Als erstes Modell wollen wir einen Regressionsbaum trainieren. Hierfür laden wir foldenes Modul."
   ]
  },
  {
   "cell_type": "code",
   "execution_count": 35,
   "metadata": {
    "collapsed": true
   },
   "outputs": [],
   "source": [
    "# import des Machine Learning Modells\n",
    "from sklearn.tree import DecisionTreeRegressor "
   ]
  },
  {
   "cell_type": "markdown",
   "metadata": {},
   "source": [
    "Erstellen Sie nun Bitte ein Objekt der Klasse **DecisionTreeRegressor** mit dem namen **tree_reg**. Sie brauchen keine Argumente übergeben.\n",
    "\n",
    "Schauen Sie sich jedoch einige der optionalen Paramter mit *Shift+Tab* oder auf der Webpage http://scikit-learn.org/stable/modules/generated/sklearn.tree.DecisionTreeRegressor.html an."
   ]
  },
  {
   "cell_type": "code",
   "execution_count": null,
   "metadata": {
    "collapsed": true
   },
   "outputs": [],
   "source": [
    "# Erstellen des Objekts tree_reg\n",
    "<FILL-IN> = <FILL-IN>"
   ]
  },
  {
   "cell_type": "code",
   "execution_count": 36,
   "metadata": {
    "collapsed": true
   },
   "outputs": [],
   "source": [
    "# Lösung\n",
    "# Erstellen des Objekts\n",
    "tree_reg = DecisionTreeRegressor()"
   ]
  },
  {
   "cell_type": "markdown",
   "metadata": {},
   "source": [
    "Nun nutzen wir die **fit(x,y)** Methode des Objekts. Nutzen Sie hierfür den Trainingsdatensatz (X_train, y_train) als Argumente der Methode. Der Rückgabewert dieser Methode ist das Objekt selbst, nur diesmal mit *gefitteten* Modellparametern."
   ]
  },
  {
   "cell_type": "code",
   "execution_count": null,
   "metadata": {
    "collapsed": true
   },
   "outputs": [],
   "source": [
    "# Fit\n",
    "tree_reg.<FILL-IN>"
   ]
  },
  {
   "cell_type": "code",
   "execution_count": 37,
   "metadata": {},
   "outputs": [
    {
     "data": {
      "text/plain": [
       "DecisionTreeRegressor(criterion='mse', max_depth=None, max_features=None,\n",
       "           max_leaf_nodes=None, min_impurity_decrease=0.0,\n",
       "           min_impurity_split=None, min_samples_leaf=1,\n",
       "           min_samples_split=2, min_weight_fraction_leaf=0.0,\n",
       "           presort=False, random_state=None, splitter='best')"
      ]
     },
     "execution_count": 37,
     "metadata": {},
     "output_type": "execute_result"
    }
   ],
   "source": [
    "# lösung\n",
    "tree_reg.fit(X_train, y_train)"
   ]
  },
  {
   "cell_type": "markdown",
   "metadata": {},
   "source": [
    "Anstatt **transform()** Methoden haben Machine Learning Modelle in der Regel predict(x) Methoden. Auch hier verweisen wir wieder auf die Webpage http://scikit-learn.org/stable/modules/generated/sklearn.tree.DecisionTreeRegressor.html.\n",
    "\n",
    "Wir wollen nun die **predict(x)** Methode mit dem Testdatensatz anwenden um Vorhersagen für die Hauspreise zu machen."
   ]
  },
  {
   "cell_type": "code",
   "execution_count": null,
   "metadata": {
    "collapsed": true
   },
   "outputs": [],
   "source": [
    "# predict\n",
    "tree_reg.<FILL-IN>"
   ]
  },
  {
   "cell_type": "code",
   "execution_count": 38,
   "metadata": {},
   "outputs": [
    {
     "data": {
      "text/plain": [
       "array([ 128000.,  313000.,  110500.,  187000.,  377500.,   81000.,\n",
       "        176000.,  148500.,   81000.,  139500.,  200100.,  125000.,\n",
       "        108500.,  174000.,  179000.,  119000.,  194500.,  141000.,\n",
       "        108000.,  192000.,  139600.,  229456.,  173900.,  129900.,\n",
       "        179900.,  185000.,  176485.,   82500.,  175000.,  196000.,\n",
       "        116000.,  214000.,  140000.,  110000.,  256300.,  136500.,\n",
       "        140000.,  195000.,  235000.,  100000.,  116000.,  233000.,\n",
       "        125000.,  440000.,  149000.,  131500.,  125000.,  129900.,\n",
       "        412500.,  148000.,  118000.,  166000.,  112000.,  235000.,\n",
       "        140000.,  215000.,  196500.,  146800.,  132500.,   90350.,\n",
       "         72500.,  153000.,  302000.,  229456.,  392500.,  272000.,\n",
       "        121000.,  285000.,  123500.,  168500.,  118964.,  125000.,\n",
       "        110000.,   90000.,  184750.,  176432.,  235000.,  328000.,\n",
       "        138800.,  133000.,   83000.,   79900.,  143250.,  106000.,\n",
       "        163990.,  132500.,  252000.,  192000.,  136500.,  141000.,\n",
       "         95000.,  172000.,  127500.,  328000.,  139500.,  179000.,\n",
       "        129900.,  151000.,  190000.,  215000.,  223000.,  180000.,\n",
       "        375000.,  116900.,  182900.,  186500.,  176000.,  278000.,\n",
       "        156000.,  165150.,   55000.,  118000.,  124500.,   93000.,\n",
       "        213250.,  110500.,  129500.,  109900.,  163000.,  270000.,\n",
       "        171750.,  136500.,  175000.,  181000.,  179200.,  144000.,\n",
       "        233000.,   78000.,  157000.,  197900.,  186500.,  440000.,\n",
       "        185000.,  107400.,  113000.,  320000.,  325000.,  125000.,\n",
       "        214000.,  745000.,  278000.,  114500.,  172785.,  137450.,\n",
       "        160000.,  125500.,  222000.,  180000.,  145000.,   58500.,\n",
       "        105000.,  129900.,  237500.,  165500.,   60000.,  140000.,\n",
       "        131500.,  162000.,   52000.,  122000.,  392500.,  142500.,\n",
       "        270000.,  127000.,  117000.,   79000.,  151000.,  386250.,\n",
       "        386250.,  200000.,  326000.,  100000.,   89500.,  155000.,\n",
       "        303477.,  139600.,  138887.,  210000.,  127000.,  173000.,\n",
       "        163000.,   88000.,  131000.,  144000.,  235000.,  143000.,\n",
       "        270000.,  213490.,  202665.,  108500.,  123000.,  110500.,\n",
       "        121000.,  136500.,  194700.,  177500.,  189000.,  100000.,\n",
       "        184100.,   99900.,  302000.,  176000.,  147000.,  303477.,\n",
       "        179900.,  141000.,  345000.,  151000.,  145000.,  109500.,\n",
       "        226000.,   98300.,   97000.,  173000.,   82500.,  270000.,\n",
       "        159895.,  132000.,   85000.,  110000.,  135960.,  202500.,\n",
       "        228950.,  113000.,  233230.,  140000.,  112000.,  100000.,\n",
       "        187000.,  120000.,  100000.,  185000.,  127500.,  170000.,\n",
       "        212000.,  177000.,  185500.,  140000.,  215000.,  125000.,\n",
       "        134900.,  268000.,  200000.,  361919.,  127000.,  128000.,\n",
       "        180500.,  145500.,  134000.,  113000.,  167500.,  172500.,\n",
       "        124900.,   99900.,  154000.,  140000.,   79900.,  112000.,\n",
       "        173000.,  235000.,  250000.,  165000.,  133500.,  192500.,\n",
       "        252678.,  181000.,  164000.,  140000.,  145000.,  178000.,\n",
       "        326000.,  212000.,  239799.,   83000.,   90000.,  149000.,\n",
       "        130000.,  440000.,  181900.,  145000.,  221000.,   89500.,\n",
       "        186500.,  124000.,  318000.,  167000.,  223500.,  120500.,\n",
       "        200000.,  141000.,  128000.,  110000.,  170000.,  168000.,\n",
       "        124000.,  133000.,  140200.,  123000.,  174000.,  120000.,\n",
       "        158000.,  233230.,  122000.,  169900.,  176500.,  205000.,\n",
       "        167000.,  179000.,  186500.,  117500.,  155000.,  210000.,\n",
       "        130000.,  206900.,   93000.,  168000.,  176000.,  171900.,\n",
       "        302000.,   90000.,  248328.,  142000.,  117000.,  105000.,\n",
       "        165150.,  172000.,  144000.,  194000.,  223000.,  110000.,\n",
       "        143500.,  175000.,  136500.,  175500.,  171900.,  143250.,\n",
       "         98300.,  128000.,   81000.,  222000.,  186500.,  135000.,\n",
       "        159434.,  186500.,  215000.,  269500.,  312500.,  109500.,\n",
       "        256000.,  100000.,  303477.,  303477.,  290000.,  165000.,\n",
       "        256300.,  114500.,  133500.,  124000.,  208500.,  301500.,\n",
       "        181000.,   99500.,  270000.,  200000.,  136500.,  181000.,\n",
       "        147500.,  127500.,  139500.,  148000.,  121000.,  175000.,\n",
       "        151000.,  220000.,  157000.,  113000.,  215000.,  180000.,\n",
       "         89500.,  176500.,  152000.,  186700.,  183200.,  137500.,\n",
       "        215000.,  230500.,  164900.,   90000.,  255900.,  197500.,\n",
       "        102000.,  139600.,  132000.,  147000.,  145000.,  350000.,\n",
       "        146000.,  225000.,  185000.,  175000.,  163990.,  336000.,\n",
       "        138887.,  125000.,  119000.,  100000.,  221000.,  110000.,\n",
       "        256000.,  250580.,  180000.,  210000.,   79000.,  307000.,\n",
       "        168500.,  326000.,  110000.,  354000.,  270000.,  136500.,\n",
       "        233000.,  236500.,  250580.,  179900.,  222000.,  140000.,\n",
       "        198900.,  141000.,  188500.,  226000.,  125000.,  155000.,\n",
       "        228950.,  142000.,  113000.,  224500.,  122900.,  386250.])"
      ]
     },
     "execution_count": 38,
     "metadata": {},
     "output_type": "execute_result"
    }
   ],
   "source": [
    "# Lösung\n",
    "tree_reg.predict(X_test)"
   ]
  },
  {
   "cell_type": "markdown",
   "metadata": {},
   "source": [
    "Der Rückgabewert für die Vorhersagen ist wieder ein Numpy Array. Aus diesem und den exakten Werten wollen wir nun ein Ergebnis DataFrame namens **results** erstellen.\n",
    "\n",
    "Fügen Sie bitte an das DataFrame eine Spalte namens **pred** mit den Vorhersageergebnissen aus der predict Methode. Schauen Sie sich dann die ersten 20 Zeilen des DataFrames an."
   ]
  },
  {
   "cell_type": "code",
   "execution_count": null,
   "metadata": {
    "collapsed": true
   },
   "outputs": [],
   "source": [
    "# Lösung\n",
    "results = houses_test_df[['SalePrice']].copy()\n",
    "<FILL-IN> = <FILL-IN> \n",
    "<FILL-IN>"
   ]
  },
  {
   "cell_type": "code",
   "execution_count": 39,
   "metadata": {},
   "outputs": [
    {
     "data": {
      "text/html": [
       "<div>\n",
       "<style>\n",
       "    .dataframe thead tr:only-child th {\n",
       "        text-align: right;\n",
       "    }\n",
       "\n",
       "    .dataframe thead th {\n",
       "        text-align: left;\n",
       "    }\n",
       "\n",
       "    .dataframe tbody tr th {\n",
       "        vertical-align: top;\n",
       "    }\n",
       "</style>\n",
       "<table border=\"1\" class=\"dataframe\">\n",
       "  <thead>\n",
       "    <tr style=\"text-align: right;\">\n",
       "      <th></th>\n",
       "      <th>SalePrice</th>\n",
       "      <th>pred</th>\n",
       "    </tr>\n",
       "  </thead>\n",
       "  <tbody>\n",
       "    <tr>\n",
       "      <th>892</th>\n",
       "      <td>154500.0</td>\n",
       "      <td>128000.0</td>\n",
       "    </tr>\n",
       "    <tr>\n",
       "      <th>1105</th>\n",
       "      <td>325000.0</td>\n",
       "      <td>313000.0</td>\n",
       "    </tr>\n",
       "    <tr>\n",
       "      <th>413</th>\n",
       "      <td>115000.0</td>\n",
       "      <td>110500.0</td>\n",
       "    </tr>\n",
       "    <tr>\n",
       "      <th>522</th>\n",
       "      <td>159000.0</td>\n",
       "      <td>187000.0</td>\n",
       "    </tr>\n",
       "    <tr>\n",
       "      <th>1036</th>\n",
       "      <td>315500.0</td>\n",
       "      <td>377500.0</td>\n",
       "    </tr>\n",
       "    <tr>\n",
       "      <th>614</th>\n",
       "      <td>75500.0</td>\n",
       "      <td>81000.0</td>\n",
       "    </tr>\n",
       "    <tr>\n",
       "      <th>218</th>\n",
       "      <td>311500.0</td>\n",
       "      <td>176000.0</td>\n",
       "    </tr>\n",
       "    <tr>\n",
       "      <th>1160</th>\n",
       "      <td>146000.0</td>\n",
       "      <td>148500.0</td>\n",
       "    </tr>\n",
       "    <tr>\n",
       "      <th>649</th>\n",
       "      <td>84500.0</td>\n",
       "      <td>81000.0</td>\n",
       "    </tr>\n",
       "    <tr>\n",
       "      <th>887</th>\n",
       "      <td>135500.0</td>\n",
       "      <td>139500.0</td>\n",
       "    </tr>\n",
       "    <tr>\n",
       "      <th>576</th>\n",
       "      <td>145000.0</td>\n",
       "      <td>200100.0</td>\n",
       "    </tr>\n",
       "    <tr>\n",
       "      <th>1252</th>\n",
       "      <td>130000.0</td>\n",
       "      <td>125000.0</td>\n",
       "    </tr>\n",
       "    <tr>\n",
       "      <th>1061</th>\n",
       "      <td>81000.0</td>\n",
       "      <td>108500.0</td>\n",
       "    </tr>\n",
       "    <tr>\n",
       "      <th>567</th>\n",
       "      <td>214000.0</td>\n",
       "      <td>174000.0</td>\n",
       "    </tr>\n",
       "    <tr>\n",
       "      <th>1108</th>\n",
       "      <td>181000.0</td>\n",
       "      <td>179000.0</td>\n",
       "    </tr>\n",
       "    <tr>\n",
       "      <th>1113</th>\n",
       "      <td>134500.0</td>\n",
       "      <td>119000.0</td>\n",
       "    </tr>\n",
       "    <tr>\n",
       "      <th>168</th>\n",
       "      <td>183500.0</td>\n",
       "      <td>194500.0</td>\n",
       "    </tr>\n",
       "    <tr>\n",
       "      <th>1102</th>\n",
       "      <td>135000.0</td>\n",
       "      <td>141000.0</td>\n",
       "    </tr>\n",
       "    <tr>\n",
       "      <th>1120</th>\n",
       "      <td>118400.0</td>\n",
       "      <td>108000.0</td>\n",
       "    </tr>\n",
       "    <tr>\n",
       "      <th>67</th>\n",
       "      <td>226000.0</td>\n",
       "      <td>192000.0</td>\n",
       "    </tr>\n",
       "  </tbody>\n",
       "</table>\n",
       "</div>"
      ],
      "text/plain": [
       "      SalePrice      pred\n",
       "892    154500.0  128000.0\n",
       "1105   325000.0  313000.0\n",
       "413    115000.0  110500.0\n",
       "522    159000.0  187000.0\n",
       "1036   315500.0  377500.0\n",
       "614     75500.0   81000.0\n",
       "218    311500.0  176000.0\n",
       "1160   146000.0  148500.0\n",
       "649     84500.0   81000.0\n",
       "887    135500.0  139500.0\n",
       "576    145000.0  200100.0\n",
       "1252   130000.0  125000.0\n",
       "1061    81000.0  108500.0\n",
       "567    214000.0  174000.0\n",
       "1108   181000.0  179000.0\n",
       "1113   134500.0  119000.0\n",
       "168    183500.0  194500.0\n",
       "1102   135000.0  141000.0\n",
       "1120   118400.0  108000.0\n",
       "67     226000.0  192000.0"
      ]
     },
     "execution_count": 39,
     "metadata": {},
     "output_type": "execute_result"
    }
   ],
   "source": [
    "# Lösung\n",
    "results = houses_test_df[['SalePrice']].copy()\n",
    "results['pred'] = tree_reg.predict(X_test)\n",
    "results.head(20)"
   ]
  },
  {
   "cell_type": "markdown",
   "metadata": {},
   "source": [
    "### Evaluation der Ergebnisse\n",
    "Auf den ersten Blick sehen unsere Ergebnisse nicht schlecht aus. Wir wollen diese nun genauer betrachten und uns zwei Metriken anschauen.\n",
    "\n",
    "Zunächst berechnen Sie bitte den absolute mean error. Hierfür fügen Sie bitte zunächst eine neue Spalte an das DataFrame **results** mit dem Namen *absDeviation* und füllen diese mit den Beträgen der Abweichungen von **SalePrice** und **pred**. Um die Beträge zu erhalten benutzen Sie bitte die Funktion np.abs().\n",
    "\n",
    "Anschließend bilden Sie den Mittelwert der Spalte **absDeviation**. Dieser Wert ist dann der mean_absolute_error und beschreibt quasi wieviel wir im Mittel vom richtigen Ergebnis abweichen."
   ]
  },
  {
   "cell_type": "code",
   "execution_count": null,
   "metadata": {
    "collapsed": true
   },
   "outputs": [],
   "source": [
    "results['absDeviation'] = np.<FILL-IN>(<FILL-IN> - <FILL-IN>)\n",
    "results.head()\n",
    "results.<FILL-IN>"
   ]
  },
  {
   "cell_type": "code",
   "execution_count": 40,
   "metadata": {},
   "outputs": [
    {
     "data": {
      "text/plain": [
       "25707.223744292238"
      ]
     },
     "execution_count": 40,
     "metadata": {},
     "output_type": "execute_result"
    }
   ],
   "source": [
    "# Lösung\n",
    "results['absDeviation'] = np.abs(results['SalePrice'] - results['pred'])\n",
    "results.head()\n",
    "results.absDeviation.mean()"
   ]
  },
  {
   "cell_type": "markdown",
   "metadata": {},
   "source": [
    "Wir können diese Metrik auch viel einfacher berechnen. Dafür laden wir die Methode **mean_absolute_error** von sklearn.metric. Importieren Sie diese Methode und wenden Sie diese an. Hoffentlich erhalten Sie das gleiche Ergebnis wie bei ihrere manuellen Berechnung."
   ]
  },
  {
   "cell_type": "code",
   "execution_count": null,
   "metadata": {
    "collapsed": true
   },
   "outputs": [],
   "source": [
    "# import\n",
    "from sklearn.<FILL-IN> import <FILL-IN>"
   ]
  },
  {
   "cell_type": "code",
   "execution_count": null,
   "metadata": {
    "collapsed": true
   },
   "outputs": [],
   "source": [
    "# mae\n",
    "mean_absolute_error(<FILL-IN>, <FILL-IN>)"
   ]
  },
  {
   "cell_type": "code",
   "execution_count": 41,
   "metadata": {
    "collapsed": true
   },
   "outputs": [],
   "source": [
    "# Lösung\n",
    "from sklearn.metrics import mean_absolute_error"
   ]
  },
  {
   "cell_type": "code",
   "execution_count": 42,
   "metadata": {},
   "outputs": [
    {
     "data": {
      "text/plain": [
       "25707.223744292238"
      ]
     },
     "execution_count": 42,
     "metadata": {},
     "output_type": "execute_result"
    }
   ],
   "source": [
    "# Lösung\n",
    "mean_absolute_error(results['SalePrice'], results['pred'])"
   ]
  },
  {
   "cell_type": "markdown",
   "metadata": {},
   "source": [
    "Diese Metrik ist sehr wahrscheinlich nicht ideal, da wir eine große Reichweite an verschiedenen Hauspreisen haben. Es gibt weitere Metriken, die den Fehler daher normieren.\n",
    "\n",
    "Ein besseres Maß für die Güte des Regressionsmodells ist das Bestimmtheitsmaß oder Determinationskoeffizient. Bei einer einfachen Regression entspricht dieser Koeffizient dem Quadrat des Pearson Korrelationskoeffizients $r_{xy}$ (siehe oben).\n",
    "\n",
    "Bei einem perfekten Modell sollten unsere Vorhersagen y_pred und die tatsächlichen Werte y_test eine Winkelhalbierende bilden, wenn man Sie gegeneinander aufträgt.\n",
    "\n",
    "Überprüfen Sie dies bitte mit der Methode **lmplot()** von seaborn. Wie sieht dieser Plot aus?"
   ]
  },
  {
   "cell_type": "code",
   "execution_count": null,
   "metadata": {
    "collapsed": true
   },
   "outputs": [],
   "source": [
    "# ideal wäre es wenn alle Werte auf der Winkelhalbierenden liegen\n",
    "sns.lmplot(x=<FILL-IN>, y=<FILL-IN>, data=<FILL-IN>)"
   ]
  },
  {
   "cell_type": "code",
   "execution_count": 43,
   "metadata": {},
   "outputs": [
    {
     "data": {
      "text/plain": [
       "<seaborn.axisgrid.FacetGrid at 0x7fe8a47dab50>"
      ]
     },
     "execution_count": 43,
     "metadata": {},
     "output_type": "execute_result"
    },
    {
     "data": {
      "image/png": "[encoded data removed]",
      "text/plain": [
       "<matplotlib.figure.Figure at 0x7fe8a47da1d0>"
      ]
     },
     "metadata": {},
     "output_type": "display_data"
    }
   ],
   "source": [
    "# Lösung\n",
    "# ideal wäre es wenn alle Werte auf der Winkelhalbierenden liegen\n",
    "sns.lmplot(x='SalePrice', y='pred', data=results)"
   ]
  },
  {
   "cell_type": "markdown",
   "metadata": {},
   "source": [
    "Schauen Sie sich außerdem die Verteilung der Residuen, also der Abweichungen des exakten Ergebnis vom Modellergebnis an. Idealerweise sollten diese Normalverteilt sein. Wenn Sie eine ganz andere Verteilung beobachte, dann haben sie vielleicht ein falsches Modell gewählt. Nutzen Sie hierfür die Methode **displot()**."
   ]
  },
  {
   "cell_type": "code",
   "execution_count": null,
   "metadata": {
    "collapsed": true
   },
   "outputs": [],
   "source": [
    "# Verteilung der Residuen\n",
    "sns.distplot(<FILL-IN>)"
   ]
  },
  {
   "cell_type": "code",
   "execution_count": 44,
   "metadata": {},
   "outputs": [
    {
     "data": {
      "text/plain": [
       "<matplotlib.axes._subplots.AxesSubplot at 0x7fe8a7933050>"
      ]
     },
     "execution_count": 44,
     "metadata": {},
     "output_type": "execute_result"
    },
    {
     "data": {
      "image/png": "[encoded data removed]",
      "text/plain": [
       "<matplotlib.figure.Figure at 0x7fe8a40b8a90>"
      ]
     },
     "metadata": {},
     "output_type": "display_data"
    }
   ],
   "source": [
    "# Lösung\n",
    "# Fehler soltlen normalverteilt sein. Ansonsten hat man irgendwas komplett falsch gemacht\n",
    "sns.distplot(results['SalePrice'] - results['pred'])"
   ]
  },
  {
   "cell_type": "markdown",
   "metadata": {},
   "source": [
    "Berechnen Sie nun den r2_score, also das Quadrat der Pearson Korrelationskoeffizienten. Dafür nutzen Sie bitte die Methode **r2_score** aus dem Modul sklearn.metrics."
   ]
  },
  {
   "cell_type": "code",
   "execution_count": 45,
   "metadata": {
    "collapsed": true
   },
   "outputs": [],
   "source": [
    "# Import\n",
    "from sklearn.metrics import r2_score"
   ]
  },
  {
   "cell_type": "code",
   "execution_count": null,
   "metadata": {
    "collapsed": true
   },
   "outputs": [],
   "source": [
    "# r2_score\n",
    "<FILL-IN>"
   ]
  },
  {
   "cell_type": "code",
   "execution_count": 46,
   "metadata": {
    "collapsed": true
   },
   "outputs": [],
   "source": [
    "# Lösung\n",
    "from sklearn.metrics import r2_score"
   ]
  },
  {
   "cell_type": "code",
   "execution_count": 47,
   "metadata": {},
   "outputs": [
    {
     "data": {
      "text/plain": [
       "0.72594569657408037"
      ]
     },
     "execution_count": 47,
     "metadata": {},
     "output_type": "execute_result"
    }
   ],
   "source": [
    "# Lösung\n",
    "r2_score(results['SalePrice'], results['pred'])"
   ]
  },
  {
   "cell_type": "markdown",
   "metadata": {},
   "source": [
    "Ein Ergebnis von 1 wäre prefekt, eins von 0 wäre schlecht. Vereinfacht kann man annehmen, dass die Interpretation dieser Metrik ähnlich ist wie die des Korrelationskoeffizienten."
   ]
  },
  {
   "cell_type": "markdown",
   "metadata": {},
   "source": [
    "**Bonus:** Stellen Sie sich vor, dass sie nur ein Feature X haben und ein Targetlabel y. Wenn Sie nun einen Baum trainieren, wieviele Dimensionen hat ihr HyperCube? Zeichnen Sie per Hand einen Scatterplot für einen linearen Zusammenhand zwischen x und y. Zeichnen Sie qualitativ vier HyperCubes ein und die \"Vorhersagekurve\" des Entscheidungsbaums. Zeichnen Sie zusätzlich grob eine lineare Regressionsgerade."
   ]
  },
  {
   "cell_type": "markdown",
   "metadata": {},
   "source": [
    "### Visualisierung des Baums"
   ]
  },
  {
   "cell_type": "markdown",
   "metadata": {},
   "source": [
    "Wir wollen nun einen Regressionsbaum visualisieren. Da wir zu viele Features haben und der Baum komplett ausgebaut wird erstellen wir einen neuen Baum und definieren die Tiefe des Baums mit dem Hyperparameter **max_depth**.\n",
    "\n",
    "Aufgabe: Erstellen Sie einen neuen DecisionTreeRegressor mit **max_depth = 3** und nennen Sie dieses Objekt **tree_reg_fixDepth**. Anschließend fitten Sie dieses Modell wieder."
   ]
  },
  {
   "cell_type": "code",
   "execution_count": null,
   "metadata": {
    "collapsed": true
   },
   "outputs": [],
   "source": [
    "# Lösung\n",
    "tree_reg_fixDepth = <FILL-IN>\n",
    "<FILL-IN>"
   ]
  },
  {
   "cell_type": "code",
   "execution_count": 48,
   "metadata": {},
   "outputs": [
    {
     "data": {
      "text/plain": [
       "DecisionTreeRegressor(criterion='mse', max_depth=3, max_features=None,\n",
       "           max_leaf_nodes=None, min_impurity_decrease=0.0,\n",
       "           min_impurity_split=None, min_samples_leaf=1,\n",
       "           min_samples_split=2, min_weight_fraction_leaf=0.0,\n",
       "           presort=False, random_state=None, splitter='best')"
      ]
     },
     "execution_count": 48,
     "metadata": {},
     "output_type": "execute_result"
    }
   ],
   "source": [
    "# Lösung\n",
    "tree_reg_fixDepth = DecisionTreeRegressor(max_depth=3)\n",
    "tree_reg_fixDepth.fit(X_train, y_train)"
   ]
  },
  {
   "cell_type": "markdown",
   "metadata": {},
   "source": [
    "Für die Visualisierung verwenden wir die Methode **export_graphviz** von sklearn.tree. Anschließend verwenden wir diese und erstellen eine Textfile, welche gerendert werden kann."
   ]
  },
  {
   "cell_type": "code",
   "execution_count": 49,
   "metadata": {
    "collapsed": true
   },
   "outputs": [],
   "source": [
    "from sklearn.tree import export_graphviz"
   ]
  },
  {
   "cell_type": "code",
   "execution_count": 50,
   "metadata": {
    "collapsed": true
   },
   "outputs": [],
   "source": [
    "export_graphviz(tree_reg_fixDepth, out_file=\"tree.dot\",\n",
    "                feature_names=X_train.columns.tolist(),\n",
    "                filled=True, rounded=True)"
   ]
  },
  {
   "cell_type": "markdown",
   "metadata": {},
   "source": [
    "Since there is no package on the server installed which can render the tree dot-file, we will use a web application.\n",
    "Please copy the output of the *tree.dot* file (in your jupyter folder) into the window of the webpage http://webgraphviz.com/.\n",
    "\n",
    "Can you describe the plot? Please try to recompute some of the *values* and *samples* of the first two levels.\n",
    "\n",
    "Da wir auf dem Server kein Paket zum *Rendern* des Trees installiert haben, benutzen wir eine Webanwendungen.\n",
    "Kopieren Sie dafür den Output der erstellten Datei *tree.dot* (in ihrem Ordner) in das Fenster auf der Webpage \n",
    "\n",
    "Können Sie den angezeigten Baum beschreiben? **Versuchen sie die *values* und *samples* der ersten und zweiten manuell zu berechnen**."
   ]
  },
  {
   "cell_type": "code",
   "execution_count": null,
   "metadata": {
    "collapsed": true
   },
   "outputs": [],
   "source": [
    "# Berechnung einiger Werte im Tree"
   ]
  },
  {
   "cell_type": "code",
   "execution_count": 51,
   "metadata": {},
   "outputs": [
    {
     "data": {
      "text/plain": [
       "859"
      ]
     },
     "execution_count": 51,
     "metadata": {},
     "output_type": "execute_result"
    }
   ],
   "source": [
    "# Lösung\n",
    "houses_train_num_df[(houses_train_num_df.OverallQual <= 7.5)]['SalePrice'].mean()\n",
    "len(houses_train_num_df[(houses_train_num_df.OverallQual <= 7.5)]['SalePrice'])"
   ]
  },
  {
   "cell_type": "markdown",
   "metadata": {},
   "source": [
    "Obwohl der Baum nicht so tief ausgebaut wurde ist er nicht viel schlechter als der komplett ausgebaute Baum. Schauen Sie sich den **r2_score** an. Warum ist dieser Baum nicht viel schlechter?\n",
    "\n",
    "Um die Tiefe des anderen Baums zu erhalten, extrahieren Sie bitte den Ausdruch **tree\\_reg.tree_.max_depth**."
   ]
  },
  {
   "cell_type": "code",
   "execution_count": null,
   "metadata": {
    "collapsed": true
   },
   "outputs": [],
   "source": [
    "# Tiefe des vorherigen Baums\n",
    "<FILL-IN>"
   ]
  },
  {
   "cell_type": "code",
   "execution_count": null,
   "metadata": {
    "collapsed": true
   },
   "outputs": [],
   "source": [
    "# r2 score des neuen Baums\n",
    "r2_score(<FILL-IN>))"
   ]
  },
  {
   "cell_type": "code",
   "execution_count": 52,
   "metadata": {},
   "outputs": [
    {
     "data": {
      "text/plain": [
       "20"
      ]
     },
     "execution_count": 52,
     "metadata": {},
     "output_type": "execute_result"
    }
   ],
   "source": [
    "# Lösung\n",
    "# Tiefe des vorherigen Baums\n",
    "tree_reg.tree_.max_depth"
   ]
  },
  {
   "cell_type": "code",
   "execution_count": 53,
   "metadata": {},
   "outputs": [
    {
     "data": {
      "text/plain": [
       "0.7297341260781951"
      ]
     },
     "execution_count": 53,
     "metadata": {},
     "output_type": "execute_result"
    }
   ],
   "source": [
    "# Lösung\n",
    "# r2 score des neuen Baums\n",
    "r2_score(y_test, tree_reg_fixDepth.predict(X_test))"
   ]
  },
  {
   "cell_type": "markdown",
   "metadata": {},
   "source": [
    "### Random Forest\n",
    "Ein einzelner Entscheidungsbaum neigt schnell zum Overfitting. Eine Erweiterung ist der sog. Random Forest. Hier werden viele verschiedene unkorrelierte Bäume erzeugt. Wir wollen nun einen Random Forest trainieren und uns den r2 score anschauen. Hierfür laden Sie bitte die Klasse **RandomForestRegressor** von dem Modul **sklearn.ensemble** und erstellen anschließend ein Objekt aus dieser Klasse mit dem Namen **forest_reg**. Wie gewohnt können Sie die **fit** Methode benutzen um ihren Wald zu trainieren. Anschließend berechnen Sie bitte den **r2_score**, plotten wieder ihre Vorhersagen gegen die exakten Werte mittels **sns.lmplot()** und schauen sich die Verteilung der Residuen an."
   ]
  },
  {
   "cell_type": "code",
   "execution_count": 54,
   "metadata": {
    "collapsed": true
   },
   "outputs": [],
   "source": [
    "# Lösung\n",
    "from sklearn.ensemble import RandomForestRegressor"
   ]
  },
  {
   "cell_type": "code",
   "execution_count": 67,
   "metadata": {
    "collapsed": true
   },
   "outputs": [],
   "source": [
    "# Lösung\n",
    "forest_reg = RandomForestRegressor(n_estimators=10)"
   ]
  },
  {
   "cell_type": "code",
   "execution_count": 68,
   "metadata": {},
   "outputs": [
    {
     "data": {
      "text/plain": [
       "RandomForestRegressor(bootstrap=True, criterion='mse', max_depth=None,\n",
       "           max_features='auto', max_leaf_nodes=None,\n",
       "           min_impurity_decrease=0.0, min_impurity_split=None,\n",
       "           min_samples_leaf=1, min_samples_split=2,\n",
       "           min_weight_fraction_leaf=0.0, n_estimators=10, n_jobs=1,\n",
       "           oob_score=False, random_state=None, verbose=0, warm_start=False)"
      ]
     },
     "execution_count": 68,
     "metadata": {},
     "output_type": "execute_result"
    }
   ],
   "source": [
    "# Lösung\n",
    "forest_reg.fit(X_train, y_train)"
   ]
  },
  {
   "cell_type": "code",
   "execution_count": 69,
   "metadata": {
    "collapsed": true
   },
   "outputs": [],
   "source": [
    "# Lösung\n",
    "results_forest = houses_test_df[['SalePrice']].copy()\n",
    "results_forest['pred'] = forest_reg.predict(X_test)"
   ]
  },
  {
   "cell_type": "code",
   "execution_count": 70,
   "metadata": {},
   "outputs": [
    {
     "data": {
      "text/plain": [
       "<seaborn.axisgrid.FacetGrid at 0x7fe893aaf0d0>"
      ]
     },
     "execution_count": 70,
     "metadata": {},
     "output_type": "execute_result"
    },
    {
     "data": {
      "image/png": "[encoded data removed]",
      "text/plain": [
       "<matplotlib.figure.Figure at 0x7fe893ac1b90>"
      ]
     },
     "metadata": {},
     "output_type": "display_data"
    }
   ],
   "source": [
    "# Lösung\n",
    "sns.lmplot(x='SalePrice', y='pred', data=results_forest)"
   ]
  },
  {
   "cell_type": "code",
   "execution_count": 71,
   "metadata": {},
   "outputs": [
    {
     "data": {
      "text/plain": [
       "0.87869214335052048"
      ]
     },
     "execution_count": 71,
     "metadata": {},
     "output_type": "execute_result"
    }
   ],
   "source": [
    "# Lösung\n",
    "r2_score(results_forest['SalePrice'], results_forest['pred'])"
   ]
  },
  {
   "cell_type": "code",
   "execution_count": 72,
   "metadata": {},
   "outputs": [
    {
     "data": {
      "text/plain": [
       "<matplotlib.axes._subplots.AxesSubplot at 0x7fe89396ca50>"
      ]
     },
     "execution_count": 72,
     "metadata": {},
     "output_type": "execute_result"
    },
    {
     "data": {
      "image/png": "[encoded data removed]",
      "text/plain": [
       "<matplotlib.figure.Figure at 0x7fe893958d90>"
      ]
     },
     "metadata": {},
     "output_type": "display_data"
    }
   ],
   "source": [
    "# Lösung\n",
    "sns.distplot(results_forest['SalePrice'] - results_forest['pred'])"
   ]
  },
  {
   "cell_type": "markdown",
   "metadata": {},
   "source": [
    "Wissen Sie noch warum der Random Forest ein Ensemble aus unkorrelierten Bäumen ist?\n",
    "\n",
    "**Bonus:** Spielen Sie mit den Hyperparametern des Random Forest rum und erhöhen Sie beispielsweise die Anzahl der Bäume. Lesen Sie dafür notfalls die Dokumentation oder nutzen Sie wieder *Shift + Tab*."
   ]
  },
  {
   "cell_type": "markdown",
   "metadata": {
    "collapsed": true
   },
   "source": [
    "## Feature Importance\n",
    "Abschließend möchten wir uns noch die Feature Importance anschauen, um zu wissen bei welchem Feature die *Loss Function*, hier per default der *mean squared error* (mse), am meisten reduziert wurde. Hierfür extrahieren wir das Attribut **feature\\_importanes_** des Random Forest **forest\\_reg**.\n",
    "Was erhalten Sie für ein Attribut?  Wie lang ist das Array?"
   ]
  },
  {
   "cell_type": "code",
   "execution_count": null,
   "metadata": {
    "collapsed": true
   },
   "outputs": [],
   "source": [
    "# Feature Importance\n",
    "importance_array = forest_reg.<FILL-IN>\n",
    "importance_array\n",
    "# Länge"
   ]
  },
  {
   "cell_type": "code",
   "execution_count": 73,
   "metadata": {},
   "outputs": [
    {
     "data": {
      "text/plain": [
       "276"
      ]
     },
     "execution_count": 73,
     "metadata": {},
     "output_type": "execute_result"
    }
   ],
   "source": [
    "# Lösung\n",
    "importance_array = forest_reg.feature_importances_\n",
    "importance_array\n",
    "len(importance_array)"
   ]
  },
  {
   "cell_type": "markdown",
   "metadata": {},
   "source": [
    "Um ihnen die Zuordnung zu erleichten und die kategorischen Features, welche \"OneHotEncoded\" wurden zu verknüpfen, habe ich ihnen in dem Notebook *NotebookModule.ipynb* eine Funktion *get\\_featureImportance* geschrieben. Diese erwartet als Input das Array und eine Liste der Feature Namen."
   ]
  },
  {
   "cell_type": "code",
   "execution_count": 75,
   "metadata": {
    "collapsed": true
   },
   "outputs": [],
   "source": [
    "# import des Moduls\n",
    "%run '../../NotebookModule.ipynb'"
   ]
  },
  {
   "cell_type": "code",
   "execution_count": 74,
   "metadata": {},
   "outputs": [
    {
     "ename": "SyntaxError",
     "evalue": "invalid syntax (<ipython-input-74-252091e231a4>, line 1)",
     "output_type": "error",
     "traceback": [
      "\u001b[0;36m  File \u001b[0;32m\"<ipython-input-74-252091e231a4>\"\u001b[0;36m, line \u001b[0;32m1\u001b[0m\n\u001b[0;31m    get_featureImportance(X_train.columns, <FILL-IN>).head(10)\u001b[0m\n\u001b[0m                                           ^\u001b[0m\n\u001b[0;31mSyntaxError\u001b[0m\u001b[0;31m:\u001b[0m invalid syntax\n"
     ]
    }
   ],
   "source": [
    "get_featureImportance(X_train.columns, <FILL-IN>).head(10)"
   ]
  },
  {
   "cell_type": "code",
   "execution_count": 76,
   "metadata": {},
   "outputs": [
    {
     "data": {
      "text/html": [
       "<div>\n",
       "<style>\n",
       "    .dataframe thead tr:only-child th {\n",
       "        text-align: right;\n",
       "    }\n",
       "\n",
       "    .dataframe thead th {\n",
       "        text-align: left;\n",
       "    }\n",
       "\n",
       "    .dataframe tbody tr th {\n",
       "        vertical-align: top;\n",
       "    }\n",
       "</style>\n",
       "<table border=\"1\" class=\"dataframe\">\n",
       "  <thead>\n",
       "    <tr style=\"text-align: right;\">\n",
       "      <th></th>\n",
       "      <th>importance</th>\n",
       "    </tr>\n",
       "  </thead>\n",
       "  <tbody>\n",
       "    <tr>\n",
       "      <th>OverallQual</th>\n",
       "      <td>0.544406</td>\n",
       "    </tr>\n",
       "    <tr>\n",
       "      <th>GrLivArea</th>\n",
       "      <td>0.099599</td>\n",
       "    </tr>\n",
       "    <tr>\n",
       "      <th>2ndFlrSF</th>\n",
       "      <td>0.044827</td>\n",
       "    </tr>\n",
       "    <tr>\n",
       "      <th>GarageCars</th>\n",
       "      <td>0.039371</td>\n",
       "    </tr>\n",
       "    <tr>\n",
       "      <th>BsmtFinSF1</th>\n",
       "      <td>0.030814</td>\n",
       "    </tr>\n",
       "    <tr>\n",
       "      <th>LotArea</th>\n",
       "      <td>0.021858</td>\n",
       "    </tr>\n",
       "    <tr>\n",
       "      <th>BsmtQual</th>\n",
       "      <td>0.019736</td>\n",
       "    </tr>\n",
       "    <tr>\n",
       "      <th>YearBuilt</th>\n",
       "      <td>0.017979</td>\n",
       "    </tr>\n",
       "    <tr>\n",
       "      <th>GarageArea</th>\n",
       "      <td>0.017977</td>\n",
       "    </tr>\n",
       "    <tr>\n",
       "      <th>TotalBsmtSF</th>\n",
       "      <td>0.017679</td>\n",
       "    </tr>\n",
       "  </tbody>\n",
       "</table>\n",
       "</div>"
      ],
      "text/plain": [
       "             importance\n",
       "OverallQual    0.544406\n",
       "GrLivArea      0.099599\n",
       "2ndFlrSF       0.044827\n",
       "GarageCars     0.039371\n",
       "BsmtFinSF1     0.030814\n",
       "LotArea        0.021858\n",
       "BsmtQual       0.019736\n",
       "YearBuilt      0.017979\n",
       "GarageArea     0.017977\n",
       "TotalBsmtSF    0.017679"
      ]
     },
     "execution_count": 76,
     "metadata": {},
     "output_type": "execute_result"
    }
   ],
   "source": [
    "# Lösung\n",
    "get_featureImportance(X_train.columns, importance_array).head(10)"
   ]
  },
  {
   "cell_type": "markdown",
   "metadata": {},
   "source": [
    "## Ende\n",
    "Damit sind wir am Ende dieser Übung angelangt. Natürlich kann man noch viel bessere Modelle trainieren. Außerdem haben wir den Teil Feature Engineering, also das Generieren neuer Features, komplett vernachlässigt.\n",
    "\n",
    "Dies werden wir im nächsten Teil des Workshops uns etwas genauer anschauen. Außerdem haben wir gesehen, dass es etwas mühselig ist alle Schritte für den Trainings- und Testdatensatz durchzuführen. Hierfür gibt es das Konzept *Pipelines*, welches wir uns im nächsten Schritt einmal kurz anschauen werden.\n",
    "\n",
    "In der nächsten Übung schauen wir uns den Titanic Datensatz an. Hier wird die Übung recht kurz und Sie werden im Wesentlichen komplett durch die Übung geführt."
   ]
  }
 ],
 "metadata": {
  "kernelspec": {
   "display_name": "Python 3",
   "language": "python",
   "name": "python3"
  },
  "language_info": {
   "codemirror_mode": {
    "name": "ipython",
    "version": 3
   },
   "file_extension": ".py",
   "mimetype": "text/x-python",
   "name": "python",
   "nbconvert_exporter": "python",
   "pygments_lexer": "ipython3",
   "version": "3.6.4"
  }
 },
 "nbformat": 4,
 "nbformat_minor": 2
}
